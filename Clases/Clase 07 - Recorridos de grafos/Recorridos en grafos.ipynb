{
 "cells": [
  {
   "cell_type": "markdown",
   "id": "29f69ba9-36cc-4444-bd10-b24b4ab0d103",
   "metadata": {
    "editable": true,
    "slideshow": {
     "slide_type": "slide"
    },
    "tags": []
   },
   "source": [
    "<p style=\"text-align: center\">\n",
    "    <img src=\"../../assets/images/untref-logo-negro.svg\" style=\"height: 50px;\" />\n",
    "</p>\n",
    "\n",
    "<h3 style=\"text-align: center\">Estructuras de Datos</h3>\n",
    "\n",
    "<h2 style=\"text-align: center\">Clase 7: Recorridos de grafos</h3>"
   ]
  },
  {
   "cell_type": "markdown",
   "id": "f764934a-1649-42b8-bf7a-ca9175102ee1",
   "metadata": {
    "editable": true,
    "slideshow": {
     "slide_type": "slide"
    },
    "tags": []
   },
   "source": [
    "## ¿Para qué?\n",
    "\n",
    "- Encontrar todos los vértices alcanzables desde un vértice dado (por ejemplo, para encontrar que cosas puede eliminar un _garbage collector_).\n",
    "- Encontrar el mejor camino de un vértice a otro (para tomar decisiones sobre qué ruta tomar).\n",
    "- Averiguar si un grafo tiene ciclos.\n",
    "- Y unas cuantas cosas más..."
   ]
  },
  {
   "cell_type": "markdown",
   "id": "fd363279-fce3-4b15-9e93-89d0de9ce52f",
   "metadata": {
    "editable": true,
    "slideshow": {
     "slide_type": "slide"
    },
    "tags": []
   },
   "source": [
    "## Algoritmos\n",
    "\n",
    "- Recorrido a lo ancho o BFS (_Breadth First Search_)\n",
    "- Recorrido en profundidad DFS (_Depth First Search_)"
   ]
  },
  {
   "cell_type": "markdown",
   "id": "fa6c7c7d-eb54-4ec2-ac31-87cff44e7688",
   "metadata": {
    "editable": true,
    "slideshow": {
     "slide_type": "slide"
    },
    "tags": []
   },
   "source": [
    "### Recorrido a lo ancho - BFS\n",
    "\n",
    "Para grafos no dirigidos."
   ]
  },
  {
   "cell_type": "markdown",
   "id": "c5d3f727-7b53-4178-a960-1fab87f13dd5",
   "metadata": {
    "editable": true,
    "slideshow": {
     "slide_type": "subslide"
    },
    "tags": []
   },
   "source": [
    "#### Algoritmo\n",
    "\n",
    "```\n",
    "BFS (s: Vertice):\n",
    "    q <- Cola()\n",
    "\n",
    "    q.encolar(s)\n",
    "    visitado[s] = True\n",
    "\n",
    "    MIENTRAS NO q.esta_vacia()\n",
    "        v = q.desencolar()\n",
    "\n",
    "        PARA CADA w EN v.adyacentes:\n",
    "            SI NO visitado[w]:\n",
    "                visitado[w] = True\n",
    "                q.encolar(w)\n",
    "```"
   ]
  },
  {
   "cell_type": "markdown",
   "id": "a729b464-796f-4746-a3d4-bb187413ac9a",
   "metadata": {
    "editable": true,
    "slideshow": {
     "slide_type": "subslide"
    },
    "tags": []
   },
   "source": [
    "#### Complejidad\n",
    "\n",
    "$$\n",
    "\\begin{align}\n",
    "\\mathcal{O}\\left(\\left|V\\right|+\\left|A\\right|\\right)\n",
    "\\end{align}\n",
    "$$"
   ]
  },
  {
   "cell_type": "markdown",
   "id": "ff6b3f0d-bbfa-4bc7-b616-e35a0388925b",
   "metadata": {
    "editable": true,
    "slideshow": {
     "slide_type": "subslide"
    },
    "tags": []
   },
   "source": [
    "#### Ejemplo"
   ]
  },
  {
   "cell_type": "code",
   "execution_count": null,
   "id": "2b6ca164-7b19-4a76-b12c-e12fc6fa0b8f",
   "metadata": {
    "editable": true,
    "slideshow": {
     "slide_type": "skip"
    },
    "tags": []
   },
   "outputs": [],
   "source": [
    "from edd.cola import Cola\n",
    "from edd.grafo import Grafo, Vertice\n",
    "\n",
    "\n",
    "def bfs_por_pasos(self, s: Vertice):\n",
    "    visitado = {}\n",
    "    q = Cola()\n",
    "\n",
    "    orden = []  ### IGNORAR\n",
    "\n",
    "    q.encolar(s)\n",
    "    visitado[s] = True\n",
    "    orden.append(s.id)\n",
    "\n",
    "    aristas = []  ### IGNORAR\n",
    "    yield {\n",
    "        \"msj\": f\"Encolamos y visitamos {s.id} como nodo inicial\",\n",
    "        \"q\": q,\n",
    "        \"visitados\": [u.id for u in visitado],\n",
    "        \"aristas\": aristas,\n",
    "        \"orden\": orden,\n",
    "    }  ### IGNORAR\n",
    "\n",
    "    while not q.esta_vacia():\n",
    "        v = q.desencolar()\n",
    "\n",
    "        yield {\n",
    "            \"msj\": f\"Desencolamos {v.id} y vamos a buscar sus adyacentes\",\n",
    "            \"q\": q,\n",
    "            \"visitados\": [u.id for u in visitado],\n",
    "            \"aristas\": aristas,\n",
    "            \"orden\": orden,\n",
    "        }  ### IGNORAR\n",
    "\n",
    "        for w in v.adyacentes:\n",
    "            aristas.append((v.id, w.id))  ### IGNORAR\n",
    "\n",
    "            if not visitado.get(w, False):\n",
    "                q.encolar(w)\n",
    "                visitado[w] = True\n",
    "                orden.append(w.id)\n",
    "                msj = f\"Desde {v.id}, llegamos a {w.id}, lo encolamos y visitamos\"\n",
    "            else:\n",
    "                msj = f\"Desde {v.id}, llegamos a {w.id}, pero ya está visitado\"\n",
    "\n",
    "            yield {\n",
    "                \"msj\": msj,\n",
    "                \"q\": q,\n",
    "                \"visitados\": [u.id for u in visitado],\n",
    "                \"aristas\": aristas,\n",
    "                \"orden\": orden,\n",
    "            }  ### IGNORAR\n",
    "\n",
    "    yield {\n",
    "        \"msj\": f\"No quedan nodos encolados\",\n",
    "        \"q\": q,\n",
    "        \"visitados\": [u.id for u in visitado],\n",
    "        \"aristas\": aristas,\n",
    "        \"orden\": orden,\n",
    "    }  ### IGNORAR\n",
    "\n",
    "\n",
    "# Hacemos \"monkey patching\" del método que acabamos de implementar.\n",
    "Grafo.bfs_por_pasos = bfs_por_pasos"
   ]
  },
  {
   "cell_type": "code",
   "execution_count": null,
   "id": "db262ccb-8d3d-4a06-bf90-48050bb4e259",
   "metadata": {
    "editable": true,
    "slideshow": {
     "slide_type": "skip"
    },
    "tags": []
   },
   "outputs": [],
   "source": [
    "from edd.grafo import Grafo\n",
    "\n",
    "G = Grafo()\n",
    "G.agregar_arista(\"A\", \"C\")\n",
    "G.agregar_arista(\"A\", \"B\")\n",
    "G.agregar_arista(\"A\", \"D\")\n",
    "G.agregar_arista(\"A\", \"F\")\n",
    "G.agregar_arista(\"C\", \"D\")\n",
    "G.agregar_arista(\"D\", \"G\")\n",
    "G.agregar_arista(\"B\", \"E\")\n",
    "G.agregar_arista(\"F\", \"G\")\n",
    "G.agregar_arista(\"E\", \"H\")\n",
    "G.agregar_arista(\"E\", \"J\")\n",
    "G.agregar_arista(\"G\", \"K\")\n",
    "\n",
    "\n",
    "pasos = G.bfs_por_pasos(G[\"A\"])"
   ]
  },
  {
   "cell_type": "code",
   "execution_count": null,
   "id": "7dcf516d-a501-46a6-ab38-821009bd04ed",
   "metadata": {
    "editable": true,
    "slideshow": {
     "slide_type": "skip"
    },
    "tags": []
   },
   "outputs": [],
   "source": [
    "# Cada vez que se ejecute esta celda, se mostrará una iteración del algoritmo BFS.\n",
    "try:\n",
    "    estado = next(pasos)\n",
    "except StopIteration:\n",
    "    print(\"~ Fin ~\\n\")\n",
    "finally:\n",
    "    print(f\">>> {estado['msj']}\\n\")\n",
    "    print(f\"q = {estado['q']}\\n\")\n",
    "    print(f\"Recorrido = {estado['orden']}\")\n",
    "    G.draw(\n",
    "        highlight_edges=estado[\"aristas\"],\n",
    "        highlight_nodes=estado[\"visitados\"],\n",
    "        pos={\n",
    "            \"A\": (2.5, 1),\n",
    "            \"B\": (1, 0.5),\n",
    "            \"C\": (2, 0.5),\n",
    "            \"D\": (3, 0.5),\n",
    "            \"F\": (4, 0.5),\n",
    "            \"E\": (1.5, 0),\n",
    "            \"G\": (3.5, 0),\n",
    "            \"H\": (1.5, -0.5),\n",
    "            \"J\": (2.5, -0.5),\n",
    "            \"K\": (3.5, -0.5),\n",
    "        },\n",
    "    )"
   ]
  },
  {
   "cell_type": "markdown",
   "id": "32059dbb-d869-459d-9a25-7b13ae8c983a",
   "metadata": {
    "editable": true,
    "slideshow": {
     "slide_type": "subslide"
    },
    "tags": []
   },
   "source": [
    "#### Aplicaciones "
   ]
  },
  {
   "cell_type": "markdown",
   "id": "a53cedc6-cc6e-489c-9872-38220fc20e5f",
   "metadata": {
    "editable": true,
    "slideshow": {
     "slide_type": "subslide"
    },
    "tags": []
   },
   "source": [
    "##### Camino Mínimo en grafos sin pesos\n",
    "\n",
    "<table style=\"width: 100%;\">\n",
    "    <tbody>\n",
    "        <tr>\n",
    "            <td><pre>BFS (s: Vertice):\n",
    "    q <- Cola()<br><br><br><br>\n",
    "    q.encolar(s)\n",
    "    visitado[s] = True<br>\n",
    "    MIENTRAS NO q.esta_vacia()\n",
    "        v = q.desencolar()<br>\n",
    "        PARA CADA w EN v.adyacentes:\n",
    "            SI NO visitado[w]:\n",
    "                visitado[w] = True<br><br>\n",
    "                q.encolar(w)\n",
    "</pre></td>\n",
    "            <td><pre style=\"color: darkgray;\"><span style=\"color: purple; font-weight: bold;\">CAMINO_MINIMO_BFS</span> (s: Vertice)\n",
    "    q <- Cola()<br>\n",
    "    <span style=\"color: purple; font-weight: bold;\">distancia[s] = 0\n",
    "    previo[s] = None</span><br>\n",
    "    q.encolar(s)\n",
    "    visitado[s] = True<br>\n",
    "    MIENTRAS NO q.esta_vacia()\n",
    "        v = q.desencolar()<br>\n",
    "        PARA CADA w EN v.adyacentes:\n",
    "            SI NO visitado[w]:\n",
    "                visitado[w] = True\n",
    "                <span style=\"color: purple; font-weight: bold;\">distancia[w] = distancia[v] + 1\n",
    "                previo[w] = v</span>\n",
    "                q.encolar(w)\n",
    "</pre></td>\n",
    "        </tr>\n",
    "    </tbody>\n",
    "</table>"
   ]
  },
  {
   "cell_type": "markdown",
   "id": "4da51816-97ae-45b1-8005-ea54ad5735a4",
   "metadata": {
    "editable": true,
    "slideshow": {
     "slide_type": "subslide"
    },
    "tags": []
   },
   "source": [
    "##### Grafo Bipartito\n",
    "\n",
    "> **Definición**\n",
    ">\n",
    "> Un grafo **no dirigido** es bipartito si los vértices se pueden dividir en dos grupos, de modo tal que las aristas vayan siempre de un vértice de un grupo a un vértice del otro grupo (por ejemplo las aristas definen relaciones entre alumnos y cursos)."
   ]
  },
  {
   "cell_type": "markdown",
   "id": "45f90e3c-a0c8-45e8-ae11-f38a08edda24",
   "metadata": {
    "editable": true,
    "slideshow": {
     "slide_type": "subslide"
    },
    "tags": []
   },
   "source": [
    "<p style=\"text-align:center;\">\n",
    "    <img src=\"figuras/grafo-bipartito.png\" style=\"width:500px;\" />\n",
    "</p>"
   ]
  },
  {
   "cell_type": "markdown",
   "id": "61b42611-98f3-47b7-bc2a-ae7a2881c007",
   "metadata": {
    "editable": true,
    "slideshow": {
     "slide_type": "subslide"
    },
    "tags": []
   },
   "source": [
    "Como ejemplo, podemos pensar que las aristas definen relaciones entre alumnos y cursos.\n",
    "\n",
    "<p style=\"text-align:center;\">\n",
    "    <img src=\"figuras/grafo-bipartito-ordenado.png\" style=\"width:500px;\" />\n",
    "</p>"
   ]
  },
  {
   "cell_type": "markdown",
   "id": "9a4d0ffb-3b36-461e-a489-3509f81d34df",
   "metadata": {
    "editable": true,
    "slideshow": {
     "slide_type": "subslide"
    },
    "tags": []
   },
   "source": [
    "<table style=\"width: 100%;\">\n",
    "    <tbody>\n",
    "        <tr>\n",
    "            <td><pre>BFS (s: Vertice):\n",
    "    q <- Cola()<br><br><br>\n",
    "    q.encolar(s)\n",
    "    visitado[s] = True<br>\n",
    "    MIENTRAS NO q.esta_vacia()\n",
    "        v = q.desencolar()<br>\n",
    "        PARA CADA w EN v.adyacentes:\n",
    "            SI NO visitado[w]:\n",
    "                visitado[w] = True<br>\n",
    "                q.encolar(w)<br><br><br><br><br>\n",
    "</pre></td>\n",
    "            <td><pre style=\"color: darkgray;\"><span style=\"color: purple; font-weight: bold;\">ES_BIPARTITO</span> (s: Vertice):\n",
    "    q <- Cola()<br>\n",
    "    <span style=\"color: purple; font-weight: bold;\">color[s] = True</span><br>\n",
    "    q.encolar(s)\n",
    "    visitado[s] = True<br>\n",
    "    MIENTRAS NO q.esta_vacia()\n",
    "        v = q.desencolar()<br>\n",
    "        PARA CADA w EN v.adyacentes:\n",
    "            SI NO visitado[w]:\n",
    "                visitado[w] = True\n",
    "                <span style=\"color: purple; font-weight: bold;\">color[w] = NOT color[v]</span>\n",
    "                q.encolar(w)\n",
    "            <span style=\"color: purple; font-weight: bold;\">SINO:\n",
    "                SI color[w] == color[v]:\n",
    "                    DEVOLVER False<br>\n",
    "    DEVOLVER True</span>\n",
    "</pre></td>\n",
    "        </tr>\n",
    "    </tbody>\n",
    "</table>"
   ]
  },
  {
   "cell_type": "markdown",
   "id": "7cea5437-0c8c-4cf4-9194-0cd17a10c635",
   "metadata": {
    "editable": true,
    "slideshow": {
     "slide_type": "subslide"
    },
    "tags": []
   },
   "source": [
    "##### Otras Aplicaciones\n",
    "\n",
    "- **Web Crawler**\n",
    "    - Bot que utilizan los motores de búsqueda para descubrir páginas siguiendo los enlaces que hay en ella.\n",
    "- **Sistemas de navegación GPS**\n",
    "    - Para encontrar localizaciones vecinas.\n",
    "- **Analizar la propagación de información en redes sociales**"
   ]
  },
  {
   "cell_type": "markdown",
   "id": "edc35185-66de-4498-94d0-3a255ea4a5df",
   "metadata": {
    "editable": true,
    "slideshow": {
     "slide_type": "slide"
    },
    "tags": []
   },
   "source": [
    "### Más definiciones\n",
    "\n",
    "#### Grafo conexo\n",
    "\n",
    "Un grafo no dirigido es conexo si para todo par de vértices $u$ y $v$ de $G$, hay un camino que los une.\n",
    "\n",
    "#### Componentes conexas\n",
    "\n",
    "Subgrafos conexos maximales de un grafo no dirigido."
   ]
  },
  {
   "cell_type": "markdown",
   "id": "39a22a5a-4abc-40db-bc43-6efd8cf67105",
   "metadata": {
    "editable": true,
    "slideshow": {
     "slide_type": "slide"
    },
    "tags": []
   },
   "source": [
    "### Recorrido en profundidad - DFS"
   ]
  },
  {
   "cell_type": "markdown",
   "id": "cfdd76af-47f8-4728-84e3-54aa31b93d45",
   "metadata": {
    "editable": true,
    "slideshow": {
     "slide_type": "subslide"
    },
    "tags": []
   },
   "source": [
    "#### Algoritmo\n",
    "\n",
    "```\n",
    "DFS (v, visitado = {}, contador = 0):\n",
    "    visitado[v] = True\n",
    "    contador += 1\n",
    "\n",
    "    PARA CADA w EN v.adyacentes:\n",
    "        SI NO visitado[w]:\n",
    "            DFS(w, visitado, contador)\n",
    "\n",
    "    DEVOLVER contador\n",
    "```\n",
    "\n",
    "> Si `contador < |V|` el grafo no es conexo. Para seguir visitando el resto de los vértices, tomar uno no visitado $u$ y llamar a `DFS(u)` (este procedimiento se deberá repetir con tantas componentes conexas como tenga el grafo)."
   ]
  },
  {
   "cell_type": "markdown",
   "id": "5a61c14a-3a6e-4b74-ad99-5e41b44e5e57",
   "metadata": {
    "editable": true,
    "slideshow": {
     "slide_type": "subslide"
    },
    "tags": []
   },
   "source": [
    "#### Complejidad\n",
    "\n",
    "$$\n",
    "\\begin{align}\n",
    "\\mathcal{O}\\left(\\left|V\\right|+\\left|A\\right|\\right)\n",
    "\\end{align}\n",
    "$$"
   ]
  },
  {
   "cell_type": "markdown",
   "id": "66962746-f251-4944-bd2d-3ed1206aa83c",
   "metadata": {
    "editable": true,
    "slideshow": {
     "slide_type": "subslide"
    },
    "tags": []
   },
   "source": [
    "#### Ejemplo"
   ]
  },
  {
   "cell_type": "code",
   "execution_count": null,
   "id": "9012e9ad-170c-47a4-a440-ebd1a8c4de4c",
   "metadata": {
    "editable": true,
    "slideshow": {
     "slide_type": "skip"
    },
    "tags": []
   },
   "outputs": [],
   "source": [
    "from edd.grafo import Grafo, Vertice\n",
    "\n",
    "\n",
    "def dfs_por_pasos(self, v: Vertice, visitado={}, contador=0, aristas=[], orden=[], arbol=[]):\n",
    "    visitado[v] = True\n",
    "    contador += 1\n",
    "    orden.append(v.id)\n",
    "\n",
    "    yield {\n",
    "        \"msj\": f\"Visitamos {v.id}\",\n",
    "        \"v\": v,\n",
    "        \"visitados\": [u.id for u in visitado],\n",
    "        \"aristas\": aristas,\n",
    "        \"arbol\": arbol,\n",
    "        \"orden\": orden,\n",
    "    }  ### IGNORAR\n",
    "\n",
    "    for w in v.adyacentes:\n",
    "        aristas.append((v.id, w.id))  ### IGNORAR\n",
    "\n",
    "        if not visitado.get(w, False):\n",
    "            arbol.append((v.id, w.id))\n",
    "            yield {\n",
    "                \"msj\": f\"Desde {v.id}, llegamos a {w.id}. Y ahora inicialmos un nuevo DFS de {w.id}\",\n",
    "                \"v\": v,\n",
    "                \"visitados\": [u.id for u in visitado],\n",
    "                \"aristas\": aristas,\n",
    "                \"arbol\": arbol,\n",
    "                \"orden\": orden,\n",
    "            }  ### IGNORAR\n",
    "\n",
    "            yield from self.dfs_por_pasos(w, visitado, contador, aristas, orden, arbol)\n",
    "        else:\n",
    "            yield {\n",
    "                \"msj\": f\"Desde {v.id}, llegamos a {w.id}, pero ya está visitado\",\n",
    "                \"v\": v,\n",
    "                \"visitados\": [u.id for u in visitado],\n",
    "                \"aristas\": aristas,\n",
    "                \"arbol\": arbol,\n",
    "                \"orden\": orden,\n",
    "            }  ### IGNORAR\n",
    "\n",
    "\n",
    "# Hacemos \"monkey patching\" del método que acabamos de implementar.\n",
    "Grafo.dfs_por_pasos = dfs_por_pasos"
   ]
  },
  {
   "cell_type": "code",
   "execution_count": null,
   "id": "ca929a89-081f-448d-8822-9194bbb532eb",
   "metadata": {
    "editable": true,
    "slideshow": {
     "slide_type": "skip"
    },
    "tags": []
   },
   "outputs": [],
   "source": [
    "from edd.grafo import Grafo\n",
    "\n",
    "G = Grafo()\n",
    "G.agregar_arista(\"A\", \"C\")\n",
    "G.agregar_arista(\"A\", \"B\")\n",
    "G.agregar_arista(\"A\", \"D\")\n",
    "G.agregar_arista(\"A\", \"F\")\n",
    "G.agregar_arista(\"C\", \"D\")\n",
    "G.agregar_arista(\"D\", \"G\")\n",
    "G.agregar_arista(\"B\", \"E\")\n",
    "G.agregar_arista(\"F\", \"G\")\n",
    "G.agregar_arista(\"E\", \"H\")\n",
    "G.agregar_arista(\"E\", \"J\")\n",
    "G.agregar_arista(\"G\", \"K\")\n",
    "\n",
    "\n",
    "pasos = G.dfs_por_pasos(G[\"A\"])"
   ]
  },
  {
   "cell_type": "code",
   "execution_count": null,
   "id": "223b44b2-5070-4bec-b91c-30129ba01933",
   "metadata": {
    "editable": true,
    "slideshow": {
     "slide_type": "skip"
    },
    "tags": []
   },
   "outputs": [],
   "source": [
    "# Cada vez que se ejecute esta celda, se mostrará una iteración del algoritmo DFS.\n",
    "try:\n",
    "    estado = next(pasos)\n",
    "except StopIteration:\n",
    "    print(\"~ Fin ~\\n\")\n",
    "    print(\">>> Árbol DFS\\n\")\n",
    "    print(f\"Recorrido = {estado['orden']}\")\n",
    "\n",
    "    G_ = Grafo()\n",
    "    for v, w in estado[\"arbol\"]:\n",
    "        G_.agregar_arista(v, w)\n",
    "    G_.draw(\n",
    "        pos={\n",
    "            \"A\": (2.5, 1),\n",
    "            \"B\": (1, 0.5),\n",
    "            \"C\": (2, 0.5),\n",
    "            \"D\": (3, 0.5),\n",
    "            \"F\": (4, 0.5),\n",
    "            \"E\": (2, 0),\n",
    "            \"G\": (3, 0),\n",
    "            \"H\": (1.5, -0.5),\n",
    "            \"J\": (2.5, -0.5),\n",
    "            \"K\": (3.5, -0.5),\n",
    "        },\n",
    "    )\n",
    "finally:\n",
    "    print(f\">>> {estado['msj']}\\n\")\n",
    "    print(f\"v = {estado['v']}\\n\")\n",
    "    print(f\"Recorrido = {estado['orden']}\")\n",
    "\n",
    "    G.draw(\n",
    "        highlight_edges=estado[\"aristas\"],\n",
    "        highlight_nodes=estado[\"visitados\"],\n",
    "        pos={\n",
    "            \"A\": (2.5, 1),\n",
    "            \"B\": (1, 0.5),\n",
    "            \"C\": (2, 0.5),\n",
    "            \"D\": (3, 0.5),\n",
    "            \"F\": (4, 0.5),\n",
    "            \"E\": (2, 0),\n",
    "            \"G\": (3, 0),\n",
    "            \"H\": (1.5, -0.5),\n",
    "            \"J\": (2.5, -0.5),\n",
    "            \"K\": (3.5, -0.5),\n",
    "        },\n",
    "    )"
   ]
  },
  {
   "cell_type": "markdown",
   "id": "592d267e-a16a-4961-95be-eb134ef6eabc",
   "metadata": {
    "editable": true,
    "slideshow": {
     "slide_type": "subslide"
    },
    "tags": []
   },
   "source": [
    "#### Aplicaciones"
   ]
  },
  {
   "cell_type": "markdown",
   "id": "dd5b1f8d-7a18-4654-991a-5f909aabef78",
   "metadata": {
    "editable": true,
    "slideshow": {
     "slide_type": "subslide"
    },
    "tags": []
   },
   "source": [
    "##### Componentes conexas\n",
    "\n",
    "> Dado un grafo no dirigido $G$ nos puede interesar saber cuántas componentes conexas hay. Una componentes conexa es un conjunto de vértices tal que empezando en uno de ellos cualquiera podemos acceder al resto recorriendo las aristas."
   ]
  },
  {
   "cell_type": "markdown",
   "id": "b9dc5a35-84a1-4264-a580-9c743e60ae18",
   "metadata": {
    "editable": true,
    "slideshow": {
     "slide_type": "subslide"
    },
    "tags": []
   },
   "source": [
    "```\n",
    "COMPONENTES_CONEXAS (G: Grafo):\n",
    "    PARA CADA v EN G.vertices:\n",
    "        visitado[v] = -1\n",
    "\n",
    "    contador = 0\n",
    "\n",
    "    PARA CADA v EN G.vertices:\n",
    "        SI visitado[v] == -1\n",
    "            DFS(v, visitado, contador)\n",
    "            contador += 1\n",
    "\n",
    "\n",
    "DFS (v, visitado, contador):\n",
    "    visitado[v] = contador\n",
    "    PARA CADA w EN v.adyacentes:\n",
    "        SI visitado[w] == -1:\n",
    "            DFS(w, visitado, contador)\n",
    "```"
   ]
  },
  {
   "cell_type": "markdown",
   "id": "cdc08322-10a1-478a-9b3b-967c27608356",
   "metadata": {
    "editable": true,
    "slideshow": {
     "slide_type": "subslide"
    },
    "tags": []
   },
   "source": [
    "###### Ejemplo"
   ]
  },
  {
   "cell_type": "code",
   "execution_count": null,
   "id": "483bd963-43c4-4e63-a715-9d79a857559c",
   "metadata": {
    "editable": true,
    "slideshow": {
     "slide_type": "skip"
    },
    "tags": []
   },
   "outputs": [],
   "source": [
    "from edd.grafo import Grafo, Vertice\n",
    "\n",
    "\n",
    "def componentes_conexas(self):\n",
    "    visitado: dict[Vertice, int] = {}\n",
    "    contador: int = 0\n",
    "\n",
    "    for v in self.vertices:\n",
    "        visitado[v] = -1\n",
    "\n",
    "    for v in self.vertices:\n",
    "        if visitado[v] == -1:\n",
    "            dfs(v, visitado, contador)\n",
    "            contador += 1\n",
    "\n",
    "    return visitado\n",
    "\n",
    "\n",
    "def dfs(u: Vertice, visitado: dict[Vertice, int], contador: int):\n",
    "    visitado[u] = contador\n",
    "\n",
    "    for w in u.adyacentes:\n",
    "        if visitado[w] == -1:\n",
    "            dfs(w, visitado, contador)\n",
    "\n",
    "\n",
    "# Hacemos \"monkey patching\" del método que acabamos de implementar.\n",
    "Grafo.componentes_conexas = componentes_conexas"
   ]
  },
  {
   "cell_type": "code",
   "execution_count": null,
   "id": "214574bf-c437-425c-afe2-c4251c66c7b0",
   "metadata": {
    "editable": true,
    "slideshow": {
     "slide_type": "skip"
    },
    "tags": []
   },
   "outputs": [],
   "source": [
    "from edd.grafo import Grafo\n",
    "\n",
    "G = Grafo()\n",
    "G.agregar_arista(\"2\", \"4\")\n",
    "G.agregar_arista(\"2\", \"7\")\n",
    "G.agregar_arista(\"5\", \"11\")\n",
    "G.agregar_arista(\"4\", \"7\")\n",
    "G.agregar_arista(\"7\", \"8\")\n",
    "G.agregar_arista(\"7\", \"10\")\n",
    "G.agregar_arista(\"3\", \"6\")\n",
    "G.agregar_arista(\"1\", \"7\")\n",
    "G.agregar_arista(\"6\", \"12\")\n",
    "G.agregar_arista(\"7\", \"9\")\n",
    "\n",
    "G.draw(layout=\"graphviz\")"
   ]
  },
  {
   "cell_type": "code",
   "execution_count": null,
   "id": "099c683f-35c6-426f-8c5f-73f3f42db21e",
   "metadata": {
    "editable": true,
    "slideshow": {
     "slide_type": "skip"
    },
    "tags": []
   },
   "outputs": [],
   "source": [
    "grupos = G.componentes_conexas()\n",
    "\n",
    "node_labels = {v.id: grupo for v, grupo in grupos.items()}\n",
    "\n",
    "G.draw(layout=\"graphviz\", node_labels=node_labels)"
   ]
  },
  {
   "cell_type": "markdown",
   "id": "74765efe-204f-452d-a716-5ce45758a4e0",
   "metadata": {
    "editable": true,
    "slideshow": {
     "slide_type": "subslide"
    },
    "tags": []
   },
   "source": [
    "##### Otras Aplicaciones\n",
    "\n",
    "- Encontrar caminos en laberintos\n",
    "- Encontrar componentes fuertemente conexas"
   ]
  }
 ],
 "metadata": {
  "@deathbeds/ipydrawio": {
   "xml": ""
  },
  "kernelspec": {
   "display_name": "Python 3 (ipykernel)",
   "language": "python",
   "name": "python3"
  },
  "language_info": {
   "codemirror_mode": {
    "name": "ipython",
    "version": 3
   },
   "file_extension": ".py",
   "mimetype": "text/x-python",
   "name": "python",
   "nbconvert_exporter": "python",
   "pygments_lexer": "ipython3",
   "version": "3.12.5"
  }
 },
 "nbformat": 4,
 "nbformat_minor": 5
}
