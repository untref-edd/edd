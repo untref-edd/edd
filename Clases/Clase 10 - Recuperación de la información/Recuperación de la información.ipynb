{
 "cells": [
  {
   "cell_type": "markdown",
   "metadata": {
    "editable": true,
    "id": "4vzOkTwRYIb9",
    "slideshow": {
     "slide_type": ""
    },
    "tags": []
   },
   "source": [
    "<p style=\"text-align: center\">\n",
    "    <img src=\"../../assets/images/untref-logo-negro.svg\" />\n",
    "</p>\n",
    "\n",
    "<h3 style=\"text-align: center\">Estructuras de Datos</h3>\n",
    "\n",
    "<h2 style=\"text-align: center\">Clase 10: Recuperación de la Información</h2>"
   ]
  },
  {
   "cell_type": "markdown",
   "metadata": {
    "editable": true,
    "id": "T9lRQOiSTqNX",
    "slideshow": {
     "slide_type": "slide"
    },
    "tags": []
   },
   "source": [
    "## Recuperación de la Información\n",
    "\n",
    "Recuperación de la Información o _Information Retrieval_ (IR) en inglés, se refiere a:\n",
    "\n",
    "> Encontrar material (por ejemplo documentos) de naturaleza desestructurada (en general textos), con ciertas condiciones de búsqueda, dentro de una gran colección (en general almacenada en formato digital).\n",
    "\n",
    "De **naturaleza desestructurada** significa que no está guardada de modo tal que sea fácil de reconocer su estructura (por ejemplo textos planos)."
   ]
  },
  {
   "cell_type": "markdown",
   "metadata": {
    "id": "WZKW0CTbf4yF"
   },
   "source": [
    "### Recuperación booleana\n",
    "\n",
    "Dado el texto **\"Cuentos desde el Reino Peligroso\"** de Tolkien distribuido en PDF y `txt`, determinar en qué secciones aparecen las palabras **\"Roverandom\"** y **\"hadas\"** pero no **\"Egidio\"**.\n",
    "\n",
    "Una posibilidad es buscar cada una de las palabras con un `find` en todas las secciones y luego calcular a mano cuáles cumplen con las tres condiciones (o con un programa equivalente: `grep`)."
   ]
  },
  {
   "cell_type": "raw",
   "metadata": {},
   "source": [
    "\"Roverandom\" and \"hadas\" and not \"Egidio\""
   ]
  },
  {
   "cell_type": "code",
   "execution_count": null,
   "metadata": {
    "id": "C7At0Thef4yG"
   },
   "outputs": [],
   "source": [
    "%%sh\n",
    "\n",
    "echo \"'Roverandom' aparece en los cuentos:\"\n",
    "grep -l -i \"Roverandom\" ./tolkien/*.txt\n",
    "echo \"'hadas' aparece en los cuentos:\"\n",
    "grep -l -i \"hadas\" ./tolkien/*.txt\n",
    "echo \"'Egidio' aparece en los cuentos:\"\n",
    "grep -l \"Egidio\" ./tolkien/*.txt"
   ]
  },
  {
   "cell_type": "markdown",
   "metadata": {
    "id": "4RIOM6UJf4yH"
   },
   "source": [
    "Pero si ahora me piden lo mismo para el total de la obra de Tolkien, o para una colección de documentos muy grande tenemos que hallar mejores maneras de recuperar información.\n",
    "\n",
    "También nos pueden pedir información más sofisticada: por ejemplo, que esté la palabra **\"hadas\"** cerca de **\"Roverandom\"** (por ejemplo en la misma oración).\n",
    "\n",
    "Para evitar hacer una búsqueda lineal de todo el texto cada vez que nos hacen una consulta, armamos un índice (matriz de incidencia) con todas las palabras que aparecen en cada documento (en nuestro caso cada sección de los textos de Tolkien)."
   ]
  },
  {
   "cell_type": "markdown",
   "metadata": {},
   "source": [
    "|            | Introducción | Roverandom | Egidio el granjero | Tom Bombadil | El herrero de Wootton | Hoja de Niggle |\n",
    "| ---------- | ------------ | ---------- | ------------------ | ------------ | --------------------- | -------------- |\n",
    "| Roverandom | 1            | 1          | 0                  | 0            | 0                     | 0              |\n",
    "| Egidio     | 1            | 0          | 1                  | 0            | 0                     | 0              |\n",
    "| Bombadil   | 1            | 0          | 0                  | 1            | 0                     | 0              |\n",
    "| Wootton    | 1            | 0          | 0                  | 0            | 1                     | 0              |\n",
    "| Niggle     | 1            | 0          | 0                  | 0            | 0                     | 1              |\n",
    "| hadas      | 1            | 1          | 0                  | 0            | 1                     | 0              |\n",
    "| ...        | ...          | ...        | ...                | ...          | ...                   | ...            |"
   ]
  },
  {
   "cell_type": "markdown",
   "metadata": {
    "editable": true,
    "id": "a2_kYOcRf4yI",
    "slideshow": {
     "slide_type": ""
    },
    "tags": []
   },
   "source": [
    "Para responder a la primera consulta tomamos las filas \"Roverandom\" y \"hadas\" y el complemento de \"Egidio\" y calculamos el AND de las tres:\n",
    "\n",
    "```\n",
    "110000 AND 110010 AND (NOT 101000) = \n",
    "110000 AND 110010 AND      010111  = 0100000\n",
    "```\n",
    "\n",
    "La respuesta entonces es: \"Roverandom\" es la única sección del texto donde están las palabras \"Roverandom\" y \"hadas\" pero no \"Egidio\".\n",
    "\n",
    "Un índice así no puede construirse de manera ingenua como lo acabamos de hacer (va a estar lleno de ceros).\n",
    "\n",
    "Vamos a representar de manera inteligente sólo la aparición de palabras en un texto (los `1`'s)."
   ]
  },
  {
   "cell_type": "markdown",
   "metadata": {
    "id": "nAg6g6ZCf4yJ"
   },
   "source": [
    "## Índice Invertido\n",
    "\n",
    "Un **índice invertido** o **archivo invertido** es un diccionario donde las claves son las palabras y el contenido es una lista que contiene los documentos donde aparecen esas palabras\n",
    "\n",
    "```Python\n",
    "{\n",
    "    \"Roverandom\": [\n",
    "        \"Introducción\",\n",
    "        \"Roverandom\",\n",
    "    ],\n",
    "    \"Egidio\": [\n",
    "        \"Introducción\",\n",
    "        \"Egidio\",\n",
    "    ],\n",
    "    # ...\n",
    "}\n",
    "```"
   ]
  },
  {
   "cell_type": "markdown",
   "metadata": {
    "id": "S9M9Rq8Xf4yK"
   },
   "source": [
    "El nombre es en realidad redundante: un índice siempre vuelve a trazar el mapa de los términos a las partes de un documento donde se producen.\n",
    "\n",
    "La idea básica de un índice invertido se muestra en la figura.\n",
    "\n",
    "<p style=\"text-align: center;\">\n",
    "    <img src=\"./figuras/indice_invertido_esquema.dio.svg\" />\n",
    "</p>\n",
    "\n",
    "Mantenemos un diccionario de términos (a veces también llamado vocabulario o\n",
    "léxico). Entonces para cada término, tenemos una lista de los documentos donde aparece el término. Esta lista de documentos se denomina _**postings**_.\n",
    "\n",
    "En un índice invertido el diccionario, o vocabulario por lo general se mantiene en memoria, mientras que los _postings_ en disco"
   ]
  },
  {
   "cell_type": "markdown",
   "metadata": {
    "id": "eedbcpsHf4yL",
    "jp-MarkdownHeadingCollapsed": true
   },
   "source": [
    "### Primera aproximación para construir un índice invertido:\n",
    "\n",
    "#### 1. Recolectar todos los documentos que se quieren indexar\n",
    "\n",
    "Definir documentos en nuestra aplicación. Puede ser capitulos de un libro, documentos individuales, etc.\n",
    "\n",
    "Dentro de una colección de documentos, asumimos que cada documento tiene un único número de serie, conocido como el identificador del documento (`docID`). Podemos simplemente asignar números enteros sucesivos a cada nuevo documento cuando se encuentra por primera vez.\n",
    "\n",
    "```python\n",
    "documento_1 = (\"Richard Feynman\", \"La religión es la cultura de la fe; la ciencia es la cultura de la duda\")\n",
    "documento_2 = (\"Carl Sagan\", \"La ciencia es una forma de pensar, mucho más que un cuerpo de conocimientos\")\n",
    "```\n",
    "\n",
    "#### 2. Separar los documentos en palabras (tokens) de modo que cada documento sea una lista de tokens\n",
    "\n",
    "Unidad de información que queremos indexar\n",
    "\n",
    "```python\n",
    "documento_1 = (\"Richard Feynman\", [\"La\", \"religión\", \"es\", \"la\", \"cultura\", \"de\", \"la\", \"fe;\", \"la\", \"ciencia\", \"es\", \"la\", \"cultura\", \"de\", \"la\", \"duda\"])\n",
    "documento_2 = (\"Carl Sagan\", [\"La\", \"ciencia\", \"es\", \"una\", \"forma\", \"de\", \"pensar,\", \"mucho\", \"más\", \"que\", \"un\", \"cuerpo\", \"de\", \"conocimientos\"])\n",
    "```\n",
    "\n",
    "#### 3. Hacer un preprocesamiento lingüístico\n",
    "\n",
    "Lematizar las palabras para indexar solo su raíz (por ejemplo perro, perritas, perrísimo, perrera, se puede almacenar en el índice como perr)\n",
    "\n",
    "Los verbos se indexan en infinitvo (por ejemplo corriamos, hayan corrido, corren, etc. se indexa como correr)\n",
    "\n",
    "Stop words. Lista de palabras que no se indexan por ejemplo preposiciones, artículos, conjunciones, pronombres, conjugaciones de los verbos ser y estar\n",
    "\n",
    "```python\n",
    "documento_1 = (\"Richard Feynman\", [\"religion\", \"cultura\", \"fe\", \"ciencia\", \"cultura\", \"duda\"])\n",
    "documento_2 = (\"Carl Sagan\", [\"ciencia\", \"forma\", \"pensar\", \"cuerpo\", \"conocimientos\"])\n",
    "```\n",
    "\n",
    "#### 4. Asociar los documentos a todos los tokens generados\n",
    "\n",
    "Hay distintos algoritmos para realizar esta asociación.\n",
    "\n",
    "```python\n",
    "doc_to_docID = {\"Richard Feynman\": 0, \"Carl Sagan\": 1}\n",
    "tokens = [(\"religion\", 0), (\"cultura\", 0), (\"fe\", 0), (\"ciencia\", 0), (\"cultura\", 0), (\"duda\", 0), (\"ciencia\", 1), (\"forma\", 1), (\"pensar\", 1), (\"cuerpo\", 1), (\"conocimientos\", 1)]\n",
    "```"
   ]
  },
  {
   "cell_type": "markdown",
   "metadata": {
    "id": "RHin1W34f4yM"
   },
   "source": [
    "### Natural Language Toolkit (`nltk`)"
   ]
  },
  {
   "cell_type": "code",
   "execution_count": null,
   "metadata": {},
   "outputs": [],
   "source": [
    "%pip install nltk"
   ]
  },
  {
   "cell_type": "markdown",
   "metadata": {
    "id": "RHin1W34f4yM"
   },
   "source": [
    "Luego abrir un intérprete de python, por ejemplo Idle y ejecutar\n",
    "\n",
    "```python\n",
    ">>> import nltk\n",
    ">>> nltk.download()\n",
    "```"
   ]
  },
  {
   "cell_type": "markdown",
   "metadata": {
    "id": "X6TbhpCvf4yN"
   },
   "source": [
    "<p style=\"text-align: center;\">\n",
    "    <img src=\"data:image/png;base64,iVBORw0KGgoAAAANSUhEUgAAAv8AAAIpCAYAAAA1nFcQAAAABHNCSVQICAgIfAhkiAAAABl0RVh0U29mdHdhcmUAZ25vbWUtc2NyZWVuc2hvdO8Dvz4AAAAmdEVYdENyZWF0aW9uIFRpbWUAZG9tIDA0IG9jdCAyMDIwIDEzOjIzOjA2JObDEgAAIABJREFUeJzs3Xd4FOX2wPHvzJb03ishhCQkgdCrIgIqXmm2i1y7Yu+9t5/lXsu9dr1WvFjBhiJFURSVpiC9JIRAAgmkkF63zPz+2AAhJNlNg2jO53nyPLA7+87Zd3Znzrxz5l0QQgghhBBCCCGEEEIIIYQQQgghhBBCCCGEEEIIIYQQQgghhBBCCCGEEEIIIYQQQgghhBBCdAKlna/zBMIAP8ANMHRaREIIIYQQQojm2IF6oBwoAGra2kBbk38FiPP28BiWkpp6p7e3d5rRYPBQlPaeQwghhBBCCCFcoes6Nru9tqa2dnPmzp3PlZSUrAX2ALqrbbQla1eAlLSUlDsiwsIurbNY1Pr6emw2WxvDFkIIIYQQQrSVqiioBgNmkwl3d3ctLz//3e0ZGS8A23DxBKAt5Tq901JS7g0ODr68oqJCsVgsaJrWrsCFEEIIIYQQbaMDmqZhtdmoratTggIDB3l4eLgVHzy4GShzpQ3VxXV5+vn5DQsKCrqooqICTXf5yoIQQgghhBCiC1RUViqhoaGXeHt4DMFxT65Trib/YUlJSddXV1WZ2h+eEEIIIYQQojNVV1WZ+6Wl3QCEurK8q8m/nwpxMuIvhBBCCCFE96HpOir0AvxdWd7V5N/NbreHtD8sIYQQQgghRFfQNC0Ux/T7Trma/BvsdrtLdURCCCGEEEKI40fXNC9cnMjH2MWxCCGEEEIIIZoIN2mEmRwzZ5baFHIt7f/N3LaU5kvyL4QQQgghxHEQbtK4PKiWZHc7ocajp8wvtimsqDYzv8yNA1ZXi3PaTpJ/IYQQQgghutjZ/vVcHlSLqYWf2A026kzzq+dvvvV8XOrOxyXuXRKHJP9CCCGEEEJ0oTvDapjgY3FpWZMClwTW4anovHPQo9Nj6bprCkIIIf761EBSJpzNRVdfzriorj2kKH69GXrqZM6bPIhAOXoJIf4kzvavdznxb+y8gHqm+NV3ejyy+xRCCNF+hhTOvfcurrv0LPp3cUbuNuwqnn3qAW46fxABXbomIYToHIEGR43/UZRW9pVNnrsquJZAg9bCwu0jZT9CiJ5L7cPls99jVkIdW2bfxu3vbKG6YcIEzzOeZuGjYzEWf8Gt5zzLOnvDsomw7bULueb9XBy7Y2/OfHYhD55kbnE11lVPMu2u7ZzzbpPXK94MuOoFnrssFc+6TD6+80Ze+6OSo+ZsUGM45+kXmTU0FF83FV2zUldZTF7WFtYs/YJ5izZy0NZ1XSSEEH8VK1atavX5MaNGdfo6LwysO7rGX1Hxf2gO9b8uoHbZ3KOW9Rg/A7eTplD2+CWgO44wJsVx5aAzy38k+RdCCNWb1Mv/yQN5V/Pg4v20dYzFbrNibbiiqxhNGFUFXbNhszlastiaa9FM73Mf56lLU/G05/HtE3fzetPEv2E5v9AQ/NxVtPpqqiwqHr4R9B0aSd8hE5ly5tvcc+d7bK6WX2AXQghnWkrwnZ0YtNdoL+vRD+gadb9+je81T4HRRO13HwDgPv7v+FzzJJXvPHo48T/kNF+LJP9CCNHZFDWYsXc9wWU5N/LutlrnLzisiu/um8h3AJg46ZHF/GuSJ3U/PMSZD//E4d2+2qfRa4xEnv4Az94yAn8OsvqFu3l6WYGTkw47O965kmvezwWPCNLPuo57bppITPoV3Hf571z6yhbHutQgBl1wHbPOPol+oWZq9m9h+dw3eGP+VioIYPJzX3DvaDP7P7mOmS9uQou5kP9+dAPxKx5h+r1LqfI+g39+/Qhj3fL4+IaH2Df1BqamxhAa4Ie3u07V/q38/NErvPp1Bq2eb7QWhw7gwdBrnuPWM/sQHuiF0VJG7uZlfPTyf1mS7eh/xbsf02++mZmnpBBqrmBfoYoRju4nQzBD/3EDs6aPISnYSGXeJn768FX+u2gnNTqgxjD++ms4Z0Qq8VFBeBvqKd31OQ9f8182Wo+JWgghOk2s2Y6/8dgdZd2yeQCOEwBAt1nwveYpKt959PDJQGN+Bp1wk9Zp039Kzb8QQqBRcqAAi3s/Ln3kBob7duWuUcF/xC08+8BpRKjl/PHanTz0eTZtuRVMq93P+s+e5On5+WiKkZiJp5NmBBQvBt30Ms/feBYDo7zQ6nV8Yocx/a6Xee7SREx6OWvX7MCmq4QkJxOsKninDiDeoOCW3J++JjAmpJDkpqCVrGVNVjD9Tx5CUkwIXlRTUaPiFzOUaXc/zfXDWhmFchYHAFbs3uGEmOsoLSyiSg0kfuT53Pf4JSQbATWUSQ/9h9unDCTS205VlZGI6IAmBy1PBl3/Is9dN4m0YDvFRdV49hrOufc/z30Tg1AADL0YM208g/qE4alVUlZjwNteRYm9jZtNCCHayFtteYSkbtk8Kt94AJ8rH3Uk/m880Gzif0hn1v1L8i+EENjZ+9njPP9LCWrs2dx3xziCumzvaCByyHBizTqFi57kgY920JbrDEfUs239Nup0UAOiifJWUEIncdnZcZj0Ar5/5DwmnX4mF/17NRW6B/1mXsQYb43C31axyw7GhDSS3c2kDE7DTQE1qD/9o01EpKYSpGpUrl3FlkOTTOj7+eKO6Uw9ayYvrKtFV0MYMzalIYk/lvM4AGxseP58Jk25gFnXXsdV177M2lowxgxkQIiKGn0aZ4/yQ7Xv5cvbpjNlyplMe2LFUSdJSugZXHpOb4zWzbxx+TTOP28a/3hmNdVKICdPG0dI422o5/P5bdOYeuYEJl3/CXs79/45IYQ4hqmbZtndNCwhhDjObPkseuopFuTphEy8gztOD6WF32HpIB2rxYKuq4ScfhO3nhbV7vpLRVEbYtTRdTD2TSXZrKCVrWbhTwXYsLD32+/YZNNRvZNJ7WVA27uKVTl2FM8U+iclMSjdD72qklq1N+kDokhLj8eg17BuxR/HnpTYC9m6rRANFb+gAFr6IXpX4kANZdS1L/Dp0h9YuGA+n/3vFoZ5KKB44ukBhl4JxBkVtNK1LF9fgQ7YrNYm60kj2U1BMffn2g+Xs2LVCr68dxReioIhPIqwZo9wOlar3CEthOh6Ba2U6TSu8a944358rnkSj9MvanH5EnvnpexS8y+EEA208pW88sRcBrw0k2EjAx2Pdfpa7GR98CgL42/htlNiOeOBf1NXfT3PrShp5mbf1ngzaFR/3BTQinLZW63jUgP2bFasyOOSPpEM+tsU9EiNbXM+4OD51zBk9D+o7e8Gtb+yYm11sy+3WhrG3lW15ZMjF+LwOvl6HrxwGD5Vm/ni9S/YXNOXs2+fSfrhSZN0RzNGU8sHKlVFBfT6nSybu4J9jTaWVr6RAg1aPEMRQhw3J2KWne6gxKZQoyl4Nin/cR//92Zr/A/dA9C0/KfMpnRavT9I8i+EEEep2fA2z8wbxUv/6N3iT7B3lF63i68euR316Ve4dWQvpj7yf+Rcexvzsl25A1XBHNCHkefeyB1/C0HVLexcsphtNrBnbWGHZRJD/Udy1rgw/lhaQsQZp5NuVNCrM9me4yh037n8Z/IuvJC+Z54Jejazf1rEgaTLOGXM3xirKtT+8hOrynUXjxAadrsO+BIa5omyuQKb0zh0AgdG4aWCPWMx//tsCQeNpQy+/oLDyb8tO5Ns6yQG+I5m2hlRrPsm75g123bvJNt2Bv1NAZgLvufD+buo1sDkH4G/5QBFkvwL0S10p+S+q2b1aY5FV1haaWZa4x/qUlTcx0x11Pg3muqzbtk8FBTcTppC7dKPjprxZ2V1S0WW7SPJvxBCHKWWTe8+x/yxL3FeTHOZo4F+137M8muPPKJXLuG+KY+zoi2zx1iy+eLRx+j1xjOc02sw1z02i+1Xv87mFm8AMJB89RyWzjJgNhlRFUC3UrjyZR5/PxMbQOF3vP/VDNLPj2XiY58x+i4LJm9PTNSR8emHrKhytGTLWMbyfTO5uJcBe+5qVmcfpOCXTdSPHoE7Vfz+w6qGGXlcYN/Lnr029DQfTn3ofe6uvYCnVzqLQ4OMTEq0NEKG3Mgb74xnb6UPvX2OnG3p+YuZs/g8/jU1irH3f8w315ZQbw7EBBy6V1fPW8T7357LU2dFcvKdc1h4XTlVuge+XnUsuXMqT62S6XyEEEeciJOQ+WVunOZjOTL6r2uUPXHJMdN5AtQum0vtj58e9ZxVhw9L3Ds1Jqn5F0KIpmrWM/uVbx0jx8dQUFQVtfGfoX2XCPTyNbz62Ptk1oO5z0zunTUQz2OWqqf0QAFltRqK0YzZYKemJJdtK7/m7Ueu5NK7P2PX4Rtzq1j70k3c/cZ3bD1Qi8nDQE3eBha+eCt3vLOdw2NP9gy++3YXNl2jYOUKMu06JSt+YlO9jlb2C4tXlLlegqTt5ctn/s03G/KotFdTVmJxKY76df/lgRcWsjnfSkDiEIYO6Y1HxT52rFvP7kpAL2fVczdwz5vfsimvGqNfCH6mOopzt7N2bRblAHoZK56+nrv+u5gNe8uxufvha7ZQlLWDAotbF92zIYQQrjtgVfmgafLeTOLf0nOzD3p0ar0/4PK+cfTggQNXdOqahRBCCCGE6AGuDKrlvIB65ws28kOlmecKjh0SaskfGzaMAVY6W07KfoQQQgghhOhC7zSM4F8eVOv0fjKr7hjx/7LMrUtikeRfCCGEEEKILvZlmRvraoyc7V/PSC8r/oajCyzzrCpra0zML3Pr1Nl9mpLkXwghhBBCiOMg12LgxUJPXld0wk0a3qqOSXX8JkBXJvyNSfIvhBBCCCHEcWTRFXItJ2YuYpntRwghhBBCiB5Ckn8hhBBCCCF6CEn+hRBCCCGE6CEk+RdCCCGEEKKHkORfCCGEEEKIHkKSfyGEEEIIIXoISf6FEEIIIYToIVye57+ktLQr4xBCCCGEEEJ0MZeT/9179nRhGEIIIYQQQoj2UhTFpeXa9Au/mZmZ7QpGCCGEEEII0TXmzp3r8rJS8y+EEEIIIUQPIcm/EEIIIYQQPYQk/0IIIYQQQvQQkvwLIYQQQgjRQ0jyL4QQQgghRA8hyb8QQgghhBA9hCT/QgghhBBC9BDHL/nXCvjo0kHMeDcXrbn/nyjdJY6eRPpcCCGEEOKE6MTkv4YFNwwgKSnpqL+UCf/kDxugeBB/8hRO6euFa78/1kH6Qb68digjbl1Chd70SRsbnz2DAee8TpZ+nONygX3/L7x2+wwmDE8nbcBQxpx2Dlfe9y6/lx/zRlyj5TPnokFcOCevg8l2DQtuSGf4fT9hOepxKysfOYn0qz6ntJ0hCiGEEEKIrtemX/h1TsF7/IO8d/PQww0r5iB6GQDFl5Gz/o+RnbvCVkIJZMK0k/jnQ1/zY+kZTAtslNpb/mDB4gOkXTKZeIMvCcczLmfsO3nrpht5z/B37nnxYdKDoSwvk7U/Z1Ncq4NfW09R7FitMr4uhBBCCCG6oOzH4B9DUr9+9Gv4S+4TioeCa6Ue1jyWvXADZ48dTP/+Qzl1xt3MWV9O+waTFXzHTmW82yq+/r7oqHXW/raA70oHM2VSFGpzcbUSR83SOxgx6Tk22QF0yuZfS3q/MTz4a31D499z58iJ/PMPW7ui1gpXsyLTn8m33825o1JJ6JvK0HFnc+3Dd3BmuGNz6dXb+fShi5g4bABpg05m+o2v8GuB3dGAfQ9v/30gFz3/KS9cO5mxQweQNmACT/5ew9onx9MvKYmUU5/gt/aF57q2bMuGmC/89yc8e9U0Ths3mtGnX84zP+Rj7+IwhRBCCCF6km50w281a56ZxUNrYrjypS/4dslH/N/4Mt658SEWFrezlsRrNFMn+rF2wbfsP5zZV7Hy6x+oGTGV08Oae/utx+E+YCj9Cv5g/X4NsLBl7Rbc/TQ2rs3CDth2rGOTns7Q5PZdVFG9Qwh2K2fr6i2UNZf56iUsfeQanlzfi+vfWsCSuU9wWvXH3HTT22QeXt7Ghk++gstm88PvG9jwx3c8MMyToQ8sY3tGBtt+fJDhnXzN52jt2ZY21n+yAPfr5/DtTz8z//5eLL/nNt7dKem/EEIIIURn6eTkX6f8i2vof7jmP5Xz39rt0uitXrqU9+Z7cNHjdzF5YByRUYmcfNUDXBK9ggU/l7Vz9N+dYdPOIHTTNyzOdUShV/zC1z/ZOWn6BAKbqaBxFocSPJBB0TtZu6EK7Fms3eTP1H+MoWz9Boo0jfz16ynqN5QB7u0KGHwmcPMDk6h5/0JOHn06f7/qLp56awEbCq2O+Iq+45PvDUy//0HOGdiL6MRTuO7xa0jJ+JTPNx4azlcInHQd140MwaSY8PAwtTOY5jTdxkkkJaVx+SdHrq60b1sqBJx2DbMG+aFiJPSUm7hiSBafzd8io/9CCCGEEJ2ki2v+FTxCozC48Er77u1kVm9l2VkpvNAkxLTxJWgEuNROU6b0qZwV/THfLMrm8usTKFv2NStM43l2rG+zN/g6jcPQhyED3fly7Tbqh+xifVl/LjtvCHvmrmBDzRSs67KIHjyQ4HafVpnoPf1ffHX6zWxbu471m9azasETXPj2PG5/720urd7Fbj2JaWkeh1+hhg8gPayInbsr0dMBDMT0iaMzU/4jjr2vA2xsfP1q/lnr+J/zbendTLsGYhPjcTu8Gn8SEoIo2LWHatLx7ZL3IoQQQgjRs3R68cehmn9zW1+oaeimU3hq5Ruc69+J8+4YkjlrcgKzFyxg+1UXsnXBGrxPe5VRnu2NQ6f/0DSqZq9l6x+7yEo+ifTQdHZEvMG6jRuwbPZg4Mw+7TpRaUz1jCRtbCRpY6dw8dXn8/KM83lrziouOLdhgaNCO3Ys3WDoaAQtO3YbWykNMEBD8u+0D7WCZlrV0Wy2Ru9Ex27T2nnFRwghhBBCNKfb1Pwb4pJJUDfz6+r23uDbYsv0OWsKKXmL+WrxAhasC2bS1KG0VJXjPA4F7/Qh9Mldw0ffbSZqyCD8jL0YnK6x7vMvWVeTxtD+nTzmboogMlihtrIKeiUQr2SwYWvd4ae1A5vZVBBCfG+fFqYrVTGoOnb78Smgad+2tJO9aStVh16gHWDzliLC+8Th1TVhCiGEEEL0ON0m+VeCz+DK8/xZ9uQdvPLdFnLy97Jzw0988uxTzOvgTZ9q9JlMHVzEl4//lw3Rf2NKesvJuStxGKIHMzBwPYt+sJM+OBYDJlKGpLJ3ybfk9BlCunf7r1zoRV9w7yX38MpnP7B68052ZfzBt2/cz2ur3Rl+ymA8gk9jxkQb8596iq825ZK382def+gNtib9nfPSW7iQo/oRHubG3vVryC4qpayitkvr6Nu7LW2r3+KJTzewr2APq995jLe2JnLO9LQOX0URQgghhBAOXTrnS9t4M+Ked3k18Dlefvpy3iqw4B4cQ7+R07g2oINlQGoYp08dybOrfiHxiskkt5pNuhCHMZmhAz2Y89NAhqQ4utArfSiJ6vcUDBxMdAeyVcWnP2MH/8Zn7z/O/3YXUq17ENQrnVPveZPbzo1EVeC0x96g7F9P8vKVkzlg9aXPmAt46V9X0tcAzWf1Hoy5/EaG3PM8557yENawi3hvaVfO+NOebWkk7dIrif/pAc57Mhdb8GDOfeZ5ruwrqb8QQgghRGdxNaserev6iszMzC4NRvRQ9j28PXM6P09bwnsXhnefy1FCCCGEEH8Cc+fO5eGHHx4DrHS2rORZQgghhBBC9BCdVviRlJTU6vMZGRmdtSqXOYsJTkxcremO/XiIK/0J3a9PhRBCCCGEQ6cl/90x4euOMTnTnWPustgMccyat4FZXdO6EEIIIYRoIGU/QgghhBBC9BCS/AshhBBCCNFDSPIvhBBCCCFEDyHJvxBCCCGEED2EJP9CCCGEEEL0EJL8CyGEEEII0UNI8i+EEEIIIUQP0aZ5/ufOndtVcQghhBBCCCG6mOLicqN1XV/RpZEIIYQQQggh2kVRlDHASmfLSdmPEEIIIYQQf2KPP/64y8u2qewHIDMzs60vEUIIIYQQQnSBtpbly8i/EEIIIYQQPYQk/0IIIYQQQvQQkvwLIYQQQgjRQ0jyL4QQQgghRA8hyb8QQgghhBA9hCT/QgghhBBC9BCS/AshhBBCCNFDtHme/85yw4OVJ2rVfzmvPuHj0nL/fndjF0fSPd1xRbpLy/2V+0f6oHtzdfsIIYQQHSUj/0IIIYQQQvQQJ2zkvynFy4NTp4QzZaQP8SEGqLGSs6OMhfMPsHSXDc3VhkwBPPRePGOVKl6/JYMvypr8v6ijgRpImxTJuAid7OV5LNqlH7vOjq7jeDFAeBhEB4C3GdCguhLyDsD+GtBPdHwnigoD0iG04dS4Mh9+29/QHwrEJUOCp+M5rRx+zgJbe9elQGIqxJohJxN2Vjlfvv9ACFMgcwvkWtq74rbF2DcVermBboNNW6DI3kpMVicxKpCQAnHuRz+sa1BbDfvyIddZP7jCDYalgp8OmzZAYY/9QAshhBBHdIvkX/Hz44aH45kao6IAul3H7utGvxFhJA/2I+3FTP7zm7WbJKMqvYeFMC1NZ+XO/SzaZQc0Kg5aKFJt1Lp8lnKCGSEpEWI8HP/VdcdjfgHg5w/+2bCt7IRG2G14eTm+KFYAA/i5O3nBX4zqBaFmx78VI4T5QFEnfTY0O1jsgAJmI3j6QN8E0LbDvvrOWYcQQgghjjjxyb9iYNRFvZgao6KXV/Lhf3P5fEMdNe4enHpJPLePc+eMq6JYtXkPK2sBo5nh06K4cJwvfQJVrOV1bFpZwLuflZBT59oqVX8fzrsoksmDPQlUbOTtKGXeJ/tZlmNHBxR3D8bPiOLvo7yJ8tIpya9m5Td5vPerhYihgaQGACiEpQQyNr+UX3JVfIPMhCgWPA4VUjmJU/EL5qnXejGUCl57uoykCyMYHalSmVfB1//LZd52Gzrg2SuIy/4Ryqg+7gS5axzMrWTZV3l8uKaejgz6hkRDtAfoVtiTA7kVYFMhLBpSgiEiFooqG0Z4FQgKh/ggxxUC3QqlpZCVD9UaYIRBAyAI2JEJHuEQWAe/F8GQhpHXjD0QEgV+BqiqhJw8KDyU3LWz/d/2gdEb+kZCsBeYFLDUQcEB2FUC9hbee1toGiie4KvAQR1UD/BVHY+rTYvmnL0PABXCoyAuADyAgnyOuaqlmCA2CqL9wE2B6irIzYP9tc3HaPCAhChHH7ipUF8LBw7A7rJj224P/0BwV8CugUGFoAAwlnXgakcjZXnwR8OVMtUd+idBiBHC/WFfAZicbV8VIiKhVyB4GqC+DooKWtj+CkTGQz9/qC+B33eD5qz9hm2aEAxudsjLB484CFdg6ybYb3e+vbp6+wghhBBtccJr/hVff/420oSi2/hldjZz1tVRZQetupYf3tvLl1ur2XFAJThIAcXIyKsSeezvgfQL1NmfU0ettyejpvbm37cGE+7KuzF7cfF9Ccw62QvT/grW7tYIGxzGPQ/H87cwBRQzE29K5J6z/Ig1Wdm9x4ZnrB/n3JDAzcPdGT49iglRCqDQZ0IMl41wO7YT2xKn0YtL74hmqKedKk0lJD6AK2+NZrgHKJ5+XHdvL84e6I6hsIo/Mq149A5g5q19mZXagU1nhKgAUIDCvbCrHKw66HY4sA9yK6GiHtxMjsVDYmFgJPiZoK4GbEYICYMh8eChHN10TBz08nMkUkf6AxLiwEdxnGD4BUD/vhBo6Fj7ign69YFIH9DroawGDO4QGwe9vdrfPY1V1Dj669Bov4cXmHXH402vRLnyPiJ6Q2ooeBvAokF4LESaGzWiQnwC9A0CtR6Ka8DDD1ISIcqtmQANkJQAMX6g1ENJNRg8oXc89HXtPvDWqRDmD4oO+flQo4PJD4IMndB2E1odHGxImE1G17ZvRG9ICQNPBSprHIl2bBwk+zs+34cp4BMGif6gVcPmHKh3oX3/KEiPBB8T2FXo1ftIOdih/ml1e3X19hFCCCHa6ISP/BtivehrBt1SxaoNtqMTqtoK3v6/isP/VaODuWSsGwatli+fzOC/2+yYY8J46oloBgyM4Jykg7yW1draFHyGhjEtTsWSsY87Hy0gTzMw9OoUnpzow4WTvflhmQ9/H2yE2gpeuy+LBYUQeVYib17izdgJHlz84GZqHurPzWk6K1/exCO/2MFkPmotapTzOF/PP7J8xrztPLywDnt4KE8/F8MAXy/SIhXWufsyJEBBO1jMM4/kssGqED+lD/eNNxOb4I5ha027RrdVD/BRAQ2KKpo8aYeszEY95g69gxzJX24WZFY6Xj8oCQJ8IdYLMg5dcVHAUAt/7IIaK2iGI4/XFcHavWBzgwHJEOLmGCktrWl/+4oX+OhQVwZrd0EdENkXUnzB1xOobkfnNFFTBZ7e4OcF1IKvl6OPyuvAz7tt/ZSpQ5wfKBpk7YA9teAbAUMjOXwmYfKDaE/QqmBdpiPZDuoFA4Ohdxjs33t0fIonBJpAt8DWTCjVwDsM+gc7ypWUyo7du2HwgRCTIzkuKAI9BGLdIMwPCko60HAzVDcIaihDq6sH1bP17asc6k87ZOxwlAl5hsHIaAgLgazcI22bfKBPJBissC0byjXHe2v182OBuGBQddiXBTsqwD8aBofh8vY6UNq120cIIYRoqxOe/KueRjwB6myUOalj8U3yIU4Fe+ZB5m93lOjU7y1mwaYI+o8wkZbshtpq8g99+nnhpUBZrYH0ccEMAEy6DbtuJiDRm9Q8b6IMYNtZyq9FjsPy/h9zuD/fDfe6epyXISuuxXko+bfXsGJ1naPdohoyS3UGhKi4mUErt1GmQ0hQMI/9x4M1v5exet0+blvkuDrSbgbHhtftYHVSd2DyBm/FkdzsbZidVauFfRUQEOBIgJVDybnuKIsoOVSeYjjyeH5hQ818PewtheAQRyJtVjvQfjms2ARGN0dpSoQXRDQk5E0uGLSbVgMVmiNW9SD4eYJe63isrf3koTuuANjLYV/De6gogpJwCG4I2Nun4f4COwQEgT9nSW2YAAAgAElEQVSO5FMH3LyOvRKCFSyAuxnSU6C4DIrLYe02x9WcjgoKBBOOBLlCA8ogJgwCA8BU0rBNO8A/EsaEO/5tNoFBcZRL5ZWB3db69jU39IdWfaSErKYY1teBam9U9qNAfJyjJKe8AA407GfsTj4/qqejTE2vg/yGbVpWCOWhENDQtNPtVdS120cIIYRoqxOe/Gs1NmoANzcDPiZaKSRW8PY2oChgL7VQcvjAqVFcbEPHjI+v0Ukdk4K3txEFCBwUwW2DmsTibSLCx4ACWCpsVDWsQ6+pY9P6hgxUMTl9T67EeTiH03Wsh9+zjtYoqdTyCnn5A3dumh5AQpg3p0725tTJ0dQXlfPef3bz+S57+0YNNUdiZDCAUaXV4nij0ZEI6VaOOvGptzoSHJPp6ETb0tz206GuUZZYbznStqkj7asQ3dtRynFou9s7uYhat0NZLQR5gbc7+Jqg9iBYmpS9uNJPZt2xjMXSqMvtUGfn8DfRZGhIbP2gn1+TWIyORPyox+ogYx8kR4CPm2P2pvAwsFsgOxtyOnL1wwjhfo4R9qKG+vSKMqgLBQ8fCDbC/g4W/qtGx70P4OjrqmrYmweFNpxu30OfHbut0W7DDqXlDf8+VCalgFtD//oGg2+RY+TfWfsGo+P8VbdC/aEvmhXqNA5/KJ1tL2NXbh8hhBCiHU548m/PrWGXBYa5eTMsxcBP6xplop4B3Pt8L0a721j89FY+rrKj62DwNxOgwAEdQCUo0JFMV1fb0Y5Jj45WW+O4g3Xnx9u48cu6Y264CzkzkRsAk48RTwXKdVA83EjuY8at3kJmlvPsssqFOF1K2nU72xfu5vole4lN9eeUUQGcOtKH6BA/LpsRwLJ/Fjc6uXCdVguVGgSpEOQNBeWNnjRAaqqjrjlvF+yxNZQlmBy51KFBd7eGpNxma1K20Fw8SsP9Aw1ZsVtDlZTV5vhrb/tugdDXH2hIsIqqwD8O0vzb2CGt0aG8GgiBQF/wUqCgGnTfoxezufA+Dn2yTWZHUmkDUMHc6ETCZne0U5kHvx9opjsViGnyUHkhrCkCLx8IC4DwAPA0Q3wk7N9Ju28MN/sduS8jNgliGz9pcNwLsL+4nY03KMk9csNvU86276G+Uo2OHZmlIS4/TzBoUNHoxKRsP9QGQYQ79AlyrNNZ+5rdccJjMDruMalvmBHLrHJ4wzjdXgBdtH2EEEKI9jjhN/zqFWUsWWtDV0yMvyKOsxONjps53d059ZJIxvobcK+vYv1unYrMKvZoYEgIYmqSY4TeHB3MlIEGFM3K1h31TmbP0MneWUOdrhCV6kOIAUAh7ORY/vVIIk/O8KUuq4ZCDYyJgZwa5rixN2J8HM8+lMjj53ofdWqhNFtb0hlxOuKKmdibF55M4smz3SnYVMz7b+zk5rfLqdPB4O04OWmXhrIKHcesPjFeDR8EFcKjIcwEquaox7dWQ7XumO4xuqEkQnWHaF8ciXGVCzXLCkSGOBI0xQzRDTdjlleCpQPtu7s74rZWQV65o2Y70LOdfdKKymqwKxAV4uiX8ppjl3Gln2pqHAm/wQeiGoa7vYMhsNG3sKrakXB6+jhm2AHwCITBiY6biZveZ+sZDEOTYWA41FVAdg78lus40VANYOxA/VNwgGObaXaosxz5q284iwkIODK43hWcbV9LNdQ19HlYQyCewTAkEdIjGu3cNNh7AHYXOvolINxxw7Kz9rVaqNId93NENtwA7BsMAY361Nn28u3C7SOEEEK0xwkf+Ue38cucHJb07s2kSH+uf9yfq+rs2MwGPAyg2y389L981tSCvq+ID34J5uFTPDjvgVQG7bHgHetFmAdUbDzA59u0Y7Ojo1dG6ZoClkzzZXr/GF58wpfNJSb6D/Qi0FbNhx9XUZlVz7zNQdyS7sM1T6Ywbp9OVKIHZq2ehYvLqNChukZHRyVtchxX1O9j9h9Hr0VzJU6nM33oFOZZ8Y8PJKVPAq+nVrKnxkBcijfuaGStK2d/B0pcCvfBfk+IdIekZOhrB1111FyjO2b9KbIDtZBdAgOCoFdfCKwBowd4GMBa0fBjTC7M/OIZAqP9QTOCuwHsNZBT7vh9gfa2X1frSKLcgmC4O+hu4N3wiT5mGs4OsFU7kkB/N0e9f7nt2C+O7kI/2RUosEC0GRKSIdIC7m6OGvFDLGWQVwexvjA0Ccqs4O8Hbhrszju2QquuDsye4O8Jw32g2u4YYTYAFeVQ2966cjOE+wANN7tmNvrRLdUHRvcFd28IMcO+jhb+t8DZ9tWqIacSkn0hMRnC6xyzMak67Cs8+n4EXXfcD1AQ5phdKT4ENjtpX2+4P8UvEGL7QnDD9jqqDM3J9qpSumj7CCGEEO10wkf+AfTSMp5/KIP/LChjR6ENu0lFraknc20hLz+6g3+tsDhGf3UbK9/K5NHPSthRphCb4IlPTQ2rF+zmzn8Xke9KMlxbyZtP7eLDNbVokb6MSjFRvqWQFx/PYk6mBno9i57fyfPfVZCvmUmMN1GTXcqcZzJ5baMdHTtrvjnAugN23GJ8GBSpHtuJnREnUL89n/v/s5+fd9rw6ePHmMFe+FXVsHxeNo/Or+3YPPZW2JYB2wqgvN6R+GN31HTvyIStjWZyKcqBjflQbnXMUGKyO+ZSX7fLMbuJUxpk5Tgm3zHpUF4Km7KgUu9Y+/UlsL0Qau2O8prqQthS7LhS4BPkuAG3U1igvKE2w1rdckxO34cGO7MgpwxqNcdJUOFeyG9c92GHnTshuxR0dwjxcZw8bN8Ju5qpD9eqYEO2oxTJ5AUhfmC2OX4/YFNLZSgu8PAH/4YE+ECT9WpVUGjBMQ2oX7Mv7xSubN+8bNhR5OhfH0/HSeWuXZBZ0cx7t0NOoWOk3jcM/Cqct1+QCxnFjqTdzQB5e6DQfnSbrW2vrto+QgghRHu5mh6N1nV9BUBmZqazZV1yw4OVndKOgFefcG3C8H+/u7GLI2nCDYY1/MjXpg1QeIIynTuuSHdpuePeP8eR9EE7GCCo0Sh9nQ6YYUgaBNhhwyYo7qTPtKvbRwghhGhq7ty5ADz88MNjgJXOlj/xZT9CCNEdKY57YsJNUFkMe6vBLxj8FagthTIZthdCCPEnJMm/6FJ2u2M+806egVOIrmdzlO9YoiA0APoFgc0Chfsha38rsxILIYQQ3Zgk/6Lr1MMfUkUi/sTstZCZBZ1T7CiEEEKceN3ihl8hhBBCCCFE15PkXwghhBBCiB5Ckn8hhBBCCCF6iE6f6nP16tUdjUkIIYQQQoi/nJycnDa/ZsaMGa0+3y2m+nz//fdbfT4vL497773X6XJCdCX5HAohRPcm++nOIf3YPeTl5TFz5kwGDRp0zHPr169v9vHJkyd32m9sHSJlPx2k+J/JPxctZemSd5mVbGh+IWMq1875lqXf/o9rUjvpfEvxIm36ddx447X8LdHkeMw0locWLmXp4uc5J8xxUccYfRp3vzaXrxcv4bM7R2BqZhkhxAlkGsP9X3/H0qXf8tFdo/Bt9LU0jbyLL75byndf3sNI04kLUYieQvGMZ/wVD/LC7Hl8tWgxi776lP+9/BjXn5WC/6GMSY6jTrnUj83lMU4bbsdr/gQmT558XNcnyf+flju9x0xl2rQpjIg59AWop6K4iKLiMmo1ACMp0y5jQt8A1MKNrNh2EO2YZYQQ3YNK8PhZXJDidqIDEaJnMsRy9v/9m3tnnkJKuJnqgv0U1bsRnjSas295hmev7I8HcOyxVhzF5X5sLo9xpj2v+XOYMWMG69evPy7rknn+u4JbDBNm3cCMsf0IJ4+f/7cAS5PBATUwnfOuupzJIxIIVCrI27KcebPfZ1l2DfifyVMf3c5Q1vHaQytJmnUho2NMVOb+wdevv8K8LRbiRo0jNVABVMLSJzJ273J+2e2Gb3AIIWoBHiqAgq+fLwp2cpa8wouL9qKZIpss42osa3n5rm8JnzmTQXtf5aY3NsmPHAnRyRRjDFOvns63d8wlp9kvmIJv6nSuvmIKI/pG4GOsp3TvVn6Z9ybv/JCDJewc/vPedaTpv/PR29WcfNlYIpUydq/+lJff3ED8FXdw8ZgYzFV7+P3TV3hp/g6q9Nb3AfJDxqKnMCadybT+3lC1jtdvfoQv99aD4kmvyffyzE2j6DX5HEZ+vIUf6xsfa1VCpv6LOTcNPCah0osXcPfFL7HB1rO+Y671YzZ7BjSTx2RW4NPSPm5ZEZHN5D6/Vp3O8+9cTT/rjzx27lOssALG4dw59wnO8NzFe9fewIc5Op7xp3HZlWczKimaIHcLB3dvZNnct/nw13wsJ7C/Go/6z5gxo9NLfJojyX9nU0KYeO9z3DUmAMVazv6DoYy/5WYUvVH275bMxU88yYUJKgcz1rK2LoaBI87jnn69cL/5QRbVNCxn7MelD6dhKyukyh5FSN9TuPLBOvZc+TG9Zs5iQqyjzKjPmddzWXkGK3Y3isMQzd9ffpOrkh2bOPGKd/km7TkueKz26HhdjUWNZtpddxETZaT4gFzmFKLT6fWUlFgI6DeDWROX8fCSomMWUQLHc9tj13GSr4WDu7exuT6YvknDmH5XOHX7rmF2WcOCpmHMvKqSwgMHqY8KJmHc1Twzoh6DVsGBShv+IUmMu+ZuCrdfzdu7E1rdByzMl6FN0TMofv74KYCljKKKhnRQryFn8X95TltLhFrG3mNepWMpzOD3360NCZWZ0OQB9PJR0G1WxyCZk+PsX+075lI/qgEMayaPWVk8tOV9XP7/UdXcaxa7EJPXMK574g4mBVspytjEH3UhJKedxMwH++BxzzW8trGui3rDNY0T/pZq/zuTlP10MkPiVP4xKhClfhuzb7qISy+5mFs+yMKuHkmYfUadz7QEM5at73LnLQ/z6F038MSiAnS/IVx47gCOXMjSyfjf9Vx46RVcct0bbK7XUfxSSIs6wLybL+KlDTbAwsp/ncMV72RgbxyIVsraT17jm0wbOhoFK/7Hq19to+6oIQbF9VgMobjveZf7rr6cW97fIaP+QnS6OtZ+9CEbar0ZfslljPA59iTbLXEA8fZSCle+yk3X3sFdt9zMG+tsKIYIkhJ8j0zfphWz7InLufjyS7lnbg52FMyWdfx71sVcfultvJ9lQzGE07ePL74u74+E+Guz7dzA5iodJXA8D7z7Ns8+cAtXzjiLcQN92bd8IV8v+Jmsqqbj9Drlq9/m4fvv5/77H+CJj3eiuwN6KavmfM5WWxuOs38RLvVjxb5m8xhja/u4+Eo+dZb7tMCQMJwhQSpa0RKeueN+HrzrOu5+93dy8i3EJkfTwh2bXa65Wn9nM/t0Bhn571QKYf0HEGHQqV+9gAXZ9QBkfb2QjRckMdwIYKBPWj+8FCir8Sb9jDMZAJj0Cux6GAH9UohUSx3N2bNY8cte6gEKM8g8qDMg3Iyb2YWRd72a7BVLWHfK1ZyVaKR0+08s/m0fmql3o4XaEIttN4vf+5J1e/5aIxRCdCf2/Yt587MJvHTxeK6auYgtm45+vm7181w6Q8UzPJG08VM5LXkEpw8wAnZUg+FI8m/LYt3GcnQU9ucXoRGHtut3/jiogX6AvEIN+qqoBrML+4AN5MjXXvQAevF3PHO/kUsunsop6b1JHxfLwHENz1kPsuXrl3n6rRUUtPB6xXcY19x5Nr2MOkXLXuLF7wvRMfa475jL/djMe3a2j4P2dZRWVkKZphMSMoXH3o5nzYqVrF79Ord9sY8qV84eulBzZT5dPfovyX+nMuAX6I+KTmVxEYcuIunVByioBAIAVLx9fVBQCBx+IbcNP7oFzdcf30MJt27Faj3UiB2t0wsD2xJLGSXlf7XKRCG6GwtZn7/Joon/YurUq5lefuDop93imXrfY1w9Ohw3BXS9nnoLzdQM27A2vTxnszVzxU7Fx+k+gPYeb4X4k9Gp3LGQVx9YyKtGb0Jje9MnIYkBo8/gzNFx9D/nTq7N3ML//dLMS5VAxt54G5MiVex53/CfV1dQqgMoLhxn+Yt9x1zsxx+beanL+7i20XK/5uW34rhp5kkkRPTn1PP6c+p5V1NfsIb3Hv8nn2cc/3svWpvhp6tr/yX571QadTW1aCh4BwXhBo6Drdkff89Dy+jUVtcARna+ew03fpx7zHde8T+Tmccl3rbEoqNL7i9E16vZyIfv/sLYB07h/BmxmA8/oRA0fhazRodhyPuR116fx4qtB0i98xPuO6m9F611apzsA4ToGRT8+/+NswYGou9fzZff76QwezOF2ZtZtfR7cp/8kNuGeRAbF4Z6TPKvEj7pdm4aF4xi3c0Xz73N2spDB0znx9m/ljb0IwePeW2H9nGKgnLo8qeiojYuktCr2P7FU1z/lQ+xA8dwyinjOPXkQUSHjeCyS09h2QOLKTkBOU5rCX5Xjv5LzX+n0sjP2kW1ruA+eDJ/62UG3IibPIUh7oc+hTayt2dSpxuISh9IiAHAQNiEW/jXs8/y5GWDG6bAcp2itPcG3M6PRQjRUTqlv8zmgw21ePh4Yzz89TYQFhuFmwLlG79l0W9ZFCkpDEo0ufxT7cdyvg/wdNaEEH8JOlb/dM69+BIuu/E6zk31O1wHbgxMJjnSgKLbKDxQfEzybux1NndeMxw/6sj86FnmbKlp9Ky9h33H2tePjjymbfu4w7mP1YIVUEy9SOxtBhT8Bo0k1evQq1RizrqPF156gSdnxlGwbgnv/+debn5pFXW6gsHHF8/jPI+JK/P6d2Xtv4z8d7L6jcv4pXAik8P6c9UrczizCEKi/DFpOoc+vaW/fs6SC4YyffC1vPjiUDYfDKD/sCQCrZl8OHs7tYQ5X5FeS3W1HR0zaefdyRX1bzB7dVuj1TsnFiFE59LyWfzW55z54kUkmA4dlewU7MmlVo8k8Ix7eSUmF3tkX3oFKOiA2a19tw062wfUOG9CiL+E6tWf8MmWYczq359Lnv+Q6QUHKKl3JzgyFB8T1O9ZwNzlpU3KQ9wZeeElDPBS0LUaDKmX8ODjDU/Zs5j/7BzW9bDvmMv9qHs0yWPeZIGzfZxedmzusyqDHfvtpMfEccEz7zGqUCM41AfD4XIFjcLcUvwTTyUl6TFeH7iZPdVexPXvjzsWslb/zv4TcDnm8ccfd74QXfMDYDLy39lq/+Cth55h3q/byav3ItS7jBWvvszioka7i5oNvHnfo3z4yx60mCGM6h9E+fqvePGe+5mzrbblto9eEWs++4h1+VW49RrMoGjP9m3MTolFCNHZrDs/483FBxqNjukc/OF1/vP1RvbXmgkMMZM7/zH++U0hOgYSJ06gd3uqf2QfIISDNZtPH7iVJ+b8wMacSoyB0cRG+mA9sJXlc5/j9tvfZEN109oQBZPZiAIoaiAJQ0cycmTD3/BkQk30vO+Yy/3YNI/xoMTpPq6Z3MeWwcf/fJXvthVSZfAlyJjDF0+8yi/VR0Kq3/wu9z/+IT9vr8AncThjRiTjV5XB8jmP8ejcbJdmDOpM33zzDYMGDXLpryu4eqFjtK7rK6D1+iSA1atX8/7777e6TF5eHvfee6/T5YToSvI5FEKI7k32051D+rF7yMvLY+bMmTz00ENtep2z3Hvu3LkAPPzww2OAlc7ak7IfIYQQQgghjiNXZvOZO3dum08UXCFlP0IIIYQQQvQQkvwLIYQQQgjRQ0jyL4QQQgghRA8hyb8QQgghhBA9RJfc8JuXl9epywnRleRzKIQQ3ZvspzuH9KOALkj+6+rquPXWWzttOSG6knwOhRCie5P9dOeQfuweCgoKTnQIXTPyX1pa2urzF198Md98843T5YToSvI5FEKI7k32051D+rF7uPjii3nnnXdOdBhS8y+EEEIIIURP8edO/hUfBl1wGxcN93f8VHHT/wtxvHSnz6ISyIiLb2fmYB/5HgghhOheTnSu1hXHa0Mf/nbTdZwea+i8OLvQnzv5F+I480w7l1vvvpNLRwVLYi2EEH82ig+DZ97EtGS3Ex3JX5Piy5B/3MY/hvq1fIzUrZTs3kZ2sQX9eKxPHEOSfyFcpfiQlBpO7rqtmPqlECrfHiGE+HPx6E188H6yc+tPdCQ9WB05a75lZXbNiQ6kx+qSG347j0pI/9MYN6Q3EYHemGwV5O9Yxfc/bqbIeqJjEz2N4pdMSnAuv3+9gYi4yaRGrKAgz97OxgIZcdFl9MldRn7oIJKCvTHbC9ny42KW76xAc+Wzb/AjYfSpjEmLI9hTob4sn63LF/LTrqYr8yB27HlMSy7jh3mL2FamO2/bI5oRZ5zO8PgADNV5bPo5A8+JI7F89Sbf5dod6x4zgZPSehHsqVNdkMXvy75nbV4dYCQo5VROP6kfkX4m7HVVlO5exYKFmyjp8DCPEEI049A+dfe37A4exsBYf9wshWz5cSHLMsrRGhZz7xVPRNEuvq2V/KJZrvSjOZT08RMZmRSBj1rHwT0b+On7VeyuVEg46womxpgh5lrungB6xTo+fuN79mqN1+HDoBmzSM2ezYe/laE7XWdLx5StBDa7vmXUpXZw27Z6jAPcoxh+xhmM6BOAoSqPTb9k/KlG07t58g9GpZKM5V+xrKQa3TuGIRMnMm30QWYvz6edaZcQ7aAQ1C8F/5yV7KktoGKnnemp0fycl4Ot3W2qRA1MIfezj3kzz4JXn4nMmDKNmg8+ZE2xs8++G3HjZzC1TzErvvuIjGIbHsHRhGlNLnwqXvQ+9Twmxxex9JMl7KjQANVJ2170O+NsRvpsYfH7n3GAUAaOP42+bgpbATATO+58JoVn88P8n8irNhDc7xQmnT2J6tnz2aH257TTe1G2dB6LcqpRPPwJjzChHdsBQgjRiVQi01PInj+PN+bX45N6Fv84Yxx5uV+xvRbATEyfaEqzl1Olg7fkFy1orR89STz9PCaE7mbpp4vJtQaSNv5Mpk+388GHq8la+C7f+15JUua7fLy2vA1lPS2vc4expWOKvYX1qUR0aNu2fozbXu1J8ulnMyZgB4s/+Ix8PYKhp02kr5vecIzs/rr5iYrG/k0r2bR7PwfLKyjJ28qPv+7EPSGBkG4eufiLUcNI6efF7u05WNAo3LETS0Iqvcwda7Y2czVr8urQ0aja9Su/7QtiQFo4qrPPvmciQ9OMbF/6DWt2FVJWXsL+XZvYsLvyyM5W8abPxBlMiTvAkrmLGxJ/cPa9UnwSGdC7lg3fLyezqIKKoix+Xb6VikPteiQyLM3Kum9/ZHt+CRXlRWSv+YG1ZXGkxnugePrgRTl5OQWUV1VSVrSXHZuyKZNRfyFEl9Kp3L6S3/Nq0LBTvmMzu+2RxIQ23IRpjCI+pordu8vQJb9oRSv96J3IoESdLcu+Z3N+KeVFu1i5ZDUFIen0j+hIx7W8zrYfUzq4bZ0d47wTSU+wsun7n9hRWEFFUQbLl2+j+k9000E3H/lX8IgeyvhTBhEf5oeHSUUB9JpNeCrQ8TtFhHCNISKFZPdsvs+1AKAV7yCz9gLS4t3ZtaOuna1qlBYfbHTloI6DxTX4BAVgYj9qK599NTCUYKWQHfssLbStEjLiHKZqe/jmg+/YWdX4y9L690rxDyKAIjYWHxmr14oPUGhLc7QcGEqIWzgJV97N2Cbv50CWJ3rxdjYVpHPaFVfQL3s3e/ZksSMjl/KefCldCHEc6FSUVRy5yqjXU2cx490wSGMIj6eXdTcLDuo4zS96tJb7UfUPIoBCtuw/skPXK/PZXzWW4CA3yO/8dWr72npM6Vju6OwYZ/APIkAvYFPBkaO3vTCfAlu/9r31E6B7J/9uCUyYPgrv9Qv48It9lNVaUWJP5+ppRrmrWxxHRmJSk/D38eG82wYceVhRsKQm4LljC+29bUlVjx6GUNSGT3aHP/salXk5aHGxpPT2Z9fm0iOXOjvatqKAbReLXv+MzbXNL/L7J2+yKzaBPnFxxI8+hzEjNvP5Bz+QI/fYCSGOK6Vhv6YSEh+HkrOUQg3JL9pMaaVfuqrHGtZpL2r5mNLc+FcXH+PUGAXQsDc+idCa/L+b69YXt1T/cMLM+9j0+25Kaq1oKHgGB8lZuTi+zHGk9lXZvuh/zJ49+8jfp79RHpNKkk97P5AqQRHhHJ5wTvEhItyLyoOl2J189rWSQor1UGKiW647qtv7M58vyCJwwvlMSjoy57+z75VedpBSJYSw4CO7BzUonNCGoQKttJBiPYLevTxafmt6PSU5W/l9+ULmzvmOPT79SI74c8x/LIT4C1ICie/tRu6u/diR/KK9tLKDlBBCVPiRsWPFJ4II72oOHqwHdHRdQVU6uSNbPKYcu76ObltnxzittJhSgggOONKg4h9MUPceTj9Kt07+tcpSyrRQesf5oALGgBTGDY3s3kGLvxz3+FT6KLvZtqOAoqKiI3+7t/w/e3ceF1XVP3D8c5lhFRRXFHkwEBAU3HDf9wV3UzLTLPyFZuYu5qNZlpVLlvo8aeaSqfi4a6IoaEiWSoo7KGK44xJuhKbCzNzfHyAiMHOHTQY579dr/oC595xzzz3ne86cuXcu8cnVqe2Z/98Xlmo0o1M9R8rZladGky40rXqHM7G30Ci1/X/iiY7V4NW5B01cK1OubHkcXHyo55L1wV4yjy7uY1PodRy7D6STaxkklPuVnBLPmYvW1O/YBvfKdthVqkmrdnUoC8jI8CieI6cf496xF608qlK+rD2VHWtSv11H6lU2w6xqfdo19cK5ij12tuWo5uZCRekBD/4Wt/wKglA8pHIuuNhd42Ji+rUiYn6RTw/jORmvok7HjtSpZk+5Sq606NYMh6RTnLmpA/kJKSka7KvXoKKtNdZW5gWuU4NjSi75UdBzqzDG8fACpy/aUK+lN+XVgNqe2i3rUbkEfXA07c8p/5wjIsyRHh3f5YOOT/gn+Ronjp2leosSVMNCCWeDWx0X5Mu7uJb9+kL5Ln8mJNOsthcVj8XkI20dt9EVe/MAACAASURBVKP/4G7N7gzrVB6zR9c5vfNnjiTpAKW2/5TLv2wk5EkHWnUfQhsrmccPbhIbeSl7IUmJ38Mm814M6vU6qVs38us1pbQfcTZsO2W7dabb276oHt7g9IEjJFRthFabnvfV/RvY+k87WnV4g6a2KjSPHnD7aiyH/5GRrTRY1miKX9MK2FrC03vXid0TyjHxO5+CIBQLCVsXVyreiCHz5/3F/CKf/iE+fDPWHTrSyn84dqr0n/r8OfQISTqANC4dPcj1Hm0YNqobqpRcfuozj+Q0Q2NKbvntL+C5NTzGwSPOhf9M2a5dGPx+KzT//M21Eye58FqD/B/kS2ZsTbSQZfkgQHx8vMENIyMjuX//vsFthg4dys6dOxW3E4SiVKztMON3jV1jl7H+eIrJ37suVWzG28NcOL1sPSdSTL20giC8KgonTlvj/fp71E5YycaTDwutbCWJmHeZhqFDh7JixQo+/vhjxfk0wIYNG4zadsOGDQDMmDGjJXBIKV3TXvkXBKFYWDjWobb1HS7fTkFrXZ36nRpjf+0ACQ/FxF8QhBJGsuDx1d/4489HxV0SQTAJYvIvCEJO6vJ4tm9Hu3I2qLWPSLoUzfZ9p/lbzP0FQShp5GQSjp4o7lIIgskQk39BKA7yPf5Y8w1/FHc59Ei9+jvrl/9e3MUQBEEQBKGQiRvbBUEQBEEQBKGUKJKV/06dOhm13ZQpU4oie0Ewyo0b6Y8iFO1QEATBNIk4XThEPZqGZ+ehuImVf0EQBEEQBEEoJUr25F+XyOKOdrSYn4Aut78F4WUpjLaojWduM1s6fHddtF9BEATh1VTcc7WimDumhhJQxZkP9qcWXjmLUMme/AvCSyXz10+9sVdb0eiLs2gLkpTuKova2tFm4WUx0RcEQXhZdNf4roMD/huTi7skryZjxjbJBs+ug/GrY2f0w6YKlJ+Qg5j8F4iW1NQCTQFfUppCodAlsjX4GO0/HMKjjes4pSnuAr1Moq0LglDyyXf2EhrTBL/2ZYu7KKWXVJ4OQUuZ3q1KwSf/Qr6Y+ORfQ8yqkfj5ulDZ1gqbSh60f38VMQV9TkfqZUJmDKCRsz3W1mWpVqczk0NuogPklJMsD2xLzQrWWNpVp0H/mYQlZszyMi7LaDttOdN7++Bkb0/rubv4qpktbaYuZYpffdycHXBw78zkn6/wbG6Y5zTnn+NUURy3UCC6SxsJjm3H0GmB9NFsJvhIfr/ee8qOYT6MO/CQ38a5oJIk1DXG8Gta+rvy38f5flgTnOysKVejDWO2XM5sS6ReJmR6Pxo6lcXKyp4azd9m4eF7+p8QLNq6IAilQUZ8affJWr4Y0JAalcpR/rVs8ROZBxGhRNftTqeK2qKZX5R0RtSj/jhveGzLlP0yG8U8nxAXPJoOHpWwsbCmnENNGg9ZwXmtvvwKYe6oMNbK9w8x378eDmVsKO/eiYlbr5D9ME2ZiU/+Zf7ROTHgy40ciInnZMgM6kRPxP/zKJ7mO8lk9k3swqC1Wvy//5XYs0fZMW8Q7hZakJPY9n5Pxh125+PQM8QdWka/lCUMeH0eZzKjRxpRS9cgjQvn4v27RIxxRUUah5cGYz09gvir1zmxwJ3QYYOYH6vJZ5ouPC3s4xYKSEvc+v9xsaM/nSs1ZGBfc7au/Y3H+UrLkt4/nWFBG1taL7iEVpbRXFlEW3MADScWfcXR5rPZHX2YtW/JrB0RxJa7MpDC/qDuvBfpyuTN0cTH/cbS3nf5uv8I1t/KZfov2rogCKVKGlHLgjGbEEbCnb84PsuR7SOfxU+ARxzYdRC3bl1wNCuC+cUrw0A9Gozzhsa2/Oepu/Yjo0f9gsuMPcRe/pPje1cyuYMj5nrH0oKeW4WxVv6LzaNeZ2ZCW/5z8ByntryPvPhzfi5BT8E08cm/OU0CphPQtTFerznj0XwI8z7tzb2dIcTk85ILOWkrC376h0H/XU2QXz1cXWrR2G84gV2dkG5u5fvtKt7+dhHvNHPDxceP6T9MpcGZ5fz4x7PPdBKVB0xnWodqWEgWlCljAUhU7DeVoBYVMMMcR79PmdTqLCtXHyMtX2mWKfTjFgpIc5J162/S9Y2O2KGm3sB+lN2xll8eFn5Wtr0+5buRHfCpVZ9eHwfRy+wwB06lId/ZxoLVZfjwh7m82cwD59d86DZlIWNdwgneczfH6r9o64IglC5mVB80nYktKqPGEpeBAXQzj+LAqYz48+QQoQeq0bWrC2ZFML94deivR9moOF+4eeqSErkludCiY0NcHKtTs25b/AO646rSl1bBzq3SWKu7uY1lIWUIWDAX//o1cK77Ol/NHkxVnZj8FxIdd37/lndae1DF1hyVmYRNz1Uk/XWbJCPu7Hi80R9btRq1Wo3aujFfxGrRxJ8mVtuAti3scmyvSThHvFyP5o1sMv9n5tSUpo63iDufnDG5UuPq5Y7FC3uqcfP2xOrZn1IFatd2IPFcPA/ylWbBjlsofKl/rGPjg+74t7cFQO09gH6VQlmz+77+S27yRU1Nb6/nbUldmSr2D0lOkdGcP8mZv48xvY4aSZLSXyp3Jh9+zO2bSTludhJtXRCE0kWFs6vz8wcYmZXF3i49fgKkHg0lokwXunmpELHHEP31aNzYUbh5qr39CWgYzWgfH7q8PZE5qyO5ZPASnoKdW6WxNjXhHPFSfZo3zBwJsazfjAZWJecOBtOe/CfvYPzAL7nW+b/8fjmZp1qZpxGjqI7OqLu6rbp/y/GYGGJiYog5uYmR7iqQjWiaL5y/nNur1dmfjSaj1WiybCmj0Whf3DMvaRbwuIXC9pgDazdxMXElPctmfJi0asis00nsWRtCUiF/2FepXuyWkpTRbHU6ZEs/Vt7RIctyllcqR6d6kWMRRLR1QRBKGUnKPgGTM0KhhtO796Hr2I36akTsUaC/Hp9t8OJ7RZqnRV0m7I3n5IapdHO8y75ZffBpMp5fkvXkW9BzqzTWyjJIasyzDroq8xf/NnEmPfnXXDzGiZSWBIzvgkclG9SSjtuxZ43+VC7ZVcfD0xNPT088a71GRQtQ16pHHdUJfj2UkmN7tVttakmniTr2/Epu3fUjHLlRFc9a5Qzcla4h7sgxMtuh7jpHo2/h5OWBfT7SLOhxC4UsZR9rf9bivyKakydPZr6O75qIa+Qatibm58SYoVLJaLXG/9qN2qMetc2OEhZh4AbfrNuLti4IgpBOe5494Q9o59cEC0TsyS/lsSPvY5tRVPbU6jiECbNXER61mM7X17PxSBq5jaUFPbdKY63arTYe8nli/3yep/ZiLHGPxWU/hUJV3Q1X89Ps3ZuIBnh8IZiPFkYV6PfVpcr9GTvUmvWjh/H17tNcunKB4+GrWB5+HblqP0b0TWP1+HGsOZLA5djdzAr8iuM+7xHQ1PAdK5qIOYxdHsWlxAtEzPuAuce9eWeoL+b5SLMojlvIL5n7u9eyU+7KkDca4O3tnfmq22UofV0OE7wpH78vbFYBp+pWJBzaT9zNO9y9/wilSxElh9eZNLwiO8YNZubWaP68epGYqF0snTKeZblcyCjauiAIQjrdlTDCrrfBr2X65Soi9uSPpBTn8zG2KdFELyVoznoiTyWQePMSR0P2clbngpuzKtf85AKeW6WxVqrWl4Dut1n26WouPAGeJLDus2Wc0YrLfgqFVOVN5i/uyoXx9XCs4U7j4ZG0GDMYx4KUWipH52/CCB6kY+3/tcLLsxE9J6zjQqoKpMr0W7KTb5qe49Nu3tRqOpyttiPZtGUS3tmvfniBOb5jJ+O5azhN3H3ov/Qpg1avZ5K3Ol9pFslxC/kjJ7FjbRhmnfrQ2ibbe6ra9Or5GseC/0dcnkcMG7pM+ITW8dNo9K8qONSfykHFe6XK0n5eONtGVSRsUhd83H1o6/8RG29XxbVSLo1DtHVBEARAx83w3cQ186Ndxi1QIvbkk2Kcz8/YppClrTXJEXN5t1M9XGt402vuLXos+5EPa6lyze9Q+YKeW4WxVnLgjSUbGc23tKvhjJvvMCJaBtLXvuRM/o0taQtZlg8CxMfHG9wwMjISX19fg9tUq1aNnTt3EhgYaGT2Jkwbz9yWDdkzNI59HziZ9qcp4QU3btx4ddrhyyDauiAIL1mhxGn5Dqv7eBHc4xR7RjiWygdLifHONNy4cYMVK1bw8ccf8/nnnxu1z8cff6w4996wYQMAM2bMaAkcUkrT4BqfIAiCIAhCiaZLoWL7z5jSu2qpnPgLpmfnzp00aNCg2PIXk39BEARBEF5dKhd6jH+/uEshCCZDTP4LSuVBUNRDgoq7HIJQ1ERbFwRBEIQST1y2KwiCIAiCIAilhJj8C4IgCIIgCEIpISb/giAIgiAIglBKlOzJvy6RxR3taDE/If0hS9n/Low0c6ONZ24zWzp8d108BlxIVxRtMb9E+3yuoOdFqS6L8zznR3HEt9RQAqo488H+1MJIreBe9f5hasdnauURil9xx82iGK9NLc4pKNmT/5dBd5VFbe1oszAfT3EVXjEyf/3UG3u1FY2+OCueBFkSSDZ4dh2MXx078RN/uTG1+GZq5RFePbprfNfBAf+NycVdkleTMX24MOOyiBn5Iib/gmAsXSJbg4/R/sMhPNq4jlMFfWa5UPSk8nQIWsr0blXE5F8QcqUlNbX0LGXId/YSGtMEv/Zli7sopZeIy8XOxCf/GmJWjcTP14XKtlbYVPKg/furiHlUgCQzvoJs98lavhjQkBqVylH+tTaM2XKZnHO5p+wY5sO4Aw/5bZwLKklCXWMMv2Z/VLV8l8h/N6eK+1sEJ5SMr3yEvNNd2khwbDuGTgukj2YzwUcKcK4z2mGbqUuZ4lcfN2cHHNw7M/nnKxnt0Ii2n3qZkBkDaORsj7V1WarV6czkkJs5Vz9ytE/ltOW7vzFnQF0cythQ3q0jE/63mKFZv9JMvUzI9H40dCqLlZU9NZq/zcLD95ABeEJc8Gg6eFTCxsKacg41aTxkBedznV8YKouOSwvaYFvvkxc/aD0KZbhjFYZs+1v5WBS/zjUuxujuHWReZn1kPU+5MFg3OckpJ1ke2JaaFayxtKtOg/4zCUvMSD1P8Sqv2xdNfJPvH2K+f730unLvxMStV3iepKH61leevI8Diu0XkP8+zvfDmuBkZ025GgbqNEu9FqS/vrw+lU5vm804lrbTljO9tw9O9va0nn+OU4bKb0y7UohHearv/DCq7cs8iAglum53OlXUFv784lVgRD3qj1lGxpTscVkxT33tv/BiRg4KcdxwnDN9Jj75l/lH58SALzdyICaekyEzqBM9Ef/Po3haoHTTiFoWjNmEMBLu/MXxWY5sHxnElrvZh2dLev90hgVtbGm94BJaWUZzZRFtzbNsortN+KSu+G/z4rt9P/FWTYsClUwwVVri1v+Pix396VypIQP7mrN17W88LlCaaRxeGoz19Ajir17nxAJ3QocNYn6sBsW2Lyezb2IXBq3V4v/9r8SePcqOeYNwt8g2G8i1fSqlfYv1IwcwJ7Er3x+O49T2sVitnM3Pfz/rHynsD+rOe5GuTN4cTXzcbyztfZev+49g/S0Z3bUfGT3qF1xm7CH28p8c37uSyR0cMSc3hspiRo1+A2l0cRtbYp4P348iN7Nb1w3/TmWVj0WRMfuncWzhHGK7LuXw+ZNsDrRg3ZBn5yk7w3WTM/sktr3fk3GH3fk49Axxh5bRL2UJA16fx5nM5I2NV3ndvgjim/wXm0e9zsyEtvzn4DlObXkfefHnWdqOofrWV548nmPF9gug4cSirzjafDa7ow+z9i2ZtSMM1Wl6vea/v77MPpVeVsNtNo2opWuQxoVz8f5dIsa48NSIfqC3XSnGo/zUd34otf1HHNh1ELduXXA0K6r5xavA0Lk2FLOMiCn5yFN/+y+kmJGDQhxXjHOvjhZyhvPnzxt8LV26VI6Ojjb4SkxMlJcuXSrnxz8735Ed6vxbjk6TZVl7Xf6ug63c/Os/Za2cy9+50ZyX5zS1kl3H/y4/ffa/J2Hye9X+JY/65WkuaV6RF7axlVsvuPQ8Tc15eU7TMnL7hX/IP39QV67kPULefk2Tr+MRik+e2mFatDzNu7r87s6U9D9PfCzXrf6OHJKS8X5e26LmvDynqaXsEBAqP3r2P91teWWPsrJHUJSclssuWdu+7vZKuYdddTlg19960s5b+8yatvb6ErmTrac85Y/UzPdTo6fJdSyqy6Minsq6pJ/k3uV95VmxWdLUXpDnNS8r9/gxSU49Nk2uU667vPyG3l5odFlk7RX5P+1tZe/pxzPqJEUOGVZVrjosRE4xav+8x4gX9tecl+c0tZArvLFRvq97dqyX5UVty6Sfp2zpKdWNLlteusTv5c5lnOX39z56vvnFBXJrG1d5/O+pyvEqu2KOb+nHU1Mee+Bx5v+eHJwou5unt53cZD/fOcqjtE82Su33Wd+r/t6e533vnx3y25Wdcq9TWS5wf32pfUqpzT47/hHh8mMDyeTsB/rblXI8ymN9Z2F0nDamrzwOkwOdG8gzT+feng21q5KusOpRMWYZ04ezxyGFPNMMtf/8xAyFcUGpP2rzEeeeSUxMlD/77DM5JCTE6JcsK8+9P/vsM/mzzz6TgRbGTOpNfOVfx53fv+Wd1h5UsTVHZSZh03MVSX/dJsmIOzseb/THVq1GrVajtm7MF7HPViFUOLs6P3+8sVlZ7O0ekpySl09tGs7M7cvg0Pr8EL6YPk6qvB2aUKKk/rGOjQ+649/eFgC19wD6VQplze77ei/nUKbGzdsTq2d/ShWoXduBxHPxPFRo+5r408RqG9C2hZ2etA21T8NpaxPOcUHywdf7+XKNeR1f6lqnX52pOX+SM38fY3odNZIkpb9U7kw+/JjbN5Mw8/YnoGE0o3186PL2ROasjuSS3q9bFfq4mRN9BzblyrYtnNYAKRFs2iPh598eW2P2V2TM/mpqNW5I2WcXp5o50qhRVa6fi+dh9lpXqJvsRdIknCNerkfzRjaZ/zNzakpTx1vEnU/OaFt5jVfFF980CeeIl+rTvGFmq8ayfjMaWD2rvPycr7zto9R+06mp6e31vO+pK1PFPr2O9I8b+e+vL7dPpZfVcJtV4+rlzvPvcYypY/3tSjke6a/vwmW47aceDSWiTBe6eamMPObSysC5NipmFW6e6jy3/4KdW6X+mKoY50yfaU/+k3cwfuCXXOv8X36/nMxTrczTiFFUR2fUXd1W3b/leEwMMTExxJzcxEj35wOYJGU/STJynlqtCqeWnfB8EMm6sIuIK/1fZY85sHYTFxNX0rNsxqTAqiGzTiexZ20ISfmOdjJajSZLsJTRaLTpfyu1fcXGaqB9FrBfodMhW/qx8o4OWZazvFI5OtULlUVdJuyN5+SGqXRzvMu+WX3waTKeX5JzKbNiWcxw7D2QZle3sfV0GikRm9ij8mNguzKFcywF3T+vdaNvvxfCUc56ymu8Krb4JssgqTHPeqAq8+d/56e+C/scPSuW6sXhT5LSi69/3ChAf1VSmH3KSGq1+vkfRpZfb7syonHpq+/Cpr/tazi9ex+6jt2or6bI2tWrQjGGKMSsQs0zr+2/qPujUpwrAUx68q+5eIwTKS0JGN8Fj0o2qCUdt2PPGv2pXLKrjoenJ56ennjWeo2K+boc3wyVSkarzX5nlUT5NrMIWdeb8+P9CNx8Tfz046sqZR9rf9bivyKakydPZr6O75qIa+Qatibmd6jQEHfkGJnxS3edo9G3cPLywEqh7atr1aOO6gS/HkrRk7b+9qnUr1Q1vXDXneFYTJbbNM8e4/Tj9IKqPepR2+woYRH6b2JFZU+tjkOYMHsV4VGL6Xx9PRuP5Lwdypg+bubYm4EtrrNt82/s3hiGRU9/2toYv78hxu2v4fzR42Rezqm7SfSx9PNkmy09o+om6/ZutaklnSbq2PO7R3TXj3DkRlU8a5V7Cb+EUbjxTe1WGw/5PLF/Pt9aezGWuIy2o1zfOcuT13Os1H6V6B838t9fX2afelZWY9ssFLwfKccjE6A9z57wB7Tza4IFBT/m0ko5ZumLKQWkt/0XPGbkOEaF/qgU50oCk578q6q74Wp+mr17E9EAjy8E89HCqJc7yTargFN1KxIO7Sfu5h3u3n+U5ZcDzHDotoDQFa04/F4Pxu6+LVYMXjky93evZafclSFvNMDb2zvzVbfLUPq6HCZ4U/5/X1gTMYexy6O4lHiBiHkfMPe4N+8M9cVSoe1Llfszdqg160cP4+vdp7l05QLHw1exPDzrg3Ryb59K/crMsS/vdr/HD+Omsf3MNa7F7uSTKau5KklISEgOrzNpeEV2jBvMzK3R/Hn1IjFRu1g6ZTzLYjRoopcSNGc9kacSSLx5iaMhezmrc8HNOeeyiFF9XKpKr4Etub5uLDN3W9FzYGus87K/Acbun7rvK8auzDhP80cx+2gd3hnqizrbdkp1k51UtR8j+qaxevw41hxJ4HLsbmYFfsVxn/cIaGrUXXIFU8jxTarWl4Dut1n26WouPAGeJLDus2Wc0aZ/jFGs71zKI+fxHCu134LIb399mX3qGWPbLBS8HxkXj4qX7koYYdfb4NcyfeXAJOYXJZBizDIYU/LHYPsvhJiR4xgV+qNSnCsJTHryL1V5k/mLu3JhfD0ca7jTeHgkLcYMxvGlltqGLhM+oXX8NBr9qwoO9ady8IXFFhVO/ZcSusiLXW/1Ytqvxq34CSWEnMSOtWGYdepDa5ts76lq06vnaxwL/h9x+RoxzPEdOxnPXcNp4u5D/6VPGbR6PZO81cptXypH52/CCB6kY+3/tcLLsxE9J6zjQmr2yUDO9oli2lV5c8kmgqrtJrCpB3V7f8PjgEn0KGOJpSVAWdrPC2fbqIqETeqCj7sPbf0/YuPtqrhWMkOytSY5Yi7vdqqHaw1ves29RY9lP/JhrZwTFeP6uIRDz4G0vhvLedteDGxlncf99TNuf3N8x0zCIyTjPC15zBsZ5yknw3WTswCV6bdkJ980Pcen3byp1XQ4W21HsmnLJHJNvtAVcnyTHHhjyUZG8y3tajjj5juMiJaB9LVPHxSV6ztneQ6Vz+M5Vmy/+VWQ/vry+lRmWY1us4Uw1hodj4qLjpvhu4lr5ke7jNsSTGN+UQIpxiylmJKPLA22/0KIGTkoxHGFOFcSGFvSFrIsHwSIj483uGFkZCS+vr4Gt6lWrRo7d+4kMDDQyOwFofDduHGj+NqhNp65LRuyZ2gc+z5wMu1P4YD23Fc0a7yXd+P2McrJ1EsrCC8qcPstgv4q+pRxCiVOy3dY3ceL4B6n2DPCsVQ+WKpYxzsh040bN1ixYgUNGjQwep+ePXsqzr03bNgAwIwZM1oCh5TSfClrS4IglCwPo9YSfK82nRs4YZ50mB/GLSCh9Sx6imUxoQQwxfZrimUqNXQpVGz/GVN6Vy2VE39ByE5EHUEQcpAfX2DjpJ40cHXCrfVodlcay6Yfh+MsIkappvtzPq2sM37xKtvLuuXXXDCRC6ZNsf2aYplKDZULPca/T4dqorIFAcTKvyAUD5UHQVEPCSrucuhh134mv5ydWdzFEEyMmdtEfn88sbiLoajQ228h9FfRpwRBMBXiY7AgCIIgCIIglBJi8i8IgiAIgiAIpYSY/AuCIAiCIAhCKWHak39tPHOb2dLhuyJ6UEhRpy8IL5NSe9YlsrijHS3mJ7wa7T01lIAqznywPzXne0VxrCJeFB5Rl4JQehX3WJQ9/8Ioj6HxyASZ9uRfEEzCQ9b1s0aSpGwvy2IMXldZ1NaONgvz8HRhyQbProPxq2P36v/cXUGPNT/1m2cZ7UpVhTc2JGV5eFYqYe85YPfmVp5mbmdDxXd3ZfydIXktfayzt8ksL/M6TDv2IOe+8h32/7sZFSq35fNDD3J5aNeL7d3MzJwylT1oO/w7/rgvHmEolHC6a3zXwQH/jcnFXZJXkzGxszDHopcSq1894td+BMEoEmV7L2LfzNaYZ/lfmer/KoJP0FpSU8HCopCfjimVp0PQUjoUbqqmqcQcq4SFRQo7vlzE8X6f42uRh13terDgjxPM1AGk8ccXPRibOJJd3/WnogRIVjh4qNmfdR/dbcIm+fHGugpM272VSY30Db4S5fp9z29ftsVcTuPBhV18+cF4Bkz14Pz3ncn+sGtBKCnkO3sJjWnCwPZli7sopVeJic+vrhKx8q+7d5B5A+riUMaG8m6dmfzzFTQZ78kpJ1ke2JaaFayxtKtOg/4zCUvUZO6r9P4L5LtE/rs5VdzfIjihZHx1I7w86gqu1K1fn/qZr3q4V1ZzaUEbbOt9wqmszepRKMMdqzBk29/pf6deJmR6Pxo6lcXKyp4azd9m4eF76auuGZdAtJ22nOm9fXCyL4uzy7+w8Z7O8axppoTwTrVqDAu5w45hPow78JDfxrmgkiTUNcbwa8Yj1OW/j/P9sCY42VlTrkYbxmy5nN5fsn+1mZFvu0/W8sWAhtSoVI7yr2XZHpDv/saczL7XkQn/W8xQfV9tpkUR5GHHG1uyrE+nhhJQxYWxB9KAJ8QFj6aDRyVsLKwp51CTxkNWcP7Zb8MbqiNAvn+I+f710svi3omJW6+g96nx+TjW557mr36NOIacJCr3C6R30hI+X3/TwHa5MCuPS93nbbFmJTVmdk54P2uf9TypZp1le+0NQj7sjP+GqnwWtp3Jeif+6VTlnPDw9MTTy4dmvScSNMCJO7Gx3M5YXhOxVzApRvVxmQcRoUTX7U6nilpiVo3Ez9eFyrZW2FTyoP37q4h5VIzHYAqMGRf09m3DsTNTnuOzvrFDX36agp/bwhyPTFAJmPyncWzhHGK7LuXw+ZNsDrRg3ZBBzI/VgJzEtvd7Mu6wOx+HniHu0DL6pSxhwOvzOKNB+f2sdLcJn9QV/21efLfvJ96qmZclOKH0MqNGv4E0CIXtNAAAIABJREFUuriNLTHPG9WjyM3s1nXDv1NZIIX9Qd15L9KVyZujiY/7jaW97/J1/xGsv/UslKQRtXQN0rhwLt6/z58HPqFD4ib+d/TZREjmQVgwu8z7MKRjJXr/dIYFbWxpveASWllGc2URbc0BNJxY9BVHm89md/Rh1r4ls3ZEEFvu6ptWphG1LBizCWEk3PmL47Mc2T4yY3v5FutHDmBOYle+PxzHqe1jsVo5m5//zt+lH7prPzJ61C+4zNhD7OU/Ob53JZM7OGZ8k6JQR/JfbB71OjMT2vKfg+c4teV95MWf57EsBo71BZb5rF9jznNOZhV78e9x7vzy1TccfpLHSjX60K+wZUQn3tpZk3l7NzOmXpk87Czzz9V9bNn/F06NfXE0Q8RewUQp9fFHHNh1ELduXXA0k/lH58SALzdyICaekyEzqBM9Ef/Po168vK5UMjQuGOrbhmJn/vPUP3boy6+g5/ZljEfFqwRM/sGi01QW/V9zXJ086DhpMR/5nmHl6mOk3dzK99tVvP3tIt5p5oaLjx/Tf5hKgzPL+fGPNGSF9zNpb7BzTBfeCm/Esr3LGFhDXA0lZCdzb1VPrLJeU61y4oP9qZj9qw8DGl9i25YzGasUD9m/aTdyN3862IF8ZxsLVpfhwx/m8mYzD5xf86HblIWMdQkneM/djJUEicoDpjOtQzUsJAtsXQfydud7bF53iCcA8l12BodT7vW3aKNwzYVtr0/5bmQHfGrVp9fHQfQyO8yBU/rWJMyoPmg6E1tURo0lLgMD6GYexYFTaehubGflngoELvySfnWdcfbuzczZb+Ms53Pyn5TILcmFFh0b4uJYnZp12+If0B1XlXId6W5uY1lIGQIWzMW/fg2c677OV7MHU1WXl7LoP9a80Fe/xp3n3KjxGjGDQf8s57PVV4vgulWZ5E3jeed/5fn3rvUE1rZW3gWZ+2v6Uc7KCisrS+xe602w/VRWz2yFJSjGVhF7heKh0MefHCL0QDW6dnXBDHOaBEwnoGtjvF5zxqP5EOZ92pt7O0OI0fMFVemhvx6N7tuFmKehsSN3BTu3L2c8Kl4lYPKvplbjhpR99v20mSONGlXl+rl4HiScI16uR/NGz2dDZk5Naep4i7jzyaQpvJ9+mjScmduXwaH1+SF8MX2cCvk6a+EVkX7N/5ETJzjx7HU8nKmNzcHMib4Dm3Jl2xZOa4CUCDbtkfDzb48toDl/kjN/H2N6HXWWDw7uTD78mNs3kzIme2pcvdzJXPOUKuD3dk+ebl/Hr/+AfGs7wfur4j+4GZYGy6mmprcXVpl/VqaK/UOSU/QFJRXOrs7Pb/4xK4u9Xfr22oRzXJB88PV+vmxjXseXutb5u0VL7e1PQMNoRvv40OXticxZHcmljK9hleooNeEc8VJ9mjfMPDIs6zejgVVeyqL/WPNwFHrr17jznDupXFc+mliPw3Pn8eujwh5AJGwadqNtueP88OVmLhk1PkuU7f0fjp48ycmTJzi6bzlvPl3AoMANJOpAI2KvYJIM9/HUo6FElOlCNy8VoOPO79/yTmsPqtiaozKTsOm5iqS/bpNU6u8c1V+PSn0//9FLf56Gxo7cFezcvpzxqHiVgMm/EV6o71yansH3VTi17ITng0jWhV1EXG0q6JPjmv96tXGylQAzHHsPpNnVbWw9nUZKxCb2qPwY2C7j0gqdDtnSj5V3dMiynOWVytGpXjyb8qjVL6562nYaSj91COv2JXN1SzC/uwzizYbK35+qVC92a0kCQ4v1kpQ9YMkGtzeQEDmTypKWRV0m7I3n5IapdHO8y75ZffBpMp5fkmXlOpJlkNSYZ50fqsxf/NuoIhb8WPXWr5HnOXdm1Bw+g6Hyaj5bcRGtwW3zztzzPTaEfonbL+/RNXAL14zIIPOaf886NOwwjHlfDES7/T+sv5Rl9BSxVzAx+vu4htO796Hr2I36aiB5B+MHfsm1zv/l98vJPNXKPI0YRXV04ldjMCJWKvX9wszT0NiRm4Ke25c0HhWnEjD513D+6HEyL6XS3ST62C2cvDywd6tNLek0UcceZ26tu36EIzeq4lmrHOYK76c3M4nybWYRsq4358f7Ebj5WqEPvMKrz8yxNwNbXGfb5t/YvTEMi57+tM1YGFF71KO22VHCIgzd+JkLq1YMHViO3Wu+44fgaLwHv0ntzOBihkolo9UWXWtV1fTCXXeGYzHPl4o1Z49x+rGeo5DsKGcHKckpmcepS7rMlawr2Sp7anUcwoTZqwiPWkzn6+vZeCRNsY7UbrXxkM8T++fz49VejCVOX1kKLO/1m+/z/EyZdgRNac7J+bMJ1zeo5ZtEmfrj2BLyMY4hb9N99E5u5nGGk/4B5yEpj3SoRewVShrtefaEP6CdXxMsAM3FY5xIaUnA+C54VLJBLem4HXtWrPorUOr7UlGNTXrGjtxidUHPremNR4WvBEz+IXXfV4xdGcWlxAtEzB/F7KN1eGeoL+ZV+zGibxqrx49jzZEELsfuZlbgVxz3eY+ApuZICu8/Z4ZDtwWErmjF4fd6MHb3bfHJX8hBc+8ip0+e5GTm6xTnEh+lBwepKr0GtuT6urHM3G1Fz4GteXZlteTwOpOGV2THuMHM3BrNn1cvEhO1i6VTxrPM4AWIFjQa8iaOu2by9alGvOVf8/nqsVkFnKpbkXBoP3E373D3/qNcfrWmYMwc+/Ju93v8MG4a289c41rsTj6ZspqrkoSU2+/EqGrSqlUV/li3hrP/gPz4TzbO+C9RGQXTRC8laM56Ik8lkHjzEkdD9nJW54Kbs0qxjqRqfQnofptln67mwhPgSQLrPlvGGW0Rfc2aj/rN/3nOzBTnoTMYbr2RpSE5f38/Z/s7zeUHeYlUEnZNPmL7z5Mpt+FN/CbuJcnAWKVNvk58XBxxcWc5sX81QdP/R9JrnensoVaMrSL2CqZGdyWMsOtt8GuZviqjqu6Gq/lp9u5NRAM8vhDMRwujxAdQBYp9uwjGJkNjR275yQU8tyY3HhWBEjD5N8d3zCQ8QobTxN2H/kse88bq9UzyVoNUmX5LdvJN03N82s2bWk2Hs9V2JJu2TMJbjfL7L1Dh1H8poYu82PVWL6b9ms/VO+EVJfP3jjE0adCABpkvX/y+PpER2CQceg6k9d1Yztv2YmCrrDdVlqX9vHC2japI2KQu+Lj70Nb/IzberoprJcNdUF3nTQbXBfO2b/G6c9Ztbegy4RNax0+j0b+q4FB/KgcL+3fGpKq8uWQTQdV2E9jUg7q9v+FxwCR6lLHEMtcbDyxpPX05Yy2/p51TVVwajeBg60D62mes89pakxwxl3c71cO1hje95t6ix7If+bCWCsU6khx4Y8lGRvMt7Wo44+Y7jIiWz9MufPmp3/yf50zWzZn4767YpGYfLnNrf00Ztyuvv0soYd/yE3Zs+QDzlQPp8e9I7uUa6GSSt42krpcXXrV9aNb33/xacTg//fw5La0QsVcoYXTcDN9NXDM/2tml/0eq8ibzF3flwvh6ONZwp/HwSFqMGZz+a1aCfop9u/DHJsNjR878DpUv6Lk1tfGo8Blb0hayLB8EiI+PN7hhZGQkvr6+BrepVq0aO3fuJDAw0MjsBaHw3bhxw/Tb4dPfGF+nL1dmnmfLW5WK/cm82nNf0azxXt6N28coJzFKCoJQtAolTst3WN3Hi+Aep9gzwrHY42hxKBHjXSlw48YNVqxYQYMGDYzep2fPnopz7w0bNgAwY8aMlsAhpTTF76oJgklK4+Hd25xb8xXrnvZnVZ/imfg/jFpL8L3adG7ghHnSYX4Yt4CE1rPoKZbHBEEoKXQpVGz/GVN6Vy2VE39ByE5M/gXBFKXuZUytPqxX1+edJcvoals8xZAfX2DjpCCCLt3hiYUDPl3HsmnRcJzF3F8QhJJC5UKP8e8XdykEwWSIyb8gmCILP1beSWNlMRfDrv1Mfjk7s5hLIQiCIAhCYRHrd4IgCIIgCIJQSojJvyAIgiAIgiCUEmLyLwiCIAiCIAilhJj8G6JLZHFHO1rMTxAPnhGKT0lrh9p45jazpcN310tGeQVBEISXp7jHtOz5F0Z5UkMJqOLMB/tTC6+cRUhM/gVB0UPW9bNGkiQkyQyVhR1V63RhzOoY8vqIJUEQBKEY6a7xXQcH/DcmF3dJXk26qyxqa0ebhZf1T6QlGzy7Dsavjl3Bf3rVmPyEHMTkv0hpSU0VDwt/NUiU6/c9p8+dJeboLuZ3fcTa/+vH9N8eF3fBjCDaoSAIAoB8Zy+hMU3wa1+2uItSeknl6RC0lOndqojnLhQT0578Z1w+0GbqUqb41cfN2QEH985M/vkKmoxN5JSTLA9sS80K1ljaVadB/5mEJWqM2z8tiiAPO97Y8vR5nqmhBFRxYeyB3J5HrSFm1Uj8fF2obGuFTSUP2r+/iphny78Z+bWdtpzpvX1wsren9fwLiGnXq0FVzgkPT0+86rXhrTnzCHC+Rvies2goge1QsW8p5AGQepmQGQNo5GyPtXVZqtXpzOSQmzlXX+S7RP67OVXc3yI4IdWotOW7vzFnQF0cythQ3q0jE/63mKFZv1JNvUzI9H40dCqLlZU9NZq/zcLD95ABeEJc8Gg6eFTCxsKacg41aTxkBedFRxSEV1dGTGv3yVq+GNCQGpXKUf61NozZcjlzvgAyDyJCia7bnU4VtcoxrjQyoh71j3dP2THMh3EHHvLbOBdUkoS6xhh+zT6MZb/MRjFPfTFdX35GjF9KDI4xIN8/xHz/euljlHsnJm69Qm6jtaky7ck/AGkcXhqM9fQI4q9e58QCd0KHDWJ+rAbkJLa935Nxh935OPQMcYeW0S9lCQNen8cZjRH755nMPzonBny5kQMx8ZwMmUGd6In4fx7F82lbGlFL1yCNC+fi/btEjHFFVRjVIJgWyQprK0hLS0Muse3QUJkU8pCT2TexC4PWavH//ldizx5lx7xBuFtkm2HrbhM+qSv+27z4bt9PvFXTwoi0b7F+5ADmJHbl+8NxnNo+FquVs/n572dhN4X9Qd15L9KVyZujiY/7jaW97/J1/xGsvyWju/Yjo0f9gsuMPcRe/pPje1cyuYMj5vmoaUEQSpI0opYFYzYhjIQ7f3F8liPbRwax5e6z2PGIA7sO4tatC45mxsTR0spAPRoc7yzp/dMZFrSxpfWCS2hlGc2VRbQ1Kvjqz1N/TNeXX0HPreExBvkvNo96nZkJbfnPwXOc2vI+8uLPs4xRpq8ETP4lKvabSlCLCphhjqPfp0xqdZaVq4+RdnMr329X8fa3i3inmRsuPn5M/2EqDc4s58c/0hT3z/u0y5wmAdMJ6NoYr9ec8Wg+hHmf9ubezhBiMhOTqDxgOtM6VMNCsqBMGYvCqgjBVGjuc/qnuayJL0ezll6oS2w7NFQmw3nISVtZ8NM/DPrvaoL86uHqUovGfsMJ7Or0PKhob7BzTBfeCm/Esr3LGFjj2TMFDaetu7GdlXsqELjwS/rVdcbZuzczZ7+Ns5weWOU721iwugwf/jCXN5t54PyaD92mLGSsSzjBe+6iTUrkluRCi44NcXGsTs26bfEP6I6r+BQuCK84M6oPms7EFpVRY4nLwAC6mUdx4FRGHH5yiNAD1eja1QUzo+JoaaW/HmWjxrvCzVOX55hesHOrNMbobm5jWUgZAhbMxb9+DZzrvs5XswdTVScm/4VIjZu3J1bP/pQqULu2A4nn4nmQcI54uR7NG9lkbm3m1JSmjreIO5+c8fWM/v0f5rksOu78/i3vtPagiq05KjMJm56rSPrrNkmZ1zqocfVyR0z5XzUy93/qQxm1GrVFReqP/h2X8auY3ascmhLbDg2VyXAemvjTxGob0LaFnZ60NZyZ25fBofX5IXwxfZyyRmnDaWsTznFB8sHX+/lykXkdX+pap18dqjl/kjN/H2N6HXXGTdgSksqdyYcfc/tmEmbe/gQ0jGa0jw9d3p7InNWRXCrtX+ULQqmgwtnVmWfLDJiVxd7uIckp6VE49WgoEWW60M1LhXFxtLTSX4/GjXeFm6c6zzG9YOdWaYxJTThHvFSf5g0zR08s6zejgVXJuYOhBEz+ZbQaTZYGJaPRaF9sYNKL2xu9vyQhZT9Xsoysr/Um72D8wC+51vm//H45madamacRo6iO7oXrnNVqtZ4EhJJLomzvRRw9eYrT5xK4dfcq++d0x9HshU2yKAnt0ECZlPLQW7hnVDi17ITng0jWhV3khR8/M7L8eul0yJZ+rLyjQ5blLK9Ujk71QmVRlwl74zm5YSrdHO+yb1YffJqM55fkkrMqIwhC/kg5g2lGuNJwevc+dB27UV9NwePQK05/PT7b4MX3ijTPvMb0oh5jZBkkNeZZ17RU5i/+beJKwORfQ9yRY2SeY911jkbfwsnLA3u32tSSThN17PkvruiuH+HIjap41iqX0Tb1728r2VHODlKSUzKbri7pMlce5d6gNBePcSKlJQHju+BRyQa1pON27FmxSlBKqMrXoLZ3HWrXcqGKzfOuoy6x7VB/mawU8lDXqkcd1Ql+PZSiJ22J8m1mEbKuN+fH+xG4+VrmDcdK5VfV9MJdd4ZjMc+/QtacPcbpxxnfoXjUo7bZUcIi7ukfclT21Oo4hAmzVxEetZjO19ez8UhJuh1LEIRCpT3PnvAHtPNrggViPM8v5fHODJVKRqst5F9Y0BvTc+ZX0HOrNMao3WrjIZ8n9s/neWovxhL3uOQsMJWAyT9oIuYwdnkUlxIvEDHvA+Ye9+adob6YV+3HiL5prB4/jjVHErgcu5tZgV9x3Oc9ApqaK+6vVtWkVasq/LFuDWf/Afnxn2yc8V+i9FwTpqruhqv5afbuTUQDPL4QzEcLo8Sv+ZRyUgluh/rKZKmQh1S5P2OHWrN+9DC+3n2aS1cucDx8FcvDsz7YywyHbgsIXdGKw+/1YOzu2+iMKL+ZY1/e7X6PH8ZNY/uZa1yL3cknU1ZzVZKQkJAcXmfS8IrsGDeYmVuj+fPqRWKidrF0yniWxWjQRC8laM56Ik8lkHjzEkdD9nJW54KbcwlalhEEoVDproQRdr0Nfi3TL1cR43n+KI53ZhVwqm5FwqH9xN28w937j/JxX9uLDMb0XPKTC3hulcYYqVpfArrfZtmnq7nwBHiSwLrPlnFGKy77KUTm+I6djOeu4TRx96H/0qcMWr2eSd5qkCrTb8lOvml6jk+7eVOr6XC22o5k05ZJeKuN2B9LWk9fzljL72nnVBWXRiM42DqQvva5n0CpypvMX9yVC+Pr4VjDncbDI2kxZvCLl34IpU+JbYf6y6SYh1SOzt+EETxIx9r/a4WXZyN6TljHhdTsE2wVTv2XErrIi11v9WLar/dAMe2qvLlkE0HVdhPY1IO6vb/hccAkepSxxNISoCzt54WzbVRFwiZ1wcfdh7b+H7HxdlVcK5kh2VqTHDGXdzvVw7WGN73m3qLHsh/5sJaY/AtC6aTjZvhu4pr50S7jNiUxnueT4nhnQ5cJn9A6fhqN/lUFh/pTOVjAL10Nx/Sc+R0qX9Bza3iMQXLgjSUbGc23tKvhjJvvMCJa6h+zTZGxJW0hy/JBgPj4eIMbRkZG4uvra3CbatWqsXPnTgIDAw3nqo1nbsuG7Bkax74PnPL+SaWg+wuvtBs3bhjXDgvKFNuhKZbJAO25r2jWeC/vxu1jlJOpl1YQhMJSKHFavsPqPl4E9zjFnhGOpfLBUi9tvBMMunHjBitWrKBBgwZG79OzZ0/FufeGDRsAmDFjRkvgkFKa4s5UQRBMzsOotQTfq03nBk6YJx3mh3ELSGg9i55iWU4QhLzSpVCx/WdM6V21VE78BSE7MfkXBMHkyI8vsHFSEEGX7vDEwgGfrmPZtGg4zmLuLwhCXqlc6DH+/eIuhSCYDNOe/Ks8CIp6SFBx7S8IhcEU26EplikLu/Yz+eXszOIuhiAIgiC8csQ6miAIgiAIgiCUEmLyLwiCIAiCIAilhJj8C4IgCIIgCEIpISb/glCctPHMbWZLh++ul4hHyssPDjK7lxeVrFSoKgUQmlrcJconXSKLO9rRYn5Ciah3QRCEV0Zxx9/s+RdGeVJDCajizAf7S8agaNqTf91VFrW1o83Cy4XTQAo7PaGUeMi6ftZIkoQkmaGysKNqnS6MWR3Do+Iu2kul43rwx8y61JV18UncvfgdXSyKu0z5JNng2XUwfnXsiuan/0TsEgTTpLvGdx0c8N+YXNwleTUZE6sKM/6K2Jgvpv1rP4JgMiTK9fue375si/rpXxz/aSof/l8/VC6n+ba1dXEX7iXRcePKdczqfEAb5wpY5SsNLampYGFh6Gm7xmxTQFJ5OgQtpUPR5SAIggmS7+wlNKYJA9uXLe6ilF4i/hY7E175f8qOYT6MO/CQ38a5oJIk1DXG8GsakHqZkOn9aOhUFisre2o0f5uFh+8hA/CEuODRdPCohI2FNeUcatJ4yArOa/Wlp2/74j16wfSoyjnh4emJV702vDVnHgHO1wjfcxYNGmJWjcTP14XKtlbYVPKg/furiMn6tUDqZUJmDKCRsz3W1mWpVqczk0Nu5lypkO8S+e/mVHF/i+CEVDAibfnub8wZUBeHMjaUd+vIhP8tZmjWrx/z1V+yF+wh6/rZ0WzeBVI2DsBaMqPiu7t4CsgpJ1ke2JaaFayxtKtOg/4zCUvUpO+WcVlT22nLmd7bByd7e1rPv8ALyee2zew1TPSw440tT7PUYSgBVVwYeyAtc592n6zliwENqVGpHOVfa8OYLZfRZElT7/vZv+ZV2t6Yes4kYpcgvHRG9GGQeRARSnTd7nSqqFWO26WRMbFQb8w3EPuyynP8zWtsNGJMVmIwVoN8/xDz/euljwfunZi49QrZD9OUmfDk35LeP51hQRtbWi+4hFaW0VxZRFvzFPYHdee9SFcmb44mPu43lva+y9f9R7D+lozu2o+MHvULLjP2EHv5T47vXcnkDo6Y60mv9S192wuCAZIV1laQlpaGjMw/OicGfLmRAzHxnAyZQZ3oifh/HsVTADmZfRO7MGitFv/vfyX27FF2zBuEu0W2WZruNuGTuuK/zYvv9v3EWzUtQDHtW6wfOYA5iV35/nAcp7aPxWrlbH7++1mIym9/yc6Wwdv+5tAkN+wGbeGJrOPujz2wlJPY9n5Pxh125+PQM8QdWka/lCUMeH0eZzJH3DSilq5BGhfOxft3iRjjSs41fWO2yWWfZcGYTQgj4c5fHJ/lyPaRQWy5Kxv5fh7SU6znrETsEoTiodTnH3Fg10HcunXB0UwhtpZqhmKhoZivL/YVLM+8xsa25gU9t4ZjNfJfbB71OjMT2vKfg+c4teV95MWf6xkPTFOJu+xHvrONBavL8OHvc3mzdvr0wHnKQsaG+BK85y4D6iZyS3LhzY4NcalmBo7VqVk3Y+dcLgjTJRnYXhByo7nP6Z/msia+HG2+8MIcc5oETKfJs/dfG8K8T3/BZUoIMbOa0fDeVhb89A+D1q8myM8OAFeXWjQG0Man76O9wc4x7zH81+Ys3/sdfZyeTX0Np93g9nZW7qlA4C9f0q+uOeDMzNlH2NFiFVDA/mIE+eZWvt+u4u3ti3inmQ3gxvQfprLPexE//jGJb5oBSFQeMJ1pHaphAViUyS2l7NsYczOBGdUHTWdii8qoAZeBAXQL+j8OnErjjbYK77fLW3oDaxmuZ6PqSsQuQShiBvp8Bwt4cojQA9XoGuSCGSqDsdW3xM2OCpP+evT3VIj5zQs/z9ft8xYblcZNX4Vlb6VY/UaXbSwLKUPA7rn417cCavDV7MPsbLc+vwf/0pnwyn/uNOdPcubvY0yvo864AVNCUrkz+fBjbt9Mwszbn4CG0Yz28aHL2xOZszqSSwa+6lHncXuhtJK5/1MfyqjVqC0qUn/077iMX8XsXuUAHXd+/5Z3WntQxdYclZmETc9VJP11myQdaOJPE6ttQNsWdnrS1nBmbl8Gh9bnh/DFWSb+KKatTTjHBckHX+/nSyvmdXypa51+G1Vh95ccJU84R7xcj+aNbDL/Z+bUlKaOt4g7n5zxFakaVy93DE/njdkmOxXOrs7PVzDMymJv95DkFNnI941PT6mejSFilyAUNcN9PvVoKBFlutDNS4VSbC3d9NejcTG/cPPMe6wr2LlVitWpCeeIl+rTvOHzO98s6zejgVWR/HxEkShxk390OmRLP1be0SHLcpZXKkeneqGyqMuEvfGc3DCVbo532TerDz5NxvNLsp4mmdfthVJKomzvRRw9eYrT5xK4dfcq++d0x9EMSN7B+IFfcq3zf/n9cjJPtTJPI0ZRHV36ooSs1JZUOLXshOeDSNaFXeSFK8iV0lZS2P1Ff/VkkXNftVp5Ge2FbSQJKXscleUcVSnl3OiFbZTezy6v2+eJiF2CUOT092ENp3fvQ9exG/XVFDy2vuIUY6FCzC/UPPMa64p63JRlkNSYZ12nU5m/+LeJM/HJvxkqlYxW+/zaaLVHPWqbHSUs4p7+5qayp1bHIUyYvYrwqMV0vr6ejUfSck3P8PaC8JyqfA1qe9ehdi0Xqtg87zqai8c4kdKSgPFd8Khkg1rScTv2bOYKg7pWPeqoTvDroRQ9KUuUbzOLkHW9OT/ej8DN1zJviFVKW1XTC3fdGY7FPG+vmrPHOP04Y829QP1FmdqtNrWk00Qde5z5P931Ixy5URXPWuXy/zNukh3l7CAlOSWz3Lqky1x5VDwTW6V6zknELkEwKdrz7Al/QDu/JligHFuF3CnHfD2xqqDyEBsLem6VYrXarTYe8nli/3yep/ZiLHF6xwPTY9qTf7MKOFW3IuHQfuJu3uHu/UdoHV5n0vCK7Bg3mJlbo/nz6kVionaxdMp4lsVo0EQvJWjOeiJPJZB48xJHQ/ZyVueCm7Mq1/SeGNpeEIygqu6Gq/lp9u5NRAM8vhD6TeDjAAAgAElEQVTMRwujMifwUuX+jB1qzfrRw/h692kuXbnA8fBVLA/P+mAvMxy6LSB0RSsOv9eDsbtvozMibTPHvrzb/R4/jJvG9jPXuBa7k0+mrOaqJCEhIRWkvxhBqtqPEX3TWD1+HGuOJHA5djezAr/iuM97BDQtwK2nqpq0alWFP9at4ew/ID/+k40z/kuURnnXoqBUzzl3ELFLEEyJ7koYYdfb4Ncy/XIVpdgq5E4x5ucSqwoatvMaG+UCnlulcVOq1peA7rdZ9ulqLjwBniSw7rNlnNGKy34KiQ1dJnxC6/hpNPpXFRzqT+VgWlnazwtn26iKhE3qgo+7D239P2Lj7aq4VjJDsrUmOWIu73aqh2sNb3rNvUWPZT/yYS1VrukdsjS0vSAok6q8yfzFXbkwvh6ONdxpPDySFmMGp18SBCCVo/M3YQQP0rH2/1rh5dmInhPWcSE1extT4dR/KaGLvNj1Vi+m/XoPFNOuyptLNhFUbTeBTT2o2/sbHgdMokcZSywtAQrSX4w5+Mr0W7KTb5qe49Nu3tRqOpyttiPZtGUS3gW6Yc6S1tOXM9bye9o5VcWl0QgOtg6kr30xBVfFes5OxC5BMB06bobvJq6ZH+0ybr1SjNtC7hRjfm6xr4BZ5jU2li/ouTUcq5EceGPJRkbzLe1qOOPmO4yIlsU4PuWDsSVtIcvyQYD4+HiDG0ZGRuLr62twm2rVqrFz504CAwONzF4QCt+NGzdeyXaoPfcVzRrv5d24fYxyEiNZURH1LAhFr1DitHyH1X28CO5xij0jHIvmqd4m7lUd70qaGzdusGLFCho0aGD0Pj179lSce2/YsAGAGTNmtAQOKaVZqn/MShBeBQ+j1hJ8rzadGzhhnnSYH8YtIKH1LHqKJaxCJepZEEooXQoV23/GlN5VS+XEXxCyE5N/QSjh5McX2DgpiKBLd3hi4YBP17FsWjQcZzEnLVSingWhhFK50GP8+8VdCkEwGWLyLwglnF37mfxydmZxF+OVJ+pZEARBeBWINStBEARBEARBKCXE5F8QBEEQBEEQSgkx+RcEQRAEQRCEUqLkTf618cxtZkuH767/P3v3HR1F1YBx+LfZBBK6EHroEAgtCYTei0iXpnSQYqFIUXpHqhSlIyAtCgIqoKBIMR9YkN4RCFKkN2mhJtnd748ECJBkNyEhIfM+53COwuyde+/cvfPu3ZnZyH+m2XqeWTVSU37yiZj9RHfwz3TMlJNu/wuOm3qKcWhM2peU2mLveIuISNRie06Mr/3HRX1esXNc4g7/1jNMq5KaylNPO35ATCko9EYr6hZJnfgf6RWb9snLdetr3nQzYTJF8celCIN32/n9Qo3JV68OIpI0Wc8ys3pm3l5xK6FrkjQ5Mn/H5TlR54tYSXpP+zG9RvV+c6ge5QYWgoMhWbKE/hVMC8HB+iHxRC91PaZs38tIK0AI28fUo+f5D/hpZhMymACTK5nzOfFVdGVoTIqIJAq2axv5+VBp3qqWJqGrYlx2z4kS3xLxyv9DfmxfjF6/3eH3Xnkwm0w45+rBlvCfibbd3sMX7UvjkdqNtLkq0+P704TC81/fhH9FX2XwlwxpWAyPdOmoNPk4oTe2MvltbzKnTMFrBWry8cp/ifYXqMPLqTxwDv3r+pA/Z2YyF3idvj/8G7ZfQjm06APqlsxDxlSupHD3pFqXRRy6+/Trn9TDjeRueen5VPu64/95dVIXHcKeiIvJQWt4J2tW2q8JiuM+FrucXiNPcR98fHzw8fEmn7szTqk9KOoT/nfehcjqFrapxuQTtmjbEl29onrf22lLXPcNQPBp1gxrhl/OdLi5pSFrkdfpu+bi86tLtv/YPKgcmQq0ZsmJYIfKtv33O582Kx7WP/lr8NE3s2gb8Svj4NOsGdKYEh5pcHVNR65y7Zj613VsADzg6JLuVPd0J0UyN9JmzkepNvM5ps9tYmTh7/mqw79mTLMS5HJPy2u5I8zDANi4GfAzu4rXoWYGS8zmFKNwoB9tQfv48r0q5EvvRvLU2fFtMpL150Oxl9sei+KcGPU+o5rz4uh8EZlo52B757jELxGH/+Q0XHyQKZVTUWnKKSw2G6H/TqOKC0Aoe6eNY2e58azb9Rdft7bx9fv9+P4/WxRlhbBtzleYem3g5I3/CPgwFau6NmXkiSpM//MI+7/vgm3WKH64HdXrn5Tz15wluA0JIPDMOfZOKcDP7Vsw+XAoYOOe1YNmY1fw26FA9q0ZRpFdH/P2qG08jLQed7hz+zhTn2rfDNq2bEuV89/yzc5H143ZuLl+CT+5vEmbGqlfuFclvmhMPma7wnfRtiW6ekX1vnekLXHYN7ZbbPq4Fi2+tvD2F1s4/PdOfpzYggLJnknY1sts6PMGb6/yYuamxbTOl8yBsi+x7INmfHr+Db746yj7V/fEdcH4CP0TxP/61eHdzXnp+90uAo/+zpyG/zGpyfssu2TDenYh3bv+Sp5hv3D49D/s2biAvtWz4WJnpIgkfSFsm7cEp4/Wc+LaFfaMzsbqDyLOw3f57ac/yV+7FtmcYjOnGEU0/Wi7yqou9en1VwGG/nyQo1vn0ThoNs2aTuRgaHS5Lfb7jHrOi8vzRUTRz8H2z3GJXyIO/9FL1WAEMz+oTrGCPjQY2o8GTn/x2/6oPneZyNhsCIOrZyWZKRkpbv/EvDUp6ThlAm/75CJn8aaMG9+KLFZ7B85EhsYD6Vc+PU64kK3uCPpU/JsF/rsJxYXSHYfQ8Y1SeOXOiWe5Nkwc0ZDra9dwKPTJ6yPWI2XKZM/vIfObtHv9Ot8t3coDANt/rF2ygbRNW1M5Ray7S14Cjckwtour7LTFkXo9KzaviX3f2K6uZMrie7SY4U+/ut7kzVOQUnU78d4bHk8mTcsF1vaoResNfszbOI+3cj26ijL6sq0XVrPgl/S8N3UsjYvnJGfRhowc346ctrD+sV1bxRT/lHw4dwIty3qSM3cxavefSs88G1jyy39Yrp7nkikP5WuUIE+27OQrXoW3O9Yhb0JfNSaS4JzI3mIIH5fPiDPJyfNWR2q7bHsyDz/Yys+/ZeWNN/LgFKs5xSii7kfbxZV8sdpMu8+n8U7Z/OQpVpchcwfie/BLFm5/kbXvqPdpjfGc92LH1t4cbLV7jkv8XtHw70y+ol64Pv7fjGRKd4dbQVF1vDN5vQrwKNaEnjhCoMmHciUel0Byn7L4uobdenJ/xdukcnbG2dkZZ7dSjDlseVxO/qKFnuzXlJ7ChTNz/kggd7By7Y/PeaeSJ5lSuWB2MpGi/iKuXrnMVWvk9YiUKT1129Xn4eqlbLkHtkurWfK/LLzdqizJY9RH8nJpTD5iry04VK9nxeY1se+b0MADHLb4UqV8VN+2hXJwQiNa/ezD3A2zeNMj4lko+rItJ45w3FSMkkWfLIe5FClJcbew/gk9to+Dt3czpIjzkxvLzQXo+9d9Ll+8ilPRt+lYYhfdixWjVruP+dR/M6eMfqmCCABmcubN+eRmRqc0pEv9ZB4O3vkzASlrUdvLTOzmFKOIuh9DTxwh0OZNOb8nKz9OHmUok+0SR4/dIvbxN+p9Osd4znuxY2tvDg62e45L/F7R8A9m89NVN5nAFs2oc3aOcG+zzQYmZ1winq/NLo//37XO5+w5dIhDhw5xaN+3fFDg0YY2LKGhEQa3jdBQS9j/3/qR3m+N5ezrM/jj9C0eWmw8DOhKdqxPXSP8VD2ikKpmWxo7r2Hppluc+X4Jf+RpQcsS+lI/sdOYdKwtjtbrKbF5zYv0TXQHLqxBeFSoSaGbm1m6/iRPPdwtVnWNwGrFlrwuC65ZsdlsEf4Es3OgF+ZkxfloYyD7lg+kdrb/2DT6TYqV7s2vt16dVSeR+GIyPRvAbOFv51AOrNuEtUZtfJx58fdpEhd1Pz7a4Ol/i9d9xnTOi+852N457hWQyMO/E2azDYslbu9kc85fGE/bMQ7/86Rcy8nDHL0fNpBMqbPjWagQhQoVolDB3GR4vCwaytEdu3k83qzn2LnrEh5enrie3M3eoAp07F0LT/cUOJusXD78t51PmVG0z7Uibd9Ky7qvZjJ3yS6KtmpJ4VdoUEnMJaUxaa8toXbr9Xwd7L8mMrHvG+eC3hQx72XL1qhusjfxWuXRrFnakGO96/Led2d5VFt7dTXn86KA9SC7D0W4Bfrv3RwI7x9nT28KO+1kfcD1qE+p5nQUrNGGj8YvYsO2Wbx+bhkrdrxKt5uJvGSWY/yy4SZV65YmGbGdU8Q5f2EKmg6wbff9x39nPbeDHReyUKhgWkzxlNuinvPi6nwRoY125mB757hXQeIO/07p8cjuyomt/+PoxWv8d+MucXEpnilrIzrWucy8Ef4cfwA8OMHST+Zx0GL/K5vQgE/p+eU2Tp0/TsDEbkzYU5R32pYkefb85HU5wMaN5wkF7h9fwoCp24h2+EfZvmT4tWlJtp9GMmm/H63fzoeyf9KWlMakvbaY7dUrkjrYYtOWF+gbU8Ym9GzrxrLu7Zm07gCn/j3Ong2L+HJDxB/2ciJz7Sn8PL8if71bj57rLmN1oH1O2RrRoc515vYazOqDZzl7eC3D+/tzxmTChAlT5qb06ZSBH3u1YuTKXfxz5iSHtv3EnP69mXcolNBdc+j36TI27z/B+Yun2LlmI39b85A/p2YJkahY/13P+nOVqVsh7HIVu/OQRMqUpTHvNwrBv3cvvtpxgtOH1zH6vXHsKfYuHcu4xEtui3bOi8PzxeM22pmDX+R8nVgk7vBPCmp9NJxKgYPxy5GJzD4D+TMuFrdMmWk+ewXd+ZyquXKSv2R7Aiq8R6N09g6cCyV79qXQT50oXaAYTeY8pIX/MvoUdcaUqSWTZ73B8d7eZMtVgFKdNlO+RyuyRdvDUbfPuUhLWhUHlyqtaZozkR8meXFJaUzaaYv9ej1fh62vxaYtL9A3prS8/tl6lrSw8nXningV8qP+R0s5HvxswDbj0WQOP0/z4qfWDRi85TrYLTsLLWd/S7+s63ivjCfFG37G/Y59qJcyOcmTA6Sh2sQNrOqagfV9alGsQDGqvD2AFZezkNfdCVMqN24FTKBDTW/y5ipKgwmXqDdvIR8WVPgXiZyVixvWcbRsXaqG38YTu/lRMGWk8ey1fFbmCCNqF6VgmU6sTPUB337fh6LOEB+5Lfo5L67OFxFFPwfH/nydeDha0/I2m+1PgMDAwGg33Lx5MyVLlox2m6xZs7J27Vree+89B3efCFgCmVChBL+0Pcqmbh7x/6np4e/0LtKIf0ce4/vW7on/l2FfQRcuXHj1xmFEGpNRe9l984IsR8ZRttRGOhzdRFePxF5bkZcnTuZp2zX83/RiSb39/PJ+tsQ9d8WTV/58l0RcuHCB+fPn4+vr6/Br6tevbzd7L1++HIBhw4ZVALbaKzPp/cLvKy+EO/9d5shX41j6sAmL3kzkIUsMQGMyrt3Z9jVLrhfmdV8PXK7+xdxeUzhRaTT1tewoEvesQWSo9gn9G2bR3CWCwn/iE7yRHgXfZJmzD+/MnscbqRK6QmJ4GpNxznb/OCv69KPfqWs8SJaZYm/05NtpndAVfiLxwJyHer27JHQtRBINhX9HmT3pt+0O/eJ7P8nqsuBaCAviez/y6tOYjNrL6ptYSl1tJL/+PTKhqyEiIgakdSYREREREYOIl5V/ezf8XrhwIT52KyIiIiIi0dDKv4iIiIiIQSj8i4iIiIgYhMK/iIiIiIhBKPyLiIiIiBiEwr+IiIiIiEEo/IuIiIiIGITCv4iIiIiIQSj8i4iIiIgYhMK/iIiIiIhBKPyLiIiIiBiEwr+IiIiIiEEo/IuIiIiIGITCv4iIiIiIQSj8i4iIiIgYhMK/iIiIiIhBKPyLiIiIiBiEwr+IiIiIiEEo/IuIiIiIGITCv4iIiIiIQSj8i4iIiIgYhMK/iIiIiIhBKPyLiIiIiBiEwr+IiIiIiEEo/IuIiIiIGITCv4iIiIiIQSj8i4iIiIgYhMK/iIiIiIhBKPyLiIiIiBiEwr+IiIiIiEEo/IuIiIiIGITCv4iIiIiIQSj8i4iIiIgYhMK/iIiIiIhBKPyLiIiIiBiEwr+IiIiIiEEo/IuIiIiIGITCv4iIiIiIQSj8i4iIiIgYhMK/iIiIiIhBKPyLiIiIiBiEwr+IiIiIiEEo/IuIiIiIGITCv4iIiIiIQSj8i4iIiIgYhMK/iIiIiIhBKPyLiIiIiBiEwr+IiIiIiEEo/IuIiIiIGITCv4iIiIiIQSj8i4iIiIgYhMK/iIiIiIhBKPyLiIiIiBiEwr+IiIiIiEEo/IuIiIiIGITCv4iIiIiIQSj8i4iIiIgYhMK/iIiIiIhBKPyLiIiIiBiEwr+IiIiIiEEo/IuIiIiIGITCv4iIiIiIQSj8i4iIiIgYhMK/iIiIiIhBKPyLiIiIiBiEwr+IiIiIiEEo/IuIiIiIGITCv4iIiIiIQSj8i4iIiIgYhMK/iIiIiIhBKPyLiIiIiBiEwr+IiIiIiEEo/IuIiIiIGITCv4iIiIiIQSj8i4iIiIgYhMK/iIiIiIhBKPyLiIiIiBiEwr+IiIiIiEEo/IuIiIiIGITCv4iIiIiIQSj8i4iIiIgYhMK/iIiIiIhBKPyLiIiIiBiEwr+IiIiIiEEo/IuIiIiIGITCv4iIiIiIQSj8i4iIiIgYhMK/iIiIiIhBKPyLiIiIiBiEwr+IiIiIiEEo/IuIiIiIGITCv4iIiIiIQSj8i4iIiIgYhMK/iIiIiIhBKPyLiIiIiBiEwr+IiIiIiEEo/IuIiIiIGITCv4iIiIiIQSj8i4iIiIgYhMK/iIiIiIhBKPyLiIiIiBiEwr+IiIiIiEEo/IuIiIiIGITCv4iIiIiIQSj8i4iIiIgYhMK/iIiIiIhBKPyLiIiIiBiEwr+IiIiIiEEo/IuIiIiIGITCv4iIiIiIQSj8i4iIiIgYhMK/iIiIiIhBKPyLiIiIiBiEwr+IiIiIiEEo/IuIiIiIGITCv4iIiIiIQSj8i4iIiIgYhMK/iIiIiIhBKPyLiIiIiBiEwr+IiIiIiEEo/IuIiIiIGITCv4iIiIiIQSj8i4iIiIgYhMK/iIiIiIhBKPyLiIiIiBiEwr+IiIiIiEEo/IuIiIiIGITCv4iIiIiIQSj8i4iIiIgYhMK/iIiIiIhBKPyLiIiIiBiEwr+IiIiIiEEo/IuIiIiIGITCv4iIiIiIQSj8i4iIiIgYhMK/iIiIiIhBKPyLiIiIiBiEwr+IiIiIiEEo/IuIiIiIGITCv4iIiIiIQSj8i4iIiIgYhMK/iIiIiIhBKPyLiIiIiBiEwr+IiIiIiEEo/IuIiIiIGITCv4iIiIiIQSj8i4iIiIgYhMK/iIiIiIhBKPyLiIiIiBiEwr+IiIiIiEEo/IuIiIiIGIRzQldARERERMQo6tevn6D7V/gXEREREXlJ1q5di6enZ7TbLF++HIChQ4fG+f512Y+IiIiIyEtkL/wD+Pr6xsu+Ff5FRERERF6itWvXRvlvj1b944vCv4iIiIjISxbd6n98rfqDwr+IiIiIyEsX2ep/fK/6g8K/iIiIiEiCiGz1Pz5X/UHhX0REREQkQURc/X8Zq/6g8C8iIiIikmAirv7H96o/6Dn/IiIiIiIJZu3atezdu/el7U8r/yIiIiIiCexlrPpDPK38X7hwIU63E4lPGociIomb5um4oX5MHOrXr+/Q38UXk4PblbfZbH8CBAYGxmN1RERERETEUY9uFB42bFgFYKu97eNl5d+RnyyWuKMPZCIiIvIyKOO9XPGR8eLthl8F0pdj+fLlNG/ePKGrISIiIgahjPdyxFfG0w2/IiIiIiIGofAvIiIiImIQCv8iIiIiIgah8C8iIiIiYhAK/yIiIiIiBqHwLyIiIiJiEAr/0bFeZml7X5ovOIM1vvYRsoWB5aoycntIfO1BREREJMmz3d7D3A/qUKaYF15lBrIlrqOV5TRfvu1DuyWX4i8XvgTx9pz/mLvHmm5l6bPpIZhMOJmTkzpjDjx9KlG/TQea+WVKTJUVERERkTgRIQNiwsnsSrocRanWti8DWnuTxuRIGVYurZnCrHMVmbF+GcXTJCelSzxX+xWVyFb+TaR+fSRrfv6ZtauWMmtEB8qZtzK5fTN6fX8GS0JXT0RERETiQXgGXPcza1cvZlzLDOz8tDvjttxx8PU2rly4hFN+P0plS0uaVK6Yn9vGQkiI0mQiC//glDoLufPmJZ9nEfyqNqXb5KXMfScNWyZ+xvobNgBsd4/w7dA21CxVnKK+lWjUfQZ/XA47mPc2fkyZ2pM4YAGwcXP1B3h7VWDIHw/DdnB/E33K1mTcntDHX9+0nfYjs3s0plqZkpSq1prR689H+UEjun2DheMrh/Nuk+qU9SmGd5latB2+kuP3I7z+9l4W9GxIeW9vStV6h/EbLhAaHx0pIiIi8gp5kgG9qdq2G43y3WT3zn+e5KSQ8wRM6UbjyiUoVsyPas374b/3FjbusaabL29/+S931/WgeMFClB64meDwnNfm82+Z8kF9Kvv50WrBv1iiLAfgISfXfEK7WmXwLlKckuVr0rTPd5yKEAxtd/5mWf9mVPYtTkk7uTExSnTh/3kp8W7dHJ+7fxKw+wHYrrNx+PuM2ZuLrvPW8Mvy0bx+9xs+/PBLAi3gWtwPr8t72HvRCgRzaNchXNNa2b/rHyxA6NHdHLB541fo0UVEoexb8SNOHeazaftfrOqdiU3DJ7D+pu35qtjZN9i4b8tM7Y+msuSn9fzwRXcKHBpPz5n7CAaw/cf6Ed2ZcbY0Q5et44fpLbEtncmvdyLZl4iIiIgRWe9zYduPbD5tJXlyV8Ku+rnL9gmdGbo9B52mrWT9L0v5pPpN5ncfyk/X3Ggwcw/LOuUiZb3pHDx2lB3jqpIMgFD2LfsB3lnIrzt34N8uPbuiLMeG9eJKPhnxFx7d5/PT/zayauFYOpeLeOm5hSP+czjo04cvVy5nYgMbPwyLIjcmUq9A+AenjHnIneYhly7cwHJ1A8s2mWk0aAhNfHLh4VmFLqPep/Cxb/l+fyhO7j74ehxn1747YPmHXQfS0bBVBW7u3cdVq5ULe/dy1cuP4q6PSydzva509E2PmWR41G5KJef97Dz6/Hq8zc6+wZniTbvStGIx8mXPRm7fhvT7sAa3Nv+P4xawXd3IioAUNB3Ulzpe2chW8A0+7tMAd+urM2BERERE4p6N26u64lO4MIWL+FK94zwOJS9DywYFMAO2GxtZtNqNNqP6Ut8nN9mye1Lp3cG08/iTNb/dJOokZSJ97S50KZsRF5MLrg82R1uO9fplrpk8KFGuMB6ZMpOzYGnqNK1MjgjXEKWo/iHDWpbFM48X1bt2prrTvkhzY2L16txDG35ULWdOcMpWkDeLuj3+J6csxfHOfJXjp4KwlchHSR9XVu36m4clT7D3ZjHeaVaS08v/ZN+9BoTs/gePEj64O0HYdzROZM2R9cl1YU6pSJPyLpfvPj+M7O87LTd3+/Pp5KVs+fscNx9YsNrAKX0zrlvDX2/yolmR5I9fn6yQN4WT/xzn3SUiIiLy6jCRqvoQ/Hv7Ybt+jJ9mfMG/jUbSPE9YQrOcOkLg3cME1CvMlKde50zR6texkjqKcs3kyJebR/f+2ivH1KAOTQsv55P6Dfi5SiXKla9GnTfK4OH2pLycBfLyOMk5pydD6ntciSQ3JlavRPi3Xj3JqSBXsmZ/7clXFU/d+R2xw10o5leUOwt3cXjPCf4pVBHvTN4czTqH3fv3EXzQDZ+W+Z66CcRkiuQ28uiOYVT7DgpgbI8vuNJqEt/MLEmOdG5Yd4zk9V4Pwh4JZQNMZpwjft9idsH5+TtSRERERAzFKW028hfwJBmeeOW4y7vNB/GV7yLeyWsGqxWbSxXGbp1D03SRPf4n6pV3szlC0LJbDnRYuJ6qOzaz+c+t/DarKzPnNWX2soGUSxFeT/PTF86YTESfGxOZV+Cyn7vsW7KC/SkrUKOkK+Zc+clrOsa+ww8eb2G9dJADlzOSN09qTJhI5V2SfGe2s3TDQbKX9CWtcy5KeFvZ/f0qdt8ril+x2D37yd6+rWcPceRuCZq9U5Hcr7lhNlm5dvwfrlsfvT4feWyn+OfMk9tCLGePc/LBKzRiREREROKZU7Y36VD9HPNmbuSmDcy5C5Hf6SB/bLv1QjnboXLMachTriEd+oxnwbcjqHDpJ9YdeHUu67En0YV/a9AlTp88yYnjf7Nny0pm9WnN+4tuU6Vvb15PZ8Lk/jrNa4ayeuxYfjhwhvPHf2P20DkcLvg2zbzDvsgwe5TAJ/1efv7VgneJnJhxoXDJIpz9ZT3/5iuJdyqHHhj7HHv7dsqcCw+XY/z552UswIPTa5jsv//xHeCmjDVpWvkaK6av5vRD4OEZ1s5cQaAldvURERERSZrcKNeiMRl+nceyfyyY3N+gU7N0BIz5mBkbDvHvhbMc37eZZRPHsuK448/asVeO5dAyJs77ie1Hz3D56jkOBvzJP1YPcmZLdJE51hLZZT82gjYOp8FGEyZzsvAf+arMR4s78JZfprBLdUzpeX3kHG6OH8P0TvW5FJKGfBVaMG18Jwo8+lbHuRB+Pm74b/ahZOGwJqb09sPTaROXfUrgEdvLbOztO0N9Bgzfx4BxDak4Li0ZsvnRsm19ds8K/2xpcqfuyKlcHDaCttWm4/paVvxaNqfm1m9erNtEREREkhhzwWa09F3ErPlbaDWuOmX6L2Bm+klM/7QD8y4H4+qeA6+yb/LBazG57iZV9OXcdiVo25cMnH+KK0E20uT2o8Ho8bTNY+aVep5nNBxdci5vs9n+BAgMDLS7saenp0PbyYtbvnw5zZs3T+hqiIiIiAEo4708jma85cuXAzBs2LAKwFZ72yed7zBERERERCRaCv8iIiIiIgah8C8iIiIiYhAK//esEdoAACAASURBVCIiIiIiBqHwLyIiIiJiEAr/IiIiIiIGofAvIiIiImIQCv8iIiIiIgYRb7/w++gHB0REREQk6VDGe7XFS/gPDAzUr86KiIiIJDHKeK8+XfYjIiIiImIQCv8iIiIiIgah8C8iIiIiYhAK/yIiIiIiBqHwLyIiIiJiEAr/IiIiIiIGofAvIiIiImIQCv8iIiIiIgah8C8iIiIiYhDx8gu/IvZ4enomdBVEREREErXAwMA4L1PhXxJMfAxoERERkaRg+fLlNG/ePM7L1WU/IiIiIiIGofAvIiIiImIQCv8iiYKVa6dOcsMSV9uJSNKXVOaDpNKOpELH4+VIuH5W+JenhWxhYLmqjNwektA1MZa7W5k+4ntO25sEHN3uVRa6h8/fas2sw0m5kSJxIKnMB0mlHUmFjsfLEV0/h58H44vCfxQsF39n1kfNqVHam6LF/ajwehM6DVzAzlu2hK5aNO6xpps3pQduJjihq+IQC0f8e9C2RX2qvbeMK4m5a+OVlYtrv+FyrZZ4J4uL7V5xtmBuXb1KUHBsB0Qcj6vQ3XzW7HVqlC9Nj5/vv2BhInHlxeYDy9/+9OrYgY4dO9CsVjOmxfrDto1bAeNo37IJtWoN4/cYrxsllXbYY+XSujG83/Ed2rVpQq03RvJnolxji+3x0Pk8Zuz0c/h5ML4o/EfGcpx5H3Zn0fnidJ26lNXfL2bq4LaUcrvBtfuxGdEWQkLi+iN0fJT5spnxajcN/5ntKWhzrF9Dd42j7fjdhMbRdolCyGGWr0vH2w09on9DOrrdq86lLCM2b6C/b9QPI4v++MZ8XEXLuSQffbeehZ299Hi0F5RQ78tXaj5w1AvOB+bC7ZiyYCELFsylVzk3rNFsG33/mUhbfSCLvx5Dg8w2YvyOSyrtsMuJLHUGM2fBIvwXD6dWBmus9xGv4znWxyOO592kzl4/h58H40uSzhCxZb2yjT8D01H/o340LVeE/AWK4Fe1MR8M+5g6WcK7LOQ8AVO60bhyCYoV86Na8374770V9ma2nObLt31o8/m3TPmgPpX9SlC5SkWKN5zG0Yh5/f4WBlUsR5+Nd2JRph+tFvxLtPE//DVtp/3I7B6NqVamJKWqtWb0+vOPX2e7vZcFPRtS3tubUrXeYfyGC09PKNHUyXphFV0rVKDrygvhE66FU/7tKFWtH5v+05vfMTZuBXzNfr82VEkdF9uJSNKXVOaDpNKOpELH4+VI+H7WQlYknFJlxD35LQ5vO8RNP1/SmZ/d4i7bJ3Rm6KEqDJzWlxIZgzmxdhJDug8l/Q9Tqf8aQCj7lv2A39SF/Do7HcEnvuKDt1axPrAbhbzCCry//Rd+s1Xik/KpYlVm6AN4rmrPCWXfih+pOH0+m6al4uKP/WkzfAIlykyhbtrrrB/RnRln6zBm2Rd4Ox1k8Sej+PWOmTcdaWe2NxnWP4Bm4z9hZZmZNLrvz9Dp56j56VRqZDABVs77t6X2nLzM3jyKii7RVNN6lxPrPmfkl+s4HuxGWo9q9BrdgwruTz6fhu6cyftj13P0xg46HE4V/rcuFGozgUFvuGNyeLt7/DGpC9M2/EOqVp/R5MoC5m86gzVdOtKk96LBh714q0iax+Vhu8GeryYwZfURgmxOmN2yUKyIif33m/HN6Gokj6zXb9/kQcp0pLJ3gCz/sur7+9QfXSj6YxnldiFsn9KZqTuCuPhvXgZtGoT7yinMWHWQq0F3cS3dg8kj6pPDDJZzm/ly7jI2H76GxdmMNcRM7ob9GNbehzQmIHQPs1r3ZN75tBT2a8HwyW3wDN+Z9dwqhgz056+jN8j74RzmtivowNgLF3yBP+ZPZvbG49x6YCFF/rp8UOMK4z/fR6YybRk9thm5zYDlMAt6jGPTDQtB529RccqPka7+OzoOwioe3biycOb7IQz6ahtnvYazaVxVXLDw9+JejFl5iMu+Y1k3ohwRh63twSnWTZzKvF/PEurmRurcNXi/b2cqZ0sW8/IcHlc2bh/6jqnTv2P/DTDbLJjcS9C8Zw8aFUoV3l7HxwFYub5nCVOmr2LPNSvJU6QkY9E61HTZyL7S8xhdPfw7aNttDq+cwfTl27kQYsIp1IZrniq079mFOvncACsX1wyn38I/OJGrGzMrHmPWsh1cDTWRPGd9BozqhG+aJ0fD8eNmr73xtV9HxVH/hWxnaqfRrLz4Gt6573HmPzOZy3egbdYtfPH9Me6lKESHcaNokCOSd1qk80HM+sVRseq/0H180aE3c/Y8IEvRAlTtMoN+VdM8v21SaUd0bEEc+2Eak5fu4mqoGTf3ItTpXPW5VX+783MM2+FoeU9XIprzkaPzODh0PrcvZudph9vrcDscmXeJVT6Itp+fOQ+26do+Bn3mOIX/yKSuQY/BtekxujWVlnrgVdwbn9KVqftmbXwyuWC7sZFFq91o801f6ucPO3TZ3h1Mu4AmrPntJvXeBDCRvnYXupTNiAvgkrc2bxSbzrL1x+juVRgz99j2y2/YKo2mbEpiV6abI41xInO9rnT0TY8Z8KjdlEoThrDzaCh18m5kRUAKmn7ZlzpeyYFsfNxnH/9r8xPgQJ2avEaW+kMZGNCUUUM+5fC9lVysNYkZ1V4Lf2OYSJ7JE99i2Ulr5z0fum8xM/P2YcDcNRRxd+G/DYPoOn0rJUZW5FEznUt1Y87g23TYVIuFA0pGOXjtb5eCin0WUST3+9T5/DOyfDSCxX28SONk497JH/mkb0/ufTqPd/KHvfL+758xYrsP05aOI7crEHqVPye9zx8ubpF+dXbvj5E07LKMq7nf56tVvSgezbvswe6lBORsxZxM0Z9Oot7OhTK9FrPUcpxZrYazZugA3Iq/y/hln5DRdoY9+53IFD67mJxTkaf2AFoNz01qMxD8L0u69WW+3zf0LmoG5xJ0md6d/QMfMuyzNmR3snD8m/Hs8BlAa6/GjJnhTN+hDxnQNgbB33aDgJFdWJihP5+tKE9mZwvX98yj30drca43n0V9fZ4cH3MROs78mo6Esn1MB36LokhHxwHYG1dmcjYdx+JCU2i79HElKNx+Ov6+n/HO6mdLC2HXtJGYPxjGop+LkMbJwrWdc+nftT+3v5hM/SwxK8/RcRV8ZB4fjjpPi08XMTS3G2Dj7vGVDB/wEQ8mz6ZlbjMxGQf3906ly+hrtP50MSMKpMYJuH/yO/p3Ok/mmo/2HMzfc7oy5Hh9Rs/tT5F0ZiCEa7u+YuhHPbk5NWy/WRuMYlGhWbzVci5z8w1g8OJB5E5h4dx3Pfl4zj6+7uv7+MOOo8fNkfbGx34dFXf9V4ae8wdzs9FccvTxZ5rnfVZ3rcsnV0ey6NuxpP1zOJ2X7KNOJHWOfD5wilG/OCo2/ffg3AWuJPOk7eyR9KycJcr5Iqm0I2ohHJvfg2GnGjN64SAKpDQRfD6ASf3H8NOV8pSLsKXd+TmG7XC0vKfaG9V5JibzOI6dz+2L2XnaofbGoB2OzbsxzwfR9jM8dx487XB/xYwu+4mUC3kajeeH3zbxzcQPaeCdmnNrRtO6QUfmH3mI5dQRAu8eZkq9whQsWDDsj1ctJux7wLWr18MvgTGTI1/uJxOUUxZq1vHmwqYNYZf+3N3GL7+bqFKnLCkgdmU6xImsObI+mbScUpEm5V2C7tqwnDnBKZMXvkWefDZNVsibwsnDBqRDdXLKRN3B/Sh99CuWX6vD8H5VSPd4PJtwrz0c/y86U8zOrOns24XJA9+kqHtyTDjhXrkGeU4e4kK83tbgRKZGAxnR1Is0TmH1TZH3TYZ0y8Iq/208DN8q9NYtTNnzktn1UWUzUv7dvrxbJnOkbyDntNnwcE9P5pyZSRVdprdd45clJ6nSulT0E6Kj21kekPWtTxnfrhQZnQGXnJTw83i88uCUxY9a5cMnRoBkOahaKSWnTz14XITJvTzlrNvYdsMGoYf54esV+P+wnxDg/q5t3PcrR/oYLHtZL6zB/3R9PulZnszOAGbSl3iP4R0K4/QSrgyL63HlVrUXo1oUCR8vZtxLvc/oFndYuOxI9JfgRcKxcXWXLYs24tV3EHVyPzr6JlIWaMLAlk58u/ro8/uNbhzYbrBh/m+UGDKMhuHBFcAtb2M+6t+SkhnDD25QAAt+8aTf6BbhwRXABXe/DozvkoblX+186qECyav2YUr36uROYQKcyV6zOu5HDnI1uguwIxWz9sbdfh0UD/3nlL4wJfOnAFM68ubPS9n6NchmNuGaMyfO164+f3wdmA9eer88FszZDeN4f9hOyoyYzkfRBeak0o7o3PudRb/k56OhDSmQMmxsJMtenf7DmpD5mQcaODI/x0SMy4vmeMR0Hnd43g3dx9S3q1GlShWqVKnOu1+djmQedew87Uh7HW+H4/NQTPOBw+fzeKaV/2g4pchG0crZKFq5AW3fe4vpzd9inv9ftGhqxeZShbFb59A0XSRJyHIaALM54nThRKbqtfGZ+BUbj3Yn96V1/O5UhU9Lhx9+a2zKdIzJFEl5tvA/JjPOEUeo2QXnx1/d2alTeEF3Tuwn8K4JU+h5zt2wQtpYTJMmE09V05ycZITE81OLnMhdIC/P3mifIr8naZadJ8gGyU2QukZnGqzuT9PW+fAulIvM6dPhntObKjXzRHpCSFbsXRb97127e7ccX8EPLk35PHf0/eXodiTLj5/va1F+JR189le++GwRv597gMnJGZfkbjhfP0GKThGmW6dsVCgVxJwdd2iQZT1HynTAd8869jwsguWv/yjeIkuMVgysly9wK2dpsj9VdSey5MtLyisxKCi24nRcOZO/mBeuT/2dE5mKFMKy7V+CKRKjydyhcWW5wqlT5wiY0IEDz83WTmSpEcmZN7pxYL3AqQs5KFzw2S+jzeSu3Yncj3d7mnPZilLY9ZnNMJG6cGFSf3+a27ayuIfvxGTiqf2ZkruSzBoU4w9EMW1vnO3XUXHdf8/+a4TBajKZiOyOUEfmg5feL+Fst7fw3e8NyWO9wqWgUHhudn0iqbQjOpYrJznr7kmBZ4aLOY83xdJdfurvHJqfYyCm5UV3PGI8jzs67zr70HPF/+gZbUscO0870l6H2xGDeSim+cDh83k8U/h3lEtWsrmbuB90B3IXIr/TWv7YdosmtdM5fP2fU6Ya1PadyOL1uyh44Q9cqk2kVHhaMMeyzBdhzpWPPLad/HPGQq0CYQPRcvY4Jx/Y8HawTrbbW/ls2CpSvz+XT08P4ZPhSym/oC3xNa5NLskwWew/48Cx7UI5uucA9xpVJMXjv7Nx59gR7ud+m7SPGuxamPZz1/D2+b85GHie67dvcvnQPLot288E/3cpFElb7V/zf4ffv9pO0badifJzVYy2syP0ILP6LyPV4JksK5ImfFKycmnJe4x5akMzeSv4cOG7bWxPGUixxp9Thk78sn0fKc8VonaeyBsUVXvNOT3Jemwb++9Vp9TjTn7I0R37uG1rHOvmODoOHOKSDFNICBZ4/K2azWKJJGCE8s+hozxoWjZCyLdy7Ugg5py1npycHC3PkXFlzoBH9sxUbbWQQaUivXo0ZpyykivrWf4ODKaB7/OBxmYLC1zmjLnIdnEPRx9CmacCrI07R48QlL0xqWMxHu0et7hur6P7fUaU798E7r84mw9iyOF5N83r9Bo1iIrXAxjTrx/+gybSrmBkH4mTSjuiZ87gQaZLuzj+zDiwXj3JqaAIX184PD872I4YlmfveMTXPO4YB87TDrbX4XbEZB6KUT5ImHEfGV32Ewnb1ZUMaNefGd/9yraDxzlxbA/r5wxi1jZXSlcpgZv7G3Rqlo6AMR8zY8Mh/r1wluP7NrNs4lhWHI/mU7rJnep1SnBpzWhmbElO1dp+j1cRTbEt8wWYMtakaeVrrJi+mtMPgYdnWDtzBYEWk2N1st3mz89Gsua1dxn1bkXqDRxK9TPTGPr1yfAnBtm49stI2n3wJQfjqAmmTFlx+Xs3Jx8tIQT/x7HNy1i58+ZTi2SObndvyzSGLTkQ/gt7Vm4f/oZh8+7Tst2ja0ptXF3+AW+N/pP7WYtToWYdGjRpyTvvvkWRoOOci2QJ+d4fI6ldoRwVGk3hQBTzs/XCGpZfq03LYtGvKDm6nV0h/3HlTmqyZkwZNjFa73Aq4AvGfXOEZx81bfaqSOGjs/k80Js3CqeiZD1fDs+awuFc5SkYSfa/98dI3oiivSb3unStdYQx/Rbwx+kb3L19jp1LhzDqpxs4v8Dk5+jxdYQ5e0FyntjCXzdtgIXbR75l4OBvOPf89Rbc3jCJ4d8dJcgGYOXW/kUMW5qMti2KPF7lcaw8R8dVGqq1q8KByZP49fzDx6+23r/K0f99zcRZAVyLSYNN6andqSJ7xo7ll3/vh/eVhTtn/+LrYe3pPPtg2Opcmup0ev0IE0Z8z7Hbj0KKhev7v2LQrOs0a18m8hvZ7O3e7nGL4/Y6vN8nohvPCd1/cTYfxFBM+s8EmDNXZ/CERvwzbig/Pv9GSjLtsCt1VTrUPMLkMWs5Gf4TIaFXtjF7xFcERlwaj8H87FA7YlieveMRX/O4o+yepx1sr+PtcHQeilk+SKhxHxmt/EfClLoYlUvs4LuvRrH41BXu2tzIkMubav3n0rtpNpyAMv0XMDP9JKZ/2oF5l4Nxdc+BV9k3+eC16N4JJjJUrY3fmMH8nrYlQ0tGXBJKFcsyX6Sh7tQdOZWLw0bQttp0XF/Lil/L5tTc+o0DdYJbf0xi5NrXeG9JJwolA9JXp//QmjTtP4yvKiyiQ34nHl4JZO/BUG5ZieTRRDZuBUyk97wA/j5po0fnq/Sa1QO/w7Pp+vk6jhy9w98dz/L28HE0zxv2YqesjenfeDRj27zFPadkuDi74eFXmybNkj/1zYRj25kp8t5QGtyaT9fGJ7jvnIwUHpXoNGkiNTyeVNbk4kYa62G+HPAN/1y6wb1QcHmtELWG9aN6JItBj675d4rymv9gDn7zC+7NZ5It2o/fDmxnvcCakYNZcTKIC4EXcevUFn+AZKXoNqsHZR8lDLcq9Bn6D2P7tOYbmwsmc2ryV29Hx2bb6TbvAzocaM24ofXI4gQkK06FfFfYk/MNPM1g9q5L6ds/cb1CsUjvN3FOm40c7ukxR9peV4p+MI+pvy5iwWe9mXXDlTzlmjFmcCpG7jU99YSXoC2T6PnlAUKAoDNHubW7AwdSAsnK8OGc7pSOMFtFf3xjOK5SVuXDLjsY3LERUx7ex5alCm3facCR2ePp9HFzhn5an3Of9eKLTWco3Xs2FY5Npn3Dq5DMGdfMfrScOIEGEQ+QvfImtKKA2fFx5ebbg5l9lzJ1eDvm3DHjbLJhcs1AXt9qNGhWPuzSG0fHAeBWohezBixhyujOLA4K4cGde5g9SlG/1ShmVM4Z/g1Gcop0mcXI76bzeeemXLE4YbJacclentYTp1M/j5mwH6n5hIGLfifwohudOgXy4ZxueP05iZ7zNnP0WAh9Ol+ly5Q+VA1/3IYj70v77Y2f/To2nuOw/0J3MOP98Ww6eou9XVMzdGZnnG1BbJnUm4Xpp9I+FYTumElf/1x83s4Ls935ICb9wlPvt9unj3L70DvsTgEm13L0nN2Vkg6/38ByZiVDhy5h+7mCeD96R585yumLv/Fjm7f4Nl/1CO/hpNIOR7hSrOt0Bnw9mTHvLOLG/fsEpyhIw+79aTx+FBM7fsDfH83gPd8YzM8OtCNG871D5yNH5vGYn88d48B52uH2Ono+cnDeJSb5wJF+fv482DJ//Rj0leMcTZXlbTbbnwCBgYHxUhExFk9PzwQeSzZufNeVAaGj+KJFbB739wJ7vrmOfr1P0fnLrpGupMd0u1ePjZuretDrRl8WdMyprx9FHJBU5oOk0o6kIvbH42XM4y/jPP1yzkex7efly5fTvHlzh7YDGDZsWAVgq73ttfIv8lLZuLltG8kaf/j4Gfovtt2rxIbl/i3O/72BmUvvU3NidgV/EYcklfngFW+H9TJrhvZg0VFH7h9xoXSvhfSvlJDPdLEnNscjqczjL7MdiW/ca+VfEkTCrvyH/XjIrD1PrgY052/JxBENHn+tKnHLemktI/su46RzKjLm8aFWi9a84Zn6pX7jIiIisfdy5/H4O0+/Suej+Fr5V/iXBJHwl/2IiIiIJF7xFf61zikiIiIiYhAK/yIiIiIiBqEbfiXBPPqaSkREREReDoV/SRCBgYEOXccmIiIiInFHl/2IiIiIiBiEVv4lQXh6eiZ0FUREREQStfh4MqLCvyQYPepTREREJHKOPuozpnTZj4iIiIiIQSj8i4iIiIgYhMK/JFJWrp06yQ1LQtfjRSWVdsQ19YuIiEhCMFb4t15maXtfmi84gzW+9hGyhYHlqjJye0jsy3gZ9Uzs7m5l+ojvOf2qh8NXuR2he/j8rdbMOhwPlX+V+0VEROQVFo83/N5jTbey9Nn0EEwmnMzJSZ0xB54+lajfpgPN/DIZ8G5jB/vE5EbeSg2oUiAlpviohvUC/u3qsb7WWr5qlz0RfgK0cnHtN1yuNRDvZAAWjvj3ZuzPJzmXpg3L57QgU7x0TFx7th2vGFswt65exS3YFscFv1i/WP725+NJ/+M2cPtcEJU/X06PIuZY1MPGrYDx9Ji3k4v/FWXoT59QySUWxUTJyqV14xj+7XHuB9/m0lVvhq8dToU43YeIiEjMxHPuM5H69ZGs+fln1q5ayqwRHShn3srk9s3o9f0ZjLno50CfmNJQtvMndK2UIYrwbyEkJKF7Lx7rEHKY5evS8XZDj/ABasar3TT8Z7anoC2ug2g8eq4dCS901zjajt9NqCMbu5RlxOYN9PeN44/pL9gv5sLtmLJgIQsWzKVXObdovx2Lvr0m0lYfyOKvx9Ags424H1lOZKkzmDkLFuG/eDi1MlhjvY8YHTcREZFoxHsmcUqdhdx585LPswh+VZvSbfJS5r6Thi0TP2P9jbBToe3uEb4d2oaapYpT1LcSjbrP4I/LYcHy3saPKVN7EgcsADZurv4Ab68KDPnjYdgO7m+iT9majNsTCpbTfPm2D22n/cjsHo2pVqYkpaq1ZvT681F+0Ihu32Dh+MrhvNukOmV9iuFdphZth6/k+P0Ir7+9lwU9G1Le25tStd5h/IYLdk/Qdvvk2ct+wtvV5vNvmfJBfSr7+dFqwb9YQs4TMKUbjSuXoFgxP6o174f/3ltPAkbIeQKm9qBJVT+KFy9BhXodmBBwnk39GzB25z12jamOV8GCFK42mh2hdvriuTqUoGr1KnjXn8JTV4XcDWBAhQr0D7hrf3BEfkS4FfA1+/3aUCV1LItIFJJKO+Ka+kVERCQhJcCVNynxbt0cH/9pBOx+QN0a99k4/H3GHK3EsHljKJ3iND+MG8SHH7qw/Jv3yV/cD6/La9h70UpxjxAO7TqEa1or+3f9g6ViEWxHd3PA5k3fQo+aEsq+FT9Scfp8Nk1LxcUf+9Nm+ARKlJlC3TTPVMV2Pdp9e5pt3LdlpvZHUxmQJwPmK7vwHz2anjPzsrqPD8ls/7F+RHdmnK3DmGVf4O10kMWfjOLXO2befJE+qR7ZNqHsW/YDflMX8uvsdIQ+uMuuCS0ZeqgKA6f1pUTGYE6sncSQ7kNJ/8NU6me4w9bxHei9uQAfjvyaN/Il5+aJ3fxtNlP90zUMuvjMZT+262yIri8iqUPI2e/p3XQhPx3oRhFfF8DG7d/XsNmlJpPLpQSsnPdvS+05eZm9eRQVHbncwfIvq76/T/3RhYj0Qg7rXU6s+5yRX67jeLAbaT2q0Wt0Dyq4R/gca7vN4ZUzmL58OxdCTDiF2nDNU4X2PbtQJ58bhGxnaqfRrLz4Gt6573HmPzOZy3egbdYtfPH9Me6lKESHcaNokONRDWzcPvQdU6d/x/4bYLZZMLmXoHnPHjQqlCryb2cia0cM92s5t5kv5y5j8+FrWJzNWEPM5G7Yj2HtfUjzeKchbJ/Smak7grj4b14GbRqE+8opzFh1kKtBd3Et3YPJI+qTwwyhO2fy/tj1HL2xgw6HU4W/3oVCbSYw6A33J+2wHGZBj3FsumEh6PwtKk758ZnVfysX1wyn38I/OJGrGzMrHmPWsh1cDTWRPGd9BozqhG+aKK7LivT4vkB50XC4vU+9aB9fdOjNnD0PyFK0AFW7zKBf1TQxu/zOFsSxH6YxeekuroaacXMvQp3OVZ9b9Xfs+DreDkfLExERY0uQy+6dMuYhd5qHnLpwA8vV31i2yUyjWUNo4uMG5KLLqPfZWs+f7/d3YqC3D74en7Fr3x3aZz3LrgPpaNiqEL/s3sdVqxfBe/dy1etNirtC2NnVicz1utLRNz1mwKN2UypNGMLOo6HULf10PWxXN0S/7xLOFG/aleKPXpC9If0+/Isak/7H8d4+FP5vIysCUtD0y77U8UoOZOPjPvv4X5ufXqhPrJHGXhPpa3ehS9mMuADODzazaLUbbb7pS/38Ydtne3cw7QKasOa3m9StEsDiVQ+o9/kEOldJCUAOjzwUA7BeeK50u33h/XwdXHLUoVH5KUxcu4eevmVIbrvJ5jV/kLrWbEq5hW2fPJMnvsWyk9bB75ge7F5KQM5WzIniov7QfYuZmbcPA+auoYi7C/9tGETX6VspMbIibgAE8/ecrgw5Xp/Rc/tTJJ0ZCOHarq8Y+lFPbk6dTcvcZeg5fzA3G80lRx9/pnneZ3XXunxydSSLvh1L2j+H03nJPuoMKIkzEHxkHh+OOk+LTxcxNLcbYOPu8ZUMH/ARDybPpmXu549XpO1widl+Tc6pyFN7AK2G5ya1GQj+lyXd+jLf7xt6F320TxfK9FrMUstxZrUazpqhA3Ar/i7jl31CRtsZ9ux3IlP4ps6lujFn8G06bKrFwvB9RMpchI4zv6YjoWwf04HfntvAiawNRrGo0CzeajmXufkGMHjxIHKnsHDuCfeZTQAADL1JREFUu558PGcfX/f1JbLPepEf39iXFx2H2xuxfucucCWZJ21nj6Rn5SyRfwCNVgjH5vdg2KnGjF44iAIpTQSfD2BS/zH8dKU85SJs6djxdbwdjpYnIiLGlnCXIocvg1nOnOCUrSC+Rd0e/5NTluJ4Z77KyVNB2Mz5KOnjysFdf/Pwyj723ixG+WZlKfTPLvbdu8P+3f/gUcKHJwu/TmTNkfXJSdspFWlS3iXo7vNX29rdN1Zu7F7EgFa1KOdTGK9CBfF+fyXX/7vGdWv4601e+BZJ/vj1yQp5Uzh5LJfZor0g2EyOfLkfByDLqSME3j3MlHqFKViwYNgfr1pM2PeAa1evE3L6GMcthSntm9KhXdvvi+frgCktVRpVI3jTWnbeB9u1Tfy4PSN1GvgQdh+nCffaw/H/ojPFHMketmv8suQkVVqXwi2KTZx9uzB54JsUdU+OCSfcK9cgz8lDXHh06VFQAAt+8aTf6BbhwR/ABXe/DozvkoblX+0k+FH70hemZP4UYEpH3vx5KVu/BtnMJlxz5sT52tXwS8XusmXRRrz6DqJO7ke1MpGyQBMGtnTi29VHn7+kzE47HNsvOGXxo1b58CAHkCwHVSul5PSpB5F3juUBWd/6lPHtSpHRGXDJSQk/D5JHvnWcSF61D1O6Vyd3ChPgTPaa1XE/cpCrkV2I78DxjVF5cSqYsxvG8f6wnZQZMZ2PYhX8gXu/s+iX/Hw0tCEFUobNA8myV6f/sCZkfubG6RgfXzviujwREUmaEmTl33r1JKeCXMma/bUnnz6eyssRT5IuFPMryp2Fuzi85wT/FKqIdyZvjmadw+79+wg+6IZPy3xPnahNpkjCd3TBOqp9BwUwtscXXGk1iW9mliRHOjesO0byeq8HYdfi2wCTGeeIH6HMLjjHIjU83Se3I93GbI5QsNWKzaUKY7fOoWm659sbuiuWtxZGeRwiqQOQovybvG7+mDV/9SPvhR/Z7VGPfoVjN6wsx1fwg0tTPo9kJf1J/Uw8dXjNyUlGyONAb7lymnPZilLY9bkXkrpwYVJ/f5rbtrK4P1es6en/ftR0yxVOnTpHwIQOHHiuWU5kqRHJh0pH2mFvv0Dw2V/54rNF/H7uASYnZ1ySu+F8/QQpOkVxB0uy/Pj5vhY/T4iKgsn09JAxJXclmTUo0ntsHOmXmJQXl2y3t/Dd7w3JY73CpaBQIHaPZ7JcOclZd08KPPOJy5zHm2LpLj/1dzE+vnbEdXkiIpI0JUD4v8u+JSvYn7ICbUq6Yg7JT17TJvYdfsCbZcMSm/X/7d17XBVlHsfx73AAIQXvmkmZWaBrvjChbNXS3GO6BRpFsa5KGW5eStOwMF1UIsRCXuYiGC9rcy3z0uZWut0sVyt8aWkW3hCMDExUzMRjmlzO2T/EQlM5B6EjzOf995yZ3/PMvOA7zzzPzIFtyj7YWl07+smQoSbBIepUsF6vf1ik9iHj1dTzavUItuu5N/+j0hM36m/davbuPEuHix/bXrhdu37qodEP9dG1jSXJrkN5e3TEHlD5+07q6PhCewoqdOcNlfO0C/OU/7NDwZfQJ7pA+D+r9ms763qP1fpsY4nuHdTsN4HP0rGzbrB8oM+3/qR7+p47+u8hi4dDFRW/hoLq+sJQyfkLaRSiIX/209i3lujKg9sVGJaoTjUaMj2uT1/dpBtHjNJ57mWcZmndQVcVfamcU1LPs24AHDqes0u29hHyc2X/lpYKaN9W/f76iqbe7MwYeu20Q+XblBG3TE2mpWtZV//Km1u7Dix5REmXsFvDy1tGhTveGVNL/eIiZ9tr+A/QxMSp6nNkrZKeekqLp6YoOuhCzycuzNIyQG0ObFbeOdff6Zv7Ko8vXDy/1bajjq4XAEDDU+fTfuy2A9qbn69v8nbqy/UrlTF5mEYvOqa+T07SgGaGjFYDFGUt11uzZunt7AJ9n/eJFsRnakfQA4oMPn1vYgnooe4tturdjysU3OMaWeSlP4R0VeH7H+i7TiEKblKzNFHdsT3adlCA125lZR1UhaSf965S6uKvfxmFNFpbdd/th7Ui7S3tPSXpVIFWp69QbsXF66muT5yrfaBiIptpbVKs5n+4Xd/tL1TeV+u0LGWWVuRVyGhxp6KH+Oi/z8Tp5U92a9/+vdrx2Uq98dkB2T2a6sq2jVS4dZPyi3/U0WMnZXfiPJyfl7oNDlOb9fP1cs6NCr/rmipPYRw6/H6Cose8pG3VDD7a96/S8sODNLTbJb4Q37+/Ygbs0vMz39TuY2fCVoWOfP2qpmYcUeSDPV2cBuOvO6L7Kjt1jj7+/tSv9Z4sVs7/XlNKxlodrjJaX2vtKPtBh477qV3rxqf7035c3659UclLd+kSPh8no007ee3covwzj0pKf9Dudcu08oujdfCqy1/VWr+4yJX2GpIsbftr2vP3aE9yvN7ZV4MRc79+GmndpdSk1cqvfCtY+aGNWjDzVeVWfWTl4vmtth11dL0AABqeOh75d8i2ZobC1xgyLN6VH7S6XU/8a6TuD21z+p+U0UIDEjJ1dHaS0mLCdKDMX516/0X/mB2jG86kSM/OCu3uq8XruiukckpJ4+BQBXp8pIPdeyigpmvZqjt2yzBNmfGVpiQPVp/kpmp5VaiGjgjTlozK2GC00l0J81Q0faZG3JEmn+btFDo0StYNSy+tT5zSRD3j/qn0FnOU9txILTxYKp9WV6vLrUM0prkhGX7q/fTLSvVLVtq0oXqhxFDTa4I1JPY2Sb7qPfIxhcTN1X1941XWdrgWrfn7xfviIjnIcn2YwoNe1Hz/wRrYrur9pEOnDuVq67ZyldilCzeuVNuWvq9WUem66ry3ow6VrE3RpIVrtTPfoQmjijUxY4JCdyzQuLnvaVfOce18uFAPzEhW1HWN1HVshhL+naa5o+7ToQoPGXa7vNr30rCUNIV1tEjln2v+6Nn6KKdEW8f5KT59lDwdNq2fM0mvtJinB5tI5Z+n68nFHTQ3uot8b5qg9Cdf17wZ0co8bpGn4ZDh01LX3XSHwiN7qZXhZDtcOm5fTY7fo1mTh2mpw0uGxU/X94/Ww5Gb9OjCMRqZPUzJ8XfrSu3XqoRpWpFv0/7cIvnGjNBiSfK+WY9mTNCt59zpeLSLUFzEs5o1/H6d8PCWl6evAkIH6d7IRpVPjxyyrZ+jx1/KVpkkW0GOSraMVHZjSd49NT7zMd3iaVfR6mf09KJPlVvkq5iYXI3PfFRdsubo8YXrlLO7TJNHFWvsC5PVz99w4vy6sj+dVd+xvTk6tv0hbblCMnz+qMcXjFNIlb9q1bW3omCl4uOXaNO+oF+e1jkKcrS36BO9M/x+vdGpf2WbL3TtnstH3calacprqUp6aJF+PHlSpVcEafBjcYqYnaiUh8do5xPz9chNTp5fDyfPm69r+wMAmJezQ+a9HA5HliTl5ubWYTmol0o3a9bd47R/wgdKC3duznlgYOAv15Lj6Ht6atK3GvXSOAXV45eSNJR21Db6BQAA1y1fvlxRUVFObSdJ06dP7y1pQ3Xbu2XBLxqKcp04eljfvJ2p1aV3avafarLY1KGjGzfKO2K8Aut1MGwo7aht9bxf7Ae1Kn6CFuU4s07CS7dMfEVxt7m+VgAAgN8L4R81V5alxIFj9a5nF0XMfFZ9rqjJTgw1H5TQABYlNpR21LZ63i8ebRWetFzh7q4DAIBaQvhHzXn1VfKmnUp2dx0AAABwCsu/AAAAAJMg/AMAAAAmwbQfuM2Z1ekAAAD4fRD+4Ra5ublOvb4KAAAAtYdpPwAAAIBJEP4BAAAAkyD8AwAAACZB+AcAAABMgvAPAAAAmAThHwAAADAJwj8AAABgEoR/AAAAwCRc/sgXX2UFAAAA6ieXRv4TExPrqg4AAAAAdcxwcrtemzdvzqrTSgAAAADUSGhoaG9JG6rbjjn/AAAAgEkQ/gEAAACTcHnBLwAAQF3x8/NzdwlAvWGz2Vz+DeEfAABcVlJTU91dAnDZi42NrdHvCP8AAOCyY7Va3V0CcNmyWq0qLi6u0W+Z8w8AAACYBOEfAAAAMAnCPwAAAGAShH8AAADAJAj/AAAAgEkQ/gEAAACTIPwDAAAAJkH4BwAAAEyC8A8AAACYBOEfAAAAMAnCPwAAAGAShH8AAADAJAj/AAAAgEkQ/gEAAACTIPwDAAAAJuHp7gIAAADOZbVa3V0C0CAR/gEAwGUlNjZWxcXF7i4DaJAI/wAA4LJhs9ncXQLQoDHnHwAAADAJwj8AAABgEoR/AAAAwCQMJ7frVadVAAAAALhUG9xdAAAAAAAAAAAAAAAAAAAAAAAAAAAAAAAAAAAAAAAAAAAAAAAAAAAAAFDv/B+lG1PI9IQj1AAAAABJRU5ErkJggg==\" />\n",
    "</p>"
   ]
  },
  {
   "cell_type": "code",
   "execution_count": null,
   "metadata": {
    "id": "MODVfbMnf4yN"
   },
   "outputs": [],
   "source": [
    "from pprint import pprint\n",
    "\n",
    "from nltk.corpus import stopwords\n",
    "\n",
    "stop_words = frozenset(stopwords.words(\"spanish\"))\n",
    "\n",
    "pprint(sorted(stop_words))"
   ]
  },
  {
   "cell_type": "code",
   "execution_count": null,
   "metadata": {
    "id": "fX_cExUMf4yS"
   },
   "outputs": [],
   "source": [
    "from nltk.stem import SnowballStemmer  # Vamos a usar el lematizador de SnowballStemmer\n",
    "\n",
    "spanish_stemmer = SnowballStemmer(\"spanish\", ignore_stopwords=False)\n",
    "\n",
    "palabras = [\"casa\", \"casona\", \"caserío\", \"perritos\", \"perras\", \"corran\", \"corrida\", \"correr\", \"correremos\"]\n",
    "palabras_lematizadas = [spanish_stemmer.stem(w) for w in palabras]\n",
    "\n",
    "for palabra, palabra_lematizada in zip(palabras, palabras_lematizadas):\n",
    "    print(\"{0:>15} -> {1}\".format(palabra, palabra_lematizada))"
   ]
  },
  {
   "cell_type": "markdown",
   "metadata": {
    "id": "XnbB78Baf4yY"
   },
   "source": [
    "El _stemmer_ recorta las palabras, es una forma de lematización básica, que no tiene en cuenta el contexto. Aún con estas limitaciones es de gran utilidad para generar índices."
   ]
  },
  {
   "cell_type": "code",
   "execution_count": null,
   "metadata": {
    "id": "fhJgB-eLf4yY"
   },
   "outputs": [],
   "source": [
    "from nltk.stem import SnowballStemmer  # Vamos a usar el lematizador de SnowballStemmer\n",
    "\n",
    "spanish_stemmer = SnowballStemmer(\"spanish\", ignore_stopwords=False)\n",
    "\n",
    "palabras = [\"pasto\", \"pasta\", \"cobra\", \"cobrar\", \"monto\", \"montar\"]\n",
    "palabras_lematizadas = [spanish_stemmer.stem(w) for w in palabras]\n",
    "\n",
    "for palabra, palabra_lematizada in zip(palabras, palabras_lematizadas):\n",
    "    print(\"{0:>15} -> {1}\".format(palabra, palabra_lematizada))"
   ]
  },
  {
   "cell_type": "markdown",
   "metadata": {
    "id": "bX4xHtl6f4yc"
   },
   "source": [
    "### Algoritmo para construir un índice invertido por ordenamiento\n",
    "\n",
    "#### 1. La entrada para el algoritmo de indexación es una lista de tokens normalizados para cada documento\n",
    "\n",
    "Se puede pensar más abstractamente como una lista de pares `(token, nro_de_documento)`.\n",
    "\n",
    "```python\n",
    "doc_to_docID = {\"Richard Feynman\": 0, \"Carl Sagan\": 1}\n",
    "tokens = [(\"religion\", 0), (\"cultura\", 0), (\"fe\", 0), (\"ciencia\", 0), (\"cultura\", 0), (\"duda\", 0), (\"ciencia\", 1), (\"forma\", 1), (\"pensar\", 1), (\"cuerpo\", 1), (\"conocimientos\", 1)]\n",
    "```\n",
    "\n",
    "#### 2. Se ordenan estos pares alfabéticamente por token y luego por nro de documento.\n",
    "\n",
    "Cuando un token aparece más de una vez en el mismo documento, se ignoran las apariciones múltiples.\n",
    "\n",
    "```python\n",
    "tokens = [('ciencia', 0), ('ciencia', 1), ('conocimientos', 1), ('cuerpo', 1), ('cultura', 0), ('cultura', 0), ('duda', 0), ('fe', 0), ('forma', 1), ('pensar', 1), ('religion', 0)]\n",
    "```\n",
    "\n",
    "#### 3. A cada token se le asocia la lista enlazada de los documentos en los que aparece.\n",
    "\n",
    "Se puede asociar la frecuencia de un token (como dato adicional aunque no necesario para implementar una consulta booleana).\n",
    "\n",
    "```python\n",
    "indice = {\n",
    "    'ciencia': {0, 1},\n",
    "    'conocimientos': {1},\n",
    "    'cuerpo': {1},\n",
    "    'cultura': {0},\n",
    "    'duda': {0},\n",
    "    'fe': {0},\n",
    "    'forma': {1},\n",
    "    'pensar': {1},\n",
    "    'religion': {0}\n",
    "}\n",
    "```"
   ]
  },
  {
   "cell_type": "markdown",
   "metadata": {
    "id": "GyHeWCRif4yc"
   },
   "source": [
    "Para simplificar vamos a suponer que podemos cargar todos los documentos en un diccionario y vamos a mantener todo el índice en memoria.\n",
    "\n",
    "Supongamos los siguientes documentos:\n",
    "\n",
    "**Introduccion**:\n",
    "\n",
    "> No sabemos cuándo empezó Tolkien a dirigir sus pensamientos al Reino Peligroso del País de las Hadas. \n",
    "\n",
    "**Roverandom**:\n",
    "\n",
    "> Había una vez un perrito llamado Rover. Era muy pequeño y muy joven, pues de lo contrario se habría portado mejor; y era muy feliz jugando al sol en el jardín con una pelota amarilla, si nunca hubiera hecho lo que hizo. \n",
    "\n",
    "**Egidio**:\n",
    "\n",
    "> Egidio el granjero tenía un perro. El nombre del perro era Garm. Los perros tenían que conformarse con nombres cortos en lengua vernácula; el latín culto quedaba reservado para sus dueños.\n",
    "\n",
    "**Niggle**:\n",
    "\n",
    "> Deberíamos salir al encuentro de centauros y dragones, y quizás así, de pronto, fijaríamos nuestra atención, como los pastores de antaño, en las ovejas, los perros, los caballos... y los lobos."
   ]
  },
  {
   "cell_type": "code",
   "execution_count": null,
   "metadata": {
    "id": "q2BLd9lZf4yd"
   },
   "outputs": [],
   "source": [
    "import string\n",
    "from pprint import pprint\n",
    "\n",
    "from nltk.corpus import stopwords  # Stopwords\n",
    "from nltk.stem import SnowballStemmer  # Stemmer\n",
    "\n",
    "\n",
    "class IndiceInvertido:\n",
    "\n",
    "    def __init__(self, documentos):\n",
    "        \"\"\"Recibe un diccionario con los documentos\"\"\"\n",
    "        self.stop_words = frozenset(stopwords.words(\"spanish\"))  # lista de stop words\n",
    "        self._docs = documentos\n",
    "        self._spanish_stemmer = SnowballStemmer(\"spanish\", ignore_stopwords=False)\n",
    "\n",
    "        self.__docs_to_docID()\n",
    "        self.__generar_indice()\n",
    "\n",
    "    @property\n",
    "    def documentos(self):\n",
    "        return set(self._docs.keys())\n",
    "\n",
    "    def __docs_to_docID(self):\n",
    "        \"\"\"\n",
    "        Asigna a cada documento un número y guarda dos diccionarios:\n",
    "        el primero que tiene como clave el nombre del documento y como valor el\n",
    "        numero de documento docID asociado y el segundo que permite realizar la\n",
    "        operación inversa y tiene como clave los docID y como valor el nombre del\n",
    "        documento\n",
    "        \"\"\"\n",
    "        # doc->docID => dict[str, int]\n",
    "        self._doc_to_docID = {}\n",
    "        self._docID_to_doc = {}\n",
    "        for docID, doc in enumerate(self._docs.keys()):\n",
    "            self._doc_to_docID[doc] = docID\n",
    "            self._docID_to_doc[docID] = doc\n",
    "\n",
    "    def __sanitizar_palabra(self, palabra):\n",
    "        \"\"\"\n",
    "        Elimina signos de puntuación y los acentos.\n",
    "        \"\"\"\n",
    "        palabra = palabra.strip(string.punctuation + \"»\\x97¿¡\")\n",
    "\n",
    "        # reemplazos = {\"á\": \"a\", \"é\": \"e\", \"ó\": \"o\", \"ú\": \"u\", \"í\": \"i\"}\n",
    "        # palabra = \"\".join(reemplazos.get(letra, letra) for letra in palabra)\n",
    "\n",
    "        return palabra\n",
    "\n",
    "    def __lematizar_palabra(self, palabra):\n",
    "        \"\"\"\n",
    "        Usa el stemmer para lematizar o recortar la palabra.\n",
    "\n",
    "        El stemmer utilizado también se encarga de eliminar acentos y pasar todo\n",
    "        a minúscula, sino habría que hacerlo a mano\n",
    "        \"\"\"\n",
    "        return self._spanish_stemmer.stem(palabra)\n",
    "\n",
    "    def __generar_indice(self):\n",
    "        \"\"\"Genera los pares la lista de pares (palabra, docID)\"\"\"\n",
    "        pares = []\n",
    "        for doc, texto in self._docs.items():\n",
    "            lista_palabras = texto.lower().split()\n",
    "            lista_palabras = [self.__sanitizar_palabra(palabra) for palabra in lista_palabras]\n",
    "            lista_palabras = [palabra for palabra in lista_palabras if palabra not in self.stop_words]\n",
    "            lista_palabras = [self.__lematizar_palabra(palabra) for palabra in lista_palabras]\n",
    "\n",
    "            pares += [(palabra, self._doc_to_docID[doc]) for palabra in lista_palabras]\n",
    "\n",
    "        pares = sorted(pares, key=lambda tupla: tupla[0])\n",
    "\n",
    "        indice = {}\n",
    "        for palabra, docID in pares:\n",
    "            posting = indice.setdefault(palabra, set())\n",
    "            posting.add(docID)\n",
    "\n",
    "        self._indice = indice\n",
    "\n",
    "    def buscar(self, palabra):\n",
    "        palabra = self.__sanitizar_palabra(palabra)\n",
    "        palabra = self.__lematizar_palabra(palabra)\n",
    "        docIDs = self._indice.get(palabra, set())\n",
    "\n",
    "        return {self._docID_to_doc[docID] for docID in docIDs}"
   ]
  },
  {
   "cell_type": "code",
   "execution_count": null,
   "metadata": {
    "editable": true,
    "slideshow": {
     "slide_type": ""
    },
    "tags": []
   },
   "outputs": [],
   "source": [
    "documentos = {\n",
    "    \"Introducción\": \"No sabemos cuándo empezó Tolkien a dirigir sus pensamientos al Reino Peligroso del País de las Hadas. Habían muchos perros en ese mundo para Roverandom. Egidio era un granjero y Niggle un soñador\",\n",
    "    \"Roverandom\": \"Había una vez un perrito llamado Rover y su dueño Roverandom. El perro era muy pequeño y muy joven, pues de lo contrario se habría portado mejor; y era muy feliz jugando al sol en el jardín con una pelota amarilla, si nunca hubiera hecho lo que hizo. \",\n",
    "    \"Egidio\": \"Egidio el granjero tenía un perro. El nombre del perro era Garm. Los perros tenían que conformarse con nombres cortos en lengua vernácula; el latín culto quedaba reservado para sus dueños.\",\n",
    "    \"Niggle\": \"Deberíamos salir al encuentro de centauros y dragones, y quizás así, de pronto, fijaríamos nuestra atención, como los pastores de antaño, en las ovejas, los perros, los caballos... y los lobos.\",\n",
    "}\n",
    "\n",
    "ii = IndiceInvertido(documentos)"
   ]
  },
  {
   "cell_type": "code",
   "execution_count": null,
   "metadata": {
    "id": "85PfzqaNf4yi"
   },
   "outputs": [],
   "source": [
    "ii._indice"
   ]
  },
  {
   "cell_type": "code",
   "execution_count": null,
   "metadata": {},
   "outputs": [],
   "source": [
    "ii.buscar(\"perros\")"
   ]
  },
  {
   "cell_type": "code",
   "execution_count": null,
   "metadata": {},
   "outputs": [],
   "source": [
    "ii.documentos"
   ]
  },
  {
   "cell_type": "code",
   "execution_count": null,
   "metadata": {},
   "outputs": [],
   "source": [
    "ii.buscar(\"perro\")"
   ]
  },
  {
   "cell_type": "code",
   "execution_count": null,
   "metadata": {},
   "outputs": [],
   "source": [
    "ii.buscar(\"Roverandom\")"
   ]
  },
  {
   "cell_type": "code",
   "execution_count": null,
   "metadata": {},
   "outputs": [],
   "source": [
    "ii.documentos - ii.buscar(\"Roverandom\")"
   ]
  },
  {
   "cell_type": "code",
   "execution_count": null,
   "metadata": {
    "id": "akq2Iwryf4ym"
   },
   "outputs": [],
   "source": [
    "# perro and not Roverandom\n",
    "ii.buscar(\"perro\") & (ii.documentos - ii.buscar(\"Roverandom\"))"
   ]
  },
  {
   "cell_type": "code",
   "execution_count": null,
   "metadata": {
    "id": "akq2Iwryf4ym"
   },
   "outputs": [],
   "source": [
    "# perro and not Roverandom\n",
    "ii.buscar(\"perro\") - ii.buscar(\"Roverandom\")"
   ]
  },
  {
   "cell_type": "code",
   "execution_count": null,
   "metadata": {},
   "outputs": [],
   "source": [
    "(ii.documentos - ii.buscar(\"perro\")) & (ii.documentos - ii.buscar(\"Egidio\"))"
   ]
  },
  {
   "cell_type": "code",
   "execution_count": null,
   "metadata": {},
   "outputs": [],
   "source": [
    "ii.documentos - ii.buscar(\"perro\")"
   ]
  },
  {
   "cell_type": "markdown",
   "metadata": {
    "id": "Hjemcna5f4yp"
   },
   "source": [
    "### Representación de índices\n",
    "\n",
    "En nuestro ejemplo usamos un diccionario de Python para representar el índice invertido. Estos diccionarios están implementados sobre tablas de hash (Ver [documentación oficial](https://docs.python.org/es/3.8/faq/design.html#how-are-dictionaries-implemented-in-cpython))\n",
    "\n",
    "Como sabemos, con tablas de hash la operación de búsqueda está muy optimizada, y se puede encontrar todos los documentos (docIDs) en los que aparece una palabra en tiempo constante.\n",
    "\n",
    "La implementación sobre tablas de hash también tiene algunas limitaciones, por ejemplo, no es posible mantener el orden de las palabras, lo que nos permitiría realizar búsquedas con comodines, por ejemplo si queremos buscar todas las palabras que empiezan con **abra\\***\n",
    "\n",
    "Con árboles se resuelven los problema de prefijos (todas las palabras que empiezan con \"abra\").\n",
    "Si el árbol está balanceado la búsqueda es del orden de O(log(M)) donde M es la cantidad de palabras\n",
    "\n",
    "¿Qué pasa si permitimos una mayor cantidad de ramificaciones?\n",
    "\n",
    "Balanceo + mayor cantidad de ramas => Árbol B."
   ]
  },
  {
   "cell_type": "markdown",
   "metadata": {
    "id": "7TGnc91Vf4zI"
   },
   "source": [
    "## Bibliografía\n",
    "\n",
    "Information Retrieval:\n",
    "\n",
    "> [An Introduction to Information Retrieval, online edition, Cambridge UP by Christopher D. Manning, Prabhakar Raghavan and Hinrich Schütze](https://nlp.stanford.edu/IR-book/pdf/irbookonlinereading.pdf)\n",
    ">\n",
    "> Capítulos 1, 2 y 3"
   ]
  }
 ],
 "metadata": {
  "colab": {
   "collapsed_sections": [],
   "name": "Clase_5.ipynb",
   "provenance": []
  },
  "kernelspec": {
   "display_name": "Python 3 (ipykernel)",
   "language": "python",
   "name": "python3"
  },
  "language_info": {
   "codemirror_mode": {
    "name": "ipython",
    "version": 3
   },
   "file_extension": ".py",
   "mimetype": "text/x-python",
   "name": "python",
   "nbconvert_exporter": "python",
   "pygments_lexer": "ipython3",
   "version": "3.12.5"
  }
 },
 "nbformat": 4,
 "nbformat_minor": 4
}
