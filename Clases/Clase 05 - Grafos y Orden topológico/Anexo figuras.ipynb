{
 "cells": [
  {
   "cell_type": "code",
   "execution_count": null,
   "id": "6a523c98-54d2-4ba1-a1e7-443ff8d4897e",
   "metadata": {
    "editable": true,
    "slideshow": {
     "slide_type": ""
    },
    "tags": []
   },
   "outputs": [],
   "source": [
    "from edd.grafo import Grafo\n",
    "\n",
    "G = Grafo()\n",
    "G.agregar_arista(\"A\", \"B\", 4)\n",
    "G.agregar_arista(\"A\", \"C\", 5)\n",
    "G.agregar_arista(\"A\", \"E\", 1)\n",
    "G.agregar_arista(\"B\", \"C\", 2)\n",
    "G.agregar_arista(\"C\", \"D\", 4)\n",
    "G.agregar_arista(\"D\", \"E\", 3)\n",
    "\n",
    "G.draw(output_file=\"figuras/grafo-con-pesos.png\")"
   ]
  },
  {
   "cell_type": "code",
   "execution_count": null,
   "id": "81cfaa38-54ed-4270-9212-36f7f9ba4122",
   "metadata": {
    "editable": true,
    "slideshow": {
     "slide_type": ""
    },
    "tags": []
   },
   "outputs": [],
   "source": [
    "import networkx as nx\n",
    "from edd.grafo import Grafo\n",
    "\n",
    "G = Grafo()\n",
    "G.agregar_arista(\"A\", \"B\", 4)\n",
    "G.agregar_arista(\"A\", \"C\", 5)\n",
    "G.agregar_arista(\"A\", \"E\", 1)\n",
    "G.agregar_arista(\"B\", \"C\", 2)\n",
    "G.agregar_arista(\"C\", \"D\", 4)\n",
    "G.agregar_arista(\"D\", \"E\", 3)\n",
    "G.agregar_arista(\"F\", \"G\", 1)\n",
    "G.agregar_arista(\"G\", \"H\", 2)\n",
    "\n",
    "paths = list(nx.all_simple_paths(G.to_networkx(), source=\"A\", target=\"E\"))\n",
    "path = max(paths, key=len)\n",
    "highlight_edges = list(zip(path, path[1:]))\n",
    "\n",
    "G.draw(highlight_edges=highlight_edges, output_file=\"figuras/grafo-camino.png\")"
   ]
  },
  {
   "cell_type": "code",
   "execution_count": null,
   "id": "79a77535-5a0a-401d-b17a-cdf2e03f072c",
   "metadata": {
    "editable": true,
    "slideshow": {
     "slide_type": ""
    },
    "tags": []
   },
   "outputs": [],
   "source": [
    "import networkx as nx\n",
    "from edd.grafo import Grafo\n",
    "\n",
    "G = Grafo()\n",
    "G.agregar_arista(\"A\", \"B\", 4)\n",
    "G.agregar_arista(\"A\", \"C\", 5)\n",
    "G.agregar_arista(\"A\", \"E\", 1)\n",
    "G.agregar_arista(\"B\", \"C\", 2)\n",
    "G.agregar_arista(\"C\", \"D\", 4)\n",
    "G.agregar_arista(\"D\", \"E\", 3)\n",
    "\n",
    "cycle = nx.cycle_basis(G.to_networkx(), root=\"E\")[0]\n",
    "highlight_edges = list(zip(cycle, cycle[1:] + cycle[:1]))\n",
    "\n",
    "G.draw(highlight_edges=highlight_edges, output_file=\"figuras/grafo-ciclo.png\")"
   ]
  },
  {
   "cell_type": "code",
   "execution_count": null,
   "id": "ce57dc4e-baf9-42e3-9548-e77579ff2283",
   "metadata": {
    "editable": true,
    "slideshow": {
     "slide_type": ""
    },
    "tags": []
   },
   "outputs": [],
   "source": [
    "from edd.grafo import DiGrafo\n",
    "\n",
    "G = DiGrafo()\n",
    "G.agregar_arista(\"A\", \"B\", 4)\n",
    "G.agregar_arista(\"A\", \"C\", 5)\n",
    "G.agregar_arista(\"A\", \"E\", 1)\n",
    "G.agregar_arista(\"B\", \"C\", 2)\n",
    "G.agregar_arista(\"C\", \"D\", 4)\n",
    "G.agregar_arista(\"D\", \"E\", 3)\n",
    "\n",
    "G.draw(output_file=\"figuras/grafo-dirigido.png\")"
   ]
  },
  {
   "cell_type": "code",
   "execution_count": null,
   "id": "5b6ec7d7-a4bd-44ac-b246-384e119e85a3",
   "metadata": {
    "editable": true,
    "slideshow": {
     "slide_type": ""
    },
    "tags": []
   },
   "outputs": [],
   "source": [
    "import networkx as nx\n",
    "from edd.grafo import DiGrafo\n",
    "\n",
    "G = DiGrafo()\n",
    "G.agregar_arista(\"V0\", \"V1\", 2)\n",
    "G.agregar_arista(\"V0\", \"V3\", 1)\n",
    "G.agregar_arista(\"V1\", \"V3\", 3)\n",
    "G.agregar_arista(\"V1\", \"V4\", 10)\n",
    "G.agregar_arista(\"V2\", \"V0\", 4)\n",
    "G.agregar_arista(\"V2\", \"V5\", 5)\n",
    "G.agregar_arista(\"V3\", \"V2\", 2)\n",
    "G.agregar_arista(\"V3\", \"V4\", 2)\n",
    "G.agregar_arista(\"V3\", \"V5\", 8)\n",
    "G.agregar_arista(\"V3\", \"V6\", 4)\n",
    "G.agregar_arista(\"V4\", \"V6\", 5)\n",
    "G.agregar_arista(\"V6\", \"V5\", 1)\n",
    "\n",
    "print(nx.nodes(G.to_networkx()))\n",
    "print(nx.adjacency_matrix(G.to_networkx()).todense())\n",
    "\n",
    "G.draw(output_file=\"figuras/grafo-teoria.png\")"
   ]
  },
  {
   "cell_type": "code",
   "execution_count": null,
   "id": "a2ba9ffb-5569-4cfd-9cfd-4b79388f5c50",
   "metadata": {
    "editable": true,
    "slideshow": {
     "slide_type": ""
    },
    "tags": []
   },
   "outputs": [],
   "source": [
    "from edd.grafo import DiGrafo\n",
    "\n",
    "G = DiGrafo()\n",
    "G.agregar_arista(\"V0\", \"V1\")\n",
    "G.agregar_arista(\"V0\", \"V3\")\n",
    "G.agregar_arista(\"V1\", \"V3\")\n",
    "G.agregar_arista(\"V1\", \"V4\")\n",
    "G.agregar_arista(\"V2\", \"V0\")\n",
    "G.agregar_arista(\"V2\", \"V5\")\n",
    "G.agregar_arista(\"V3\", \"V4\")\n",
    "G.agregar_arista(\"V3\", \"V6\")\n",
    "G.agregar_arista(\"V3\", \"V5\")\n",
    "G.agregar_arista(\"V4\", \"V6\")\n",
    "G.agregar_arista(\"V6\", \"V5\")\n",
    "\n",
    "G.draw(output_file=\"figuras/grafo-orden-topologico.png\")"
   ]
  },
  {
   "cell_type": "code",
   "execution_count": null,
   "id": "3af514f8-a378-4b68-8af9-fb606ef8c850",
   "metadata": {
    "editable": true,
    "slideshow": {
     "slide_type": ""
    },
    "tags": []
   },
   "outputs": [],
   "source": [
    "from edd.grafo import DiGrafo\n",
    "\n",
    "G = DiGrafo()\n",
    "G.agregar_arista(\"V0\", \"V1\")\n",
    "G.agregar_arista(\"V0\", \"V3\")\n",
    "G.agregar_arista(\"V1\", \"V3\")\n",
    "G.agregar_arista(\"V1\", \"V4\")\n",
    "G.agregar_arista(\"V2\", \"V0\")\n",
    "G.agregar_arista(\"V2\", \"V5\")\n",
    "G.agregar_arista(\"V3\", \"V4\")\n",
    "G.agregar_arista(\"V3\", \"V6\")\n",
    "G.agregar_arista(\"V3\", \"V5\")\n",
    "G.agregar_arista(\"V4\", \"V6\")\n",
    "G.agregar_arista(\"V6\", \"V5\")\n",
    "\n",
    "pos = {\n",
    "    \"V2\": (0, 7),\n",
    "    \"V0\": (1, 6),\n",
    "    \"V1\": (2, 5),\n",
    "    \"V3\": (3, 4),\n",
    "    \"V4\": (4, 3),\n",
    "    \"V6\": (5, 2),\n",
    "    \"V5\": (6, 1),\n",
    "}\n",
    "\n",
    "G.draw(output_file=\"figuras/grafo-orden-topologico-solucion.png\", pos=pos, curved_edges=True)"
   ]
  }
 ],
 "metadata": {
  "kernelspec": {
   "display_name": "Python 3 (ipykernel)",
   "language": "python",
   "name": "python3"
  },
  "language_info": {
   "codemirror_mode": {
    "name": "ipython",
    "version": 3
   },
   "file_extension": ".py",
   "mimetype": "text/x-python",
   "name": "python",
   "nbconvert_exporter": "python",
   "pygments_lexer": "ipython3",
   "version": "3.12.5"
  }
 },
 "nbformat": 4,
 "nbformat_minor": 5
}
