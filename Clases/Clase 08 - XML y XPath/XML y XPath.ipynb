{
 "cells": [
  {
   "attachments": {},
   "cell_type": "markdown",
   "metadata": {
    "editable": true,
    "id": "4vzOkTwRYIb9",
    "slideshow": {
     "slide_type": "slide"
    },
    "tags": []
   },
   "source": [
    "<p style=\"text-align: center\">\n",
    "    <img src=\"../../assets/images/untref-logo-negro.svg\" />\n",
    "</p>\n",
    "\n",
    "<h3 style=\"text-align: center\">Estructuras de Datos</h3>\n",
    "\n",
    "<h2 style=\"text-align: center\">Clase 8: Recuperación de la información semi-estructurada ~ XML y XPath</h2>"
   ]
  },
  {
   "cell_type": "markdown",
   "metadata": {
    "editable": true,
    "id": "T9lRQOiSTqNX",
    "slideshow": {
     "slide_type": "slide"
    },
    "tags": []
   },
   "source": [
    "### XML: Extensible Markup Language\n",
    "\n",
    "* Es un **lenguaje de etiquetas** y también un **formato de archivo**.\n",
    "* Se usa para guardar, transferir y reconstruir información arbitraria.\n",
    "* Es una especificación definida por la [World Wide Web Consortium (W3C)](https://www.w3.org/).\n",
    "* Define una serie de reglas para codificar documentos en un formato legible tanto por computadoras como por humanos."
   ]
  },
  {
   "cell_type": "markdown",
   "metadata": {
    "editable": true,
    "id": "T9lRQOiSTqNX",
    "slideshow": {
     "slide_type": "subslide"
    },
    "tags": []
   },
   "source": [
    "Un documento XML es un árbol ordenado, donde cada nodo se rotula con dos etiquetas, una de apertura y otra de cierre.\n",
    "\n",
    "Por ejemplo el siguiente fragmento XML estructura un poema:\n",
    "\n",
    "``` xml\n",
    "<poema fecha=\"Abril de 1915\" lugar=\"Granada\">\n",
    "\t<titulo>Alba</titulo>\n",
    "\t<verso>Mi corazón oprimido</verso>\n",
    "\t<verso>siente junto a la alborada</verso>\n",
    "\t<verso>el dolor de sus amores</verso>\n",
    "\t<verso>y el sueño de las distancias. </verso>\n",
    "</poema>\n",
    "```\n",
    "\n",
    "Existen varios sitios en internet que permiten visualizar el árbol asociado. Por ejemplo [https://codebeautify.org/xmlviewer](https://codebeautify.org/xmlviewer?input=%3Cpoema%20fecha=%22Abril%20de%201915%22%20lugar=%22Granada%22%3E%3Ctitulo%3EAlba%3C/titulo%3E%3Cverso%3EMi%20coraz%C3%B3n%20oprimido%3C/verso%3E%3Cverso%3Esiente%20junto%20a%20la%20alborada%3C/verso%3E%3Cverso%3Eel%20dolor%20de%20sus%20amores%3C/verso%3E%3Cverso%3Ey%20el%20sue%C3%B1o%20de%20las%20distancias.%20%3C/verso%3E%3C/poema%3E)"
   ]
  },
  {
   "cell_type": "markdown",
   "metadata": {
    "editable": true,
    "slideshow": {
     "slide_type": "subslide"
    },
    "tags": []
   },
   "source": [
    "#### Elementos clave"
   ]
  },
  {
   "cell_type": "markdown",
   "metadata": {
    "editable": true,
    "slideshow": {
     "slide_type": "subslide"
    },
    "tags": []
   },
   "source": [
    "##### Marcado vs. Contenido\n",
    "\n",
    "* El texto en un archivo XML se separan entre _marcado_ y _contenido_.\n",
    "* Generalmente, todo lo que es _marcado_ está encerrado entre `<` y `>`, o comienzan con `&` y terminan con `;`\n",
    "* Todo lo que no es _marcado_ es _contenido_.\n",
    "* A excepción de la sección `CDATA`, donde se encierra _contenido_ entre `<![CDATA[` y `]]>`.\n",
    "* El espacio en blanco entre _marcado_ es ignorado."
   ]
  },
  {
   "cell_type": "markdown",
   "metadata": {
    "editable": true,
    "slideshow": {
     "slide_type": "subslide"
    },
    "tags": []
   },
   "source": [
    "##### Etiqueta\n",
    "\n",
    "Una _etiqueta_ es una estructura de marcado que comienza con `<` y termina con `>`.\n",
    "\n",
    "Hay 3 tipos:\n",
    "\n",
    "* Etiqueta de inicio: `<etiqueta>`\n",
    "* Etiqueta de cierre: `</etiqueta>`\n",
    "* Etiqueta sin elementos: `<etiqueta />`"
   ]
  },
  {
   "cell_type": "markdown",
   "metadata": {
    "editable": true,
    "slideshow": {
     "slide_type": "subslide"
    },
    "tags": []
   },
   "source": [
    "##### Elemento\n",
    "\n",
    "Un _elemento_ es un componente lógico de un documento que comienza con una etiqueta de inicio y termina con una etiqueta de cierre correspondiente o que consta únicamente de una etiqueta sin elementos.\n",
    "\n",
    "Lo que esté entre las etiquetas de inicio y cierre, son el contenido del _elemento_ y puede estar compuesto de otros elementos.\n",
    "\n",
    "Los elementos dentro de elementos, se denominan los _hijos_ del elemento _padre_."
   ]
  },
  {
   "cell_type": "markdown",
   "metadata": {
    "editable": true,
    "slideshow": {
     "slide_type": "subslide"
    },
    "tags": []
   },
   "source": [
    "Un ejemplo es:\n",
    "\n",
    "```xml\n",
    "<greeting>Hello, world!</greeting>\n",
    "```\n",
    "\n",
    "Otro es:\n",
    "\n",
    "```xml\n",
    "<line-break />\n",
    "```"
   ]
  },
  {
   "cell_type": "markdown",
   "metadata": {
    "editable": true,
    "slideshow": {
     "slide_type": "subslide"
    },
    "tags": []
   },
   "source": [
    "##### Atributo\n",
    "\n",
    "Un _atributo_ es una estructura de marcado que consiste en un par nombre-valor que existe dentro de una etiqueta de inicio o una etiqueta de elemento vacío.\n",
    "\n",
    "Un ejemplo es:\n",
    "\n",
    "```xml\n",
    "<img src=\"messi.jpg\" alt=\"Messi\" />\n",
    "```\n",
    "\n",
    "donde los nombres de los atributos son `src` y `alt`, y sus valores son `messi.jpg` y `Messi` respectivamente.\n",
    "\n",
    "Otro ejemplo es:\n",
    "\n",
    "```xml\n",
    "<step number=\"3\">Connect A to B.</step>\n",
    "```\n",
    "\n",
    "donde el nombre del atributo es `number` y su valor es `3`."
   ]
  },
  {
   "cell_type": "markdown",
   "metadata": {
    "editable": true,
    "slideshow": {
     "slide_type": "subslide"
    },
    "tags": []
   },
   "source": [
    "* Un atributo solo puede tener un único valor.\n",
    "* Cada atributo puede aparecer como máximo una vez en cada elemento.\n",
    "* Si se necesita que un atributo almacene una lista, esos valores se tienen que serializar."
   ]
  },
  {
   "cell_type": "markdown",
   "metadata": {
    "editable": true,
    "slideshow": {
     "slide_type": "subslide"
    },
    "tags": []
   },
   "source": [
    "##### Caracteres especiales\n",
    "\n",
    "* XML soporta todos los caracteres Unicode (`UTF-8`), excepto el caracter nulo (`0x0`).\n",
    "* Los caracteres `<` y `&` son marcadores de sintaxis claves.\n",
    "    * Esos caracteres no puede aparecer nunca como contenido, excepto en bloques `CDATA`.\n",
    "    * Para escapar estos caracteres debemos utilizar las siguientes representaciones:\n",
    "        * `&lt;` representa `<`\n",
    "        * `&gt;` representa `>`\n",
    "        * `&amp;` representa `&`\n",
    "        * `&apos;` representa `'`\n",
    "        * `&quot;` representa `\"`"
   ]
  },
  {
   "cell_type": "markdown",
   "metadata": {
    "editable": true,
    "slideshow": {
     "slide_type": "subslide"
    },
    "tags": []
   },
   "source": [
    "##### Comentarios\n",
    "\n",
    "```xml\n",
    "<!--\n",
    "Commentarios \n",
    "-->"
   ]
  },
  {
   "cell_type": "markdown",
   "metadata": {
    "editable": true,
    "id": "GyHeWCRif4yc",
    "slideshow": {
     "slide_type": "subslide"
    },
    "tags": []
   },
   "source": [
    "#### Ejemplos de uso de documentos XML\n",
    "\n",
    "* Catálogos de bibliotecas\n",
    "* Información sobre patentes\n",
    "* Procesadores de texto (`docx`, `odt`, `xlsx`, `ods`, `pptx`, `odp`, etc.)\n",
    "* Noticias (RSS)"
   ]
  },
  {
   "cell_type": "markdown",
   "metadata": {
    "editable": true,
    "id": "GyHeWCRif4yc",
    "slideshow": {
     "slide_type": "subslide"
    },
    "tags": []
   },
   "source": [
    "##### RSS\n",
    "\n",
    "En general las agencias de noticias y los diarios acostumbran publicar resumenes de noticias en formato [RSS](https://es.wikipedia.org/wiki/RSS), un formato XML específico que se utiliza para difundir información actualizada frecuentemente a usuarios que se han suscrito a la fuente de contenidos.\n",
    "\n",
    "Por ejemplo podemos consultar las últimas noticias del blog de Python:\n",
    "\n",
    "https://blog.python.org/feeds/posts/default?alt=rss"
   ]
  },
  {
   "cell_type": "code",
   "execution_count": null,
   "metadata": {
    "editable": true,
    "slideshow": {
     "slide_type": "subslide"
    },
    "tags": []
   },
   "outputs": [],
   "source": [
    "from urllib.request import urlopen\n",
    "\n",
    "from lxml import etree\n",
    "\n",
    "response = urlopen(\"https://blog.python.org/feeds/posts/default?alt=rss\")\n",
    "response_body = response.read()\n",
    "tree = etree.fromstring(response_body)\n",
    "formatted_xml = etree.tostring(tree, pretty_print=True)\n",
    "print(formatted_xml.decode())"
   ]
  },
  {
   "cell_type": "markdown",
   "metadata": {
    "editable": true,
    "id": "85PfzqaNf4yi",
    "slideshow": {
     "slide_type": "slide"
    },
    "tags": []
   },
   "source": [
    "### XPath: XML Path Language\n",
    "\n",
    "* Estándar para navegar documentos XML.\n",
    "* Permite describir caminos en un árbol XML.\n",
    "* Evaluar una expresión XPath es buscar si hay **elementos** en el documento que se ajustan al recorrido definido en la expresión.\n",
    "* El resultado de la evaluación son todos los **elementos** que se ajustan a la expresión.\n",
    "* Para poder evaluar una expresión XPath, el documento debe estar bien formado."
   ]
  },
  {
   "cell_type": "markdown",
   "metadata": {
    "editable": true,
    "id": "85PfzqaNf4yi",
    "slideshow": {
     "slide_type": "subslide"
    },
    "tags": []
   },
   "source": [
    "Vamos a usar el siguiente documento para los ejemplos:\n",
    "\n",
    "``` xml\n",
    "<?xml version=\"1.0\" encoding=\"UTF-8\"?>\n",
    "<biblioteca>\n",
    "  <libro>\n",
    "    <titulo>La vida está en otra parte</titulo>\n",
    "    <autor>Milan Kundera</autor>\n",
    "    <fechaPublicacion año=\"1973\" />\n",
    "    <precio>305.50</precio>\n",
    "  </libro>\n",
    "  <revista>\n",
    "    <titulo>Computer Gaming World</titulo>\n",
    "    <editorial>Golden Empire Publications</editorial>\n",
    "    <fechaPublicacion año=\"1981\" />\n",
    "    <precio>669.99</precio>\n",
    "  </revista>\n",
    "  <libro>\n",
    "    <titulo>Pantaleón y las visitadoras</titulo>\n",
    "    <autor fechaNacimiento=\"28/03/1936\">Mario Vargas Llosa</autor>\n",
    "    <fechaPublicacion año=\"1973\" />\n",
    "    <precio>214.48</precio>\n",
    "  </libro>\n",
    "  <libro>\n",
    "    <titulo>Conversación en la catedral</titulo>\n",
    "    <autor fechaNacimiento=\"28/03/1936\">Mario Vargas Llosa</autor>\n",
    "    <fechaPublicacion año=\"1969\" />\n",
    "    <precio>541.78</precio>\n",
    "  </libro>\n",
    "  <revista>\n",
    "    <titulo>PC Users</titulo>\n",
    "    <editorial>RedUsers</editorial>\n",
    "    <fechaPublicacion año=\"2000\" />\n",
    "    <precio>220.50</precio>\n",
    "  </revista>\n",
    "</biblioteca>\n",
    "```\n",
    "\n",
    "Existen herramientas online para probar, por ejemplo https://codebeautify.org/Xpath-Tester"
   ]
  },
  {
   "cell_type": "markdown",
   "metadata": {
    "editable": true,
    "id": "85PfzqaNf4yi",
    "slideshow": {
     "slide_type": "subslide"
    },
    "tags": []
   },
   "source": [
    "#### Nodos XPath\n",
    "\n",
    "Hay 7 clases de nodos: **elemento**, **atributo**, **texto**, espacio de nombre, instrucción, comentario y documentación.\n",
    "\n",
    "##### Nodo raíz\n",
    "\n",
    "``` xml\n",
    "<biblioteca>\n",
    "```\n",
    "\n",
    "##### Elemento\n",
    "\n",
    "``` xml\n",
    "<titulo>La vida está en otra parte</titulo> \n",
    "```\n",
    "\n",
    "##### Atributo\n",
    "\n",
    "``` xml\n",
    "fechaNacimiento=\"28/03/1936\"\n",
    "```\n",
    "##### Texto\n",
    "\n",
    "```\n",
    "Pantaleón y las visitadoras\n",
    "```"
   ]
  },
  {
   "cell_type": "markdown",
   "metadata": {
    "editable": true,
    "slideshow": {
     "slide_type": "slide"
    },
    "tags": []
   },
   "source": [
    "### Primero, algunos detalles técnicos\n",
    "\n",
    "Vamos a usar el paquete `lxml`, el cual debemos instalar utilizando `pip`, desde esta misma notebook, podemos ejecutar\n",
    "\n",
    "**El paquete `lxml` implementa [XPath Version 1.0](https://www.w3.org/TR/xpath-10/)**"
   ]
  },
  {
   "cell_type": "code",
   "execution_count": null,
   "metadata": {
    "editable": true,
    "slideshow": {
     "slide_type": "skip"
    },
    "tags": []
   },
   "outputs": [],
   "source": [
    "%pip install lxml"
   ]
  },
  {
   "cell_type": "markdown",
   "metadata": {
    "editable": true,
    "slideshow": {
     "slide_type": "skip"
    },
    "tags": []
   },
   "source": [
    "Ahora, vamos a importar este módulo esta única vez."
   ]
  },
  {
   "cell_type": "code",
   "execution_count": null,
   "metadata": {
    "editable": true,
    "slideshow": {
     "slide_type": "skip"
    },
    "tags": []
   },
   "outputs": [],
   "source": [
    "from lxml import etree"
   ]
  },
  {
   "cell_type": "markdown",
   "metadata": {
    "editable": true,
    "slideshow": {
     "slide_type": "skip"
    },
    "tags": []
   },
   "source": [
    "También vamos a crear una función que nos facilitará la impresión de los resultados que tengamos cuando ejecutemos los selectores de XPath."
   ]
  },
  {
   "cell_type": "code",
   "execution_count": null,
   "metadata": {
    "editable": true,
    "slideshow": {
     "slide_type": "skip"
    },
    "tags": []
   },
   "outputs": [],
   "source": [
    "def print_xml(elements: list[etree.Element]) -> None:\n",
    "    if len(elements) == 0:\n",
    "        print(\"~ Sin resultados ~\")\n",
    "        return\n",
    "\n",
    "    element_strings = [\n",
    "        (e.strip() if isinstance(e, str) else etree.tostring(e, encoding=\"utf-8\", pretty_print=True).decode().strip())\n",
    "        for e in elements\n",
    "    ]\n",
    "\n",
    "    print(\"\\n~~~\\n\".join(element_strings))"
   ]
  },
  {
   "cell_type": "markdown",
   "metadata": {
    "editable": true,
    "slideshow": {
     "slide_type": "skip"
    },
    "tags": []
   },
   "source": [
    "Por último, cargamos el documento XML que vamos a utilizar en todos los ejemplos."
   ]
  },
  {
   "cell_type": "code",
   "execution_count": null,
   "metadata": {
    "editable": true,
    "slideshow": {
     "slide_type": "skip"
    },
    "tags": []
   },
   "outputs": [],
   "source": [
    "doc = etree.parse(\"biblioteca.xml\")\n",
    "doc"
   ]
  },
  {
   "cell_type": "markdown",
   "metadata": {
    "editable": true,
    "id": "85PfzqaNf4yi",
    "slideshow": {
     "slide_type": "subslide"
    },
    "tags": []
   },
   "source": [
    "### Expresiones XPath para seleccionar nodos\n",
    "\n",
    "| Expresión | Descripción |\n",
    "| :- | :- |\n",
    "| `/` | Si está al principio de la expresión, indica el nodo raíz, si no, indica \"hijo\"|\n",
    "| `//` | Camino. Permite seleccionar nodos en un camino descendiente a partir de la posición actual |\n",
    "| `.` | Nodo actual |\n",
    "| `..` | Padre del nodo actual |\n",
    "| `@nombre_atributo` | Atributo |"
   ]
  },
  {
   "cell_type": "code",
   "execution_count": null,
   "metadata": {
    "editable": true,
    "slideshow": {
     "slide_type": "skip"
    },
    "tags": []
   },
   "outputs": [],
   "source": [
    "doc.xpath(\"/biblioteca/libro/titulo\")"
   ]
  },
  {
   "cell_type": "code",
   "execution_count": null,
   "metadata": {
    "editable": true,
    "slideshow": {
     "slide_type": "skip"
    },
    "tags": []
   },
   "outputs": [],
   "source": [
    "print_xml(doc.xpath(\"/biblioteca/libro/titulo\"))"
   ]
  },
  {
   "cell_type": "code",
   "execution_count": null,
   "metadata": {
    "editable": true,
    "slideshow": {
     "slide_type": "skip"
    },
    "tags": []
   },
   "outputs": [],
   "source": [
    "print_xml(doc.xpath(\"//titulo\"))"
   ]
  },
  {
   "cell_type": "code",
   "execution_count": null,
   "metadata": {
    "editable": true,
    "slideshow": {
     "slide_type": "skip"
    },
    "tags": []
   },
   "outputs": [],
   "source": [
    "print_xml(doc.xpath(\"//titulo/.\"))"
   ]
  },
  {
   "cell_type": "code",
   "execution_count": null,
   "metadata": {
    "editable": true,
    "slideshow": {
     "slide_type": "skip"
    },
    "tags": []
   },
   "outputs": [],
   "source": [
    "print_xml(doc.xpath(\"//titulo/..\"))"
   ]
  },
  {
   "cell_type": "markdown",
   "metadata": {
    "editable": true,
    "id": "85PfzqaNf4yi",
    "slideshow": {
     "slide_type": "subslide"
    },
    "tags": []
   },
   "source": [
    "### Predicados\n",
    "\n",
    "Los predicados pueden ser usados para filtrar un conjunto de nodos en base a una condición dada.\n",
    "\n",
    "Los predicados se escriben entre corchetes (`[`, `]`).\n",
    "\n",
    "| Expresión | Resultado |\n",
    "| :- | :- |\n",
    "| `/biblioteca/libro[position() = 1]` | Selecciona libro en la posición 1, hijo de biblioteca |\n",
    "| `/biblioteca/libro[1]` | La misma condición en su versión resumida |\n",
    "| `/biblioteca/libro[last()]` | Selecciona el último nodo libro, hijo de biblioteca |\n",
    "| `/biblioteca/libro[last() - 1]` | Selecciona el ante último nodo libro, hijo de biblioteca | \n",
    "| `/biblioteca/libro[position() < 3]` | Selecciona los dos primeros nodos libro, hijo de biblioteca |\n",
    "| `//autor[@fechaNacimiento]` | Selecciona todos los nodos autor, que tengan un atributo fechaNacimiento |\n",
    "| `//autor[not(@fechaNacimiento)]` | Selecciona todos los nodos autor, que **no** tengan un atributo fechaNacimiento |\n",
    "| `//autor[@fechaNacimiento=\"28/03/1936\"]` | Selecciona todos los nodos autor, que tengan un atributo fechaNacimiento con un valor específico |\n",
    "| `/biblioteca//libro[precio < 350]` | Selecciona todos los nodos libros, que tengan como hijo directo un elemento precio con valor menor a 350 |\n",
    "| `/biblioteca//libro[precio < 350]/titulo` | Selecciona todos los nodos titulo, hijos de nodos libros que tengan como hijo directo un elemento precio con valor menor a 350 |"
   ]
  },
  {
   "cell_type": "code",
   "execution_count": null,
   "metadata": {
    "editable": true,
    "slideshow": {
     "slide_type": "skip"
    },
    "tags": []
   },
   "outputs": [],
   "source": [
    "print_xml(doc.xpath(\"/biblioteca/libro[position() = 1]\"))"
   ]
  },
  {
   "cell_type": "code",
   "execution_count": null,
   "metadata": {
    "editable": true,
    "slideshow": {
     "slide_type": "skip"
    },
    "tags": []
   },
   "outputs": [],
   "source": [
    "print_xml(doc.xpath(\"/biblioteca/libro[1]\"))"
   ]
  },
  {
   "cell_type": "code",
   "execution_count": null,
   "metadata": {
    "editable": true,
    "slideshow": {
     "slide_type": "skip"
    },
    "tags": []
   },
   "outputs": [],
   "source": [
    "print_xml(doc.xpath(\"/biblioteca/libro[last()]\"))"
   ]
  },
  {
   "cell_type": "code",
   "execution_count": null,
   "metadata": {
    "editable": true,
    "slideshow": {
     "slide_type": "skip"
    },
    "tags": []
   },
   "outputs": [],
   "source": [
    "print_xml(doc.xpath(\"/biblioteca/libro[last() - 1]\"))"
   ]
  },
  {
   "cell_type": "code",
   "execution_count": null,
   "metadata": {
    "editable": true,
    "slideshow": {
     "slide_type": "skip"
    },
    "tags": []
   },
   "outputs": [],
   "source": [
    "print_xml(doc.xpath(\"/biblioteca/libro[position() < 3]\"))"
   ]
  },
  {
   "cell_type": "code",
   "execution_count": null,
   "metadata": {
    "editable": true,
    "slideshow": {
     "slide_type": "skip"
    },
    "tags": []
   },
   "outputs": [],
   "source": [
    "print_xml(doc.xpath(\"//autor[@fechaNacimiento]\"))"
   ]
  },
  {
   "cell_type": "code",
   "execution_count": null,
   "metadata": {
    "editable": true,
    "slideshow": {
     "slide_type": "skip"
    },
    "tags": []
   },
   "outputs": [],
   "source": [
    "print_xml(doc.xpath(\"//autor[not(@fechaNacimiento)]\"))"
   ]
  },
  {
   "cell_type": "code",
   "execution_count": null,
   "metadata": {
    "editable": true,
    "slideshow": {
     "slide_type": "skip"
    },
    "tags": []
   },
   "outputs": [],
   "source": [
    "print_xml(doc.xpath('//autor[@fechaNacimiento=\"28/03/1936\"]'))"
   ]
  },
  {
   "cell_type": "code",
   "execution_count": null,
   "metadata": {
    "editable": true,
    "slideshow": {
     "slide_type": "skip"
    },
    "tags": []
   },
   "outputs": [],
   "source": [
    "print_xml(doc.xpath(\"/biblioteca//libro[precio < 350]\"))"
   ]
  },
  {
   "cell_type": "code",
   "execution_count": null,
   "metadata": {
    "editable": true,
    "slideshow": {
     "slide_type": "skip"
    },
    "tags": []
   },
   "outputs": [],
   "source": [
    "print_xml(doc.xpath(\"/biblioteca//libro/precio[. < 350]\"))"
   ]
  },
  {
   "cell_type": "code",
   "execution_count": null,
   "metadata": {
    "editable": true,
    "slideshow": {
     "slide_type": "skip"
    },
    "tags": []
   },
   "outputs": [],
   "source": [
    "print_xml(doc.xpath(\"/biblioteca//libro[precio < 350]/titulo\"))"
   ]
  },
  {
   "cell_type": "markdown",
   "metadata": {
    "editable": true,
    "id": "85PfzqaNf4yi",
    "slideshow": {
     "slide_type": "subslide"
    },
    "tags": []
   },
   "source": [
    "### Selectores y comodines\n",
    "\n",
    "| Expresión | Resultado |\n",
    "| :- | :- |\n",
    "| `/biblioteca/*` | Selecciona todos los elementos hijos directos de biblioteca |\n",
    "| `/biblioteca//*` | Selecciona todos los elementos descendientes de biblioteca |\n",
    "| `//autor[@*]` | Selecciona todos los elementos autor que tengan algún atributo |\n",
    "| `node()` | Selecciona todos los elementos autor que tengan algún atributo |\n",
    "| `//titulo/text()` | Selecciona el texto (no el nodo completo) de los títulos |"
   ]
  },
  {
   "cell_type": "code",
   "execution_count": null,
   "metadata": {
    "editable": true,
    "slideshow": {
     "slide_type": "skip"
    },
    "tags": []
   },
   "outputs": [],
   "source": [
    "print_xml(doc.xpath(\"/biblioteca/*\"))"
   ]
  },
  {
   "cell_type": "code",
   "execution_count": null,
   "metadata": {
    "editable": true,
    "slideshow": {
     "slide_type": "skip"
    },
    "tags": []
   },
   "outputs": [],
   "source": [
    "print_xml(doc.xpath(\"/biblioteca//*\"))"
   ]
  },
  {
   "cell_type": "code",
   "execution_count": null,
   "metadata": {
    "editable": true,
    "slideshow": {
     "slide_type": "skip"
    },
    "tags": []
   },
   "outputs": [],
   "source": [
    "print_xml(doc.xpath(\"//autor[@*]\"))"
   ]
  },
  {
   "cell_type": "code",
   "execution_count": null,
   "metadata": {
    "editable": true,
    "slideshow": {
     "slide_type": "skip"
    },
    "tags": []
   },
   "outputs": [],
   "source": [
    "print_xml(doc.xpath(\"//*[@*]\"))"
   ]
  },
  {
   "cell_type": "code",
   "execution_count": null,
   "metadata": {
    "editable": true,
    "slideshow": {
     "slide_type": "skip"
    },
    "tags": []
   },
   "outputs": [],
   "source": [
    "print_xml(doc.xpath(\"node()\"))"
   ]
  },
  {
   "cell_type": "code",
   "execution_count": null,
   "metadata": {
    "editable": true,
    "slideshow": {
     "slide_type": "skip"
    },
    "tags": []
   },
   "outputs": [],
   "source": [
    "doc.xpath(\"/biblioteca/node()\")"
   ]
  },
  {
   "cell_type": "code",
   "execution_count": null,
   "metadata": {
    "editable": true,
    "slideshow": {
     "slide_type": "skip"
    },
    "tags": []
   },
   "outputs": [],
   "source": [
    "print_xml(doc.xpath(\"//titulo/text()\"))"
   ]
  },
  {
   "cell_type": "markdown",
   "metadata": {
    "editable": true,
    "id": "85PfzqaNf4yi",
    "slideshow": {
     "slide_type": "subslide"
    },
    "tags": []
   },
   "source": [
    "### Selección de varios caminos\n",
    "\n",
    "El operador `|` es el operador de unión.\n",
    "\n",
    "| Expresión | Resultado |\n",
    "| :- | :- |\n",
    "| `//libro/titulo \\| //libro/precio` | Selecciona todos los nodos titulo y precio hijos de libro |"
   ]
  },
  {
   "cell_type": "code",
   "execution_count": null,
   "metadata": {
    "editable": true,
    "slideshow": {
     "slide_type": "skip"
    },
    "tags": []
   },
   "outputs": [],
   "source": [
    "print_xml(doc.xpath(\"//libro/titulo | //libro/precio\"))"
   ]
  },
  {
   "cell_type": "code",
   "execution_count": null,
   "metadata": {
    "editable": true,
    "slideshow": {
     "slide_type": "skip"
    },
    "tags": []
   },
   "outputs": [],
   "source": [
    "print_xml(doc.xpath(\"//libro/precio | //libro/titulo\"))"
   ]
  },
  {
   "cell_type": "markdown",
   "metadata": {},
   "source": [
    "### Comparaciones\n",
    "\n",
    "| Operador | Descripción | Ejemplo |\n",
    "| :- | :- | :- |\n",
    "| `=` | Igualdad | `precio = 541.78` |\n",
    "| `!=` | Distinto | `precio != 541.78` |\n",
    "| `<` | Menor estricto | `precio < 500` |\n",
    "| `<=` | Menor o igual | `precio <= 541.78` |\n",
    "| `>` | Mayor estricto | `precio > 500` |\n",
    "| `<=` | Mayor o igual | `precio >= 541.78` |"
   ]
  },
  {
   "cell_type": "markdown",
   "metadata": {},
   "source": [
    "- Si **ambos objetos** que se van a comparar son **conjuntos de nodos**, la comparación será verdadera si y solo si hay un nodo en el primer conjunto de nodos y un nodo en el segundo conjunto de nodos de modo que el resultado de realizar la comparación en los valores de cadena de los dos nodos sea verdadero.\n",
    "\n",
    "- Si un objeto que se va a comparar es un **conjunto de nodos** y el otro es un **número**, la comparación será verdadera si y solo si hay un nodo en el conjunto de nodos de modo que el resultado de realizar la comparación en el número que se va a comparar y en el resultado de convertir el valor de cadena de ese nodo en un número utilizando la función number sea verdadero.\n",
    "\n",
    "- Si un objeto que se va a comparar es un **conjunto de nodos** y el otro es una **cadena**, la comparación será verdadera si y solo si hay un nodo en el conjunto de nodos de modo que el resultado de realizar la comparación en el valor de cadena del nodo y la otra cadena sea verdadero.\n",
    "\n",
    "- Si un objeto a comparar es un **conjunto de nodos** y el otro es un **booleano**, entonces la comparación será verdadera si y solo si el resultado de realizar la comparación en el booleano y en el resultado de convertir el conjunto de nodos en un booleano usando la función booleana es verdadero.\n",
    "\n",
    "- Cuando **ninguno de los objetos** a comparar es un **conjunto de nodos** y el operador es `=` o `!=`, entonces los objetos se comparan convirtiéndolos a un tipo común de la siguiente manera y luego comparándolos.\n",
    "\n",
    "    - Si al menos un objeto a comparar es un **booleano**, entonces cada objeto a comparar se convierte en un booleano como si se aplicara la función booleana.\n",
    "    - De lo contrario, si al menos un objeto a comparar es un **número**, entonces cada objeto a comparar se convierte en un número como si se aplicara la función numérica.\n",
    "    - De lo contrario, **ambos objetos a comparar se convierten en cadenas** como si se aplicara la función de cadena.\n",
    "    - La comparación `=` será verdadera si y solo si los objetos son iguales.\n",
    "    - La comparación `!=` será verdadera si y solo si los objetos no son iguales.\n",
    "    - Los números se comparan para comprobar su igualdad según _IEEE 754_. Dos valores booleanos son iguales si ambos son verdaderos o ambos son falsos.\n",
    "    - Dos cadenas son iguales si y solo si consisten en la misma secuencia de caracteres UCS.\n",
    "\n",
    "    > **NOTA**: Si `$x` está vinculado a un conjunto de nodos, entonces `$x=\"foo\"` no significa lo mismo que `not($x!=\"foo\")`: el primero es verdadero si y solo si algún nodo en `$x` tiene el valor de cadena foo; el último es verdadero si y solo si todos los nodos en `$x` tienen el valor de cadena foo.\n",
    "\n",
    "- Cuando **ninguno de los objetos** a comparar es un **conjunto de nodos** y el operador es `<=`, `<`, `>=` o `>`, entonces los objetos se comparan convirtiendo ambos objetos en números y comparando los números según _IEEE 754_.\n",
    "\n",
    "    - La comparación `<` será verdadera si y solo si el primer número es menor que el segundo número.\n",
    "    - La comparación `<=` será verdadera si y solo si el primer número es menor o igual que el segundo número.\n",
    "    - La comparación `>` será verdadera si y solo si el primer número es mayor que el segundo número.\n",
    "    - La comparación `>=` será verdadera si y solo si el primer número es mayor o igual que el segundo número.\n",
    "\n",
    "Fuente: [W3C > XML Path Language (XPath) Version 1.0 > 3.4 Booleans](https://www.w3.org/TR/xpath-10/#booleans)"
   ]
  },
  {
   "cell_type": "code",
   "execution_count": null,
   "metadata": {
    "editable": true,
    "slideshow": {
     "slide_type": "skip"
    },
    "tags": []
   },
   "outputs": [],
   "source": [
    "print_xml(doc.xpath(\"//autor[. = 'Milan Kundera']\"))"
   ]
  },
  {
   "cell_type": "code",
   "execution_count": null,
   "metadata": {
    "editable": true,
    "slideshow": {
     "slide_type": "skip"
    },
    "tags": []
   },
   "outputs": [],
   "source": [
    "print_xml(doc.xpath(\"//autor[. != 'Milan Kundera']\"))"
   ]
  },
  {
   "cell_type": "code",
   "execution_count": null,
   "metadata": {
    "editable": true,
    "slideshow": {
     "slide_type": "skip"
    },
    "tags": []
   },
   "outputs": [],
   "source": [
    "print_xml(doc.xpath(\"(//libro | //revista)[precio > 300]\"))"
   ]
  },
  {
   "cell_type": "markdown",
   "metadata": {
    "editable": true,
    "id": "85PfzqaNf4yi",
    "slideshow": {
     "slide_type": "subslide"
    },
    "tags": []
   },
   "source": [
    "### Operadores\n",
    "\n",
    "| Operador | Descripción | Ejemplo |\n",
    "| :- | :- | :- |\n",
    "| `+` | Suma | `6 + 4` |\n",
    "| `-` | Sustracción | `6 - 4` |\n",
    "| `*` | Multiplicación | `6 * 4` |\n",
    "| `div` | División | `8 div 4` |\n",
    "| `or` | Disyunción | `precio = 541.78 or precio = 214.48` |\n",
    "| `and` | Conjunción | `precio > 300 and precio <= 541.78` |\n",
    "| `mod` | Módulo (resto de la división entera) | `5 mod 2` |"
   ]
  },
  {
   "cell_type": "code",
   "execution_count": null,
   "metadata": {
    "editable": true,
    "slideshow": {
     "slide_type": "skip"
    },
    "tags": []
   },
   "outputs": [],
   "source": [
    "print_xml(doc.xpath(\"//libro[position() mod 2 = 1]\"))"
   ]
  },
  {
   "cell_type": "code",
   "execution_count": null,
   "metadata": {
    "editable": true,
    "slideshow": {
     "slide_type": "skip"
    },
    "tags": []
   },
   "outputs": [],
   "source": [
    "print_xml(doc.xpath(\"//libro[position() mod 2 = 1 and autor[@fechaNacimiento]]\"))"
   ]
  },
  {
   "cell_type": "code",
   "execution_count": null,
   "metadata": {
    "editable": true,
    "slideshow": {
     "slide_type": "skip"
    },
    "tags": []
   },
   "outputs": [],
   "source": [
    "print_xml(doc.xpath(\"//libro[(position() mod 2 = 1 and autor[@fechaNacimiento]) or precio < 300]\"))"
   ]
  },
  {
   "cell_type": "code",
   "execution_count": null,
   "metadata": {
    "editable": true,
    "slideshow": {
     "slide_type": "skip"
    },
    "tags": []
   },
   "outputs": [],
   "source": [
    "print_xml(doc.xpath(\"//libro[precio < 300 or (position() mod 2 = 1 and autor[@fechaNacimiento])]\"))"
   ]
  },
  {
   "cell_type": "markdown",
   "metadata": {
    "editable": true,
    "id": "akq2Iwryf4ym",
    "slideshow": {
     "slide_type": "skip"
    },
    "tags": []
   },
   "source": [
    "### XML y Python"
   ]
  },
  {
   "cell_type": "code",
   "execution_count": null,
   "metadata": {
    "editable": true,
    "id": "Fdq4710zf4zJ",
    "slideshow": {
     "slide_type": "skip"
    },
    "tags": []
   },
   "outputs": [],
   "source": [
    "from lxml import etree\n",
    "\n",
    "tree = etree.parse(\"biblioteca.xml\")  # archivo.xml contiene el ejemplo de la biblioteca\n",
    "tree"
   ]
  },
  {
   "cell_type": "code",
   "execution_count": null,
   "metadata": {
    "editable": true,
    "id": "Fdq4710zf4zJ",
    "slideshow": {
     "slide_type": "skip"
    },
    "tags": []
   },
   "outputs": [],
   "source": [
    "root = tree.getroot()  # Devuelve la raíz del árbol XML\n",
    "root"
   ]
  },
  {
   "cell_type": "code",
   "execution_count": null,
   "metadata": {
    "editable": true,
    "id": "Fdq4710zf4zJ",
    "slideshow": {
     "slide_type": "skip"
    },
    "tags": []
   },
   "outputs": [],
   "source": [
    "len(root)  # los elementos del árbol son listas"
   ]
  },
  {
   "cell_type": "code",
   "execution_count": null,
   "metadata": {
    "editable": true,
    "id": "Fdq4710zf4zJ",
    "slideshow": {
     "slide_type": "skip"
    },
    "tags": []
   },
   "outputs": [],
   "source": [
    "for child in root:\n",
    "    print(child)"
   ]
  },
  {
   "cell_type": "code",
   "execution_count": null,
   "metadata": {
    "editable": true,
    "id": "Fdq4710zf4zJ",
    "slideshow": {
     "slide_type": "skip"
    },
    "tags": []
   },
   "outputs": [],
   "source": [
    "for child in root:\n",
    "    print(child.tag)  # con `.tag` se accede a la etiqueta"
   ]
  },
  {
   "cell_type": "code",
   "execution_count": null,
   "metadata": {
    "editable": true,
    "id": "0pt51x1XzfS5",
    "slideshow": {
     "slide_type": "skip"
    },
    "tags": []
   },
   "outputs": [],
   "source": [
    "# Todos los autores\n",
    "\n",
    "b1 = tree.xpath(\"//autor\")\n",
    "for autor in b1:\n",
    "    print(autor.text)"
   ]
  },
  {
   "cell_type": "code",
   "execution_count": null,
   "metadata": {
    "editable": true,
    "id": "0pt51x1XzfS5",
    "slideshow": {
     "slide_type": "skip"
    },
    "tags": []
   },
   "outputs": [],
   "source": [
    "# Todos los libros que cuestan entre 300 y 541.78 inclusive\n",
    "\n",
    "b2 = tree.xpath(\"//libro[precio > 300 and precio <= 541.78]/titulo\")\n",
    "for libro in b2:\n",
    "    print(libro.text)"
   ]
  },
  {
   "cell_type": "code",
   "execution_count": null,
   "metadata": {
    "editable": true,
    "id": "0pt51x1XzfS5",
    "slideshow": {
     "slide_type": "skip"
    },
    "tags": []
   },
   "outputs": [],
   "source": [
    "# Todos los libros que cuestan entre 300 y 541.78 inclusive\n",
    "b3 = tree.xpath(\"//libro[precio > 300 and precio <= 541.78]/titulo/text()\")\n",
    "for libro in b3:\n",
    "    print(libro)"
   ]
  },
  {
   "cell_type": "markdown",
   "metadata": {
    "editable": true,
    "slideshow": {
     "slide_type": "skip"
    },
    "tags": []
   },
   "source": [
    "---"
   ]
  },
  {
   "cell_type": "markdown",
   "metadata": {
    "editable": true,
    "slideshow": {
     "slide_type": "slide"
    },
    "tags": []
   },
   "source": [
    "### Trivia"
   ]
  },
  {
   "cell_type": "markdown",
   "metadata": {
    "editable": true,
    "slideshow": {
     "slide_type": ""
    },
    "tags": []
   },
   "source": [
    "```xml\n",
    "<?xml version=\"1.0\" encoding=\"UTF-8\"?>\n",
    "<geografia>\n",
    "  <continentes>\n",
    "    <continente nombre=\"Europa\">\n",
    "      <pais>España</pais>\n",
    "      <pais>Francia</pais>\n",
    "      <pais>Suiza</pais>\n",
    "    </continente>\n",
    "    <continente nombre=\"América\">\n",
    "      <pais>Argentina</pais>\n",
    "      <pais>Jamaica</pais>\n",
    "      <pais>Uruguay</pais>\n",
    "    </continente>\n",
    "  </continentes>\n",
    "  <paises>\n",
    "    <pais nombre=\"España\">\n",
    "      <sistema>monarquía</sistema>\n",
    "      <superficie>504645</superficie>\n",
    "      <moneda>euro</moneda>\n",
    "      <moneda antigua=\"antigua\">peseta</moneda>\n",
    "      <idioma>español</idioma>\n",
    "    </pais>\n",
    "    <pais nombre=\"Francia\">\n",
    "      <sistema>república</sistema>\n",
    "      <superficie>675417</superficie>\n",
    "      <moneda>euro</moneda>\n",
    "      <moneda antigua=\"antigua\">franco francés</moneda>\n",
    "      <idioma>francés</idioma>\n",
    "    </pais>\n",
    "    <pais nombre=\"Suiza\">\n",
    "      <sistema>república</sistema>\n",
    "      <superficie>41290</superficie>\n",
    "      <moneda>franco suizo</moneda>\n",
    "      <idioma>francés</idioma>\n",
    "    </pais>\n",
    "    <pais nombre=\"Uruguay\">\n",
    "      <sistema>república</sistema>\n",
    "      <superficie>176215</superficie>\n",
    "      <moneda>peso uruguayo</moneda>\n",
    "      <idioma>español</idioma>\n",
    "    </pais>\n",
    "    <pais nombre=\"Argentina\">\n",
    "      <sistema>república</sistema>\n",
    "      <superficie>2780400</superficie>\n",
    "      <moneda>peso argentino</moneda>\n",
    "      <idioma>español</idioma>\n",
    "    </pais>\n",
    "    <pais nombre=\"Jamaica\">\n",
    "      <sistema>monarquía</sistema>\n",
    "      <superficie>10991</superficie>\n",
    "      <moneda>dólar jamaicano</moneda>\n",
    "      <idioma>inglés</idioma>\n",
    "    </pais>\n",
    "  </paises>\n",
    "  <rios>\n",
    "    <rio>\n",
    "      <nombre>Uruguay</nombre>\n",
    "      <pais>Argentina</pais>\n",
    "      <pais>Uruguay</pais>\n",
    "    </rio>\n",
    "  </rios>\n",
    "</geografia>\n",
    "```\n",
    "\n",
    "http://xpather.com/4qdQv7Dc"
   ]
  },
  {
   "cell_type": "code",
   "execution_count": null,
   "metadata": {
    "editable": true,
    "slideshow": {
     "slide_type": "skip"
    },
    "tags": []
   },
   "outputs": [],
   "source": [
    "from lxml import etree\n",
    "\n",
    "doc = etree.parse(\"geografia.xml\")"
   ]
  },
  {
   "cell_type": "markdown",
   "metadata": {
    "editable": true,
    "slideshow": {
     "slide_type": ""
    },
    "tags": []
   },
   "source": [
    "1. Todos los países que tienen como moneda al euro\n",
    "    - https://app.sli.do/event/sbWVuCZzRjU4NdVXGM3YSr/embed/polls/63cd6017-8126-4842-b31f-ba4c6d360c51"
   ]
  },
  {
   "cell_type": "code",
   "execution_count": null,
   "metadata": {},
   "outputs": [],
   "source": [
    "print_xml(doc.xpath(\"/\"))"
   ]
  },
  {
   "cell_type": "markdown",
   "metadata": {
    "editable": true,
    "slideshow": {
     "slide_type": ""
    },
    "tags": []
   },
   "source": [
    "2. Los nombres de los ríos europeos (ríos que atraviesan países en el continente europeo)\n",
    "    - https://app.sli.do/event/sbWVuCZzRjU4NdVXGM3YSr/embed/polls/e11edd47-929c-44fd-9bab-fb0ef36908fc"
   ]
  },
  {
   "cell_type": "code",
   "execution_count": null,
   "metadata": {},
   "outputs": [],
   "source": [
    "print_xml(doc.xpath(\"/\"))"
   ]
  },
  {
   "cell_type": "markdown",
   "metadata": {
    "editable": true,
    "slideshow": {
     "slide_type": ""
    },
    "tags": []
   },
   "source": [
    "3. Superficie de los países por donde pasa el rio Uruguay\n",
    "    - https://app.sli.do/event/sbWVuCZzRjU4NdVXGM3YSr/embed/polls/a7c41b39-d442-488a-ba25-c9c8187a6c01"
   ]
  },
  {
   "cell_type": "code",
   "execution_count": null,
   "metadata": {},
   "outputs": [],
   "source": [
    "print_xml(doc.xpath(\"/\"))"
   ]
  },
  {
   "cell_type": "markdown",
   "metadata": {},
   "source": [
    "```xml\n",
    "<?xml version=\"1.0\" encoding=\"UTF-8\"?>\n",
    "<Materias>\n",
    "  <Departamento Codigo=\"CS\">\n",
    "    <Titulo>Computer Science</Titulo>\n",
    "    <Director>\n",
    "      <Profesor>\n",
    "        <Nombre>Jennifer</Nombre>\n",
    "        <Apellido>Widom</Apellido>\n",
    "      </Profesor>\n",
    "    </Director>\n",
    "    <Materia Numero=\"CS106A\" Vacantes=\"1070\">\n",
    "      <Titulo>Programming Methodology</Titulo>\n",
    "      <Descripcion>Introduction to the engineering of computer applications emphasizing modern software engineering principles.</Descripcion>\n",
    "      <Docentes>\n",
    "        <Ayudante>\n",
    "          <Nombre>Jerry</Nombre>\n",
    "          <Segundo_Nombre>R.</Segundo_Nombre>\n",
    "          <Apellido>Cain</Apellido>\n",
    "        </Ayudante>\n",
    "        <Profesor>\n",
    "          <Nombre>Eric</Nombre>\n",
    "          <Apellido>Roberts</Apellido>\n",
    "        </Profesor>\n",
    "        <Profesor>\n",
    "          <Nombre>Mehran</Nombre>\n",
    "          <Apellido>Sahami</Apellido>\n",
    "        </Profesor>\n",
    "      </Docentes>\n",
    "    </Materia>\n",
    "    <Materia Numero=\"CS106B\" Vacantes=\"620\">\n",
    "      <Titulo>Programming Abstractions</Titulo>\n",
    "      <Descripcion>Abstraction and its relation to programming.</Descripcion>\n",
    "      <Docentes>\n",
    "        <Profesor>\n",
    "          <Nombre>Eric</Nombre>\n",
    "          <Apellido>Roberts</Apellido>\n",
    "        </Profesor>\n",
    "        <Ayudante>\n",
    "          <Nombre>Jerry</Nombre>\n",
    "          <Segundo_Nombre>R.</Segundo_Nombre>\n",
    "          <Apellido>Cain</Apellido>\n",
    "        </Ayudante>\n",
    "      </Docentes>\n",
    "      <Correlativas>\n",
    "        <Corre>CS106A</Corre>\n",
    "      </Correlativas>\n",
    "    </Materia>\n",
    "    <Materia Numero=\"CS107\" Vacantes=\"500\">\n",
    "      <Titulo>Computer Organization and Systems</Titulo>\n",
    "      <Descripcion>Introduction to the fundamental concepts of computer systems.</Descripcion>\n",
    "      <Docentes>\n",
    "        <Ayudante>\n",
    "          <Nombre>Julie</Nombre>\n",
    "          <Apellido>Zelenski</Apellido>\n",
    "        </Ayudante>\n",
    "      </Docentes>\n",
    "      <Correlativas>\n",
    "        <Corre>CS106B</Corre>\n",
    "      </Correlativas>\n",
    "    </Materia>\n",
    "    <Materia Numero=\"CS109\" Vacantes=\"280\">\n",
    "      <Titulo>Introduction to Probability for Computer Scientists</Titulo>\n",
    "      <Docentes>\n",
    "        <Profesor>\n",
    "          <Nombre>Mehran</Nombre>\n",
    "          <Apellido>Sahami</Apellido>\n",
    "        </Profesor>\n",
    "      </Docentes>\n",
    "      <Correlativas>\n",
    "        <Corre>CS106B</Corre>\n",
    "      </Correlativas>\n",
    "    </Materia>\n",
    "    <Materia Numero=\"CS124\" Vacantes=\"60\">\n",
    "      <Titulo>From Languages to Information</Titulo>\n",
    "      <Descripcion>Natural language processing. Cross-listed as LING180.</Descripcion>\n",
    "      <Docentes>\n",
    "        <Profesor>\n",
    "          <Nombre>Dan</Nombre>\n",
    "          <Apellido>Jurafsky</Apellido>\n",
    "        </Profesor>\n",
    "      </Docentes>\n",
    "      <Correlativas>\n",
    "        <Corre>CS107</Corre>\n",
    "        <Corre>CS109</Corre>\n",
    "      </Correlativas>\n",
    "    </Materia>\n",
    "    <Materia Numero=\"CS143\" Vacantes=\"90\">\n",
    "      <Titulo>Compilers</Titulo>\n",
    "      <Descripcion>Principles and practices for design and implementation of compilers and interpreters.</Descripcion>\n",
    "      <Docentes>\n",
    "        <Profesor>\n",
    "          <Nombre>Alex</Nombre>\n",
    "          <Segundo_Nombre>S.</Segundo_Nombre>\n",
    "          <Apellido>Aiken</Apellido>\n",
    "        </Profesor>\n",
    "      </Docentes>\n",
    "      <Correlativas>\n",
    "        <Corre>CS107</Corre>\n",
    "      </Correlativas>\n",
    "    </Materia>\n",
    "    <Materia Numero=\"CS145\" Vacantes=\"130\">\n",
    "      <Titulo>Introduction to Databases</Titulo>\n",
    "      <Descripcion>Database design and use of database management systems for applications.</Descripcion>\n",
    "      <Docentes>\n",
    "        <Profesor>\n",
    "          <Nombre>Jennifer</Nombre>\n",
    "          <Apellido>Widom</Apellido>\n",
    "        </Profesor>\n",
    "      </Docentes>\n",
    "      <Correlativas>\n",
    "        <Corre>CS107</Corre>\n",
    "      </Correlativas>\n",
    "    </Materia>\n",
    "    <Materia Numero=\"CS221\" Vacantes=\"180\">\n",
    "      <Titulo>Artificial Intelligence: Principles and Techniques</Titulo>\n",
    "      <Docentes>\n",
    "        <Profesor>\n",
    "          <Nombre>Andrew</Nombre>\n",
    "          <Apellido>Ng</Apellido>\n",
    "        </Profesor>\n",
    "        <Profesor>\n",
    "          <Nombre>Sebastian</Nombre>\n",
    "          <Apellido>Thrun</Apellido>\n",
    "        </Profesor>\n",
    "      </Docentes>\n",
    "    </Materia>\n",
    "    <Materia Numero=\"CS228\" Vacantes=\"110\">\n",
    "      <Titulo>Structured Probabilistic Models: Principles and Techniques</Titulo>\n",
    "      <Descripcion>Using probabilistic modeling languages to represent complex domains.</Descripcion>\n",
    "      <Docentes>\n",
    "        <Profesor>\n",
    "          <Nombre>Daphne</Nombre>\n",
    "          <Apellido>Koller</Apellido>\n",
    "        </Profesor>\n",
    "      </Docentes>\n",
    "    </Materia>\n",
    "    <Materia Numero=\"CS229\" Vacantes=\"320\">\n",
    "      <Titulo>Machine Learning</Titulo>\n",
    "      <Descripcion>A broad introduction to machine learning and statistical pattern recognition.</Descripcion>\n",
    "      <Docentes>\n",
    "        <Profesor>\n",
    "          <Nombre>Andrew</Nombre>\n",
    "          <Apellido>Ng</Apellido>\n",
    "        </Profesor>\n",
    "      </Docentes>\n",
    "    </Materia>\n",
    "  </Departamento>\n",
    "  <Departamento Codigo=\"EE\">\n",
    "    <Titulo>Electrical Engineering</Titulo>\n",
    "    <Director>\n",
    "      <Profesor>\n",
    "        <Nombre>Mark</Nombre>\n",
    "        <Segundo_Nombre>A.</Segundo_Nombre>\n",
    "        <Apellido>Horowitz</Apellido>\n",
    "      </Profesor>\n",
    "    </Director>\n",
    "    <Materia Numero=\"EE108A\">\n",
    "      <Titulo>Digital Systems I</Titulo>\n",
    "      <Descripcion>Digital circuit, logic, and system design.</Descripcion>\n",
    "      <Docentes>\n",
    "        <Profesor>\n",
    "          <Nombre>Subhasish</Nombre>\n",
    "          <Apellido>Mitra</Apellido>\n",
    "        </Profesor>\n",
    "      </Docentes>\n",
    "    </Materia>\n",
    "    <Materia Numero=\"EE108B\">\n",
    "      <Titulo>Digital Systems II</Titulo>\n",
    "      <Descripcion>The design of processor-based digital systems.</Descripcion>\n",
    "      <Docentes>\n",
    "        <Profesor>\n",
    "          <Nombre>William</Nombre>\n",
    "          <Segundo_Nombre>J.</Segundo_Nombre>\n",
    "          <Apellido>Dally</Apellido>\n",
    "        </Profesor>\n",
    "        <Profesor>\n",
    "          <Nombre>Oyekunle</Nombre>\n",
    "          <Apellido>Olukotun</Apellido>\n",
    "        </Profesor>\n",
    "      </Docentes>\n",
    "      <Correlativas>\n",
    "        <Corre>EE108A</Corre>\n",
    "        <Corre>CS106B</Corre>\n",
    "      </Correlativas>\n",
    "    </Materia>\n",
    "  </Departamento>\n",
    "  <Departamento Codigo=\"LING\">\n",
    "    <Titulo>Linguistics</Titulo>\n",
    "    <Director>\n",
    "      <Profesor>\n",
    "        <Nombre>Beth</Nombre>\n",
    "        <Apellido>Levin</Apellido>\n",
    "      </Profesor>\n",
    "    </Director>\n",
    "    <Materia Numero=\"LING180\" Vacantes=\"60\">\n",
    "      <Titulo>From Languages to Information</Titulo>\n",
    "      <Descripcion>Natural language processing. Cross-listed as CS124.</Descripcion>\n",
    "      <Docentes>\n",
    "        <Profesor>\n",
    "          <Nombre>Dan</Nombre>\n",
    "          <Apellido>Jurafsky</Apellido>\n",
    "        </Profesor>\n",
    "      </Docentes>\n",
    "      <Correlativas>\n",
    "        <Corre>CS107</Corre>\n",
    "        <Corre>CS109</Corre>\n",
    "      </Correlativas>\n",
    "    </Materia>\n",
    "  </Departamento>\n",
    "</Materias>\n",
    "```\n",
    "\n",
    "http://xpather.com/agWTW96O"
   ]
  },
  {
   "cell_type": "code",
   "execution_count": null,
   "metadata": {
    "editable": true,
    "slideshow": {
     "slide_type": "skip"
    },
    "tags": []
   },
   "outputs": [],
   "source": [
    "from lxml import etree\n",
    "\n",
    "doc = etree.parse(\"materias.xml\")"
   ]
  },
  {
   "cell_type": "markdown",
   "metadata": {},
   "source": [
    "1. Encontrar todos los nodos Título (tanto de departamentos como de materias)\n",
    "    - https://app.sli.do/event/ceybR8esJHrjVLtmkTu7ah/embed/polls/70010b84-9297-41cd-af23-424953093050"
   ]
  },
  {
   "cell_type": "code",
   "execution_count": null,
   "metadata": {},
   "outputs": [],
   "source": [
    "print_xml(doc.xpath(\"/\"))"
   ]
  },
  {
   "cell_type": "markdown",
   "metadata": {},
   "source": [
    "2. Encontrar los apellidos de todos los directores de departamento\n",
    "    - https://app.sli.do/event/ceybR8esJHrjVLtmkTu7ah/embed/polls/f5d9afff-f13f-4bf4-b489-44daf85dd6fb"
   ]
  },
  {
   "cell_type": "code",
   "execution_count": null,
   "metadata": {},
   "outputs": [],
   "source": [
    "print_xml(doc.xpath(\"/\"))"
   ]
  },
  {
   "cell_type": "markdown",
   "metadata": {},
   "source": [
    "3. Listar todas las materias con más de 500 vacantes\n",
    "    - https://app.sli.do/event/ceybR8esJHrjVLtmkTu7ah/embed/polls/7bd05e85-f248-430d-9002-f1a7c6ba9861"
   ]
  },
  {
   "cell_type": "code",
   "execution_count": null,
   "metadata": {},
   "outputs": [],
   "source": [
    "print_xml(doc.xpath(\"/\"))"
   ]
  },
  {
   "cell_type": "markdown",
   "metadata": {},
   "source": [
    "4. Listar los nombres (Títulos) de departamentos que tienen una materia con correlativa \"CS106B\"\n",
    "    - https://app.sli.do/event/jCGympGJS5AMQuvMJQbWnD/embed/polls/2b3cc078-54af-491a-b68a-0457b2770c8f"
   ]
  },
  {
   "cell_type": "code",
   "execution_count": null,
   "metadata": {},
   "outputs": [],
   "source": [
    "print_xml(doc.xpath(\"/\"))"
   ]
  },
  {
   "cell_type": "markdown",
   "metadata": {},
   "source": [
    "5. Apellidos de todos los docentes que firman con segundo nombre\n",
    "    - https://app.sli.do/event/jCGympGJS5AMQuvMJQbWnD/embed/polls/289e68d5-5c63-48df-8491-d2871098faf2"
   ]
  },
  {
   "cell_type": "code",
   "execution_count": null,
   "metadata": {},
   "outputs": [],
   "source": [
    "print_xml(doc.xpath(\"/\"))"
   ]
  },
  {
   "cell_type": "markdown",
   "metadata": {},
   "source": [
    "6. Apellidos de todos los docentes que tienen materias con vacantes mayores o iguales a 100\n",
    "    - https://app.sli.do/event/jCGympGJS5AMQuvMJQbWnD/embed/polls/28bd88c6-9ca2-45e9-b563-eb3346797af3"
   ]
  },
  {
   "cell_type": "code",
   "execution_count": null,
   "metadata": {},
   "outputs": [],
   "source": [
    "print_xml(doc.xpath(\"/\"))"
   ]
  }
 ],
 "metadata": {
  "colab": {
   "collapsed_sections": [],
   "name": "Clase_6.ipynb",
   "provenance": []
  },
  "kernelspec": {
   "display_name": "Python 3 (ipykernel)",
   "language": "python",
   "name": "python3"
  },
  "language_info": {
   "codemirror_mode": {
    "name": "ipython",
    "version": 3
   },
   "file_extension": ".py",
   "mimetype": "text/x-python",
   "name": "python",
   "nbconvert_exporter": "python",
   "pygments_lexer": "ipython3",
   "version": "3.12.5"
  }
 },
 "nbformat": 4,
 "nbformat_minor": 4
}
