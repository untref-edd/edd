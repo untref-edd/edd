{
 "cells": [
  {
   "cell_type": "markdown",
   "id": "29f69ba9-36cc-4444-bd10-b24b4ab0d103",
   "metadata": {
    "editable": true,
    "slideshow": {
     "slide_type": "slide"
    },
    "tags": []
   },
   "source": [
    "<p style=\"text-align: center\">\n",
    "    <img src=\"../../assets/images/untref-logo-negro.svg\" style=\"height: 50px;\" />\n",
    "</p>\n",
    "\n",
    "<h3 style=\"text-align: center\">Estructuras de Datos</h3>\n",
    "\n",
    "<h2 style=\"text-align: center\">Clase 6: Camino mínimo en grafos dirigidos</h3>"
   ]
  },
  {
   "cell_type": "markdown",
   "id": "8cc9fb29-95dd-4cca-a640-9b497d3a9d8a",
   "metadata": {
    "editable": true,
    "slideshow": {
     "slide_type": "slide"
    },
    "tags": []
   },
   "source": [
    "## Camino Mínimo\n",
    "\n",
    "Dado un grafo dirigido encontrar el camino mínimo desde un vértice dado a todos los demás vértices del grafo."
   ]
  },
  {
   "cell_type": "markdown",
   "id": "61ae4ae8-0622-4461-a3e3-90b0562e09ca",
   "metadata": {
    "editable": true,
    "slideshow": {
     "slide_type": "subslide"
    },
    "tags": []
   },
   "source": [
    "### Métodos\n",
    "\n",
    "- Grafo dirigido sin pesos: Se resuelve con un recorrido **BFS**.\n",
    "- Grafo dirigido con pesos no negativos: **Algoritmo de Dijkstra**.\n",
    "- Grafo dirigido con pesos negativos, pero sin ciclos negativos: **Algoritmo de Bellman-Ford**."
   ]
  },
  {
   "cell_type": "markdown",
   "id": "8c3bfad7-bb6a-42e7-b933-978dd000ba10",
   "metadata": {
    "editable": true,
    "slideshow": {
     "slide_type": "subslide"
    },
    "tags": []
   },
   "source": [
    "### Propiedades de los caminos mínimos\n",
    "\n",
    "- Los pesos pueden ser distancia, costo, tiempo, o cualquier otro parámetro que necesitemos modelar.\n",
    "- No es necesario que todos los nodos sean alcanzables.\n",
    "- Las aristas con pesos negativos, traen problemas.\n",
    "- Los caminos mínimos normalmente son \"caminos simples\".\n",
    "- Los caminos mínimos no son necesariamente únicos."
   ]
  },
  {
   "cell_type": "markdown",
   "id": "cc14a534-ae29-4b2b-bf20-170411a82454",
   "metadata": {
    "editable": true,
    "slideshow": {
     "slide_type": "slide"
    },
    "tags": []
   },
   "source": [
    "### Algoritmo de Dijkstra\n",
    "\n",
    "Encontrar el camino mínimo desde $A$ hacia todos los demás vértices del grafo:\n",
    "\n",
    "> El grafo no puede tener aristas con pesos negativos.\n",
    "\n",
    "<p style=\"text-align: center\">\n",
    "    <img src=\"figuras/grafo-dijkstra.png\" style=\"width: 500px;\" />\n",
    "</p>"
   ]
  },
  {
   "cell_type": "markdown",
   "id": "8c4f6d48-8d0c-4834-9c74-09d61eb4d1e5",
   "metadata": {
    "editable": true,
    "slideshow": {
     "slide_type": "subslide"
    },
    "tags": []
   },
   "source": [
    "#### Algoritmo"
   ]
  },
  {
   "cell_type": "markdown",
   "id": "04888a43-aef6-4cbf-8082-e1c9da9734af",
   "metadata": {
    "editable": true,
    "slideshow": {
     "slide_type": ""
    },
    "tags": []
   },
   "source": [
    "|Referencia|Descripción|\n",
    "|--:|---|\n",
    "|`s`| Nodo inicial|\n",
    "|`distancia[v]`|Distancia desde `s` hasta el nodo `v`|\n",
    "|`previo[v]`|Empezando por `s`, guarda cual es el nodo anterior a `v` en el camino `s-v`|\n",
    "|`visitado[v]`|Verdadero si `v` ya fué visitado|"
   ]
  },
  {
   "cell_type": "markdown",
   "id": "b13146b6-5157-49b0-9d17-7037a07e6317",
   "metadata": {
    "editable": true,
    "raw_mimetype": "",
    "slideshow": {
     "slide_type": "subslide"
    },
    "tags": []
   },
   "source": [
    "<table style=\"width: 100%;\">\n",
    "    <tbody>\n",
    "        <tr>\n",
    "            <td style=\"width: 60%;\">\n",
    "\n",
    "```\n",
    "DIJKSTRA (G: DiGrafo, s: Vertice)\n",
    "    pq = ColaDePrioridad()\n",
    "\n",
    "    PARA CADA v EN G.vertices\n",
    "        distancia[v] = ∞\n",
    "        previo[v] = None\n",
    "        visitado[v] = False\n",
    "\n",
    "    distancia[s] = 0\n",
    "    pq.encolar(s, 0)\n",
    "\n",
    "    MIENTRAS NO pq.esta_vacia():\n",
    "        v = pq.desencolar_minimo()\n",
    "\n",
    "        visitado[v] = True\n",
    "\n",
    "        PARA CADA w EN v.adyacentes:\n",
    "            SI w no está visitado:\n",
    "                SI distancia[v] + peso(v, w) < distancia[w]:\n",
    "                    distancia[w] = distancia[v] + peso(v, w)\n",
    "                    previo[w] = v\n",
    "                    pq.encolar(w, distancia[w])\n",
    "```\n",
    "</td>\n",
    "            <td>\n",
    "                <p style=\"text-align:center;\">\n",
    "                    <img src=\"figuras/grafo-dijkstra.png\" style=\"width:500px;\" />\n",
    "                </p>\n",
    "            </td>\n",
    "        </tr>\n",
    "    </tbody>\n",
    "</table>"
   ]
  },
  {
   "cell_type": "markdown",
   "id": "ce832c10-fbe0-4096-be0a-95a946d2883e",
   "metadata": {
    "editable": true,
    "slideshow": {
     "slide_type": "subslide"
    },
    "tags": []
   },
   "source": [
    "#### Ejemplo"
   ]
  },
  {
   "cell_type": "code",
   "execution_count": null,
   "id": "4be5cdfe-4148-47e0-82dd-d1b8c887ec26",
   "metadata": {
    "editable": true,
    "slideshow": {
     "slide_type": "skip"
    },
    "tags": []
   },
   "outputs": [],
   "source": [
    "from math import inf\n",
    "\n",
    "from edd.coladeprioridad import ColaDePrioridad\n",
    "from edd.grafo import DiGrafo, Vertice\n",
    "\n",
    "\n",
    "def dijkstra_por_pasos(self, s: Vertice):\n",
    "    pq = ColaDePrioridad()\n",
    "\n",
    "    distancia = {v: inf for v in self.vertices}\n",
    "    previo = {v: None for v in self.vertices}\n",
    "    visitado = {v: False for v in self.vertices}\n",
    "\n",
    "    distancia[s] = 0\n",
    "    pq.encolar(s, distancia[s])\n",
    "\n",
    "    aristas = []  ### IGNORAR\n",
    "    yield {\n",
    "        \"msj\": f\"Encolamos {s.id} como nodo inicial\",\n",
    "        \"cola\": pq,\n",
    "        \"distancia\": distancia,\n",
    "        \"previo\": previo,\n",
    "        \"visitado\": visitado,\n",
    "        \"aristas\": aristas,\n",
    "    }  ### IGNORAR\n",
    "\n",
    "    while not pq.esta_vacia():\n",
    "        v, _ = pq.desencolar_minimo()\n",
    "\n",
    "        visitado[v] = True\n",
    "\n",
    "        yield {\n",
    "            \"msj\": f\"Desencolamos y visitamos {v.id}\",\n",
    "            \"cola\": pq,\n",
    "            \"distancia\": distancia,\n",
    "            \"previo\": previo,\n",
    "            \"visitado\": visitado,\n",
    "            \"aristas\": aristas,\n",
    "        }  ### IGNORAR\n",
    "\n",
    "        for a in v.aristas:\n",
    "            w = a.destino\n",
    "\n",
    "            aristas.append((v.id, w.id))  ### IGNORAR\n",
    "\n",
    "            if not visitado[w]:\n",
    "                if distancia[v] + a.peso < distancia[w]:\n",
    "                    distancia[w] = distancia[v] + a.peso\n",
    "                    previo[w] = v\n",
    "                    pq.encolar(w, distancia[w])\n",
    "                    msj = f\"Encolamos {w.id} con la nueva distancia {distancia[w]}\"\n",
    "                else:\n",
    "                    msj = f\"No se mejoró la distancia a {w.id}\"\n",
    "            else:\n",
    "                msj = f\"El vertice {w.id} ya estaba visitado\"\n",
    "\n",
    "            yield {\n",
    "                \"msj\": msj,\n",
    "                \"cola\": pq,\n",
    "                \"distancia\": distancia,\n",
    "                \"previo\": previo,\n",
    "                \"visitado\": visitado,\n",
    "                \"aristas\": aristas,\n",
    "            }  ### IGNORAR\n",
    "\n",
    "\n",
    "# Hacemos \"monkey patching\" del método que acabamos de implementar.\n",
    "DiGrafo.dijkstra_por_pasos = dijkstra_por_pasos"
   ]
  },
  {
   "cell_type": "code",
   "execution_count": null,
   "id": "4941fdd5-8ef0-49c0-9c0c-bd3626281602",
   "metadata": {
    "editable": true,
    "slideshow": {
     "slide_type": "skip"
    },
    "tags": []
   },
   "outputs": [],
   "source": [
    "# Ejecutar esto una vez para inicializar el grafo.\n",
    "from edd.grafo import DiGrafo\n",
    "\n",
    "G = DiGrafo()\n",
    "G.agregar_arista(\"A\", \"B\", 4)\n",
    "G.agregar_arista(\"A\", \"C\", 1)\n",
    "G.agregar_arista(\"B\", \"E\", 3)\n",
    "G.agregar_arista(\"C\", \"B\", 2)\n",
    "G.agregar_arista(\"C\", \"D\", 2)\n",
    "G.agregar_arista(\"D\", \"E\", 3)\n",
    "\n",
    "pasos = G.dijkstra_por_pasos(G[\"A\"])"
   ]
  },
  {
   "cell_type": "code",
   "execution_count": null,
   "id": "121f7371-0c1d-4921-9599-4114fd2f775f",
   "metadata": {
    "editable": true,
    "slideshow": {
     "slide_type": "skip"
    },
    "tags": []
   },
   "outputs": [],
   "source": [
    "# Cada vez que se ejecute esta celda, se mostrará una iteración del algoritmo de Dijkstra.\n",
    "from edd.jp import build_html_table, render_html\n",
    "\n",
    "try:\n",
    "    estado = next(pasos)\n",
    "except StopIteration:\n",
    "    print(\"~ Fin ~\\n\\n\")\n",
    "\n",
    "    headers = [\"Vertice\", \"Distancia\", \"Previo\", \"Visitado\"]\n",
    "    rows = [\n",
    "        [\n",
    "            v.id,\n",
    "            estado[\"distancia\"][v],\n",
    "            estado[\"previo\"][v].id if estado[\"previo\"][v] else \"-\",\n",
    "            \"Si\" if estado[\"visitado\"][v] else \"No\",\n",
    "        ]\n",
    "        for v in G.vertices\n",
    "    ]\n",
    "    render_html(build_html_table(headers, rows))\n",
    "finally:\n",
    "    print(f\">>> {estado['msj']}\\n\")\n",
    "    print(f\"pq = {estado['cola']}\\n\")\n",
    "\n",
    "    node_labels = {\n",
    "        v.id: f\"({estado['distancia'][v]}, {estado['previo'][v].id if estado['previo'][v] else None})\"\n",
    "        for v in G.vertices\n",
    "    }\n",
    "    G.draw(\n",
    "        highlight_edges=estado[\"aristas\"],\n",
    "        highlight_nodes=[v.id for v, visitado in estado[\"visitado\"].items() if visitado],\n",
    "        node_labels=node_labels,\n",
    "    )"
   ]
  },
  {
   "cell_type": "markdown",
   "id": "a9502d7d-7e07-428e-bd3b-3e8fb21898d4",
   "metadata": {
    "editable": true,
    "slideshow": {
     "slide_type": "subslide"
    },
    "tags": []
   },
   "source": [
    "#### Complejidad del algoritmo\n",
    "\n",
    "```\n",
    "DIJKSTRA (G: DiGrafo, s: Vertice)\n",
    "    pq = ColaDePrioridad()\n",
    "\n",
    "    PARA CADA v EN G.vertices  ### O(|V|)\n",
    "        distancia[v] = ∞\n",
    "        previo[v] = None\n",
    "        visitado[v] = False\n",
    "\n",
    "    distancia[s] = 0\n",
    "    pq.encolar(s, 0)\n",
    "\n",
    "    MIENTRAS NO pq.esta_vacia():  ### O(|V|+|A|)\n",
    "        v = pq.desencolar_minimo()  ### O(log(|V|))\n",
    "\n",
    "        visitado[v] = True\n",
    "\n",
    "        PARA CADA w EN v.adyacentes:\n",
    "            SI w no está visitado:\n",
    "                SI distancia[v] + peso(v, w) < distancia[w]:\n",
    "                    distancia[w] = distancia[v] + peso(v, w)\n",
    "                    previo[w] = v\n",
    "                    pq.encolar(w, distancia[w])  ### O(log(|V|))\n",
    "```"
   ]
  },
  {
   "cell_type": "markdown",
   "id": "b67e1028-bd3a-4535-8b03-630552c87988",
   "metadata": {
    "editable": true,
    "slideshow": {
     "slide_type": "subslide"
    },
    "tags": []
   },
   "source": [
    "$$\n",
    "\\begin{align}\n",
    "\\mathcal{O}\\left(\\left|V\\right|\\right) + \\mathcal{O}\\left(\\left|V\\right| + \\left|A\\right|\\right) \\mathcal{O}\\left(\\log{\\left|V\\right|}\\right) \\\\\n",
    "\\cancel{\\mathcal{O}\\left(\\left|V\\right|\\right)} + \\mathcal{O}\\left(\\left(\\left|V\\right| + \\left|A\\right|\\right) \\log{\\left|V\\right|}\\right) \\\\\n",
    "\\mathcal{O}\\left(\\left(\\cancel{\\left|V\\right|} + \\left|A\\right|\\right) \\log{\\left|V\\right|}\\right) & \\qquad ; \\left|A\\right| \\leq \\left|V\\right|^2 \\\\\n",
    "\\boxed{\\mathcal{O}\\left(\\left|A\\right| \\log{\\left|V\\right|}\\right)}\n",
    "\\end{align}\n",
    "$$"
   ]
  },
  {
   "cell_type": "markdown",
   "id": "f5de78fd-afee-4cd8-aba1-b4ba0183ac84",
   "metadata": {
    "editable": true,
    "slideshow": {
     "slide_type": "subslide"
    },
    "tags": []
   },
   "source": [
    "#### Grafos con aristas de pesos negativos"
   ]
  },
  {
   "cell_type": "code",
   "execution_count": null,
   "id": "6db693e8-d4fe-4a59-bfb3-b3d9f7c4fb31",
   "metadata": {
    "editable": true,
    "slideshow": {
     "slide_type": "skip"
    },
    "tags": []
   },
   "outputs": [],
   "source": [
    "# Ejecutar esto una vez para inicializar el grafo.\n",
    "from edd.grafo import DiGrafo\n",
    "\n",
    "G = DiGrafo()\n",
    "G.agregar_arista(\"A\", \"B\", -1)\n",
    "G.agregar_arista(\"A\", \"C\", 1)\n",
    "G.agregar_arista(\"B\", \"E\", 3)\n",
    "G.agregar_arista(\"C\", \"B\", 2)\n",
    "G.agregar_arista(\"C\", \"D\", 2)\n",
    "G.agregar_arista(\"D\", \"E\", 3)\n",
    "\n",
    "G.draw()\n",
    "\n",
    "pasos = G.dijkstra_por_pasos(G[\"A\"])"
   ]
  },
  {
   "cell_type": "code",
   "execution_count": null,
   "id": "142837dd-ca98-4f76-ae35-ea9103afda16",
   "metadata": {
    "editable": true,
    "slideshow": {
     "slide_type": "skip"
    },
    "tags": []
   },
   "outputs": [],
   "source": [
    "# Cada vez que se ejecute esta celda, se mostrará una iteración del algoritmo de Dijkstra.\n",
    "from edd.jp import build_html_table, render_html\n",
    "\n",
    "try:\n",
    "    estado = next(pasos)\n",
    "except StopIteration:\n",
    "    print(\"~ Fin ~\\n\\n\")\n",
    "\n",
    "    headers = [\"Vertice\", \"Distancia\", \"Previo\", \"Visitado\"]\n",
    "    rows = [\n",
    "        [\n",
    "            v.id,\n",
    "            estado[\"distancia\"][v],\n",
    "            estado[\"previo\"][v].id if estado[\"previo\"][v] else \"-\",\n",
    "            \"Si\" if estado[\"visitado\"][v] else \"No\",\n",
    "        ]\n",
    "        for v in G.vertices\n",
    "    ]\n",
    "    render_html(build_html_table(headers, rows))\n",
    "finally:\n",
    "    print(f\">>> {estado['msj']}\\n\")\n",
    "    print(f\"pq = {estado['cola']}\\n\")\n",
    "\n",
    "    node_labels = {\n",
    "        v.id: f\"({estado['distancia'][v]}, {estado['previo'][v].id if estado['previo'][v] else None})\"\n",
    "        for v in G.vertices\n",
    "    }\n",
    "    G.draw(\n",
    "        highlight_edges=estado[\"aristas\"],\n",
    "        highlight_nodes=[v.id for v, visitado in estado[\"visitado\"].items() if visitado],\n",
    "        node_labels=node_labels,\n",
    "    )"
   ]
  },
  {
   "cell_type": "code",
   "execution_count": null,
   "id": "c13c6a79-e57b-4c74-8d37-59489c048d1e",
   "metadata": {
    "editable": true,
    "slideshow": {
     "slide_type": "skip"
    },
    "tags": []
   },
   "outputs": [],
   "source": [
    "# Ejecutar esto una vez para inicializar el grafo\n",
    "from edd.grafo import DiGrafo\n",
    "\n",
    "G = DiGrafo()\n",
    "G.agregar_arista(\"A\", \"B\", 1)\n",
    "G.agregar_arista(\"A\", \"C\", 1)\n",
    "G.agregar_arista(\"B\", \"E\", 3)\n",
    "G.agregar_arista(\"C\", \"B\", -2)\n",
    "G.agregar_arista(\"C\", \"D\", 2)\n",
    "G.agregar_arista(\"D\", \"E\", 3)\n",
    "\n",
    "G.draw()\n",
    "\n",
    "pasos = G.dijkstra_por_pasos(G[\"A\"])"
   ]
  },
  {
   "cell_type": "code",
   "execution_count": null,
   "id": "9ce258c3-a4b9-418b-bc69-ea8c33d44d07",
   "metadata": {
    "editable": true,
    "slideshow": {
     "slide_type": "skip"
    },
    "tags": []
   },
   "outputs": [],
   "source": [
    "# Cada vez que se ejecute esta celda, se mostrará una iteración del algoritmo de Dijkstra.\n",
    "from edd.jp import build_html_table, render_html\n",
    "\n",
    "try:\n",
    "    estado = next(pasos)\n",
    "except StopIteration:\n",
    "    print(\"~ Fin ~\\n\\n\")\n",
    "\n",
    "    headers = [\"Vertice\", \"Distancia\", \"Previo\", \"Visitado\"]\n",
    "    rows = [\n",
    "        [\n",
    "            v.id,\n",
    "            estado[\"distancia\"][v],\n",
    "            estado[\"previo\"][v].id if estado[\"previo\"][v] else \"-\",\n",
    "            \"Si\" if estado[\"visitado\"][v] else \"No\",\n",
    "        ]\n",
    "        for v in G.vertices\n",
    "    ]\n",
    "    render_html(build_html_table(headers, rows))\n",
    "finally:\n",
    "    print(f\">>> {estado['msj']}\\n\")\n",
    "    print(f\"pq = {estado['cola']}\\n\")\n",
    "\n",
    "    node_labels = {\n",
    "        v.id: f\"({estado['distancia'][v]}, {estado['previo'][v].id if estado['previo'][v] else None})\"\n",
    "        for v in G.vertices\n",
    "    }\n",
    "    G.draw(\n",
    "        highlight_edges=estado[\"aristas\"],\n",
    "        highlight_nodes=[v.id for v, visitado in estado[\"visitado\"].items() if visitado],\n",
    "        node_labels=node_labels,\n",
    "    )"
   ]
  },
  {
   "cell_type": "markdown",
   "id": "17c203bd-5c04-4d18-94ee-98d11c13cddb",
   "metadata": {
    "editable": true,
    "slideshow": {
     "slide_type": "slide"
    },
    "tags": []
   },
   "source": [
    "### Algoritmo de Bellman-Ford\n",
    "\n",
    "Encontrar el camino mínimo desde $A$ hacia todos los demás vértices del grafo:\n",
    "\n",
    "> Ahora, el grafo puede tener aristas con pesos negativos (pero no ciclos negativos).\n",
    "\n",
    "<p style=\"text-align: center\">\n",
    "    <img src=\"figuras/grafo-bellman-ford.png\" style=\"width: 500px;\" />\n",
    "</p>"
   ]
  },
  {
   "cell_type": "markdown",
   "id": "db3a21a7-6b87-4099-8c1b-98adc61c489d",
   "metadata": {
    "editable": true,
    "slideshow": {
     "slide_type": "subslide"
    },
    "tags": []
   },
   "source": [
    "#### Algoritmo"
   ]
  },
  {
   "cell_type": "markdown",
   "id": "e15fbcc8-4212-49c8-8e21-d73695250be5",
   "metadata": {
    "editable": true,
    "raw_mimetype": "",
    "slideshow": {
     "slide_type": "subslide"
    },
    "tags": []
   },
   "source": [
    "<table style=\"width: 100%;\">\n",
    "    <tbody>\n",
    "        <tr>\n",
    "            <td style=\"width: 60%;\">\n",
    "\n",
    "```\n",
    "BELLMAN_FORD (G: DiGrafo, s: Vertice)\n",
    "\n",
    "    PARA CADA v EN G.nodos\n",
    "        distancia[v] = ∞\n",
    "        previo[v] = None\n",
    "\n",
    "    distancia[s] = 0\n",
    "\n",
    "    REPETIR len(G.nodos) - 1 VECES:\n",
    "        PARA CADA (v, w, peso) EN G.aristas:\n",
    "            SI distancia[v] + peso < distancia[w]\n",
    "                distancia[w] = distancia[v] + peso\n",
    "                previo[w] = v\n",
    "\n",
    "    PARA CADA (v, w, peso) EN G.aristas:\n",
    "        SI distancia[v] + peso < distancia[w]\n",
    "            REPORTAR error: grafo con ciclos negativos\n",
    "```\n",
    "</td>\n",
    "            <td>\n",
    "                <p style=\"text-align:center;\">\n",
    "                    <img src=\"figuras/grafo-bellman-ford.png\" style=\"width:500px;\" />\n",
    "                </p>\n",
    "            </td>\n",
    "        </tr>\n",
    "    </tbody>\n",
    "</table>"
   ]
  },
  {
   "cell_type": "markdown",
   "id": "63bdcd11-1eeb-4dbc-8d54-ef8788249960",
   "metadata": {
    "editable": true,
    "slideshow": {
     "slide_type": "subslide"
    },
    "tags": []
   },
   "source": [
    "#### Ejemplo"
   ]
  },
  {
   "cell_type": "code",
   "execution_count": null,
   "id": "7af7713e-f57d-4a73-90d4-1d33898ff418",
   "metadata": {
    "editable": true,
    "slideshow": {
     "slide_type": "skip"
    },
    "tags": []
   },
   "outputs": [],
   "source": [
    "from math import inf\n",
    "\n",
    "from edd.coladeprioridad import ColaDePrioridad\n",
    "from edd.grafo import DiGrafo, Vertice\n",
    "\n",
    "\n",
    "def bellman_ford_por_pasos(self, s: Vertice):\n",
    "    distancia = {v: inf for v in self.vertices}\n",
    "    previo = {v: None for v in self.vertices}\n",
    "    iteraciones = {}\n",
    "\n",
    "    distancia[s] = 0\n",
    "\n",
    "    for i in range(1, len(self.vertices)):\n",
    "        for a in self.aristas:\n",
    "            if distancia[a.origen] + a.peso < distancia[a.destino]:\n",
    "                distancia[a.destino] = distancia[a.origen] + a.peso\n",
    "                previo[a.destino] = a.origen\n",
    "\n",
    "        nodos = sorted(G.vertices, key=lambda v: v.id)\n",
    "        iteraciones[i] = [(distancia[v], previo[v].id if previo[v] else None) for v in nodos]\n",
    "        yield {\n",
    "            \"msj\": f\"En la iteración {i}.\",\n",
    "            \"nodos\": nodos,\n",
    "            \"aristas\": [(a.origen.id, a.destino.id) for a in self.aristas],\n",
    "            \"iteraciones\": iteraciones,\n",
    "        }  ### IGNORAR\n",
    "\n",
    "\n",
    "# Hacemos \"monkey patching\" del método que acabamos de implementar.\n",
    "DiGrafo.bellman_ford_por_pasos = bellman_ford_por_pasos"
   ]
  },
  {
   "cell_type": "code",
   "execution_count": null,
   "id": "7e74933b-b658-4163-9cd5-e6d111117c76",
   "metadata": {
    "editable": true,
    "slideshow": {
     "slide_type": "skip"
    },
    "tags": []
   },
   "outputs": [],
   "source": [
    "# Ejecutar esto una vez para inicializar el grafo.\n",
    "from edd.grafo import DiGrafo\n",
    "\n",
    "G = DiGrafo()\n",
    "G.agregar_arista(\"A\", \"B\", 1)\n",
    "G.agregar_arista(\"A\", \"C\", 1)\n",
    "G.agregar_arista(\"B\", \"E\", 3)\n",
    "G.agregar_arista(\"C\", \"B\", -2)\n",
    "G.agregar_arista(\"C\", \"D\", 2)\n",
    "G.agregar_arista(\"D\", \"E\", 3)\n",
    "\n",
    "pasos = G.bellman_ford_por_pasos(G[\"A\"])"
   ]
  },
  {
   "cell_type": "code",
   "execution_count": null,
   "id": "e9f93466-2c09-4929-932b-88c82f45a7ea",
   "metadata": {
    "editable": true,
    "slideshow": {
     "slide_type": "skip"
    },
    "tags": []
   },
   "outputs": [],
   "source": [
    "# Cada vez que se ejecute esta celda, se mostrará una iteración del algoritmo de Bellman-Ford.\n",
    "from edd.jp import build_html_table, render_html\n",
    "\n",
    "try:\n",
    "    estado = next(pasos)\n",
    "except StopIteration:\n",
    "    print(\"~ Fin ~\\n\\n\")\n",
    "finally:\n",
    "    print(f\">>> {estado['msj']}\\n\")\n",
    "\n",
    "    print(\"\\n\".join(str(a) for a in estado[\"aristas\"]))\n",
    "\n",
    "    headers = [\"Iteración\"] + [v.id for v in estado[\"nodos\"]]\n",
    "    rows = []\n",
    "    for i, iteracion in estado[\"iteraciones\"].items():\n",
    "        rows.append([i] + [f\"({d}, {p})\" for d, p in iteracion])\n",
    "        last_iteration = [f\"({d}, {p})\" for d, p in iteracion]\n",
    "\n",
    "    node_labels = dict(zip((v.id for v in estado[\"nodos\"]), last_iteration))\n",
    "    G.draw(node_labels=node_labels)\n",
    "\n",
    "    render_html(build_html_table(headers, rows))"
   ]
  },
  {
   "cell_type": "markdown",
   "id": "c1bfd29d-32d6-4dbb-9107-33b07a1e473e",
   "metadata": {
    "editable": true,
    "slideshow": {
     "slide_type": "subslide"
    },
    "tags": []
   },
   "source": [
    "#### Complejidad del algoritmo\n",
    "\n",
    "```\n",
    "BELLMAN_FORD (G: DiGrafo, s: Vertice)\n",
    "\n",
    "    PARA CADA v EN G.nodos  ### O(|V|)\n",
    "        distancia[v] = ∞\n",
    "        previo[v] = None\n",
    "\n",
    "    distancia[s] = 0\n",
    "\n",
    "    REPETIR len(G.nodos) - 1 VECES: ### O(|V|)\n",
    "        PARA CADA (v, w, peso) EN G.aristas:  ### O(|A|)\n",
    "            SI distancia[v] + peso < distancia[w]\n",
    "                distancia[w] = distancia[v] + peso\n",
    "                previo[w] = v\n",
    "\n",
    "    PARA CADA (v, w, peso) EN G.aristas:\n",
    "        SI distancia[v] + peso < distancia[w]\n",
    "            REPORTAR error: grafo con ciclos negativos\n",
    "```"
   ]
  },
  {
   "cell_type": "markdown",
   "id": "12834bea-84d7-4f12-8805-f2eab39e8715",
   "metadata": {
    "editable": true,
    "slideshow": {
     "slide_type": "subslide"
    },
    "tags": []
   },
   "source": [
    "$$\n",
    "\\begin{align}\n",
    "\\mathcal{O}\\left(\\left|V\\right|\\right) + \\mathcal{O}\\left(\\left|V\\right|\\right) \\mathcal{O}\\left(\\left|A\\right|\\right) \\\\\n",
    "\\cancel{\\mathcal{O}\\left(\\left|V\\right|\\right)} + \\mathcal{O}\\left(\\left|V\\right| \\left|A\\right|\\right) \\\\\n",
    "\\boxed{\\mathcal{O}\\left(\\left|V\\right| \\left|A\\right|\\right)}\n",
    "\\end{align}\n",
    "$$"
   ]
  }
 ],
 "metadata": {
  "@deathbeds/ipydrawio": {
   "xml": ""
  },
  "kernelspec": {
   "display_name": "Python 3 (ipykernel)",
   "language": "python",
   "name": "python3"
  },
  "language_info": {
   "codemirror_mode": {
    "name": "ipython",
    "version": 3
   },
   "file_extension": ".py",
   "mimetype": "text/x-python",
   "name": "python",
   "nbconvert_exporter": "python",
   "pygments_lexer": "ipython3",
   "version": "3.12.5"
  }
 },
 "nbformat": 4,
 "nbformat_minor": 5
}
