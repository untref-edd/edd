{
 "cells": [
  {
   "cell_type": "code",
   "execution_count": null,
   "id": "8391904e-b28d-4d19-90a7-9eaa55259acb",
   "metadata": {},
   "outputs": [],
   "source": [
    "from edd.grafo import DiGrafo\n",
    "\n",
    "G = DiGrafo()\n",
    "G.agregar_arista(\"A\", \"B\", 4)\n",
    "G.agregar_arista(\"A\", \"C\", 1)\n",
    "G.agregar_arista(\"B\", \"E\", 3)\n",
    "G.agregar_arista(\"C\", \"B\", 2)\n",
    "G.agregar_arista(\"C\", \"D\", 2)\n",
    "G.agregar_arista(\"D\", \"E\", 3)\n",
    "\n",
    "G.draw(output_file=\"figuras/grafo-dijkstra.png\")"
   ]
  },
  {
   "cell_type": "code",
   "execution_count": null,
   "id": "44ff3e36-cda5-40f5-8dc7-b4e2fd4ba3b0",
   "metadata": {},
   "outputs": [],
   "source": [
    "from edd.grafo import DiGrafo\n",
    "\n",
    "G = DiGrafo()\n",
    "G.agregar_arista(\"A\", \"B\", 1)\n",
    "G.agregar_arista(\"A\", \"C\", 1)\n",
    "G.agregar_arista(\"B\", \"E\", 3)\n",
    "G.agregar_arista(\"C\", \"B\", -2)\n",
    "G.agregar_arista(\"C\", \"D\", 2)\n",
    "G.agregar_arista(\"D\", \"E\", 3)\n",
    "\n",
    "G.draw(output_file=\"figuras/grafo-bellman-ford.png\")"
   ]
  }
 ],
 "metadata": {
  "kernelspec": {
   "display_name": "Python 3 (ipykernel)",
   "language": "python",
   "name": "python3"
  },
  "language_info": {
   "codemirror_mode": {
    "name": "ipython",
    "version": 3
   },
   "file_extension": ".py",
   "mimetype": "text/x-python",
   "name": "python",
   "nbconvert_exporter": "python",
   "pygments_lexer": "ipython3",
   "version": "3.12.5"
  }
 },
 "nbformat": 4,
 "nbformat_minor": 5
}
