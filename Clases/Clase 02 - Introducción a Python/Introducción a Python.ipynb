{
 "cells": [
  {
   "cell_type": "markdown",
   "metadata": {
    "editable": true,
    "id": "4vzOkTwRYIb9",
    "slideshow": {
     "slide_type": "slide"
    },
    "tags": []
   },
   "source": [
    "<p style=\"text-align: center\">\n",
    "    <img src=\"../../assets/images/untref-logo-negro.svg\" style=\"height: 50px;\" />\n",
    "</p>\n",
    "\n",
    "<h3 style=\"text-align: center\">Estructura de Datos</h3>\n",
    "\n",
    "<h2 style=\"text-align: center\">Clase 2: Introducción a Python</h3>"
   ]
  },
  {
   "cell_type": "markdown",
   "metadata": {
    "editable": true,
    "slideshow": {
     "slide_type": "slide"
    },
    "tags": []
   },
   "source": [
    "## Tipos de Datos\n",
    "\n",
    "Python viene con varios tipos de datos ya integrados en el lenguaje, listos para usar. Estos tipos se pueden clasificar como:\n",
    "\n",
    "- Numéricos\n",
    "- Secuencias\n",
    "- Mapas\n",
    "- Instancias\n",
    "- Clases\n",
    "- Excepciones\n",
    "- Tipos Especiales\n"
   ]
  },
  {
   "cell_type": "markdown",
   "metadata": {
    "editable": true,
    "slideshow": {
     "slide_type": "subslide"
    },
    "tags": []
   },
   "source": [
    "### Tipos Numéricos\n",
    "\n",
    "- Enteros: Sin límite de tamaño, es decir no hay un entero máximo o mínimo que se pueda representar\n",
    "- Punto Flotante: En general tienen una representación de doble precisión (64 bits), pero depende del hardware y la implementación\n",
    "- Complejos\n"
   ]
  },
  {
   "cell_type": "markdown",
   "metadata": {
    "editable": true,
    "slideshow": {
     "slide_type": "subslide"
    },
    "tags": []
   },
   "source": [
    "#### Operaciones\n",
    "\n",
    "Los tipos numéricos soportan una amplia variedad de operaciones.\n",
    "\n",
    "##### Operaciones aritméticas básicas:\n",
    "- Suma\n",
    "- Resta\n",
    "- Multiplicación\n",
    "- División\n",
    "- División entera\n",
    "- Módulo\n",
    "- Potencia\n",
    "\n",
    "##### Operaciones de comparación: (orden total)\n",
    "- Igualdad\n",
    "- Desigualdad\n",
    "- Mayor que\n",
    "- Menor que\n",
    "- Mayor o igual que\n",
    "- Menor o igual que"
   ]
  },
  {
   "cell_type": "markdown",
   "metadata": {
    "editable": true,
    "slideshow": {
     "slide_type": "subslide"
    },
    "tags": []
   },
   "source": [
    "##### Operadores de asignación compuestos:\n",
    "- Suma y asignación\n",
    "- Resta y asignación\n",
    "- Multiplicación y asignación\n",
    "- División y asignación\n",
    "- División entera y asignación\n",
    "- Módulo y asignación\n",
    "- Potencia y asignación\n",
    "\n",
    "##### Otras operaciones:\n",
    "- Negación\n",
    "\n",
    "##### Conversión de tipos\n",
    "Se puede convertir un tipo numérico a otro explicitamente\n",
    "\n",
    "##### Funciones matemáticas\n",
    "Python proporciona un módulo matemático (math) con una amplia variedad de funciones matemáticas, como seno, coseno, logaritmos, etc."
   ]
  },
  {
   "cell_type": "markdown",
   "metadata": {
    "editable": true,
    "slideshow": {
     "slide_type": "subslide"
    },
    "tags": []
   },
   "source": [
    "### Secuencias\n",
    "Una secuencia es una colección ordenada de elementos. Es decir cada elemento tiene una posición determinada en la secuencia. El primer elemento de una secuencia se encuentra en la posición 0\n",
    "\n",
    "- Listas: mutables y heterogéneas.\n",
    "- Tuplas: inmutables y heterogéneas.\n",
    "- Cadenas: inmutables y homogéneas.\n",
    "- Rangos: Permiten definir una serie numérica."
   ]
  },
  {
   "cell_type": "markdown",
   "metadata": {
    "editable": true,
    "slideshow": {
     "slide_type": "fragment"
    },
    "tags": []
   },
   "source": [
    "#### Operaciones sobre secuencias\n",
    "- Acceso a un elemento\n",
    "- Slicing: Extraer una porción de una secuencia\n",
    "- Concatenación\n",
    "- Repetición: Una secuencia se puede multiplicar por un número natural para obtener una nueva secuencia\n",
    "- Longitud\n",
    "- Pertinencia: Se puede chequear si un elemento se encuentra en la secuencia\n",
    "  \n",
    "Una tipo de secuencia se puede convertir en otro tipo de secuencia"
   ]
  },
  {
   "cell_type": "markdown",
   "metadata": {
    "editable": true,
    "slideshow": {
     "slide_type": "subslide"
    },
    "tags": []
   },
   "source": [
    "### Mapas\n",
    "Usamos el término Mapas en forma genérica para referirnos a:\n",
    "- Diccionarios\n",
    "- Conjuntos\n"
   ]
  },
  {
   "cell_type": "markdown",
   "metadata": {
    "editable": true,
    "slideshow": {
     "slide_type": "fragment"
    },
    "tags": []
   },
   "source": [
    "#### Diccionarios\n",
    "Permiten almacenar pares `(clave, valor)`. Internamente usan hashing, por lo que las claves tienen que ser inmutables.\n",
    "\n",
    "##### Operaciones sobre diccionarios\n",
    "- Acceder a un elemento\n",
    "- Insertar un elemento\n",
    "- Eliminar un elemento\n",
    "- Pertenencia: Para verificar si una clave pertenece a un diccionario\n",
    "- Iteraciones: Los diccionarios se pueden iterar por claves, valores o ambos"
   ]
  },
  {
   "cell_type": "markdown",
   "metadata": {
    "editable": true,
    "slideshow": {
     "slide_type": "subslide"
    },
    "tags": []
   },
   "source": [
    "#### Conjuntos\n",
    "Son colecciones no ordenadas (a diferencia de las secuencias) de elementos heterogéneos. Los conjuntos pueden ser mutables o inmutables. Los elementos de un conjunto tienen que ser **inmutables**\n",
    "\n",
    "##### Operaciones sobre conjuntos\n",
    "- Agregar un elemento\n",
    "- Agregar todos los elementos de otro iterable\n",
    "- Eliminar un elemento arbitario\n",
    "- Eliminar un elemento dado y que levante una excepción si no existe el elemento\n",
    "- Eliminar un elemento dado y que no levante ninguna excepción si no existe el elemento\n",
    "- Verificar si un elemento pertence a un conjunto\n",
    "- Verificar la cantidad de elementos de un conjunto\n",
    "- Vaciar un conjunto\n",
    "- Copiar un conjunto\n",
    "\n",
    "##### Operaciones entre conjuntos\n",
    "- Unión\n",
    "- Intersección\n",
    "- Diferencia\n",
    "- Diferencia Simétrica\n",
    "- Subconjunto: Se puede chequear si un conjunto dado es un subconjunto de otro\n",
    "- Superconjunto: Se puede chequear si un conjunto es un superconjunto de otro\n"
   ]
  },
  {
   "cell_type": "markdown",
   "metadata": {
    "editable": true,
    "slideshow": {
     "slide_type": "subslide"
    },
    "tags": []
   },
   "source": [
    "### Tipos especiales\n",
    "\n",
    "Python soporta algunos tipos especiales:\n",
    "- **bool**: Cualquier objeto puede ser evaluado como si fuera un valor verdadero o falso y usarse en una expresión booleana. Por defecto un objeto es considerado Verdadero, salvo que la clase a la que pertenece defina el método `__bool__()` y este devuelva Falso.\n",
    "- **None y NoneType**: Representa la ausencia de un valor para variables y parámetros y objetos respectivamente.\n"
   ]
  },
  {
   "cell_type": "markdown",
   "metadata": {
    "editable": true,
    "slideshow": {
     "slide_type": "slide"
    },
    "tags": []
   },
   "source": [
    "## Estructuras de Control\n",
    "\n",
    "### Condicionales\n",
    "#### **if-elif-else**\n",
    "    \n",
    "```python\n",
    "if condicion:\n",
    "    # Bloque de código si la condición es True\n",
    "elif condicion:\n",
    "    # Bloque de código si la condición es True\n",
    "else:\n",
    "    # Bloque de código si ninguna de las condiciones anteriores es True\n",
    "```\n",
    "\n",
    "#### **match-case**\n",
    "\n",
    "```python\n",
    "match expresion:\n",
    "    case patron1:\n",
    "        # Código a ejecutar si el patrón 1 coincide\n",
    "    case _: #default\n",
    "        # Código por defecto (si ningún patrón coincide)\n",
    "```\n",
    "\n"
   ]
  },
  {
   "cell_type": "markdown",
   "metadata": {
    "editable": true,
    "slideshow": {
     "slide_type": "fragment"
    },
    "tags": []
   },
   "source": [
    "#### Consideraciones Adicionales\n",
    "- **`pass`**: Es una sentencia vacía, se utiliza como marcador de posición cuando sintácticamente se requiere una sentencia pero no se desea realizar ninguna acción."
   ]
  },
  {
   "cell_type": "markdown",
   "metadata": {
    "editable": true,
    "slideshow": {
     "slide_type": "subslide"
    },
    "tags": []
   },
   "source": [
    "### Bucles\n",
    "\n",
    "#### **for**\n",
    "```python\n",
    "for elemento in iterable:\n",
    "    #Bloque de código a ejecutar \n",
    "```\n",
    "\n",
    "#### **while**\n",
    "```python\n",
    "while condicion:\n",
    "    #Bloque de código a ejecutar mientras la condición sea verdadera\n",
    "```\n"
   ]
  },
  {
   "cell_type": "markdown",
   "metadata": {
    "editable": true,
    "slideshow": {
     "slide_type": "fragment"
    },
    "tags": []
   },
   "source": [
    "#### Consideraciones adicionales\n",
    "- **`break`**: Se utiliza para salir del bucle de forma anticipada.\n",
    "- **`continue`**: Se utiliza para saltar a la siguiente iteración del bucle.\n",
    "- **`else:`** Se puede usar con ambos bucles para ejecutar un bloque de código si el bucle termina normalmente (sin encontrar un break)."
   ]
  },
  {
   "cell_type": "markdown",
   "metadata": {
    "editable": true,
    "id": "T9lRQOiSTqNX",
    "slideshow": {
     "slide_type": "slide"
    },
    "tags": []
   },
   "source": [
    "## Ámbitos de ejecución\n",
    "\n",
    "El ámbito de ejecución de una instrucción define un área donde se puede referir a un nombre (variable, función, objeto, etc.) en forma inequivoca. En python tenemos al menos 4 ámbitos donde python buscará el identificador o el nombre que necesita para ejecutar la instrucción"
   ]
  },
  {
   "cell_type": "markdown",
   "metadata": {
    "editable": true,
    "slideshow": {
     "slide_type": "fragment"
    },
    "tags": []
   },
   "source": [
    "![ambito.png](data:image/png;base64,iVBORw0KGgoAAAANSUhEUgAAA0gAAAHMCAYAAADvWYg8AACAAElEQVR4Xuy9h5sVRfb///079rfR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)"
   ]
  },
  {
   "cell_type": "markdown",
   "metadata": {
    "editable": true,
    "id": "clBzgymRYIb_",
    "slideshow": {
     "slide_type": "subslide"
    },
    "tags": []
   },
   "source": [
    "### Ámbito Local\n",
    "Los nombres usados dentro de una función solo son visibles dentro de la misma y ocultan nombres iguales definidos en otros ámbitos más externos"
   ]
  },
  {
   "cell_type": "code",
   "execution_count": null,
   "metadata": {
    "editable": true,
    "id": "zbGbcVwcdYzd",
    "slideshow": {
     "slide_type": "fragment"
    },
    "tags": []
   },
   "outputs": [],
   "source": [
    "x = 3\n",
    "\n",
    "\n",
    "def funcion(y):\n",
    "    x = 4\n",
    "    return x + y"
   ]
  },
  {
   "cell_type": "code",
   "execution_count": null,
   "metadata": {
    "editable": true,
    "id": "Hwi_9Ax3AjPM",
    "slideshow": {
     "slide_type": "fragment"
    },
    "tags": []
   },
   "outputs": [],
   "source": [
    "print(funcion(6))\n",
    "print(x)"
   ]
  },
  {
   "cell_type": "markdown",
   "metadata": {
    "editable": true,
    "id": "JAf64ox2d2r7",
    "slideshow": {
     "slide_type": "subslide"
    },
    "tags": []
   },
   "source": [
    "### Ámbito de ejecución de una función o Clausura de la función\n",
    "Las referencias externas a una función se evalúan dinámicamente dentro del entorno donde se ejecutan"
   ]
  },
  {
   "cell_type": "code",
   "execution_count": null,
   "metadata": {
    "editable": true,
    "id": "Ue_-1zeZYIcH",
    "slideshow": {
     "slide_type": "fragment"
    },
    "tags": []
   },
   "outputs": [],
   "source": [
    "x = 4\n",
    "\n",
    "\n",
    "def incrementar_4(y):\n",
    "    return x + y"
   ]
  },
  {
   "cell_type": "code",
   "execution_count": null,
   "metadata": {
    "editable": true,
    "id": "OqRveNQ9YIcN",
    "slideshow": {
     "slide_type": "fragment"
    },
    "tags": []
   },
   "outputs": [],
   "source": [
    "incrementar_4(6)"
   ]
  },
  {
   "cell_type": "code",
   "execution_count": null,
   "metadata": {
    "editable": true,
    "id": "aVa-HXeqYIcS",
    "slideshow": {
     "slide_type": "fragment"
    },
    "tags": []
   },
   "outputs": [],
   "source": [
    "x = \"Estructuras de Datos\"\n",
    "incrementar_4(\" UNTREF \")"
   ]
  },
  {
   "cell_type": "markdown",
   "metadata": {
    "editable": true,
    "id": "AMwLJle6eQH_",
    "slideshow": {
     "slide_type": "fragment"
    },
    "tags": []
   },
   "source": [
    "Si deseo que incrementar_4 siempre sume 4 independientemente del entorno en que se ejecute podemos usar funciones anidadas"
   ]
  },
  {
   "cell_type": "code",
   "execution_count": null,
   "metadata": {
    "editable": true,
    "id": "RC-Avg5mAjPk",
    "slideshow": {
     "slide_type": "fragment"
    },
    "tags": []
   },
   "outputs": [],
   "source": [
    "def fabrica_incrementos(incremento):\n",
    "    def f(x):\n",
    "        return x + incremento\n",
    "\n",
    "    return f\n",
    "\n",
    "\n",
    "incrementar_4 = fabrica_incrementos(4)\n",
    "i4 = incrementar_4"
   ]
  },
  {
   "cell_type": "code",
   "execution_count": null,
   "metadata": {
    "editable": true,
    "id": "xP7MWcIIAjPn",
    "slideshow": {
     "slide_type": "fragment"
    },
    "tags": []
   },
   "outputs": [],
   "source": [
    "print(incrementar_4(6))\n",
    "print(i4(8))"
   ]
  },
  {
   "cell_type": "code",
   "execution_count": null,
   "metadata": {
    "editable": true,
    "id": "crXIgZLtAjPq",
    "slideshow": {
     "slide_type": "fragment"
    },
    "tags": []
   },
   "outputs": [],
   "source": [
    "incremento = 10\n",
    "incrementar_4(6)"
   ]
  },
  {
   "cell_type": "markdown",
   "metadata": {
    "editable": true,
    "id": "aDoDghY_AjPu",
    "slideshow": {
     "slide_type": "subslide"
    },
    "tags": []
   },
   "source": [
    "Otro ejemplo de como empaquetar datos en el entorno de ejecución de una función:"
   ]
  },
  {
   "cell_type": "code",
   "execution_count": null,
   "metadata": {
    "editable": true,
    "id": "6bjYAMkZAjPw",
    "slideshow": {
     "slide_type": "fragment"
    },
    "tags": []
   },
   "outputs": [],
   "source": [
    "def cifrar_mensaje(msj, password):\n",
    "    return lambda x: msj if x == password else None\n",
    "\n",
    "\n",
    "descifrar = cifrar_mensaje(\"hola como están\", 1245)\n",
    "print(descifrar(\"clave incorrecta\"))\n",
    "print(descifrar(1245))"
   ]
  },
  {
   "cell_type": "markdown",
   "metadata": {
    "editable": true,
    "id": "Yf9hCWdbAjP0",
    "slideshow": {
     "slide_type": "subslide"
    },
    "tags": []
   },
   "source": [
    "### Ámbito Global\n",
    "Es el ámbito global a todo el código, las variables declaradas fuera de toda función son globales a todo el código. En general no es una buena práctica usar variables globales, porque pueden hacer el código más dificil de seguir, puede afectar el comportamiento de funciones como vimos en el punto anterior y las variables en este ámbito pueden quedar ocultas por variables locales.\n",
    "Python cuenta con módulos y cada módulo define un espacio de nombres, donde se pueden definir constantes y usar el nombre completo para referirse a una constante"
   ]
  },
  {
   "cell_type": "code",
   "execution_count": null,
   "metadata": {
    "editable": true,
    "id": "AZm9M9usAjP1",
    "slideshow": {
     "slide_type": "fragment"
    },
    "tags": []
   },
   "outputs": [],
   "source": [
    "# import math\n",
    "\n",
    "\n",
    "# Otra forma es importar solo lo que vamos a usar\n",
    "from math import pi\n",
    "\n",
    "\n",
    "# En este caso no hace falta usar el nombre completo y se puede usar directamente pi\n",
    "def area_circulo(radio):\n",
    "    return pi * radio * radio\n",
    "\n",
    "\n",
    "area_circulo(1)"
   ]
  },
  {
   "cell_type": "markdown",
   "metadata": {
    "editable": true,
    "id": "3JC3y6bAAjP4",
    "slideshow": {
     "slide_type": "fragment"
    },
    "tags": []
   },
   "source": [
    "En el ámbito local se puede usar la palabra reservada global para poder modificar la variable global dentro de una función. No es recomendable que las funciones tengan efectos colaterales, salvo casos muy controlados."
   ]
  },
  {
   "cell_type": "code",
   "execution_count": null,
   "metadata": {
    "editable": true,
    "id": "gMvgFAIpAjP4",
    "slideshow": {
     "slide_type": "fragment"
    },
    "tags": []
   },
   "outputs": [],
   "source": [
    "incremento = 5\n",
    "\n",
    "\n",
    "def incrementar_4(x):\n",
    "    global incremento\n",
    "    incremento = 4\n",
    "    return x + incremento\n",
    "\n",
    "\n",
    "print(incrementar_4(6))\n",
    "print(incremento)"
   ]
  },
  {
   "cell_type": "markdown",
   "metadata": {
    "editable": true,
    "id": "OyeiV-FbAjP7",
    "slideshow": {
     "slide_type": "subslide"
    },
    "tags": []
   },
   "source": [
    "### Ámbito Built-in\n",
    "Es el ámbito donde se encuentran las palabras reservadas de Python. No se pueden sobrecargar, salvo algunos operadores\n"
   ]
  },
  {
   "cell_type": "code",
   "execution_count": null,
   "metadata": {
    "editable": true,
    "id": "xUKkVBTaAjP8",
    "slideshow": {
     "slide_type": "fragment"
    },
    "tags": []
   },
   "outputs": [],
   "source": [
    "for = 4"
   ]
  },
  {
   "cell_type": "code",
   "execution_count": null,
   "metadata": {
    "editable": true,
    "id": "ZfHJ-ev5AjP_",
    "slideshow": {
     "slide_type": "fragment"
    },
    "tags": []
   },
   "outputs": [],
   "source": [
    "class Punto:\n",
    "    def __init__(self, coord_x=0, coord_y=0):\n",
    "        \"\"\"Constructor de la clase punto, por defecto construye\n",
    "        el punto en el origen\"\"\"\n",
    "        self.x = coord_x\n",
    "        self.y = coord_y\n",
    "\n",
    "    def mover(self, incremento_x, incremento_y):\n",
    "        self.x += incremento_x\n",
    "        self.y += incremento_y\n",
    "\n",
    "    def __add__(self, otro_punto):\n",
    "        return Punto(self.x + otro_punto.x, self.y + otro_punto.y)\n",
    "\n",
    "    def __str__(self):\n",
    "        \"\"\"Para imprimir un punto con print\"\"\"\n",
    "        return \"(%d, %d)\" % (self.x, self.y)"
   ]
  },
  {
   "cell_type": "code",
   "execution_count": null,
   "metadata": {
    "editable": true,
    "id": "E0Xxqb_jAjQC",
    "slideshow": {
     "slide_type": "fragment"
    },
    "tags": []
   },
   "outputs": [],
   "source": [
    "p1 = Punto(1, 1)\n",
    "p2 = Punto(2, 2)\n",
    "p3 = p1 + p2\n",
    "print(p1)\n",
    "print(p2)\n",
    "print(p3)"
   ]
  },
  {
   "cell_type": "markdown",
   "metadata": {
    "editable": true,
    "id": "YdSs6G4qYIcb",
    "slideshow": {
     "slide_type": "slide"
    },
    "tags": []
   },
   "source": [
    "### Funciones\n",
    "#### Pasaje de parámetros en Python\n",
    "Python tiene distintas formas de pasar parámetros a una función"
   ]
  },
  {
   "cell_type": "markdown",
   "metadata": {
    "editable": true,
    "id": "cLAyoJxge_DU",
    "slideshow": {
     "slide_type": "fragment"
    },
    "tags": []
   },
   "source": [
    "\n",
    "\n",
    "```python\n",
    "def funcion(p_posicionales, p_nombrados, *p_posicionales_variables, **p_nombrados_variables):\n",
    "```\n",
    "\n"
   ]
  },
  {
   "cell_type": "markdown",
   "metadata": {
    "editable": true,
    "id": "jx0Yl2OMfT3O",
    "slideshow": {
     "slide_type": "subslide"
    },
    "tags": []
   },
   "source": [
    "### Parámetros posicionales\n",
    "De acuerdo a la posición en que se pasan los parámetros se ligan con los argumentos de una función"
   ]
  },
  {
   "cell_type": "code",
   "execution_count": null,
   "metadata": {
    "editable": true,
    "id": "JZG5MsvuYIch",
    "slideshow": {
     "slide_type": "fragment"
    },
    "tags": []
   },
   "outputs": [],
   "source": [
    "def concatenar(cadena1, cadena2):\n",
    "    return cadena1 + cadena2\n",
    "\n",
    "\n",
    "print(concatenar(\"Hola \", \"mundo\"))\n",
    "print(concatenar(\"mundo\", \"Hola \"))"
   ]
  },
  {
   "cell_type": "markdown",
   "metadata": {
    "editable": true,
    "id": "W8YVeT7Bff4S",
    "slideshow": {
     "slide_type": "subslide"
    },
    "tags": []
   },
   "source": [
    "### Parámetros nombrados\n",
    "Se pueden nombrar los parámetros al momento de invocar una función, y de esa forma no importa en orden en que se pasan"
   ]
  },
  {
   "cell_type": "code",
   "execution_count": null,
   "metadata": {
    "editable": true,
    "id": "ifFjdIbBYIcr",
    "slideshow": {
     "slide_type": "fragment"
    },
    "tags": []
   },
   "outputs": [],
   "source": [
    "print(concatenar(cadena2=\"mundo\", cadena1=\"Hola \"))"
   ]
  },
  {
   "cell_type": "markdown",
   "metadata": {
    "editable": true,
    "id": "U5qOBXX7fo8s",
    "slideshow": {
     "slide_type": "subslide"
    },
    "tags": []
   },
   "source": [
    "### Parámetros por defecto\n",
    "Los parámetros con valores por defecto, siempre se ubican después de los parámetros posicionales, y permiten definir un valor por defecto tal que si se omite el parámetro en la invación toma el valor por defecto"
   ]
  },
  {
   "cell_type": "markdown",
   "metadata": {
    "editable": true,
    "id": "YDhzT25RAjQf",
    "slideshow": {
     "slide_type": "subslide"
    },
    "tags": []
   },
   "source": [
    "### Parámetros de longitud variable\n",
    "Pueden ser posicionales o nombrados, en el caso de los parámetros posicionales, Python los empaqueta en una tupla, tal que se puede manipular la misma dentro de la función y en el caso de parámetros nombrados variables, los encapsula en un diccionario."
   ]
  },
  {
   "cell_type": "code",
   "execution_count": null,
   "metadata": {
    "editable": true,
    "id": "t5SnC1vAAjQg",
    "slideshow": {
     "slide_type": "fragment"
    },
    "tags": []
   },
   "outputs": [],
   "source": [
    "def sumar(*numeros):\n",
    "    suma = 0\n",
    "    print(\" parametros recibidos: %d\" % len(numeros))\n",
    "    for num in numeros:\n",
    "        suma += num\n",
    "    return suma\n",
    "\n",
    "\n",
    "print(sumar(1, 2))\n",
    "print(sumar(1, 2, 3, 4, 5, 6, 7, 8, 9))"
   ]
  },
  {
   "cell_type": "code",
   "execution_count": null,
   "metadata": {
    "editable": true,
    "id": "QifOgyiVAjQk",
    "slideshow": {
     "slide_type": "fragment"
    },
    "tags": []
   },
   "outputs": [],
   "source": [
    "def imprimir_datos(**datos):\n",
    "    for clave, valor in datos.items():\n",
    "        print(\"{} = {}\".format(clave, valor))\n",
    "    print()\n",
    "\n",
    "\n",
    "imprimir_datos(nombre=\"Ana\", edad=22, telefono=\"1544771224\")\n",
    "imprimir_datos(nombre=\"Juan\", segundo_nombre=\"Antonio\", apellido=\"Perez\")"
   ]
  },
  {
   "cell_type": "markdown",
   "metadata": {
    "editable": true,
    "id": "6nywCqqzAjRq",
    "slideshow": {
     "slide_type": "slide"
    },
    "tags": []
   },
   "source": [
    "## Programación orientada a objetos\n",
    "### Clase Punto:\n",
    "- Definir una clase Punto que permita representar  un punto en el plano como un par ordenado (posicionX, posicionY).\n",
    "- Definir un método mover que permita mover un punto por el plano\n"
   ]
  },
  {
   "cell_type": "code",
   "execution_count": null,
   "metadata": {
    "editable": true,
    "id": "bXvylZkgAjRr",
    "slideshow": {
     "slide_type": "subslide"
    },
    "tags": []
   },
   "outputs": [],
   "source": [
    "class Punto:\n",
    "    def __init__(self, coord_x=0, coord_y=0):\n",
    "        \"\"\"Constructor de la clase punto, por defecto construye\n",
    "        el punto en el origen\"\"\"\n",
    "        self.x = coord_x\n",
    "        self.y = coord_y\n",
    "\n",
    "    def mover(self, incremento_x, incremento_y):\n",
    "        self.x += incremento_x\n",
    "        self.y += incremento_y\n",
    "\n",
    "    def __str__(self):\n",
    "        \"\"\"Para imprimir un punto con print\"\"\"\n",
    "        return \"(%d, %d)\" % (self.x, self.y)\n",
    "\n",
    "\n",
    "if __name__ == \"__main__\":\n",
    "    p1 = Punto()\n",
    "    p2 = Punto(10, 10)\n",
    "\n",
    "    print(p1)\n",
    "    print(p2)\n",
    "\n",
    "    p1.mover(-10, -10)\n",
    "\n",
    "    print(p1)\n",
    "    print(p2)"
   ]
  },
  {
   "cell_type": "raw",
   "metadata": {
    "editable": true,
    "id": "JW7bRawrAjRu",
    "raw_mimetype": "",
    "slideshow": {
     "slide_type": "subslide"
    },
    "tags": []
   },
   "source": [
    "                                   .---------------.\n",
    "                                   |    FIGURA     |\n",
    "                                   .---------------.\n",
    "                                   |               |\n",
    "                                   '---------------'\n",
    "                                           ^\n",
    "                                           |\n",
    "                       .-------------------.-------------------.\n",
    "               .-------'-------.   .-------'-------.   .-------'-------.\n",
    "               |    ELIPSE     |   |  RECTANGULO   |   |   TRIANGULO   |\n",
    "               .---------------.   .---------------.   .---------------.\n",
    "               |               |   |               |   |               |\n",
    "               '---------------'   '---------------'   '---------------'\n",
    "                       ^                   ^\n",
    "                       |                   |\n",
    "                       |                   |\n",
    "               .---------------.   .---------------.\n",
    "               |    CIRCULO    |   |   CUADRADO    |\n",
    "               '---------------'   '---------------'\n",
    "               |               |   |               |\n",
    "               '---------------'   '---------------'"
   ]
  },
  {
   "cell_type": "markdown",
   "metadata": {
    "editable": true,
    "id": "fwqIogq8AjRu",
    "slideshow": {
     "slide_type": "subslide"
    },
    "tags": []
   },
   "source": [
    "\n",
    "### Implementar el diagrama de clase\n",
    "- Considerar que se debe poder calcular el área de todas las figuras concretas.\n",
    "- Todas las figuras tienen un color de relleno y un color de borde (los colores se representan como enteros\n",
    "- Todas las figuras tienen un atributo booleano que indican si están visible o no y que se puede modificar con el método visible\n",
    "- Todas las figuras se deben poder mover en el plano\n",
    "- Las figuras deben utilizar la clase Punto recién definida para poder representarlas en el plano:\n",
    "    - Las elipses deben almacenar el centro (punto) y la medida de los radios. \n",
    "    - Los rectángulos deben almacenar el punto de la esquina inferior izquierda y el punto de la esquina superior derecha.\n",
    "    - Los triángulos deben almacenar los tres vértices.\n",
    "- Escribir los constructores correspondientes, y sobreescribir \\__str__."
   ]
  },
  {
   "cell_type": "code",
   "execution_count": null,
   "metadata": {
    "editable": true,
    "id": "bToHb8eoAjRv",
    "slideshow": {
     "slide_type": "subslide"
    },
    "tags": []
   },
   "outputs": [],
   "source": [
    "import math\n",
    "\n",
    "\n",
    "class Figura:\n",
    "    \"\"\"En python no existen las clases abstractas, todas las clases son\n",
    "    concretas\"\"\"\n",
    "\n",
    "    def __init__(self, color_borde=0, color_relleno=0, visibilidad=True):\n",
    "        self.color_borde = color_borde\n",
    "        self.color_relleno = color_relleno\n",
    "        self.visibilidad = visibilidad\n",
    "\n",
    "    def visible(visibilidad):\n",
    "        self.visibilidad = visibilidad\n",
    "\n",
    "    def __str__(self):\n",
    "        \"\"\"Con introspeccion puedo preguntar el nombre de la clase y\n",
    "        el duck typing me permite llamar un método que todavía no está\n",
    "        definido\"\"\"\n",
    "        return \"%s: area: %s\" % (self.__class__.__name__, self.area())"
   ]
  },
  {
   "cell_type": "code",
   "execution_count": null,
   "metadata": {
    "editable": true,
    "id": "eWDs16smAjRx",
    "slideshow": {
     "slide_type": "subslide"
    },
    "tags": []
   },
   "outputs": [],
   "source": [
    "class Elipse(Figura):\n",
    "    def __init__(\n",
    "        self,\n",
    "        centro,\n",
    "        radio_menor,\n",
    "        radio_mayor,\n",
    "        color_borde=0,\n",
    "        color_relleno=0,\n",
    "        visibilidad=True,\n",
    "    ):\n",
    "        super().__init__(color_borde, color_relleno, visibilidad)\n",
    "        self.centro = centro\n",
    "        self.radio_menor = radio_menor\n",
    "        self.radio_mayor = radio_mayor\n",
    "\n",
    "    def area(self):\n",
    "        return math.pi * self.radio_menor * self.radio_mayor\n",
    "\n",
    "    def mover(self, incremento_x, incremento_y):\n",
    "        self.centro.mover(incremento_x, incremento_y)\n",
    "\n",
    "    def __str__(self):\n",
    "        return super().__str__() + \"\\n\\tcentro: \" + self.centro.__str__()\n",
    "\n",
    "\n",
    "if __name__ == \"__main__\":\n",
    "    e = Elipse(Punto(), 1, 2)\n",
    "    print(e)\n",
    "\n",
    "    e.mover(1, 1)\n",
    "    print(e)"
   ]
  },
  {
   "cell_type": "code",
   "execution_count": null,
   "metadata": {
    "editable": true,
    "id": "4b2Y0-M2AjR3",
    "slideshow": {
     "slide_type": "subslide"
    },
    "tags": []
   },
   "outputs": [],
   "source": [
    "class Circulo(Elipse):\n",
    "    def __init__(self, centro, radio, color_borde=0, color_relleno=0, visibilidad=True):\n",
    "        super().__init__(centro, radio, radio, color_borde, color_relleno, visibilidad)\n",
    "\n",
    "\n",
    "if __name__ == \"__main__\":\n",
    "    c = Circulo(Punto(10, 10), 2)\n",
    "    print(c)\n",
    "    c.mover(-10, -10)\n",
    "    print(c)"
   ]
  },
  {
   "cell_type": "code",
   "execution_count": null,
   "metadata": {
    "editable": true,
    "id": "GhTAc6NQAjR7",
    "slideshow": {
     "slide_type": "subslide"
    },
    "tags": []
   },
   "outputs": [],
   "source": [
    "class Rectangulo(Figura):\n",
    "    def __init__(\n",
    "        self,\n",
    "        vertice_inf_izq,\n",
    "        vertice_sup_der,\n",
    "        color_borde=0,\n",
    "        color_relleno=0,\n",
    "        visibilidad=True,\n",
    "    ):\n",
    "        super().__init__(color_borde, color_relleno, visibilidad)\n",
    "        self.vertice_inf_izq = vertice_inf_izq\n",
    "        self.vertice_sup_der = vertice_sup_der\n",
    "\n",
    "    def area(self):\n",
    "        base = self.vertice_sup_der.x - self.vertice_inf_izq.x\n",
    "        altura = self.vertice_sup_der.y - self.vertice_inf_izq.y\n",
    "        return base * altura\n",
    "\n",
    "    def mover(self, incremento_x, incremento_y):\n",
    "        self.vertice_inf_izq.mover(incremento_x, incremento_y)\n",
    "        self.vertice_sup_der.mover(incremento_x, incremento_y)\n",
    "\n",
    "    def __str__(self):\n",
    "        return (\n",
    "            super().__str__()\n",
    "            + \"\\n\\tvertice_inf_izq: \"\n",
    "            + self.vertice_inf_izq.__str__()\n",
    "            + \"\\n\\tvertice_sup_der: \"\n",
    "            + self.vertice_sup_der.__str__()\n",
    "        )\n",
    "\n",
    "\n",
    "if __name__ == \"__main__\":\n",
    "    r = Rectangulo(Punto(), Punto(2, 2))\n",
    "    print(r)\n",
    "    r.mover(1, 1)\n",
    "    print(r)"
   ]
  },
  {
   "cell_type": "code",
   "execution_count": null,
   "metadata": {
    "editable": true,
    "id": "wKxJr4ErAjR-",
    "slideshow": {
     "slide_type": "subslide"
    },
    "tags": []
   },
   "outputs": [],
   "source": [
    "class Cuadrado(Rectangulo):\n",
    "    def __init__(self, vertice_inf_izq, lado, color_borde=0, color_relleno=0, visibilidad=True):\n",
    "        vertice_sup_der = Punto(vertice_inf_izq.x + lado, vertice_inf_izq.y + lado)\n",
    "        super().__init__(vertice_inf_izq, vertice_sup_der, color_borde, color_relleno, visibilidad)\n",
    "\n",
    "\n",
    "if __name__ == \"__main__\":\n",
    "    c = Cuadrado(Punto(), 2)\n",
    "    print(c)\n",
    "    c.mover(-1, 10)\n",
    "    print(c)"
   ]
  },
  {
   "cell_type": "code",
   "execution_count": null,
   "metadata": {
    "editable": true,
    "id": "pOvXc4fiAjSB",
    "slideshow": {
     "slide_type": "subslide"
    },
    "tags": []
   },
   "outputs": [],
   "source": [
    "class Triangulo(Figura):\n",
    "    def __init__(self, punto1, punto2, punto3, color_borde=0, color_relleno=0, visibilidad=True):\n",
    "        super().__init__(color_borde, color_relleno, visibilidad)\n",
    "        self.p1 = punto1\n",
    "        self.p2 = punto2\n",
    "        self.p3 = punto3\n",
    "\n",
    "    def area(self):\n",
    "        \"\"\"[x1*(y3-y2) + x2*(y1-y3) + x3*(y2-y1)]/2\"\"\"\n",
    "\n",
    "        return (\n",
    "            self.p1.x * (self.p3.y - self.p2.y)\n",
    "            + self.p2.x * (self.p1.y - self.p3.y)\n",
    "            + self.p3.x * (self.p2.y - self.p1.y)\n",
    "        ) / 2\n",
    "\n",
    "    def mover(self, incremento_x, incremento_y):\n",
    "        self.p1.mover(incremento_x, incremento_y)\n",
    "        self.p2.mover(incremento_x, incremento_y)\n",
    "        self.p3.mover(incremento_x, incremento_y)\n",
    "\n",
    "    def __str__(self):\n",
    "        return (\n",
    "            super().__str__()\n",
    "            + \"\\n\\tPunto 1: \"\n",
    "            + self.p1.__str__()\n",
    "            + \"\\n\\tPunto 2: \"\n",
    "            + self.p2.__str__()\n",
    "            + \"\\n\\tPunto 3: \"\n",
    "            + self.p3.__str__()\n",
    "        )\n",
    "\n",
    "\n",
    "if __name__ == \"__main__\":\n",
    "    t = Triangulo(Punto(), Punto(0, 5), Punto(5, 5))\n",
    "    print(t)\n",
    "    t.mover(10, -10)\n",
    "    print(t)"
   ]
  },
  {
   "cell_type": "markdown",
   "metadata": {
    "id": "FNI9Dij3AjSF"
   },
   "source": [
    "Escribir un programa que permita almacenar figuras en una lista y que recorra la lista mostrando el área de cada una de las figuras."
   ]
  },
  {
   "cell_type": "code",
   "execution_count": null,
   "metadata": {
    "editable": true,
    "id": "8SdAhBu_AjSF",
    "slideshow": {
     "slide_type": "subslide"
    },
    "tags": []
   },
   "outputs": [],
   "source": [
    "def crear_elipse():\n",
    "    x, y = input(\"Ingrese centro de la elipse\").split()\n",
    "    x = int(x)\n",
    "    y = int(y)\n",
    "    r = float(input(\"Ingrese radio menor\"))\n",
    "    s = float(input(\"Ingrese radio mayor\"))\n",
    "    return Elipse(Punto(x, y), r, s)\n",
    "\n",
    "\n",
    "def crear_circulo():\n",
    "    x, y = input(\"Ingrese centro del circulo\").split()\n",
    "    x = int(x)\n",
    "    y = int(y)\n",
    "    r = float(input(\"Ingrese el radio\"))\n",
    "    return Circulo(Punto(x, y), r)\n",
    "\n",
    "\n",
    "def crear_rectangulo():\n",
    "    x1, y1 = input(\"Ingrese vertice inferior izquierdo\").split()\n",
    "    x1 = int(x1)\n",
    "    y1 = int(y1)\n",
    "    x2, y2 = input(\"Ingrese vertice superior derecho\").split()\n",
    "    x2 = int(x2)\n",
    "    y2 = int(y2)\n",
    "    return Rectangulo(Punto(x1, y1), Punto(x2, y2))\n",
    "\n",
    "\n",
    "def crear_cuadrado():\n",
    "    x1, y1 = input(\"Ingrese vertice inferior izquierdo\").split()\n",
    "    x1 = int(x1)\n",
    "    y1 = int(y1)\n",
    "    lado = float(input(\"Ingrese lado\"))\n",
    "    return Cuadrado(Punto(x1, y1), lado)\n",
    "\n",
    "\n",
    "def crear_triangulo():\n",
    "    x1, y1 = input(\"Ingrese punto 1 del triangulo\").split()\n",
    "    x1 = int(x1)\n",
    "    y1 = int(y1)\n",
    "    x2, y2 = input(\"Ingrese punto 2 del triangulo\").split()\n",
    "    x2 = int(x2)\n",
    "    y2 = int(y2)\n",
    "    x3, y3 = input(\"Ingrese punto 3 del triangulo\").split()\n",
    "    x3 = int(x3)\n",
    "    y3 = int(y3)\n",
    "    return Triangulo(Punto(x1, y1), Punto(x2, y2), Punto(x3, y3))\n",
    "\n",
    "\n",
    "if __name__ == \"__main__\":\n",
    "    switcher = {\n",
    "        \"e\": crear_elipse,\n",
    "        \"c\": crear_circulo,\n",
    "        \"r\": crear_rectangulo,\n",
    "        \"q\": crear_cuadrado,\n",
    "        \"t\": crear_triangulo,\n",
    "    }\n",
    "    figuras = []\n",
    "    while True:\n",
    "        print(\"Crear Figura:\")\n",
    "        print(\"\\te: Elipse\")\n",
    "        print(\"\\tc: Círculo\")\n",
    "        print(\"\\tr: Rectángulo\")\n",
    "        print(\"\\tq: Cuadrado\")\n",
    "        print(\"\\tt: Triángulo\")\n",
    "        op = input(\"Elija una opción\")\n",
    "        fig = switcher[op]()\n",
    "        figuras.append(fig)\n",
    "        continuar = input(\"Agregar otra figura [s/n]\")\n",
    "        if continuar[0].lower() != \"s\":\n",
    "            break\n",
    "\n",
    "    for fig in figuras:\n",
    "        print(fig)"
   ]
  },
  {
   "cell_type": "markdown",
   "metadata": {
    "editable": true,
    "id": "a5yIKiTSAjSI",
    "slideshow": {
     "slide_type": "subslide"
    },
    "tags": []
   },
   "source": [
    "La lista de figuras se debe mostrar ordenada por área"
   ]
  },
  {
   "cell_type": "code",
   "execution_count": null,
   "metadata": {
    "editable": true,
    "id": "0ZXXbzxEAjSI",
    "slideshow": {
     "slide_type": "fragment"
    },
    "tags": []
   },
   "outputs": [],
   "source": [
    "help(sorted)"
   ]
  },
  {
   "cell_type": "code",
   "execution_count": null,
   "metadata": {
    "editable": true,
    "id": "vUK2eo9WAjSL",
    "slideshow": {
     "slide_type": "fragment"
    },
    "tags": []
   },
   "outputs": [],
   "source": [
    "figuras = sorted(figuras, key=lambda figura: figura.area())\n",
    "for fig in figuras:\n",
    "    print(fig)"
   ]
  },
  {
   "cell_type": "markdown",
   "metadata": {
    "editable": true,
    "slideshow": {
     "slide_type": "slide"
    },
    "tags": []
   },
   "source": [
    "## Referencias\n",
    "\n",
    "* **Documentación oficial de Python:**\n",
    "  * Tipos de datos: https://docs.python.org/es/3/library/stdtypes.html\n",
    "  * Tutorial oficial: https://docs.python.org/es/3/tutorial/\n",
    "  * Python Argentina: https://www.python.org.ar/\n",
    "* **Otra referencia:**\n",
    "  * Libro para sumergirse en Python : https://diveintopython3.problemsolving.io/\n",
    "  * Intérprete Python, para entender como funciona. https://pythontutor.com/python-compiler.html#mode=edit\n"
   ]
  }
 ],
 "metadata": {
  "colab": {
   "collapsed_sections": [],
   "name": "Clase_2.ipynb",
   "provenance": []
  },
  "kernelspec": {
   "display_name": "Python 3 (ipykernel)",
   "language": "python",
   "name": "python3"
  },
  "language_info": {
   "codemirror_mode": {
    "name": "ipython",
    "version": 3
   },
   "file_extension": ".py",
   "mimetype": "text/x-python",
   "name": "python",
   "nbconvert_exporter": "python",
   "pygments_lexer": "ipython3",
   "version": "3.12.5"
  },
  "rise": {
   "start_slideshow_at": "beginning"
  }
 },
 "nbformat": 4,
 "nbformat_minor": 4
}
