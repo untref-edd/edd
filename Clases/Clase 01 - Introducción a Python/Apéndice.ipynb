{
 "cells": [
  {
   "cell_type": "markdown",
   "id": "e00f752a-125d-4682-bdcf-db63377e8db8",
   "metadata": {
    "editable": true,
    "slideshow": {
     "slide_type": ""
    },
    "tags": []
   },
   "source": [
    "<p style=\"text-align: center\">\n",
    "    <img src=\"../../assets/images/untref-logo-negro.svg\" style=\"height: 50px;\" />\n",
    "</p>\n",
    "\n",
    "<h3 style=\"text-align: center\">Estructuras de Datos</h3>\n",
    "\n",
    "<h2 style=\"text-align: center\">Clase 1: Apéndice</h3>"
   ]
  },
  {
   "cell_type": "markdown",
   "id": "1fdcf899-b9ce-49dd-b8a0-a25553ddf469",
   "metadata": {
    "editable": true,
    "slideshow": {
     "slide_type": ""
    },
    "tags": []
   },
   "source": [
    "## Listas (`list`)"
   ]
  },
  {
   "cell_type": "code",
   "execution_count": null,
   "id": "193c8035-8b58-47cb-89c0-5d61180d8602",
   "metadata": {
    "editable": true,
    "slideshow": {
     "slide_type": ""
    },
    "tags": []
   },
   "outputs": [],
   "source": [
    "l = [\"a\", 5, True, {\"b\": 5}, {\"x\", \"x\", 3}, (3, 4, 5)]\n",
    "l"
   ]
  },
  {
   "cell_type": "code",
   "execution_count": null,
   "id": "48689b70-8f37-4cd5-b070-3433644aa9ce",
   "metadata": {},
   "outputs": [],
   "source": [
    "len(l)"
   ]
  },
  {
   "cell_type": "code",
   "execution_count": null,
   "id": "cea598ca-c25b-49a2-a6b5-5b3899ac6ad8",
   "metadata": {},
   "outputs": [],
   "source": [
    "l[-1]"
   ]
  },
  {
   "cell_type": "code",
   "execution_count": null,
   "id": "8afe3539-f5af-4e4c-bfaf-03b688e5a3db",
   "metadata": {},
   "outputs": [],
   "source": [
    "l[-2]"
   ]
  },
  {
   "cell_type": "code",
   "execution_count": null,
   "id": "ca02adf7-b743-49f8-8d51-38a733799593",
   "metadata": {},
   "outputs": [],
   "source": [
    "l[-32]"
   ]
  },
  {
   "cell_type": "code",
   "execution_count": null,
   "id": "df9fedcf-efdd-4af9-af65-424bced5b2e8",
   "metadata": {},
   "outputs": [],
   "source": [
    "j = [1, 2, 3, 4, 5]\n",
    "h = j\n",
    "h[0] = 34\n",
    "h, j"
   ]
  },
  {
   "cell_type": "code",
   "execution_count": null,
   "id": "81394193-c499-49f8-bf1d-18cac2ce6bdc",
   "metadata": {},
   "outputs": [],
   "source": [
    "j = [1, 2, 3, 4, 5]\n",
    "h = j[:5]\n",
    "h[0] = 34\n",
    "h, j"
   ]
  },
  {
   "cell_type": "markdown",
   "id": "426a47db-982b-4334-9cdd-6908919efcd7",
   "metadata": {},
   "source": [
    "### Slices"
   ]
  },
  {
   "cell_type": "code",
   "execution_count": null,
   "id": "dda5b0de-2a9e-4d28-af93-d10cddb414d1",
   "metadata": {},
   "outputs": [],
   "source": [
    "l[1:3]"
   ]
  },
  {
   "cell_type": "code",
   "execution_count": null,
   "id": "1301da9b-ca5a-44be-b71b-dd08fec761fa",
   "metadata": {
    "editable": true,
    "slideshow": {
     "slide_type": ""
    },
    "tags": []
   },
   "outputs": [],
   "source": [
    "l2 = l[1:4]\n",
    "l2[2][\"b\"] = \"Hola que tal\"\n",
    "print(l2)\n",
    "l"
   ]
  },
  {
   "cell_type": "code",
   "execution_count": null,
   "id": "3542040c-b2fd-4619-8829-fc2e31fe4dc6",
   "metadata": {},
   "outputs": [],
   "source": [
    "l[1:-1]"
   ]
  },
  {
   "cell_type": "code",
   "execution_count": null,
   "id": "d145a22c-ec16-4a11-a020-d7a9758ac730",
   "metadata": {},
   "outputs": [],
   "source": [
    "[0, 1, 2, 3, 4, 5, 6][-1:1:-2]"
   ]
  },
  {
   "cell_type": "code",
   "execution_count": null,
   "id": "7fb98af4-2980-4874-949c-edb66bb7a0d5",
   "metadata": {},
   "outputs": [],
   "source": [
    "l[3] = 34\n",
    "l"
   ]
  },
  {
   "cell_type": "markdown",
   "id": "8f31a870-86de-4799-ae1f-30e65ee7e6b7",
   "metadata": {},
   "source": [
    "## Tuplas (`tuple`)"
   ]
  },
  {
   "cell_type": "code",
   "execution_count": null,
   "id": "6d8915d8-fbfd-4a5e-81d4-d490f9541750",
   "metadata": {},
   "outputs": [],
   "source": [
    "t = (6, 3, 6, 7, 8, 4, 5, 6)\n",
    "type(t)"
   ]
  },
  {
   "cell_type": "code",
   "execution_count": null,
   "id": "78c8c799-077c-4d1f-b4a0-ff601d561873",
   "metadata": {},
   "outputs": [],
   "source": [
    "t = 5, 7, 8, 9, [1, 2, 3]\n",
    "t"
   ]
  },
  {
   "cell_type": "code",
   "execution_count": null,
   "id": "67c5019c-cb27-4759-9e5f-87076bed0d93",
   "metadata": {},
   "outputs": [],
   "source": [
    "t[2] = 0"
   ]
  },
  {
   "cell_type": "code",
   "execution_count": null,
   "id": "0008617a-c4c3-4214-b46f-127ede4ddc4d",
   "metadata": {},
   "outputs": [],
   "source": [
    "t[-1][0] = 3\n",
    "t"
   ]
  },
  {
   "cell_type": "markdown",
   "id": "1e474f6b-046e-4b96-8d48-5646b495f75d",
   "metadata": {},
   "source": [
    "## Conjuntos (`sets`)"
   ]
  },
  {
   "cell_type": "code",
   "execution_count": null,
   "id": "76a45d1d-178d-4944-83cf-098fa9f824c1",
   "metadata": {},
   "outputs": [],
   "source": [
    "s = {1, 2, 3, 4, 1, 2, 4, 5, 1, (1, 2)}"
   ]
  },
  {
   "cell_type": "code",
   "execution_count": null,
   "id": "c76be499-a003-428e-a5a0-a78714ddd723",
   "metadata": {},
   "outputs": [],
   "source": [
    "s"
   ]
  },
  {
   "cell_type": "code",
   "execution_count": null,
   "id": "821acddf-1f8b-426e-9170-07c298b20f9e",
   "metadata": {},
   "outputs": [],
   "source": [
    "help(s)"
   ]
  },
  {
   "cell_type": "markdown",
   "id": "beaaaffe-903e-4a39-a0b4-3ae93f6e7285",
   "metadata": {},
   "source": [
    "## Diccionarios (`dict`)"
   ]
  },
  {
   "cell_type": "code",
   "execution_count": null,
   "id": "91ac10af-acf3-4e62-b5f2-f6c3341f80f8",
   "metadata": {},
   "outputs": [],
   "source": [
    "d = {\n",
    "    \"a\": 4,\n",
    "    \"b\": 5,\n",
    "    (1, 2, 3): 6,\n",
    "}\n",
    "d"
   ]
  },
  {
   "cell_type": "code",
   "execution_count": null,
   "id": "bfb768d2-868a-4485-81ea-03fa19689f14",
   "metadata": {},
   "outputs": [],
   "source": [
    "d.keys()"
   ]
  },
  {
   "cell_type": "code",
   "execution_count": null,
   "id": "4c69a822-6c32-4d2f-b98f-b658193a0378",
   "metadata": {},
   "outputs": [],
   "source": [
    "d.values()"
   ]
  },
  {
   "cell_type": "code",
   "execution_count": null,
   "id": "68660a1a-616f-4b7c-a9d5-11320ece3324",
   "metadata": {},
   "outputs": [],
   "source": [
    "d.items()"
   ]
  },
  {
   "cell_type": "markdown",
   "id": "c3afe01f-be50-4110-8230-ae1811009a0e",
   "metadata": {},
   "source": [
    "## Estructuras de control"
   ]
  },
  {
   "cell_type": "markdown",
   "id": "274f07b0-0862-481e-9ec5-391d75462b58",
   "metadata": {},
   "source": [
    "### `for`"
   ]
  },
  {
   "cell_type": "code",
   "execution_count": null,
   "id": "6d3d1776-6bc8-4667-9884-16bad8cf84d6",
   "metadata": {},
   "outputs": [],
   "source": [
    "for x in l:\n",
    "    print(x, \"es de tipo\", type(x))"
   ]
  },
  {
   "cell_type": "code",
   "execution_count": null,
   "id": "a525b080-6370-4c7f-b138-f65cb92e53fa",
   "metadata": {},
   "outputs": [],
   "source": [
    "for i, x in enumerate(l):\n",
    "    print(i, x, \"es de tipo\", type(x))"
   ]
  },
  {
   "cell_type": "code",
   "execution_count": null,
   "id": "00af5090-f884-445a-9f15-68b8d9db1407",
   "metadata": {},
   "outputs": [],
   "source": [
    "for i, x in enumerate(l):\n",
    "    print(i, x, \"es de tipo\", type(x))"
   ]
  },
  {
   "cell_type": "markdown",
   "id": "af01c11f-28bf-4c4c-bdd3-5ded26d84e00",
   "metadata": {},
   "source": [
    "### `if`"
   ]
  },
  {
   "cell_type": "code",
   "execution_count": null,
   "id": "2c3bb483-708e-4a4f-ac12-c1a2bbd0632f",
   "metadata": {},
   "outputs": [],
   "source": [
    "n = 5\n",
    "\n",
    "if n < 6:\n",
    "    print(n)\n",
    "elif n < 3:\n",
    "    print(n**2)\n",
    "else:\n",
    "    print(n - 3)"
   ]
  },
  {
   "cell_type": "code",
   "execution_count": null,
   "id": "7fba7491-7ed4-4b02-b2f3-21191592da87",
   "metadata": {},
   "outputs": [],
   "source": [
    "fallo = False\n",
    "\n",
    "for x in l:\n",
    "    print(x)\n",
    "    if x == 5:\n",
    "        fallo = True\n",
    "        break\n",
    "\n",
    "if not fallo:\n",
    "    print(\"Todo salió bien!\")"
   ]
  },
  {
   "cell_type": "markdown",
   "id": "bc25d1fd-30e2-435b-83b8-f95c38a7f0e9",
   "metadata": {},
   "source": [
    "## Desenpaquetado de tuplas y listas"
   ]
  },
  {
   "cell_type": "code",
   "execution_count": null,
   "id": "5158fbfa-fabe-4545-8109-99ace47d6467",
   "metadata": {},
   "outputs": [],
   "source": [
    "t = (1, 2, 3)\n",
    "t"
   ]
  },
  {
   "cell_type": "code",
   "execution_count": null,
   "id": "4f9241ed-a2ad-4aeb-a4aa-c80e5d1ce1ff",
   "metadata": {},
   "outputs": [],
   "source": [
    "(a, *b) = t\n",
    "print(a, b)"
   ]
  },
  {
   "cell_type": "code",
   "execution_count": null,
   "id": "abf0d988-2cff-4ab4-bdc9-39498ff094e9",
   "metadata": {},
   "outputs": [],
   "source": [
    "a, c, *b = l"
   ]
  },
  {
   "cell_type": "code",
   "execution_count": null,
   "id": "7ed4b340-f6d1-4abe-a944-5f3778272bc0",
   "metadata": {},
   "outputs": [],
   "source": [
    "a"
   ]
  },
  {
   "cell_type": "code",
   "execution_count": null,
   "id": "34500818-119a-4bea-8971-01cb22b5cbcd",
   "metadata": {},
   "outputs": [],
   "source": [
    "c"
   ]
  },
  {
   "cell_type": "code",
   "execution_count": null,
   "id": "458058ba-65a4-47ad-97dc-7ce8f0fc1eac",
   "metadata": {},
   "outputs": [],
   "source": [
    "b"
   ]
  },
  {
   "cell_type": "markdown",
   "id": "94cd84ca-9f5b-45cd-8406-332a0347ca1b",
   "metadata": {},
   "source": [
    "## Strings"
   ]
  },
  {
   "cell_type": "code",
   "execution_count": null,
   "id": "43204711-0844-419a-b7c9-1382a3d4b8d5",
   "metadata": {},
   "outputs": [],
   "source": [
    "c = \"Hola que tal\"\n",
    "c = c + \"?\"\n",
    "c"
   ]
  },
  {
   "cell_type": "markdown",
   "id": "85778bb0-c2b4-4138-8f87-92bbe174c63f",
   "metadata": {},
   "source": [
    "## Long int"
   ]
  },
  {
   "cell_type": "code",
   "execution_count": null,
   "id": "f1572cf0-f3fa-4a01-92bd-bbbb30f35008",
   "metadata": {},
   "outputs": [],
   "source": [
    "1000000000000**1000000000000000"
   ]
  },
  {
   "cell_type": "markdown",
   "id": "3d290392-7db4-4002-8fa9-c2510fca3d1f",
   "metadata": {},
   "source": [
    "## Números complejos"
   ]
  },
  {
   "cell_type": "code",
   "execution_count": null,
   "id": "cc8b62d2-07e8-467b-825b-bb3c9925a04a",
   "metadata": {},
   "outputs": [],
   "source": [
    "3 + 4j"
   ]
  },
  {
   "cell_type": "code",
   "execution_count": null,
   "id": "81c50811-bb59-424c-89a0-b7c62b3f9ea4",
   "metadata": {},
   "outputs": [],
   "source": [
    "(3 + 4j) ** 2"
   ]
  }
 ],
 "metadata": {
  "kernelspec": {
   "display_name": "Python 3 (ipykernel)",
   "language": "python",
   "name": "python3"
  },
  "language_info": {
   "codemirror_mode": {
    "name": "ipython",
    "version": 3
   },
   "file_extension": ".py",
   "mimetype": "text/x-python",
   "name": "python",
   "nbconvert_exporter": "python",
   "pygments_lexer": "ipython3",
   "version": "3.12.5"
  }
 },
 "nbformat": 4,
 "nbformat_minor": 5
}
