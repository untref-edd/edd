{
 "cells": [
  {
   "cell_type": "markdown",
   "metadata": {
    "editable": true,
    "slideshow": {
     "slide_type": "slide"
    },
    "tags": []
   },
   "source": [
    "<p style=\"text-align: center\">\n",
    "    <img src=\"../../assets/images/untref-logo-negro.svg\" style=\"height: 50px;\" />\n",
    "</p>\n",
    "\n",
    "<h3 style=\"text-align: center\">Estructuras de Datos</h3>\n",
    "\n",
    "<h2 style=\"text-align: center\">Clase 1: Introducción a Python</h3>"
   ]
  },
  {
   "cell_type": "markdown",
   "metadata": {
    "editable": true,
    "id": "T9lRQOiSTqNX",
    "slideshow": {
     "slide_type": "slide"
    },
    "tags": []
   },
   "source": [
    "### Python\n",
    "\n",
    "Python es un lenguaje de programación multipropósito, creado a fines de los 80's por [Guido van Rossum](https://es.wikipedia.org/wiki/Guido_van_Rossum).\n",
    "\n",
    "\n",
    "> *Van Rossum es el principal autor de Python, y su continuo rol central en decidir la dirección de Python es reconocido, refiriéndose a él como Benevolente Dictador Vitalicio (en inglés: Benevolent Dictator for Life, BDFL); sin embargo el 12 de julio de 2018 declinó de dicha situación de honor sin dejar un sucesor o sucesora*\n",
    ">\n",
    "> Fuente: [Wikipedia](https://es.wikipedia.org/wiki/Python)"
   ]
  },
  {
   "cell_type": "markdown",
   "metadata": {
    "editable": true,
    "id": "clBzgymRYIb_",
    "slideshow": {
     "slide_type": "fragment"
    },
    "tags": []
   },
   "source": [
    "**Python** es un lenguaje de programación **fuertemente tipado**, **orientado a objetos**, **introspectivo** y **reflexivo**, **imperativo** y **funcional**."
   ]
  },
  {
   "cell_type": "markdown",
   "metadata": {
    "editable": true,
    "id": "9gj7fFcKYIdX",
    "slideshow": {
     "slide_type": "slide"
    },
    "tags": []
   },
   "source": [
    "## Fuertemente tipado y dinámico\n",
    "\n",
    "**Fuertemente tipado** significa que no se pueden violar las restricciones de cada tipo de datos, por ejemplo no es posible sumar una cadena de caracteres y un entero."
   ]
  },
  {
   "cell_type": "code",
   "execution_count": null,
   "metadata": {
    "editable": true,
    "slideshow": {
     "slide_type": "fragment"
    },
    "tags": []
   },
   "outputs": [],
   "source": [
    "prueba = \"hola\" + 5"
   ]
  },
  {
   "cell_type": "markdown",
   "metadata": {
    "editable": true,
    "slideshow": {
     "slide_type": "fragment"
    },
    "tags": []
   },
   "source": [
    "En general los lenguajes fuertemente tipados permiten _**castear**_ distintos tipos, pero de forma explícita"
   ]
  },
  {
   "cell_type": "code",
   "execution_count": null,
   "metadata": {
    "editable": true,
    "slideshow": {
     "slide_type": "fragment"
    },
    "tags": []
   },
   "outputs": [],
   "source": [
    "prueba = \"hola\" + str(5)\n",
    "\n",
    "prueba"
   ]
  },
  {
   "cell_type": "markdown",
   "metadata": {
    "editable": true,
    "slideshow": {
     "slide_type": "subslide"
    },
    "tags": []
   },
   "source": [
    "\n",
    "**Dinámico** significa que el tipo de una variable se determina en tiempo de ejecución y por lo tanto no es necesario declarar variables antes de usarlas. Python está basado en **duck typing** es decir en tiempo de ejecución se determina la capacidad de un objeto para realizar una determinada acción"
   ]
  },
  {
   "cell_type": "markdown",
   "metadata": {
    "editable": true,
    "slideshow": {
     "slide_type": "fragment"
    },
    "tags": []
   },
   "source": [
    "> **Duck Typing: ¡Si camina como un pato y grazna como un pato, entonces es un pato!**"
   ]
  },
  {
   "cell_type": "code",
   "execution_count": null,
   "metadata": {
    "editable": true,
    "slideshow": {
     "slide_type": "fragment"
    },
    "tags": []
   },
   "outputs": [],
   "source": [
    "x = \"hola\"\n",
    "\n",
    "print(x)\n",
    "\n",
    "x = 5\n",
    "\n",
    "print(x)"
   ]
  },
  {
   "cell_type": "markdown",
   "metadata": {
    "editable": true,
    "slideshow": {
     "slide_type": "subslide"
    },
    "tags": []
   },
   "source": [
    "No hay que confundir lenguajes fuertemente tipados con tipados estáticos o debilmente tipado con tipado dinámico.\n",
    "\n",
    "Un ejemplo de un lenguaje debilmente tipado (en oposición a los fuertemente tipados) puede ser *Javascript* que permite operaciones como `\"hola\" + 5`.\n",
    "\n",
    "Lo opuesto a tipado dinámico es tipado estático, en donde se debe declarar el tipo de todas las variables antes de poder usarlas, en tiempo de compilación, es decir antes de que el programa comience a ejecutarse.\n",
    "\n",
    "Existen lenguajes que son debilmente tipados y estáticos, por ejemplo *Modula*."
   ]
  },
  {
   "cell_type": "markdown",
   "metadata": {
    "editable": true,
    "id": "sc3wL7INYIcA",
    "slideshow": {
     "slide_type": "slide"
    },
    "tags": []
   },
   "source": [
    "### Orientación a Objetos"
   ]
  },
  {
   "cell_type": "markdown",
   "metadata": {
    "editable": true,
    "slideshow": {
     "slide_type": "fragment"
    },
    "tags": []
   },
   "source": [
    "#### Clases y Objetos:\n",
    "\n",
    "Una clase en Python es una estructura de programación que permite definir un conjunto de **métodos y atributos** que describen un objeto o entidad. Las clases son un concepto fundamental en la programación orientada a objetos, que se utilizan para modelar entidades del mundo real o abstracto en un programa de computadora. Con los atributos podemos mantener el estado del objeto y con los métodos podemos definir su comportamiento, es decir, los mensajes que puede comprender y ejecutar.\n",
    "\n",
    "**Un objeto es una instancia viva** de una clase, una instancia en memoria, que posee su propio estado. "
   ]
  },
  {
   "cell_type": "markdown",
   "metadata": {
    "editable": true,
    "slideshow": {
     "slide_type": "fragment"
    },
    "tags": []
   },
   "source": [
    "#### Herencia y Polimorfismo:\n",
    "\n",
    "La herencia permite que una clase herede atributos y métodos de otra clase. El polimorfismo permite que una clase descendiente comparta el mismo nombre de método que su clase principal y proporcione una implementación diferente de ese método.\n",
    "\n",
    "Python además soporta **_herencia múltiple_**. Es decir que una clase extienda o herede de más de una clase ancestro"
   ]
  },
  {
   "cell_type": "markdown",
   "metadata": {
    "editable": true,
    "id": "Tk-s2G_rc2Ok",
    "slideshow": {
     "slide_type": "subslide"
    },
    "tags": []
   },
   "source": [
    "<center>\n",
    "<div><img width=\"640\" src=\"data:image/svg+xml;base64,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\" /></div>\n",
    "</center>"
   ]
  },
  {
   "cell_type": "code",
   "execution_count": null,
   "metadata": {
    "editable": true,
    "id": "1ofhqvv0YIcC",
    "slideshow": {
     "slide_type": "subslide"
    },
    "tags": []
   },
   "outputs": [],
   "source": [
    "class Persona(object):\n",
    "    def __init__(self, dni, nombre, apellido):\n",
    "        \"\"\"Constructor de clase Persona\"\"\"\n",
    "        self.dni = dni\n",
    "        self.nombre = nombre\n",
    "        self.apellido = apellido\n",
    "\n",
    "        print(self.nombre, \"es una persona con dni\", self.dni)\n",
    "\n",
    "\n",
    "class Docente(Persona):\n",
    "    def __init__(self, dni, nombre, apellido, legajo):\n",
    "        \"\"\"Constructor de clase Docente\"\"\"\n",
    "        super().__init__(dni, nombre, apellido)\n",
    "        self.legajo = legajo\n",
    "\n",
    "        print(self.nombre, \"es docente con legajo\", self.legajo)\n",
    "\n",
    "    def pagar(self):\n",
    "        print(self.legajo, self.nombre, \"pagado\")\n",
    "\n",
    "\n",
    "class Estudiante(Persona):\n",
    "    def __init__(self, dni, nombre, apellido, legajo):\n",
    "        \"\"\"Constructor de clase Estudiante\"\"\"\n",
    "        super().__init__(dni, nombre, apellido)\n",
    "        self.legajo = legajo\n",
    "\n",
    "        print(nombre, \"es estudiante con legajo\", legajo)\n",
    "\n",
    "\n",
    "class Ayudante(Docente, Estudiante):\n",
    "    def __init__(self, dni, nombre, apellido, legajo):\n",
    "        \"\"\"Constructor de clase Ayudante\"\"\"\n",
    "        Estudiante.__init__(self, dni, nombre, apellido, legajo)\n",
    "\n",
    "        print(self.nombre, \"es Ayudante\")"
   ]
  },
  {
   "cell_type": "markdown",
   "metadata": {
    "editable": true,
    "slideshow": {
     "slide_type": "fragment"
    },
    "tags": []
   },
   "source": [
    "> `self` es una referencia a si mismo, es decir al objeto en memoria que ejecuta el método"
   ]
  },
  {
   "cell_type": "code",
   "execution_count": null,
   "metadata": {
    "editable": true,
    "id": "Ue_-1zeZYIcH",
    "slideshow": {
     "slide_type": "subslide"
    },
    "tags": []
   },
   "outputs": [],
   "source": [
    "valeria = Docente(\"31.125.147\", \"Valeria\", \"Becker\", 12458)"
   ]
  },
  {
   "cell_type": "code",
   "execution_count": null,
   "metadata": {
    "editable": true,
    "id": "OqRveNQ9YIcN",
    "slideshow": {
     "slide_type": "fragment"
    },
    "tags": []
   },
   "outputs": [],
   "source": [
    "juan = Estudiante(\"39.147.157\", \"Juan\", \"Perez\", 47655)"
   ]
  },
  {
   "cell_type": "code",
   "execution_count": null,
   "metadata": {
    "editable": true,
    "id": "aVa-HXeqYIcS",
    "slideshow": {
     "slide_type": "fragment"
    },
    "tags": []
   },
   "outputs": [],
   "source": [
    "santi = Ayudante(\"32.147.158\", \"Santiago\", \"Rojo\", 14785)"
   ]
  },
  {
   "cell_type": "code",
   "execution_count": null,
   "metadata": {
    "editable": true,
    "id": "p03v8aGaYIcW",
    "slideshow": {
     "slide_type": "fragment"
    },
    "tags": []
   },
   "outputs": [],
   "source": [
    "valeria.pagar()"
   ]
  },
  {
   "cell_type": "code",
   "execution_count": null,
   "metadata": {
    "editable": true,
    "id": "rmouPCr3ny0N",
    "slideshow": {
     "slide_type": "fragment"
    },
    "tags": []
   },
   "outputs": [],
   "source": [
    "santi.pagar()"
   ]
  },
  {
   "cell_type": "markdown",
   "metadata": {
    "editable": true,
    "id": "YdSs6G4qYIcb",
    "slideshow": {
     "slide_type": "slide"
    },
    "tags": []
   },
   "source": [
    "### Introspección y Reflexión\n",
    "\n",
    "**Introspección** es la capacidad que tienen los objetos en Python de inspecionarse a si mismos en tiempo de ejecución.\n",
    "\n",
    "La **reflexión** va un paso más allá y permite que un objeto se modifique a si mismo o a otros objetos en tiempo de ejecución."
   ]
  },
  {
   "cell_type": "code",
   "execution_count": null,
   "metadata": {
    "editable": true,
    "id": "hzDs-zatYIcc",
    "slideshow": {
     "slide_type": "fragment"
    },
    "tags": []
   },
   "outputs": [],
   "source": [
    "isinstance(santi, Ayudante)"
   ]
  },
  {
   "cell_type": "code",
   "execution_count": null,
   "metadata": {
    "editable": true,
    "id": "JZG5MsvuYIch",
    "slideshow": {
     "slide_type": "fragment"
    },
    "tags": []
   },
   "outputs": [],
   "source": [
    "isinstance(santi, Estudiante)"
   ]
  },
  {
   "cell_type": "code",
   "execution_count": null,
   "metadata": {
    "editable": true,
    "id": "d6W_w_5NYIcl",
    "slideshow": {
     "slide_type": "fragment"
    },
    "tags": []
   },
   "outputs": [],
   "source": [
    "isinstance(santi, Docente)"
   ]
  },
  {
   "cell_type": "code",
   "execution_count": null,
   "metadata": {
    "editable": true,
    "id": "ifFjdIbBYIcr",
    "slideshow": {
     "slide_type": "fragment"
    },
    "tags": []
   },
   "outputs": [],
   "source": [
    "isinstance(santi, Persona)"
   ]
  },
  {
   "cell_type": "code",
   "execution_count": null,
   "metadata": {
    "editable": true,
    "id": "bpy73mLeYIcv",
    "slideshow": {
     "slide_type": "subslide"
    },
    "tags": []
   },
   "outputs": [],
   "source": [
    "for atributo, valor in vars(santi).items():\n",
    "    print(atributo, \":\", valor)"
   ]
  },
  {
   "cell_type": "code",
   "execution_count": null,
   "metadata": {
    "editable": true,
    "id": "6Rmq6SqdoJG3",
    "slideshow": {
     "slide_type": "fragment"
    },
    "tags": []
   },
   "outputs": [],
   "source": [
    "help(vars)"
   ]
  },
  {
   "cell_type": "code",
   "execution_count": null,
   "metadata": {
    "editable": true,
    "id": "at80rAGCYIcz",
    "slideshow": {
     "slide_type": "fragment"
    },
    "tags": []
   },
   "outputs": [],
   "source": [
    "delattr(santi, \"apellido\")"
   ]
  },
  {
   "cell_type": "code",
   "execution_count": null,
   "metadata": {
    "editable": true,
    "id": "WbJiMKbXokGa",
    "slideshow": {
     "slide_type": "fragment"
    },
    "tags": []
   },
   "outputs": [],
   "source": [
    "help(delattr)"
   ]
  },
  {
   "cell_type": "code",
   "execution_count": null,
   "metadata": {
    "editable": true,
    "id": "x4unQGwzYIc3",
    "slideshow": {
     "slide_type": "fragment"
    },
    "tags": []
   },
   "outputs": [],
   "source": [
    "for atributo, valor in vars(santi).items():\n",
    "    print(atributo, \":\", valor)"
   ]
  },
  {
   "cell_type": "markdown",
   "metadata": {
    "editable": true,
    "id": "obn7XyrLYIc6",
    "slideshow": {
     "slide_type": "slide"
    },
    "tags": []
   },
   "source": [
    "### Imperativo\n",
    "\n",
    "Las instrucciones se ejecutan una después de otra y se debe programar el flujo de ejecución."
   ]
  },
  {
   "cell_type": "code",
   "execution_count": null,
   "metadata": {
    "editable": true,
    "id": "mC_W5UcBYIc7",
    "slideshow": {
     "slide_type": "fragment"
    },
    "tags": []
   },
   "outputs": [],
   "source": [
    "def quicksort(arreglo):\n",
    "    __quicksort(arreglo, 0, len(arreglo) - 1)\n",
    "\n",
    "\n",
    "def __quicksort(arreglo, ini, fin):\n",
    "    pivote = arreglo[ini]\n",
    "    i = ini\n",
    "    j = fin\n",
    "    aux = 0\n",
    "\n",
    "    while i < j:\n",
    "        while arreglo[i] <= pivote and i < j:\n",
    "            i += 1\n",
    "\n",
    "        while arreglo[j] > pivote:\n",
    "            j -= 1\n",
    "\n",
    "        if i < j:\n",
    "            aux = arreglo[i]\n",
    "            arreglo[i] = arreglo[j]\n",
    "            arreglo[j] = aux\n",
    "\n",
    "    arreglo[ini] = arreglo[j]\n",
    "    arreglo[j] = pivote\n",
    "\n",
    "    if ini < j - 1:\n",
    "        __quicksort(arreglo, ini, j - 1)\n",
    "\n",
    "    if j + 1 < fin:\n",
    "        __quicksort(arreglo, j + 1, fin)"
   ]
  },
  {
   "cell_type": "code",
   "execution_count": null,
   "metadata": {
    "editable": true,
    "id": "913PLXAzYIc_",
    "slideshow": {
     "slide_type": "fragment"
    },
    "tags": []
   },
   "outputs": [],
   "source": [
    "arreglo = [10, -5, 4, 7, 3, 2, 7]\n",
    "\n",
    "quicksort(arreglo)\n",
    "\n",
    "arreglo"
   ]
  },
  {
   "cell_type": "markdown",
   "metadata": {
    "editable": true,
    "id": "8nXHHSGXYIdD",
    "slideshow": {
     "slide_type": "slide"
    },
    "tags": []
   },
   "source": [
    "### Funcional\n",
    "\n",
    "La **programación funcional** es un paradigma de programación declarativo basado en el uso de funciones verdaderamente matemáticas. En este estilo de programación las funciones son **_ciudadanas de primera clase_**, porque sus expresiones pueden ser asignadas a variables como se haría con cualquier otro valor; además de que pueden crearse funciones de orden superior.\n",
    "\n",
    "En el paradigma funcional en general, y a diferencia del imperativo, la programación consiste en especificar el **Qué** y no el **Cómo** se resuelve."
   ]
  },
  {
   "cell_type": "markdown",
   "metadata": {
    "editable": true,
    "id": "xESKI9mXw7gv",
    "slideshow": {
     "slide_type": "fragment"
    },
    "tags": []
   },
   "source": [
    "#### Funciones de orden superior\n",
    "\n",
    "Una función puede:\n",
    "\n",
    "- ser asignada a una variable;\n",
    "- pasarse como parámetro;\n",
    "- ser retornada por otra función. Es decir podemos tener una *fábrica de funciones*.\n"
   ]
  },
  {
   "cell_type": "code",
   "execution_count": null,
   "metadata": {
    "editable": true,
    "id": "fWj9f2zLSunO",
    "slideshow": {
     "slide_type": "subslide"
    },
    "tags": []
   },
   "outputs": [],
   "source": [
    "def componer(f, g):\n",
    "    return lambda x: f(g(x))\n",
    "\n",
    "\n",
    "# De forma equivalente podemos escribir\n",
    "# def componer(f, g):\n",
    "#     def compuesto(x):\n",
    "#         return f(g(x))\n",
    "\n",
    "#     return compuesto"
   ]
  },
  {
   "cell_type": "code",
   "execution_count": null,
   "metadata": {
    "editable": true,
    "id": "-Kz4-TcVSunO",
    "slideshow": {
     "slide_type": "fragment"
    },
    "tags": []
   },
   "outputs": [],
   "source": [
    "def sumar_3(x):\n",
    "    return x + 3"
   ]
  },
  {
   "cell_type": "code",
   "execution_count": null,
   "metadata": {
    "editable": true,
    "id": "XUPWpGO5txI3",
    "slideshow": {
     "slide_type": "fragment"
    },
    "tags": []
   },
   "outputs": [],
   "source": [
    "sumar_3(5)"
   ]
  },
  {
   "cell_type": "code",
   "execution_count": null,
   "metadata": {
    "editable": true,
    "id": "ayVmDlgBYIdH",
    "slideshow": {
     "slide_type": "fragment"
    },
    "tags": []
   },
   "outputs": [],
   "source": [
    "sumar_6 = componer(sumar_3, sumar_3)"
   ]
  },
  {
   "cell_type": "code",
   "execution_count": null,
   "metadata": {
    "editable": true,
    "id": "yPVwaVNut0FE",
    "slideshow": {
     "slide_type": "fragment"
    },
    "tags": []
   },
   "outputs": [],
   "source": [
    "sumar_6(4)"
   ]
  },
  {
   "cell_type": "code",
   "execution_count": null,
   "metadata": {
    "editable": true,
    "id": "g3zI0dGjYIdL",
    "slideshow": {
     "slide_type": "fragment"
    },
    "tags": []
   },
   "outputs": [],
   "source": [
    "def cuadrado(x):\n",
    "    return x * x"
   ]
  },
  {
   "cell_type": "code",
   "execution_count": null,
   "metadata": {
    "editable": true,
    "id": "LFIlUN76ukfM",
    "slideshow": {
     "slide_type": "fragment"
    },
    "tags": []
   },
   "outputs": [],
   "source": [
    "sumar_3_elevar_al_cuadrado = componer(cuadrado, sumar_3)"
   ]
  },
  {
   "cell_type": "code",
   "execution_count": null,
   "metadata": {
    "editable": true,
    "id": "OOXQMKZJunF0",
    "slideshow": {
     "slide_type": "fragment"
    },
    "tags": []
   },
   "outputs": [],
   "source": [
    "sumar_3_elevar_al_cuadrado(3)"
   ]
  },
  {
   "cell_type": "markdown",
   "metadata": {
    "editable": true,
    "id": "-38aRt3MSunP",
    "slideshow": {
     "slide_type": "subslide"
    },
    "tags": []
   },
   "source": [
    "#### QuickSort en una línea"
   ]
  },
  {
   "cell_type": "code",
   "execution_count": null,
   "metadata": {
    "editable": true,
    "id": "LiTZHkHPSunP",
    "slideshow": {
     "slide_type": "fragment"
    },
    "tags": []
   },
   "outputs": [],
   "source": [
    "q = lambda l: (q([x for x in l[1:] if x <= l[0]]) + [l[0]] + q([x for x in l if x > l[0]]) if l else [])"
   ]
  },
  {
   "cell_type": "code",
   "execution_count": null,
   "metadata": {
    "editable": true,
    "slideshow": {
     "slide_type": "fragment"
    },
    "tags": []
   },
   "outputs": [],
   "source": [
    "arreglo = [10, -5, 4, 7, 3, 2, 7]\n",
    "\n",
    "arreglo_ordenado = q(arreglo)\n",
    "\n",
    "assert arreglo_ordenado != arreglo\n",
    "\n",
    "arreglo_ordenado"
   ]
  },
  {
   "cell_type": "markdown",
   "metadata": {
    "editable": true,
    "slideshow": {
     "slide_type": "slide"
    },
    "tags": []
   },
   "source": [
    "# Muchas Gracias!"
   ]
  }
 ],
 "metadata": {
  "colab": {
   "private_outputs": true,
   "provenance": []
  },
  "kernelspec": {
   "display_name": "Python 3 (ipykernel)",
   "language": "python",
   "name": "python3"
  },
  "language_info": {
   "codemirror_mode": {
    "name": "ipython",
    "version": 3
   },
   "file_extension": ".py",
   "mimetype": "text/x-python",
   "name": "python",
   "nbconvert_exporter": "python",
   "pygments_lexer": "ipython3",
   "version": "3.12.5"
  },
  "rise": {
   "show_buttons_on_startup": true
  }
 },
 "nbformat": 4,
 "nbformat_minor": 4
}
