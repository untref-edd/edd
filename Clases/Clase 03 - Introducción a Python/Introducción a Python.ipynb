{
 "cells": [
  {
   "cell_type": "markdown",
   "metadata": {
    "editable": true,
    "id": "4vzOkTwRYIb9",
    "slideshow": {
     "slide_type": "slide"
    },
    "tags": []
   },
   "source": [
    "<p style=\"text-align: center\">\n",
    "    <img src=\"../../assets/images/untref-logo-negro.svg\" style=\"height: 50px;\" />\n",
    "</p>\n",
    "\n",
    "<h3 style=\"text-align: center\">Estructura de Datos</h3>\n",
    "\n",
    "<h2 style=\"text-align: center\">Clase 3: Introducción a Python</h3>"
   ]
  },
  {
   "cell_type": "markdown",
   "metadata": {
    "editable": true,
    "slideshow": {
     "slide_type": "slide"
    },
    "tags": []
   },
   "source": [
    "## Excepciones\n",
    "\n",
    "Las excepciones son eventos que interrumpen el flujo normal de ejecución de un programa. Cuando ocurre una excepción, Python genera un objeto de excepción que contiene información sobre el evento excepcional. \n",
    "\n",
    "El uso más común de las excepciones es el manejo de errores, por ejemplo cuando se intenta dividir por cero, pero también se utilizan para validar datos, control de flujo del programa y la comunicación entre módulos entre otros usos.\n",
    "\n",
    "Las excepciones se pueden personalizar para que tengan sentido en el contexto del programa. \n",
    "\n",
    "El mecanismo de excepciones nos permite lograr:\n",
    "\n",
    "- **Especificidad:** Permiten capturar errores específicos de la aplicación, proporcionando mensajes de error más claros y útiles.\n",
    "- **Modularidad:** Ayudan a separar la lógica de manejo de errores de la lógica principal del programa.\n",
    "- **Extensibilidad:** Python cuenta con una jerarquía de excepciones que se puede extender para lograr mayor granularidad en el manejo de las mismas."
   ]
  },
  {
   "cell_type": "markdown",
   "metadata": {
    "editable": true,
    "slideshow": {
     "slide_type": "slide"
    },
    "tags": []
   },
   "source": [
    "### Jerarquía de Excepciones\n",
    "\n",
    "- `BaseException`: La clase base de todas las excepciones.\n",
    "- `KeyboardInterrupt`: Se lanza cuando el usuario interrumpe la ejecución de un programa, generalmente presionando las teclas `Ctrl`+`C`.\n",
    "- `SystemExit`: Se lanza cuando el programa termina normalmente. No indica ningún error.\n",
    "- `Exception`: La clase base para las excepciones estándar.\n",
    "    - `TypeError`: Se genera cuando se utiliza un objeto de un tipo incorrecto.\n",
    "    - `ValueError`: Se genera cuando se pasa un argumento con un valor válido pero inapropiado.\n",
    "    - `ZeroDivisionError`: Se genera cuando se intenta dividir por cero.\n",
    "    - `IndexError`: Se genera cuando se intenta acceder a un elemento de una secuencia utilizando un índice fuera de rango.\n",
    "    - `KeyError`: Se genera cuando se intenta acceder a un elemento de un diccionario utilizando una clave que no existe.\n",
    "    - `OSError`: Subclase de `Exception` para errores del sistema operativo.\n",
    "\n",
    "[Jerarquías de excepciones en Python](https://docs.python.org/es/3/library/exceptions.html#exception-hierarchy)"
   ]
  },
  {
   "cell_type": "markdown",
   "metadata": {
    "editable": true,
    "slideshow": {
     "slide_type": "slide"
    },
    "tags": []
   },
   "source": [
    "### Manejo de Excepciones\n",
    "\n",
    "La instrucción para atrapar y manejar excepciones es:\n",
    "\n",
    "```python\n",
    "try:\n",
    "    <sentencias>    # Bloque principal\n",
    "except Excepcion1:\n",
    "    <sentencias>    # Si se produce una Excepcion1\n",
    "except (Excepcion2, Excepcion3):\n",
    "    <sentencias>    # Si se produce alguna de la lista \n",
    "except Excepcion4 as var:\n",
    "    <sentencias>    # La instancia queda ligada a var\n",
    "except:\n",
    "    <sentencias>    # Si se produce una excepción no listada\n",
    "else:\n",
    "    <sentencias>    # Si no hay excepciones en el bloque principal\n",
    "finally:\n",
    "     <sentencias>   # Se ejecuta siempre\n",
    "``` "
   ]
  },
  {
   "cell_type": "markdown",
   "metadata": {
    "editable": true,
    "slideshow": {
     "slide_type": "subslide"
    },
    "tags": []
   },
   "source": [
    "#### Ejemplo de uso\n",
    "\n",
    "<font color=\"red\">\n",
    "    \n",
    "**Ejecutar el siguiente fragmento en una consola, porque Jupyter deshabilita `KeyboardInterrupt`**\n",
    "\n",
    "</font>\n",
    "\n",
    "``` python\n",
    "def leer_enteros(mensaje):\n",
    "    numeros_leidos = []\n",
    "    try:\n",
    "        while True:\n",
    "            try:\n",
    "                n = input(mensaje + \" Ctrl-C para finalizar: \")\n",
    "                n = int(n)\n",
    "                numeros_leidos.append(n)\n",
    "            except ValueError:\n",
    "                print(\"Debes ingresar un número entero, intentalo de nuevo\")\n",
    "            except KeyboardInterrupt:\n",
    "                break\n",
    "    finally:\n",
    "        return numeros_leidos\n",
    "\n",
    "if __name__ == '__main__':\n",
    "    n = leer_enteros(\"Ingresa un entero\")\n",
    "    print(n)\n",
    "``` "
   ]
  },
  {
   "cell_type": "markdown",
   "metadata": {
    "editable": true,
    "slideshow": {
     "slide_type": "subslide"
    },
    "tags": []
   },
   "source": [
    "#### Ejemplo de uso de la cláusula else"
   ]
  },
  {
   "cell_type": "code",
   "execution_count": null,
   "metadata": {
    "editable": true,
    "slideshow": {
     "slide_type": "fragment"
    },
    "tags": []
   },
   "outputs": [],
   "source": [
    "import math\n",
    "\n",
    "\n",
    "def dividir(a, b):\n",
    "    try:\n",
    "        cociente = a // b\n",
    "    except ZeroDivisionError:\n",
    "        cociente = math.inf\n",
    "        resto = 0\n",
    "    else:\n",
    "        resto = a % b\n",
    "    return cociente, resto\n",
    "\n",
    "\n",
    "if __name__ == \"__main__\":\n",
    "    print(dividir(30, 0))"
   ]
  },
  {
   "cell_type": "markdown",
   "metadata": {
    "editable": true,
    "slideshow": {
     "slide_type": "fragment"
    },
    "tags": []
   },
   "source": [
    "Probar en [pythontutor.com](https://pythontutor.com/render.html#code=import%20math%0Adef%20dividir%28a,%20b%29%3A%0A%20%20%20%20try%3A%0A%20%20%20%20%20%20%20%20cociente%20%3D%20a%20//%20b%0A%20%20%20%20except%20ZeroDivisionError%3A%0A%20%20%20%20%20%20%20%20cociente%20%3D%20math.inf%0A%20%20%20%20%20%20%20%20resto%20%3D%200%0A%20%20%20%20else%3A%0A%20%20%20%20%20%20%20%20resto%20%3D%20a%20%25%20b%0A%20%20%20%20return%20cociente,%20resto%0A%20%20%20%20%0Aprint%28dividir%2830,%207%29%29&cumulative=false&curInstr=0&heapPrimitives=nevernest&mode=display&origin=opt-frontend.js&py=3&rawInputLstJSON=%5B%5D&textReferences=false)"
   ]
  },
  {
   "cell_type": "markdown",
   "metadata": {
    "editable": true,
    "slideshow": {
     "slide_type": "slide"
    },
    "tags": []
   },
   "source": [
    "### Lanzar Excepciones\n",
    "\n",
    "La instrucción `raise` en Python se utiliza para lanzar una excepción de forma explícita. Esto es útil en diversas situaciones, a continuación algunos ejemplos\n",
    "\n",
    "- **Cuando una condición no se cumple:** Si una función recibe un argumento inválido o si una condición crítica no se satisface, se puede lanzar una excepción para indicar que no se puede continuar y detener la ejecución normal del programa. Es responsablidad del que llamó la función manejar la excepción.\n",
    "- **Para crear excepciones personalizadas:** Se puede crear clases de excepciones propias para representar errores específicos nuestro programa, proporcionando información más detallada sobre el problema.\n",
    "- **Para relanzar una excepción:** Se puede capturar una excepción, realizar alguna acción y luego relanzarla con un mensaje más específico o con una excepción diferente.\n",
    "\n",
    "#### Cuando no lanzar excepciones\n",
    "\n",
    "- **Para controlar el flujo normal del programa:** Se deben utlilizar las estructuras de control como if, else y while para controlar el flujo de ejecución.\n",
    "- **Para errores que se pueden manejar localmente:** Si un error es específico de nuestro programa y lo podemos resolver, entonces no hace falta lanzar una excepción."
   ]
  },
  {
   "cell_type": "code",
   "execution_count": null,
   "metadata": {
    "editable": true,
    "slideshow": {
     "slide_type": "subslide"
    },
    "tags": []
   },
   "outputs": [],
   "source": [
    "class MiExcepcion(Exception):\n",
    "    pass\n",
    "\n",
    "\n",
    "def f1():\n",
    "    print(\"Te voy a lanzar una excepción... Atrapala si podés\")\n",
    "    raise MiExcepcion(\"Error en f1\")\n",
    "\n",
    "\n",
    "def f2():\n",
    "    try:\n",
    "        f1()\n",
    "    except:  # Muy mala practica atrapar cualquier excepción\n",
    "        print(\"f2 No puede manejar ninguna excepción\")\n",
    "        raise\n",
    "\n",
    "\n",
    "def f3():\n",
    "    try:\n",
    "        f2()\n",
    "    except TypeError as e:\n",
    "        print(e)\n",
    "    finally:\n",
    "        print(\"f3 tampoco puede manejar MiExcepcion\")\n",
    "\n",
    "\n",
    "# Módulo Global\n",
    "try:\n",
    "    f3()\n",
    "except MiExcepcion as e:\n",
    "    print(e)\n",
    "    print(\"La atrape en main\")"
   ]
  },
  {
   "cell_type": "markdown",
   "metadata": {
    "editable": true,
    "slideshow": {
     "slide_type": "fragment"
    },
    "tags": []
   },
   "source": [
    "Ver en [pythontutor.com](https://pythontutor.com/render.html#code=class%20MiExcepcion%28Exception%29%3A%0A%20%20%20%20pass%0A%0Adef%20f1%28%29%3A%0A%20%20%20%20print%28%22Te%20voy%20a%20lanzar%20una%20excepci%C3%B3n....Atrapala%20si%20pod%C3%A9s%22%29%0A%20%20%20%20raise%20MiExcepcion%28%22Error%20en%20f1%22%29%0A%0Adef%20f2%28%29%3A%0A%20%20%20%20try%3A%0A%20%20%20%20%20%20%20%20f1%28%29%0A%20%20%20%20except%3A%20%23Muy%20mala%20practica%20atrapar%20cualquier%20excepci%C3%B3n%0A%20%20%20%20%20%20%20%20print%28%22f2%20No%20puede%20manejar%20ninguna%20excepci%C3%B3n%22%29%0A%20%20%20%20%20%20%20%20raise%0A%0Adef%20f3%28%29%3A%0A%20%20%20%20try%3A%0A%20%20%20%20%20%20%20%20f2%28%29%0A%20%20%20%20except%20TypeError%20as%20e%3A%0A%20%20%20%20%20%20%20%20print%28e%29%0A%20%20%20%20finally%3A%0A%20%20%20%20%20%20%20%20print%28%22f3%20tampoco%20puede%20manejar%20MiExcepcion%22%29%0A%0A%23M%C3%B3dulo%20Global%0Atry%3A%0A%20%20%20%20f3%28%29%0Aexcept%20MiExcepcion%20as%20e%3A%0A%20%20%20%20print%28e%29%0A%20%20%20%20print%28%22La%20atrape%20en%20main%22%29&cumulative=false&curInstr=0&heapPrimitives=nevernest&mode=display&origin=opt-frontend.js&py=3&rawInputLstJSON=%5B%5D&textReferences=false)"
   ]
  },
  {
   "cell_type": "markdown",
   "metadata": {
    "editable": true,
    "slideshow": {
     "slide_type": "slide"
    },
    "tags": []
   },
   "source": [
    "## Archivos\n",
    "\n",
    "Python ofrece una amplia gama de herramientas para trabajar con archivos, desde simples operaciones de lectura y escritura hasta tareas más complejas como la modificación de su contenido"
   ]
  },
  {
   "cell_type": "markdown",
   "metadata": {
    "editable": true,
    "slideshow": {
     "slide_type": "subslide"
    },
    "tags": []
   },
   "source": [
    "### Abrir Archivos\n",
    "\n",
    "La función open, incorporada en el lenguaje, nos permite abrir un archivo para manipularlo\n",
    "\n",
    "```python\n",
    "open(file, mode='r', buffering=-1, encoding=None, errors=None, newline=None, closefd=True, opener=None)\n",
    "```\n",
    "Los principales parámetros son:\n",
    "\n",
    "- `file`: Es el nombre del archivo, puede ser el path absoluto o relativo a un archivo en disco\n",
    "- `mode`: Es el modo de apertura:\n",
    "    - `'r'`: Sólo lectura (por defecto)\n",
    "    - `'w'`: Escritura (si el archivo ya tenía datos, los sobreescribe)\n",
    "    - `'a'`: Append, anexa los datos al final del mismo\n",
    "    - `'x'`: Crear un archivo nuevo (lanza una excepción si el archivo ya existe)"
   ]
  },
  {
   "cell_type": "code",
   "execution_count": null,
   "metadata": {
    "editable": true,
    "slideshow": {
     "slide_type": "subslide"
    },
    "tags": []
   },
   "outputs": [],
   "source": [
    "salida = open(\"archivo.txt\", mode=\"w\", encoding=\"utf-8\")\n",
    "salida.write(\"Con utf-8 podemos escribir en español con la letra ñ y vocales con tilde.\\n\")\n",
    "salida.write(\"Por ejemplo canción y Ñandú.\")\n",
    "salida.close()"
   ]
  },
  {
   "cell_type": "markdown",
   "metadata": {
    "editable": true,
    "slideshow": {
     "slide_type": "fragment"
    },
    "tags": []
   },
   "source": [
    "Después de procesar un archivo es importante cerrarlo, para liberar el recurso del sistema operativo y para asegurarse que todas las operaciones de escrituras se bajan efectivamente al disco.\n",
    "\n",
    "Para cerrar un archivo se usa la función `close()`\n",
    "\n",
    "Ver [archivo.txt](./archivo.txt)"
   ]
  },
  {
   "cell_type": "markdown",
   "metadata": {
    "editable": true,
    "slideshow": {
     "slide_type": "subslide"
    },
    "tags": []
   },
   "source": [
    "### Leer Archivos"
   ]
  },
  {
   "cell_type": "code",
   "execution_count": null,
   "metadata": {
    "editable": true,
    "slideshow": {
     "slide_type": "fragment"
    },
    "tags": []
   },
   "outputs": [],
   "source": [
    "fd = open(\"archivo.txt\", encoding=\"utf-8\")"
   ]
  },
  {
   "cell_type": "markdown",
   "metadata": {
    "editable": true,
    "slideshow": {
     "slide_type": "fragment"
    },
    "tags": []
   },
   "source": [
    "<p style=\"text-align: center\">\n",
    "    <img src=\"./figuras/disco-buffer-programa.svg\" />\n",
    "</p>"
   ]
  },
  {
   "cell_type": "code",
   "execution_count": null,
   "metadata": {
    "editable": true,
    "slideshow": {
     "slide_type": "subslide"
    },
    "tags": []
   },
   "outputs": [],
   "source": [
    "# Lee todas las líneas del archivo y devuelve una lista de cadenas de caracteres\n",
    "fd.readlines()"
   ]
  },
  {
   "cell_type": "code",
   "execution_count": null,
   "metadata": {
    "editable": true,
    "slideshow": {
     "slide_type": "fragment"
    },
    "tags": []
   },
   "outputs": [],
   "source": [
    "# Se posiciona al inicio del archivo\n",
    "fd.seek(0)\n",
    "# Lee una sola línea del archivo)\n",
    "fd.readline()"
   ]
  },
  {
   "cell_type": "code",
   "execution_count": null,
   "metadata": {
    "editable": true,
    "slideshow": {
     "slide_type": "fragment"
    },
    "tags": []
   },
   "outputs": [],
   "source": [
    "# Lee 3 caracteres desde la posición actual en el buffer\n",
    "fd.read(3)"
   ]
  },
  {
   "cell_type": "code",
   "execution_count": null,
   "metadata": {
    "editable": true,
    "slideshow": {
     "slide_type": "fragment"
    },
    "tags": []
   },
   "outputs": [],
   "source": [
    "# Lee hasta el final\n",
    "print(fd.read())\n",
    "fd.close()"
   ]
  },
  {
   "cell_type": "markdown",
   "metadata": {
    "editable": true,
    "slideshow": {
     "slide_type": "subslide"
    },
    "tags": []
   },
   "source": [
    "### Escribir Archivos"
   ]
  },
  {
   "cell_type": "code",
   "execution_count": null,
   "metadata": {
    "editable": true,
    "slideshow": {
     "slide_type": "fragment"
    },
    "tags": []
   },
   "outputs": [],
   "source": [
    "fd = open(\"archivo.txt\", mode=\"a\", encoding=\"utf-8\")\n",
    "lista = [\"\\ntercera línea\\n\", \"cuarta línea\"]\n",
    "fd.writelines(lista)\n",
    "fd.close()"
   ]
  },
  {
   "cell_type": "markdown",
   "metadata": {
    "editable": true,
    "slideshow": {
     "slide_type": "subslide"
    },
    "tags": []
   },
   "source": [
    "### Manejo de Excepciones\n",
    "\n",
    "Estas son algunas de las excepciones que se pueden producir al manipular un archivo\n",
    "\n",
    "#### Apertura de archivo\n",
    "\n",
    "- `FileNotFoundError`: El archivo no existe o no se encuentra en la ruta especificada.\n",
    "- `PermissionError`: Ocurre cuando no tenemos los permisos de lectura y/o escritura que correspondan.\n",
    "- `IsADirectoryError`: Se intenta abrir un directorio como si fuera un archivo.\n",
    "- `OSError`: Errores generalmente vinculados al sistema operativo. Por ejemplo disco defectuoso.\n",
    "\n",
    "#### Lectura y Escritura\n",
    "\n",
    "- `IOError`: Excepción general de entrada / salida, que puede ocurrir durante la lectura o escritura de un archivo (por ejemplo disco lleno).\n",
    "- `UniceodeEncodeError`: Se lanza cuando se intenta codificar un caracter que no soporta la codificación especificada al abrir el archivo.\n",
    "- `UnicodeDecodeError`: Se lanza cuando se encontró en el archivo un byte que no se puede decodificar la codificación especificad."
   ]
  },
  {
   "cell_type": "markdown",
   "metadata": {
    "editable": true,
    "slideshow": {
     "slide_type": "subslide"
    },
    "tags": []
   },
   "source": [
    "#### Entorno Seguro para Manipular Archivos\n",
    "\n",
    "En Python, la sentencia `with` proporciona un mecanismo elegante y seguro para trabajar con recursos, especialmente archivos. Este contexto de gestión de recursos garantiza que un recurso (como un archivo) se cierre correctamente, incluso si se produce una excepción durante su uso."
   ]
  },
  {
   "cell_type": "code",
   "execution_count": null,
   "metadata": {
    "editable": true,
    "slideshow": {
     "slide_type": "fragment"
    },
    "tags": []
   },
   "outputs": [],
   "source": [
    "archivo = open(\"archivo.txt\", \"r\")\n",
    "\n",
    "try:\n",
    "    contenido = archivo.read()\n",
    "    print(contenido)\n",
    "finally:\n",
    "    archivo.close()"
   ]
  },
  {
   "cell_type": "code",
   "execution_count": null,
   "metadata": {
    "editable": true,
    "slideshow": {
     "slide_type": "fragment"
    },
    "tags": []
   },
   "outputs": [],
   "source": [
    "with open(\"archivo.txt\", \"r\") as archivo:\n",
    "    contenido = archivo.read()\n",
    "    print(contenido)"
   ]
  },
  {
   "cell_type": "markdown",
   "metadata": {
    "editable": true,
    "slideshow": {
     "slide_type": "subslide"
    },
    "tags": []
   },
   "source": [
    "### Manipulación de Directorios\n",
    "\n",
    "El módulo `os` provee de varias funciones para manipular directorios\n",
    "\n",
    "#### Creación y Eliminación\n",
    "- `os.mkdir(path)`: Crea un nuevo directorio en la ruta especificada.\n",
    "- `os.makedirs(path)`: Crea un directorio y todos sus directorios padres si no existen.\n",
    "- `os.rmdir(path)`: Elimina un directorio vacío.\n",
    "- `os.removedirs(path)`: Elimina un directorio y todos sus subdirectorios vacíos, hasta un directorio padre no vacío.\n",
    "\n",
    "#### Obtención de Información\n",
    "- `os.listdir(path)`: Devuelve una lista de los nombres de los archivos y subdirectorios en el directorio especificado.\n",
    "- `os.path.getsize(path)`: Devuelve el tamaño en bytes del archivo o directorio especificado.\n",
    "- `os.stat(path)`: Devuelve un objeto os.stat con información detallada sobre el archivo o directorio, como permisos, fecha de modificación, etc.\n",
    "- `os.getcwd()`: Devuelve el directorio de trabajo actual en el que estamos parado"
   ]
  },
  {
   "cell_type": "markdown",
   "metadata": {
    "editable": true,
    "slideshow": {
     "slide_type": "subslide"
    },
    "tags": []
   },
   "source": [
    "#### Cambio de Directorio\n",
    "\n",
    "- `os.chdir(path)`: Cambia el directorio de trabajo al directorio especificado\n",
    "\n",
    "#### Renombrar y Eliminar Archivos\n",
    "\n",
    "- `os.move(src, dst)`: Renombra el archivo `src` por `dst`\n",
    "- `os.remove(path)`: Elimina un archivo\n",
    "\n",
    "#### Otras Funciones Útiles\n",
    "\n",
    "- `os.walk(top)`: Recorre recursivamente un directorio y sus subdirectorios, generando tuplas de la forma `(directorio, subdirectorios, archivos)`\n",
    "- `os.path.join(path1, path2)`: Combina varios componentes en una única ruta. Tiene la ventaja el path asi generado funciona independientemente del sistema operativo donde se está ejecutando el programa\n",
    "- `os.path.split(path)`: La operación inversa de la anterior. Divide una ruta en directorios y nombre de archivo"
   ]
  },
  {
   "cell_type": "code",
   "execution_count": null,
   "metadata": {
    "editable": true,
    "slideshow": {
     "slide_type": "subslide"
    },
    "tags": []
   },
   "outputs": [],
   "source": [
    "import os\n",
    "\n",
    "path = os.path.join(\n",
    "    \"..\",\n",
    "    \"..\",\n",
    "    \"..\",\n",
    "    \"edd\",\n",
    "    \"Clases\",\n",
    "    \"Clase 3 - Introducción a Python\",\n",
    ")\n",
    "print(path)\n",
    "\n",
    "path = os.chdir(path)\n",
    "print(os.getcwd())"
   ]
  },
  {
   "cell_type": "code",
   "execution_count": null,
   "metadata": {
    "editable": true,
    "slideshow": {
     "slide_type": "subslide"
    },
    "tags": []
   },
   "outputs": [],
   "source": [
    "# Crear un nuevo directorio\n",
    "os.mkdir(\"nuevo_directorio\")\n",
    "\n",
    "# Cambiar al directorio recién creado\n",
    "os.chdir(\"nuevo_directorio\")\n",
    "\n",
    "# Crear un archivo\n",
    "with open(\"mi_archivo.txt\", \"w\") as f:\n",
    "    f.write(\"Hola, mundo!\")\n",
    "\n",
    "# Obtener una lista de los archivos en el directorio actual\n",
    "archivos = os.listdir()\n",
    "print(archivos)"
   ]
  },
  {
   "cell_type": "code",
   "execution_count": null,
   "metadata": {
    "editable": true,
    "slideshow": {
     "slide_type": "fragment"
    },
    "tags": []
   },
   "outputs": [],
   "source": [
    "# Eliminar el archivo\n",
    "for arch in archivos:\n",
    "    print(\"Borrando \" + arch)\n",
    "    os.remove(arch)\n",
    "\n",
    "os.chdir(\"..\")\n",
    "print(os.getcwd())\n",
    "\n",
    "# Eliminar el directorio (si está vacío)\n",
    "print(\"Borrando nuevo_directorio\")\n",
    "os.rmdir(\"nuevo_directorio\")"
   ]
  },
  {
   "cell_type": "markdown",
   "metadata": {
    "editable": true,
    "slideshow": {
     "slide_type": "slide"
    },
    "tags": []
   },
   "source": [
    "## Persistencia\n",
    "\n",
    "La _**persistencia**_ es la acción de conservar la información un objeto de forma permanente, pero también de recuperarla. Para lograrlo se deben _**serializar**_ los objetos. La serialización de un objeto consiste en generar una secuencia de bytes para su almacenamiento. Después mediante la deserialización, el estado original del objeto se puede reconstruir.\n",
    "\n",
    "Algunos módulos de python para serializar y guardar objetos:\n",
    "\n",
    "- `pickle`: Serializa unos cuantos objetos de Python desde y a una cadena de bytes.\n",
    "- `dill`: Serializa objetos arbitrarios de Python dese y a una cadena de bytes (extiende `pickle`). Hay que instalarla de https://pypi.python.org/pypi/dill\n",
    "- `json`: Serializa algunas clases básicas. Es interoperable con otros lenguajes.\n",
    "- `shelve`: Utiliza los módulos pickle y dbm para almacenar objetos de Python en un archivo accesible por claves. \n",
    "\n",
    "Otra biblioteca disponible:\n",
    "\n",
    "- `dbm`: Implementa un sistema de archivos accesible por claves para almacenar cadenas."
   ]
  },
  {
   "cell_type": "markdown",
   "metadata": {
    "editable": true,
    "slideshow": {
     "slide_type": "subslide"
    },
    "tags": []
   },
   "source": [
    "### `pickle`\n",
    "\n",
    "- Puede manipular muchas clases de objetos: listas, diccionarios, instancias de clases.\n",
    "- El _pickle_ resultante (una cadena de caracteres) se puede salvar en disco para ser leído más adelante (y de esa manera recuperar el objeto original).\n",
    "- No es interoperable con otros lenguajes.\n",
    "- Constituye una brecha de seguridad cuando se usa fuera del ámbito de una computadora privada (en redes o en Internet, por ejemplo). \n",
    "\n",
    "Se puede hacer un pickle con:\n",
    "\n",
    "- `None`, `True`, `False`.\n",
    "- Enteros, números en punto flotante y complejos.\n",
    "- Cadenas, bytes, array de bytes, tuplas, listas y diccionarios que contienen sólo objetos con los que se puede hacer un pickle.\n",
    "- Funciones definidas en el nivel más externo de un módulo (usando def y no lambda).\n",
    "- Clases (con algunas limitaciones) definidas en el nivel más externo de un módulo"
   ]
  },
  {
   "cell_type": "code",
   "execution_count": null,
   "metadata": {
    "editable": true,
    "slideshow": {
     "slide_type": "subslide"
    },
    "tags": []
   },
   "outputs": [],
   "source": [
    "import pickle\n",
    "\n",
    "\n",
    "class Persona:\n",
    "    def __init__(self, nombre):\n",
    "        self.nombre = nombre\n",
    "\n",
    "    def __str__(self):\n",
    "        return self.nombre\n",
    "\n",
    "\n",
    "if __name__ == \"__main__\":\n",
    "    ana = Persona(\"Ana Suarez\")\n",
    "    juan = Persona(\"Juan Perez\")\n",
    "    carla = Persona(\"Carla Sanchez\")\n",
    "\n",
    "    with open(\"personas.p\", \"wb\") as contenedor:\n",
    "        pickle.dump(ana, contenedor)\n",
    "        pickle.dump(juan, contenedor)\n",
    "        pickle.dump(carla, contenedor)\n",
    "\n",
    "    with open(\"personas.p\", \"rb\") as contenedor:\n",
    "        for linea in contenedor:\n",
    "            print(linea)\n",
    "            print()"
   ]
  },
  {
   "cell_type": "code",
   "execution_count": null,
   "metadata": {
    "editable": true,
    "slideshow": {
     "slide_type": "subslide"
    },
    "tags": []
   },
   "outputs": [],
   "source": [
    "import pickle\n",
    "\n",
    "d = {(\"a\", \"b\"): \"hola\"}\n",
    "\n",
    "with open(\"temp.p\", \"wb\") as contenedor:\n",
    "    pickle.dump(d, contenedor)\n",
    "\n",
    "with open(\"temp.p\", \"rb\") as contenedor:\n",
    "    d = pickle.load(contenedor)\n",
    "\n",
    "print(d)"
   ]
  },
  {
   "cell_type": "code",
   "execution_count": null,
   "metadata": {
    "editable": true,
    "slideshow": {
     "slide_type": "fragment"
    },
    "tags": []
   },
   "outputs": [],
   "source": [
    "lista = []\n",
    "\n",
    "with open(\"personas.p\", \"rb\") as contenedor:\n",
    "    try:\n",
    "        while contenedor:\n",
    "            obj = pickle.load(contenedor)\n",
    "            lista.append(obj)\n",
    "    except EOFError:\n",
    "        pass\n",
    "    except:\n",
    "        raise\n",
    "\n",
    "for p in lista:\n",
    "    print(p)"
   ]
  },
  {
   "cell_type": "code",
   "execution_count": null,
   "metadata": {
    "editable": true,
    "slideshow": {
     "slide_type": "subslide"
    },
    "tags": []
   },
   "outputs": [],
   "source": [
    "class Persona:\n",
    "    \"\"\"\n",
    "    Nueva versión de la clase Persona, se agrega el atributo dni\n",
    "    y el método get_dni\n",
    "    \"\"\"\n",
    "\n",
    "    def __init__(self, nombre, dni=\"\"):\n",
    "        self.nombre = nombre\n",
    "        self.dni = \"\"\n",
    "\n",
    "    def __str__(self):\n",
    "        return self.nombre\n",
    "\n",
    "    def get_dni(self):\n",
    "        return self.dni"
   ]
  },
  {
   "cell_type": "code",
   "execution_count": null,
   "metadata": {
    "editable": true,
    "slideshow": {
     "slide_type": "subslide"
    },
    "tags": []
   },
   "outputs": [],
   "source": [
    "lista = []\n",
    "\n",
    "with open(\"personas.p\", \"rb\") as contenedor:\n",
    "    try:\n",
    "        while contenedor:\n",
    "            obj = pickle.load(contenedor)\n",
    "            lista.append(obj)\n",
    "    except EOFError:\n",
    "        pass\n",
    "    except:\n",
    "        raise\n",
    "\n",
    "ana = lista[0]\n",
    "juan = lista[1]\n",
    "carla = lista[2]\n",
    "\n",
    "for atributo, valor in vars(ana).items():\n",
    "    print(atributo + \": \" + valor)"
   ]
  },
  {
   "cell_type": "code",
   "execution_count": null,
   "metadata": {
    "editable": true,
    "slideshow": {
     "slide_type": "fragment"
    },
    "tags": []
   },
   "outputs": [],
   "source": [
    "ana.dni = \"34.154.269\"  # agrego dni a ana\n",
    "\n",
    "for atributo, valor in vars(ana).items():\n",
    "    print(atributo + \": \" + valor)\n",
    "\n",
    "print(ana.get_dni())  # el método get_dni ya lo tiene de la nueva versión de Persona"
   ]
  },
  {
   "cell_type": "markdown",
   "metadata": {
    "editable": true,
    "id": "fDonKunVqcaI",
    "slideshow": {
     "slide_type": "subslide"
    },
    "tags": []
   },
   "source": [
    "#### Algunos detalles de la serialización con `pickle`\n",
    "\n",
    "- De las funciones (tanto del sistema como definidas por el usuario) lo único que se conserva es su nombre, no su valor. O sea que en el momento de recuperarlas hay que tener acceso a su valor (cuerpo de la función) para poderlas ejecutar.\n",
    "- Cuando se conserva una instancia de clase como `pickle`, lo único que se guardan son los valores de los atributos, no su código asociado, de modo tal que se puedan luego recuperar instancias que se crearon en versiones anteriores de la clase sin problema.\n",
    "- Cuando se conserva una instancia de clase como `pickle`, se guardan los atributos de instancia de self junto con el nombre de la clase en donde se creó y el módulo donde vive la clase: una vez recuperada esa instancia, se podrá directamente aplicarle métodos de comportamiento.\n"
   ]
  },
  {
   "cell_type": "markdown",
   "metadata": {
    "editable": true,
    "id": "hXWkUlN3qcaI",
    "slideshow": {
     "slide_type": "fragment"
    },
    "tags": []
   },
   "source": [
    "#### La serialización de objetos y la seguridad\n",
    "En la documentación de pickle se encuentra lo siguiente:\n",
    "\n",
    "\n",
    "> **Warning**: The `pickle` module is not secure against erroneous or maliciously constructed data. Never unpickle data received from an untrusted or unauthenticated source."
   ]
  },
  {
   "cell_type": "markdown",
   "metadata": {
    "editable": true,
    "id": "0_49D4qlqcaJ",
    "slideshow": {
     "slide_type": "fragment"
    },
    "tags": []
   },
   "source": [
    "El archivo personas hackeada fue creado modificando la clase Persona para que pickle ejecute un comando arbitrario al tratar de cargar una persona de un archivo. En este caso el comando que se ejecuta es `rm ./log.log`"
   ]
  },
  {
   "cell_type": "code",
   "execution_count": null,
   "metadata": {
    "editable": true,
    "slideshow": {
     "slide_type": "subslide"
    },
    "tags": []
   },
   "outputs": [],
   "source": [
    "# Creamos el archivo log.log\n",
    "with open(\"./log.log\", \"w\", encoding=\"utf-8\") as archivo:\n",
    "    archivo.write(\"Archivo muy importante\\n\")"
   ]
  },
  {
   "cell_type": "code",
   "execution_count": null,
   "metadata": {
    "editable": true,
    "slideshow": {
     "slide_type": ""
    },
    "tags": []
   },
   "outputs": [],
   "source": [
    "import os\n",
    "import pickle\n",
    "\n",
    "os.listdir()"
   ]
  },
  {
   "cell_type": "code",
   "execution_count": null,
   "metadata": {
    "editable": true,
    "id": "5MRLScibqcaJ",
    "slideshow": {
     "slide_type": "fragment"
    },
    "tags": []
   },
   "outputs": [],
   "source": [
    "lista = []\n",
    "\n",
    "with open(\"personas_hackeadas.p\", \"rb\") as contenedor:\n",
    "    try:\n",
    "        while contenedor:\n",
    "            obj = pickle.load(contenedor)\n",
    "            lista.append(obj)\n",
    "    except EOFError:\n",
    "        pass\n",
    "    except:\n",
    "        raise\n",
    "\n",
    "for p in lista:\n",
    "    print(p)"
   ]
  },
  {
   "cell_type": "markdown",
   "metadata": {
    "editable": true,
    "id": "3hNE0fBWqcaJ",
    "slideshow": {
     "slide_type": "subslide"
    },
    "tags": []
   },
   "source": [
    "### `dill`\n",
    "No es un módulo estándar, se debe instalar de https://pypi.python.org/pypi/dill\n",
    "\n",
    "```\n",
    "pip install dill\n",
    "```\n",
    "\n",
    "Permite serializar cualquier objeto, clases completas, funciones anidadas, etc. Es un gran riesgo para la seguridad.\n",
    "Nunca se debe abrir un archivo generado con dill de origen desconocido\n"
   ]
  },
  {
   "cell_type": "code",
   "execution_count": null,
   "metadata": {
    "editable": true,
    "id": "WsMU4dTiqcaK",
    "slideshow": {
     "slide_type": "subslide"
    },
    "tags": []
   },
   "outputs": [],
   "source": [
    "import dill\n",
    "\n",
    "\n",
    "def cifrar_mensaje(msj, password):\n",
    "    def descifrar(x):\n",
    "        if x == password:\n",
    "            return msj\n",
    "        else:\n",
    "            return None\n",
    "\n",
    "    return descifrar\n",
    "\n",
    "\n",
    "mensaje_cifrado = cifrar_mensaje(\"Este es el mensaje cifrado\", \"secreto\")\n",
    "\n",
    "with open(\"msj_cifrado.dill\", \"wb\") as contenedor:\n",
    "    dill.dump(mensaje_cifrado, contenedor)"
   ]
  },
  {
   "cell_type": "code",
   "execution_count": null,
   "metadata": {
    "editable": true,
    "id": "GajmMov6qcaK",
    "slideshow": {
     "slide_type": "fragment"
    },
    "tags": []
   },
   "outputs": [],
   "source": [
    "with open(\"msj_cifrado.dill\", \"rb\") as contenedor:\n",
    "    for linea in contenedor:\n",
    "        print(linea)"
   ]
  },
  {
   "cell_type": "code",
   "execution_count": null,
   "metadata": {
    "editable": true,
    "id": "2enjy3s4qcaK",
    "slideshow": {
     "slide_type": "fragment"
    },
    "tags": []
   },
   "outputs": [],
   "source": [
    "with open(\"msj_cifrado.dill\", \"rb\") as contenedor:\n",
    "    funcion = dill.load(contenedor)\n",
    "\n",
    "print(funcion(\"clave incorrecta\"))\n",
    "\n",
    "print(funcion(\"secreto\"))"
   ]
  },
  {
   "cell_type": "markdown",
   "metadata": {
    "editable": true,
    "id": "B4SfbuQsqcaK",
    "slideshow": {
     "slide_type": "subslide"
    },
    "tags": []
   },
   "source": [
    "### `json` (Javascript Object Notation)\n",
    "\n",
    "La aproximación de `json` al tema de la serialización es totalmente diferente. Se trata de una notación que nació en el ámbito de Javascript para intercambiar datos entre aplicaciones y servidores.\n",
    "\n",
    "Es un formato de intercambio de datos basado en texto."
   ]
  },
  {
   "cell_type": "markdown",
   "metadata": {
    "editable": true,
    "id": "HCtFxJe-qcaK",
    "slideshow": {
     "slide_type": "fragment"
    },
    "tags": []
   },
   "source": [
    "- Puede manipular algunas clases de objetos: cadenas de caracteres, números, booleanos, None, listas, diccionarios cuyas claves son cadenas de caracteres.\n",
    "- La cadena resultante se puede salvar en disco para ser leída más adelante.\n",
    "- Es interoperable con otros lenguajes.\n",
    "- Su contenido se puede leer directamente.\n",
    "- No constituye una brecha de seguridad cuando se usa fuera del ámbito de una computadora privada (en redes o en Internet, por ejemplo) y por lo tanto se recomienda en estos casos.\n"
   ]
  },
  {
   "cell_type": "code",
   "execution_count": null,
   "metadata": {
    "editable": true,
    "id": "MicROnsUqcaL",
    "slideshow": {
     "slide_type": "subslide"
    },
    "tags": []
   },
   "outputs": [],
   "source": [
    "import json\n",
    "\n",
    "dict_colores = {\"leon\": \"amarillo\", \"gatito\": \"gris\"}\n",
    "lista = [1, 2, \"casa\", 3]\n",
    "booleano = True\n",
    "\n",
    "with open(\"ejemplo_json.j\", \"w\") as contenedor:\n",
    "    json.dump(dict_colores, contenedor)\n",
    "    json.dump(lista, contenedor)\n",
    "    json.dump(booleano, contenedor)\n",
    "\n",
    "print(json.dumps(booleano))"
   ]
  },
  {
   "cell_type": "code",
   "execution_count": null,
   "metadata": {
    "editable": true,
    "id": "oAUXco-SqcaL",
    "slideshow": {
     "slide_type": "fragment"
    },
    "tags": []
   },
   "outputs": [],
   "source": [
    "with open(\"ejemplo_json.j\", \"r\") as contenedor:\n",
    "    for linea in contenedor:\n",
    "        print(linea)"
   ]
  },
  {
   "cell_type": "code",
   "execution_count": null,
   "metadata": {
    "editable": true,
    "id": "1UcZJc9EqcaL",
    "slideshow": {
     "slide_type": "subslide"
    },
    "tags": []
   },
   "outputs": [],
   "source": [
    "with open(\"ejemplo_json.j\", \"r\") as contenedor:\n",
    "    dict_colores = json.load(contenedor)\n",
    "    lista = json.load(contenedor)\n",
    "    booleano = json.load(contenedor)\n",
    "\n",
    "print(dict_colores)\n",
    "print(lista)\n",
    "print(booleano)"
   ]
  },
  {
   "cell_type": "code",
   "execution_count": null,
   "metadata": {
    "editable": true,
    "id": "XoKtSrtDqcaL",
    "slideshow": {
     "slide_type": "fragment"
    },
    "tags": []
   },
   "outputs": [],
   "source": [
    "dict_colores = {\"leon\": \"amarillo\", \"gatito\": \"gris\"}\n",
    "lista = [1, 2, \"casa\", 3]\n",
    "booleano = True\n",
    "\n",
    "json.dump(dict_colores, open(\"dict_colores.j\", \"w\"))\n",
    "json.dump(lista, open(\"lista.j\", \"w\"))\n",
    "json.dump(booleano, open(\"booleano.j\", \"w\"))"
   ]
  },
  {
   "cell_type": "code",
   "execution_count": null,
   "metadata": {
    "editable": true,
    "id": "FWJiptYmqcaL",
    "slideshow": {
     "slide_type": "fragment"
    },
    "tags": []
   },
   "outputs": [],
   "source": [
    "dict_colores = json.load(open(\"dict_colores.j\", \"r\"))\n",
    "print(dict_colores)\n",
    "\n",
    "lista = json.load(open(\"lista.j\", \"r\"))\n",
    "print(lista)\n",
    "\n",
    "booleano = json.load(open(\"booleano.j\", \"r\"))\n",
    "print(booleano)"
   ]
  },
  {
   "cell_type": "markdown",
   "metadata": {
    "editable": true,
    "id": "jBhT4yqhqcaM",
    "slideshow": {
     "slide_type": "subslide"
    },
    "tags": []
   },
   "source": [
    "### `shelve`\n",
    "Agrega una capa de complejidad a `pickle`: guarda los datos preservados por `pickle` en una base indexada. No puede guardar datos preservados por `dill` que no sea preservables por `pickle`.\n",
    "\n",
    "El nombre implica en sí mismo un chiste: si hacer _pickles_ significa preservar algo en salmuera o en vinagre, en frascos, tener _shelves_ (estantes) significa guardar esos datos preservados en estantes, debidamente clasificados.\n"
   ]
  },
  {
   "cell_type": "code",
   "execution_count": null,
   "metadata": {
    "editable": true,
    "id": "tA8xspyNqcaM",
    "slideshow": {
     "slide_type": "subslide"
    },
    "tags": []
   },
   "outputs": [],
   "source": [
    "import pickle\n",
    "import shelve\n",
    "\n",
    "lista = []\n",
    "with open(\"personas.p\", \"rb\") as contenedor:\n",
    "    try:\n",
    "        while contenedor:\n",
    "            obj = pickle.load(contenedor)\n",
    "            lista.append(obj)\n",
    "    except EOFError:\n",
    "        pass\n",
    "    except:\n",
    "        raise"
   ]
  },
  {
   "cell_type": "code",
   "execution_count": null,
   "metadata": {
    "editable": true,
    "id": "yc-2e446qcaM",
    "slideshow": {
     "slide_type": "fragment"
    },
    "tags": []
   },
   "outputs": [],
   "source": [
    "with shelve.open(\"estantes_personas.s\") as db:\n",
    "    for persona in lista:\n",
    "        db[persona.nombre] = persona"
   ]
  },
  {
   "cell_type": "code",
   "execution_count": null,
   "metadata": {
    "editable": true,
    "id": "If8FJ5k5qcaM",
    "slideshow": {
     "slide_type": "fragment"
    },
    "tags": []
   },
   "outputs": [],
   "source": [
    "with shelve.open(\"estantes_personas.s\") as db:\n",
    "    for clave, valor in db.items():\n",
    "        print(clave, \":\", valor)"
   ]
  },
  {
   "cell_type": "markdown",
   "metadata": {
    "editable": true,
    "slideshow": {
     "slide_type": "slide"
    },
    "tags": []
   },
   "source": [
    "## Referencias\n",
    "\n",
    "* **Documentación oficial de Python:**\n",
    "  * Excepciones: https://docs.python.org/es/3/library/exceptions.html\n",
    "  * Tutorial oficial. Errores y Excepciones: https://docs.python.org/es/3/tutorial/errors.html\n",
    "  * Acceso a archivos y directorios: https://docs.python.org/es/3/library/filesys.html\n",
    "  * Tutoria oficial. Leyendo y escribiendo archivos: https://docs.python.org/es/3/tutorial/inputoutput.html#reading-and-writing-files\n",
    "  * Persistencia de datos: https://docs.python.org/es/3/library/persistence.html"
   ]
  },
  {
   "cell_type": "code",
   "execution_count": null,
   "metadata": {
    "editable": true,
    "slideshow": {
     "slide_type": ""
    },
    "tags": []
   },
   "outputs": [],
   "source": [
    "###### Limpiar directorio. Ejecutar con cuidado\n",
    "import os\n",
    "\n",
    "archivos = os.listdir()\n",
    "conservar = [\n",
    "    \"figuras\",\n",
    "    \".ipynb_checkpoints\",\n",
    "    \"Introducción a Python.ipynb\",\n",
    "    \"personas_hackeadas.p\",\n",
    "    \"rise.css\",\n",
    "]\n",
    "\n",
    "for arch in archivos:\n",
    "    if arch not in conservar:\n",
    "        os.remove(arch)"
   ]
  },
  {
   "cell_type": "code",
   "execution_count": null,
   "metadata": {},
   "outputs": [],
   "source": []
  }
 ],
 "metadata": {
  "colab": {
   "collapsed_sections": [],
   "name": "Clase_2.ipynb",
   "provenance": []
  },
  "kernelspec": {
   "display_name": "Python 3 (ipykernel)",
   "language": "python",
   "name": "python3"
  },
  "language_info": {
   "codemirror_mode": {
    "name": "ipython",
    "version": 3
   },
   "file_extension": ".py",
   "mimetype": "text/x-python",
   "name": "python",
   "nbconvert_exporter": "python",
   "pygments_lexer": "ipython3",
   "version": "3.12.5"
  },
  "rise": {
   "start_slideshow_at": "beginning"
  }
 },
 "nbformat": 4,
 "nbformat_minor": 4
}
