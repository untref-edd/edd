{
 "cells": [
  {
   "cell_type": "markdown",
   "metadata": {
    "editable": true,
    "id": "8nLrFNi7a3uu",
    "slideshow": {
     "slide_type": "slide"
    },
    "tags": []
   },
   "source": [
    "<p style=\"text-align: center\">\n",
    "    <img src=\"../../assets/images/untref-logo-negro.svg\" />\n",
    "</p>\n",
    "\n",
    "<h3 style=\"text-align: center\">Estructuras de Datos</h3>\n",
    "\n",
    "<h2 style=\"text-align: center\">Expresiones Regulares</h2>"
   ]
  },
  {
   "cell_type": "markdown",
   "metadata": {
    "editable": true,
    "id": "wXFxCTw-a3uw",
    "slideshow": {
     "slide_type": "subslide"
    },
    "tags": []
   },
   "source": [
    "Las expresiones regulares son patrones de texto descritos con una sintaxis formal. Se conocen como **regex**.\n",
    "\n",
    "En Python el módulo `re` permite manipularlas\n",
    "\n",
    "- `foo` es una expresión regular\n",
    "- `[A-Z]+:\\d+` es otra expresión regular\n",
    "\n",
    "Se pueden probar online en la página https://regex101.com/\n",
    "\n",
    "En general se usan para:\n",
    "\n",
    "- Encontrar texto.\n",
    "- Validar el formato de una cadena.\n",
    "- Reemplazar un texto por otro.\n",
    "- Partir el texto en porciones.\n",
    "\n"
   ]
  },
  {
   "cell_type": "markdown",
   "metadata": {
    "editable": true,
    "id": "rmc-s3S1a3ux",
    "slideshow": {
     "slide_type": "subslide"
    },
    "tags": []
   },
   "source": [
    "### Caracteres\n",
    "\n",
    "| Expresión | Significado | Ejemplo | Match |\n",
    "| :- | :- | :- | :- |\n",
    "| `\\d` | En la mayoría de los lenguajes un dígito 0..9 | `file_\\d\\d` | file_25 |\n",
    "| | En Python 3 y .Net un dígito Unicode | `file_\\d\\d` | file_2੩ |\n",
    "| `\\w` | En la mayoría de los lenguajes, un carácter de palabra: letra, dígito o '_' | `\\w-\\w\\w\\w` | A-f_3 |\n",
    "| | En Python 3, un símbolo Unicode de palabra, incluye '_' | `\\w-\\w\\w\\w` | 字-ま_۳ |\n",
    "| | En .NET, un símbolo Unicode de palabra, incluye conector '‿' | `\\w-\\w\\w\\w` | 字-ま‿۳ |\n",
    "| `\\s` | En la mayoría de los lenguajes caracteres de blanco estándar | `a\\sb\\sc` | a b c |\n",
    "| | En la .NET, Python 3, Javascript, caracteres de blanco Unicode | `a\\sb\\sc` | a b c |\n",
    "| `\\D` | Un caracter que no es un dígito `\\d`del lenguaje | `\\D\\D\\D` | ABC |\n",
    "| `\\W` | Un caracter que no es un caracter de palabra `\\w`del lenguaje | `\\W\\W\\W\\W` | *+=) |\n",
    "| `\\S` | Un caracter que no es un blanco estandar `\\s`del lenguaje | `\\S\\S\\S\\S` | casa |\n"
   ]
  },
  {
   "cell_type": "markdown",
   "metadata": {
    "editable": true,
    "id": "kYaCYs1da3ux",
    "slideshow": {
     "slide_type": "subslide"
    },
    "tags": []
   },
   "source": [
    "### Cuantificadores\n",
    "\n",
    "| Expresión | Significado | Ejemplo | Match |\n",
    "| :- | :- | :- | :- |\n",
    "| `+` | Una o más apariciones | `\\w-\\w+` | C-125x_1 |\n",
    "| `{3}` | Exactamente tres apariciones | `\\D{3}` | ANA |\n",
    "| `{2,4}` | Entre dos y cuatro apariciones | `\\W{2,4}` | {+} |\n",
    "| `*` | Cero o más aparaciones | `A*B*C*` | AAAACCCC |\n",
    "| `?` | Cero o una aparición | `casas?` | casa |\n"
   ]
  },
  {
   "cell_type": "markdown",
   "metadata": {
    "editable": true,
    "id": "3wJHRLdIa3ux",
    "slideshow": {
     "slide_type": "subslide"
    },
    "tags": []
   },
   "source": [
    "### Más Caracteres\n",
    "\n",
    "| Expresión | Significado | Ejemplo | Match |\n",
    "| :- | :- | :- | :- |\n",
    "| `.` | Cualquier caracter, excepto cortes de líneas | `a.c` | abc |\n",
    "| | | `.*` | piso 2, depto \"A\" |\n",
    "| `\\.` | Un punto | `\\w\\.\\d` | a.3 |\n",
    "| `\\` | Escape de caracteres especiales | `\\*\\?\\$\\^` | *?$^ |\n",
    "| | | `\\[\\{\\(\\)\\}\\]` | [{()}] |\n"
   ]
  },
  {
   "cell_type": "markdown",
   "metadata": {
    "editable": true,
    "id": "uCOkbcHia3uy",
    "slideshow": {
     "slide_type": "subslide"
    },
    "tags": []
   },
   "source": [
    "### Lógica\n",
    "\n",
    "| Expresión | Significado | Ejemplo | Match |\n",
    "| :- | :- | :- | :- |\n",
    "| `\\|` | Or | `22\\|33` | 22 |\n",
    "| `( ... )` | Captura un grupo y lo asocia a una variable numerada | `UN(O\\|TREF)` | UNTREF (y captura TREF) |\n",
    "| `\\1` | Lo capturado en el grupo 1 | `r(\\w)g\\1\\x` | regex |\n",
    "| `\\2` | Lo capturado en el grupo 2 | `(\\d+)+(\\d+)=\\2+\\1` | 25+33=33+25 |\n",
    "| `(?:…)` | Grupo que no se captura (se verifica la regex pero no se captura) | `A(?:na\\|licia)` | Alicia |\n",
    "\n"
   ]
  },
  {
   "cell_type": "markdown",
   "metadata": {
    "editable": true,
    "id": "kRYHxGfNa3uy",
    "slideshow": {
     "slide_type": "subslide"
    },
    "tags": []
   },
   "source": [
    "### Clases de caracteres\n",
    "\n",
    "| Expresión | Significado | Ejemplo | Match |\n",
    "| :- | :- | :- | :- |\n",
    "| `[ ... ]` | Uno de los caracteres entre corchetes | `[AEIOU]` | A |\n",
    "| `-` | Indicador de rango | `[a-z]` | Una letra minúscula |\n",
    "| | | `[A-Z]+` | Una o más letras mayúsculas |\n",
    "| | | `[AB1-5w-z]` | Uno de los caracteres A, B, 1, 2, 3, 4, 5, w, x, y, z|\n",
    "| `[^x]` | Cualquier caracter distinto de x | `A[^a]B` | AxB |\n",
    "| `[^x-y]` | Cualquier caracter fuera del rango x-y | `[^a-z]{3}` | A1! |\n",
    "| `[\\xhh]` | El caracter con código hh en hexadecimal de la tabla de símbolos [ASCII](https://ascii.cl/es/) | `[\\x41-\\x45]{3}` | ABE |\n"
   ]
  },
  {
   "cell_type": "markdown",
   "metadata": {
    "editable": true,
    "id": "eKMzUwjAa3uy",
    "slideshow": {
     "slide_type": "subslide"
    },
    "tags": []
   },
   "source": [
    "### Posiciones: fronteras y anclas\n",
    "\n",
    "| Expresión | Significado | Ejemplo | Match |\n",
    "| :- | :- | :------- | :-|\n",
    "| `^` | Indicador de comienzo de cadena (o comienzo de línea). | | |\n",
    "| | Tiene que estar fuera de [ ] (adentro de [ ] significa negación) | `^abc.*` | Texto que empieza con *abc* |\n",
    "| `$` | Fin de cadena o fin de línea | `.*el final\\.$` | Texto que termina en *el final.* |\n",
    "| `\\b` | Frontera de la palabra | `Bibi.*\\bes\\b.*` | Bibi es mi amiga |\n",
    "| `\\B` | No es frontera de palabra | `Bibi.*\\Bes\\B.*` | Bibi usa un vestido |"
   ]
  },
  {
   "cell_type": "markdown",
   "metadata": {
    "editable": true,
    "id": "H3n_NV6Ua3uz",
    "slideshow": {
     "slide_type": "subslide"
    },
    "tags": []
   },
   "source": [
    "### Miradas alrededor (_look behind_ y _look ahead_)\n",
    "\n",
    "No consumen caracteres, se quedan paradas donde ocurrió el matching\n",
    "\n",
    "| Expresión | Significado | Ejemplo | Match |\n",
    "| :- | :- | :------- | :-|\n",
    "| `(?=…)` | Mirar hacia adelante con parámetro positivo | `(?=\\d{10})\\d{5}` | Si hacia adelante hay 10 dígitos matchear los primeros 5 |\n",
    "| `(?<=…)` | Mirar hacia atrás con parámetro positivo | `(?<=foo).*` | lo que está justo detrás de la posición corriente es la cadena 'foo' |\n",
    "| | | | El matching es todo lo que sigue a foo |\n",
    "| `(?!…)` | Mirar hacia adelante con parámetro negativo | `q(?!ue)` | matchea una q no este seguida de ue |\n",
    "| | | `(?!teatro)te\\w+` | cualquier palabra que empiece con te pero no sea teatro |\n",
    "| `(?<!…)` | Mirar hacia atrás con parámetro negativo | `(?<!fut)bol` | bol siempre y cuando no esté precedida por fut |"
   ]
  },
  {
   "cell_type": "markdown",
   "metadata": {
    "editable": true,
    "id": "C9GQ1QaLi5MZ",
    "slideshow": {
     "slide_type": "subslide"
    },
    "tags": []
   },
   "source": [
    "## Expresiones regulares en Python"
   ]
  },
  {
   "cell_type": "markdown",
   "metadata": {
    "editable": true,
    "id": "8GMTV_-ia3uz",
    "slideshow": {
     "slide_type": "fragment"
    },
    "tags": []
   },
   "source": [
    "En Python por defecto se instala el módulo `re`.\n",
    "\n",
    "El módulo `re` provee soporte para expresiones regulares en estilo Perl.\n",
    "\n",
    "Algunos métodos de `re`:\n",
    "\n",
    "<dl>\n",
    "<dt><code>match</code>:</dt>\n",
    "<dd>Encuentra patrones al principio de la cadena. Devuelve un objeto MatchObject.</dd>\n",
    "<dt><code>search</code>:</dt>\n",
    "<dd>Encuentra la primera aparición del patrón en la cadena. Devuelve un objeto MatchObject.</dd>\n",
    "<dt><code>findall</code>:</dt>\n",
    "<dd>Devuelve una lista con todas las apariciones del patrón en la cadena.</dd>\n",
    "<dt><code>finditer</code>:</dt>\n",
    "<dd>Devuelve un iterador de todas las apariciones del patrón en la cadena.</dd>\n",
    "<dt><code>split</code>:</dt>\n",
    "<dd>Devuelve una lista con subcadenas partidas por la aparición del patrón.</dd>\n",
    "<dt><code>sub</code>:</dt>\n",
    "<dd>Busca todas apariciones del patrón y las sustituye por otra cadena, devuelve la nueva cadena.</dd>\n",
    "<dt><code>subn</code>:</dt>\n",
    "<dd>Hace lo mismo que sub pero devuelve la nueva cadena y la cantidad de reemplazos.</dd>\n",
    "</dl>\n"
   ]
  },
  {
   "cell_type": "markdown",
   "metadata": {
    "editable": true,
    "id": "stgGIYbGa3u0",
    "slideshow": {
     "slide_type": "subslide"
    },
    "tags": []
   },
   "source": [
    "### Getters del objeto MatchObject\n",
    "\n",
    "- `group()`: lo matcheado.\n",
    "- `start()`: posición inicial.\n",
    "- `end()`: posición final.\n",
    "- `span()`: par (posición inicial, posición final).\n"
   ]
  },
  {
   "cell_type": "markdown",
   "metadata": {
    "editable": true,
    "id": "oDlclbRza3u0",
    "slideshow": {
     "slide_type": "subslide"
    },
    "tags": []
   },
   "source": [
    "### Buscar texto"
   ]
  },
  {
   "cell_type": "code",
   "execution_count": null,
   "metadata": {
    "editable": true,
    "executionInfo": {
     "elapsed": 20,
     "status": "ok",
     "timestamp": 1698171096959,
     "user": {
      "displayName": "Santiago Rojo",
      "userId": "17557155030010196946"
     },
     "user_tz": 180
    },
    "id": "0vDCTrF7a3u0",
    "slideshow": {
     "slide_type": "fragment"
    },
    "tags": []
   },
   "outputs": [],
   "source": [
    "import re\n",
    "\n",
    "regex = r'(.+).*\\1'\n",
    "texto = 'coca, pepsi coca'\n",
    "encontrado = re.match(regex, texto) "
   ]
  },
  {
   "cell_type": "code",
   "execution_count": null,
   "metadata": {
    "colab": {
     "base_uri": "https://localhost:8080/"
    },
    "editable": true,
    "executionInfo": {
     "elapsed": 19,
     "status": "ok",
     "timestamp": 1698171096959,
     "user": {
      "displayName": "Santiago Rojo",
      "userId": "17557155030010196946"
     },
     "user_tz": 180
    },
    "id": "gJLjxIPra3u0",
    "outputId": "10da9250-c338-4d62-cadd-08190cf523ec",
    "slideshow": {
     "slide_type": ""
    },
    "tags": []
   },
   "outputs": [],
   "source": [
    "encontrado"
   ]
  },
  {
   "cell_type": "code",
   "execution_count": null,
   "metadata": {
    "colab": {
     "base_uri": "https://localhost:8080/",
     "height": 35
    },
    "executionInfo": {
     "elapsed": 14,
     "status": "ok",
     "timestamp": 1698171096959,
     "user": {
      "displayName": "Santiago Rojo",
      "userId": "17557155030010196946"
     },
     "user_tz": 180
    },
    "id": "ZpjGYyVQa3u1",
    "outputId": "746c5707-759f-420a-bd57-e1633153b2cf"
   },
   "outputs": [],
   "source": [
    "encontrado.group()"
   ]
  },
  {
   "cell_type": "code",
   "execution_count": null,
   "metadata": {
    "colab": {
     "base_uri": "https://localhost:8080/"
    },
    "executionInfo": {
     "elapsed": 14,
     "status": "ok",
     "timestamp": 1698171096960,
     "user": {
      "displayName": "Santiago Rojo",
      "userId": "17557155030010196946"
     },
     "user_tz": 180
    },
    "id": "5LrEAinua3u1",
    "outputId": "22fe9dbe-8d1f-4cc0-a4b2-093bcef82035"
   },
   "outputs": [],
   "source": [
    "encontrado.start()"
   ]
  },
  {
   "cell_type": "code",
   "execution_count": null,
   "metadata": {
    "colab": {
     "base_uri": "https://localhost:8080/"
    },
    "executionInfo": {
     "elapsed": 11,
     "status": "ok",
     "timestamp": 1698171096960,
     "user": {
      "displayName": "Santiago Rojo",
      "userId": "17557155030010196946"
     },
     "user_tz": 180
    },
    "id": "-SwniLSQa3u1",
    "outputId": "6af4ffc5-9834-473e-a3a7-70af3fdcda22"
   },
   "outputs": [],
   "source": [
    "encontrado.end()"
   ]
  },
  {
   "cell_type": "code",
   "execution_count": null,
   "metadata": {
    "colab": {
     "base_uri": "https://localhost:8080/"
    },
    "executionInfo": {
     "elapsed": 10,
     "status": "ok",
     "timestamp": 1698171096960,
     "user": {
      "displayName": "Santiago Rojo",
      "userId": "17557155030010196946"
     },
     "user_tz": 180
    },
    "id": "qUo8cCk8a3u1",
    "outputId": "bd2f068a-a2a1-46a7-a054-2cda393b0ade"
   },
   "outputs": [],
   "source": [
    "encontrado.span()"
   ]
  },
  {
   "cell_type": "code",
   "execution_count": null,
   "metadata": {
    "executionInfo": {
     "elapsed": 10,
     "status": "ok",
     "timestamp": 1698171096960,
     "user": {
      "displayName": "Santiago Rojo",
      "userId": "17557155030010196946"
     },
     "user_tz": 180
    },
    "id": "DGSKrdc3a3u1"
   },
   "outputs": [],
   "source": [
    "regex = r'\\d+'\n",
    "texto = '1, 2, 3 indiecitos, 4, 5, 6 indiecitos'\n",
    "encontrados = re.findall(regex, texto)"
   ]
  },
  {
   "cell_type": "code",
   "execution_count": null,
   "metadata": {
    "colab": {
     "base_uri": "https://localhost:8080/"
    },
    "executionInfo": {
     "elapsed": 10,
     "status": "ok",
     "timestamp": 1698171096960,
     "user": {
      "displayName": "Santiago Rojo",
      "userId": "17557155030010196946"
     },
     "user_tz": 180
    },
    "id": "joUJ9stIa3u1",
    "outputId": "2fff73ca-b81f-430c-85ae-7f79402f463b"
   },
   "outputs": [],
   "source": [
    "encontrados"
   ]
  },
  {
   "cell_type": "code",
   "execution_count": null,
   "metadata": {
    "colab": {
     "base_uri": "https://localhost:8080/"
    },
    "executionInfo": {
     "elapsed": 9,
     "status": "ok",
     "timestamp": 1698171096960,
     "user": {
      "displayName": "Santiago Rojo",
      "userId": "17557155030010196946"
     },
     "user_tz": 180
    },
    "id": "xc2biwA-a3u1",
    "outputId": "ef039859-7f0c-4069-e90c-29a0afc0b909"
   },
   "outputs": [],
   "source": [
    "type(encontrados)"
   ]
  },
  {
   "cell_type": "markdown",
   "metadata": {
    "id": "xUlzSSVra3u2"
   },
   "source": [
    "### Validar formatos"
   ]
  },
  {
   "cell_type": "code",
   "execution_count": null,
   "metadata": {
    "colab": {
     "base_uri": "https://localhost:8080/"
    },
    "executionInfo": {
     "elapsed": 8,
     "status": "ok",
     "timestamp": 1698171096960,
     "user": {
      "displayName": "Santiago Rojo",
      "userId": "17557155030010196946"
     },
     "user_tz": 180
    },
    "id": "Z1sNPhOBa3u2",
    "outputId": "acf92184-d05e-4cb7-b9e3-18f516a4ada0"
   },
   "outputs": [],
   "source": [
    "import re\n",
    "\n",
    "\n",
    "mail_checker = re.compile(r'^[a-zA-Z0-9_.+-]+@[a-zA-Z0-9-]+\\.[a-zA-Z0-9-.]+$')\n",
    "\n",
    "if mail_checker.match('m@franzone.untref.edu.ar'):\n",
    "    print(\"valido\")\n",
    "else:\n",
    "    print(\"invalido\")"
   ]
  },
  {
   "cell_type": "code",
   "execution_count": null,
   "metadata": {
    "colab": {
     "base_uri": "https://localhost:8080/"
    },
    "executionInfo": {
     "elapsed": 8,
     "status": "ok",
     "timestamp": 1698171096960,
     "user": {
      "displayName": "Santiago Rojo",
      "userId": "17557155030010196946"
     },
     "user_tz": 180
    },
    "id": "5ZULot15a3u2",
    "outputId": "882574e3-9077-4825-b2cf-bdcb34335972"
   },
   "outputs": [],
   "source": [
    "import re\n",
    "\n",
    "\n",
    "# Validar que formato de una fecha entre 01/11/2020 y 31/12/2020\n",
    "# Fechas validas:    15/11/2020, 25-12-2020, 30.11.2020, 9.12.2020, 09/12/2020\n",
    "# Fechas inválidas:  11/15/2020, 25-12/2020, 31.11.2020\n",
    "\n",
    "fecha_pattern = r'^(?:[0-2]?\\d([\\/\\-\\.])1[1-2]\\1(?:2020))|(?:30([\\/\\-\\.])1[1-2]\\2(?:2020))|(?:31([\\/\\-\\.])12\\3(?:2020))$'\n",
    "\n",
    "fecha_checker = re.compile(fecha_pattern)\n",
    "\n",
    "if fecha_checker.match(\"2/11/2020\"):\n",
    "    print(\"valido\")\n",
    "else:\n",
    "    print(\"inválido\")"
   ]
  },
  {
   "cell_type": "markdown",
   "metadata": {
    "id": "Lp88saV5a3u2"
   },
   "source": [
    "### Reemplazar texto"
   ]
  },
  {
   "cell_type": "code",
   "execution_count": null,
   "metadata": {
    "colab": {
     "base_uri": "https://localhost:8080/"
    },
    "executionInfo": {
     "elapsed": 7,
     "status": "ok",
     "timestamp": 1698171096960,
     "user": {
      "displayName": "Santiago Rojo",
      "userId": "17557155030010196946"
     },
     "user_tz": 180
    },
    "id": "BXwQ3pZha3u2",
    "outputId": "3126ac3a-7c25-452c-beed-a49e5e598cf4"
   },
   "outputs": [],
   "source": [
    "import re\n",
    "\n",
    "regex = r'^(.*\\.)[^.]+$'\n",
    "sub = r'\\1rar'\n",
    "archivo = \"file.zip\"\n",
    "archivo = re.sub(regex, sub, archivo)\n",
    "\n",
    "print(archivo)"
   ]
  },
  {
   "cell_type": "markdown",
   "metadata": {
    "id": "9p5vqJSga3u2"
   },
   "source": [
    "### Separar cadenas"
   ]
  },
  {
   "cell_type": "code",
   "execution_count": null,
   "metadata": {
    "colab": {
     "base_uri": "https://localhost:8080/"
    },
    "executionInfo": {
     "elapsed": 6,
     "status": "ok",
     "timestamp": 1698171096960,
     "user": {
      "displayName": "Santiago Rojo",
      "userId": "17557155030010196946"
     },
     "user_tz": 180
    },
    "id": "Cgau7ur8a3u2",
    "outputId": "fc4910ba-57ec-40cb-ebf7-27ccd81ccd16"
   },
   "outputs": [],
   "source": [
    "import re\n",
    "\n",
    "\n",
    "re.split(r'[\\W]+', 'Palabras, palabras,,, palabras?. palabra23! palabra32+++palabra ¿año?')"
   ]
  },
  {
   "cell_type": "markdown",
   "metadata": {
    "id": "Fl8L7znKa3u2"
   },
   "source": [
    "### Para profundizar\n",
    "\n",
    "- Documentación oficial\n",
    "    - https://docs.python.org/es/3/library/re.html\n",
    "- Rex Egg. The world's most tyrannosaurical regex tutorial.\n",
    "    - http://www.rexegg.com/\n"
   ]
  }
 ],
 "metadata": {
  "colab": {
   "provenance": []
  },
  "kernelspec": {
   "display_name": "Python 3 (ipykernel)",
   "language": "python",
   "name": "python3"
  },
  "language_info": {
   "codemirror_mode": {
    "name": "ipython",
    "version": 3
   },
   "file_extension": ".py",
   "mimetype": "text/x-python",
   "name": "python",
   "nbconvert_exporter": "python",
   "pygments_lexer": "ipython3",
   "version": "3.12.5"
  }
 },
 "nbformat": 4,
 "nbformat_minor": 4
}
