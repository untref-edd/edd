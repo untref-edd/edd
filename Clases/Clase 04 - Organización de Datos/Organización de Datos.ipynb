{
 "cells": [
  {
   "cell_type": "markdown",
   "metadata": {
    "editable": true,
    "id": "4vzOkTwRYIb9",
    "slideshow": {
     "slide_type": "slide"
    },
    "tags": []
   },
   "source": [
    "<p style=\"text-align: center\">\n",
    "    <img src=\"../../assets/images/untref-logo-negro.svg\" style=\"height: 50px;\" />\n",
    "</p>\n",
    "\n",
    "<h3 style=\"text-align: center\">Estructuras de Datos</h3>\n",
    "\n",
    "<h2 style=\"text-align: center\">Clase 4: Organización de Datos</h3>"
   ]
  },
  {
   "cell_type": "markdown",
   "metadata": {
    "editable": true,
    "id": "T9lRQOiSTqNX",
    "slideshow": {
     "slide_type": "slide"
    },
    "tags": []
   },
   "source": [
    "## Organización de datos\n",
    "Distintas formas de organizar la información para guardarla en un archivo y poder recuperarla. Se acostumbra hablar de la organización lógica de un archivo. \n",
    "Vamos a analizar distintas estrategias.\n",
    "\n",
    "Supongamos que queremos almacenar información de contactos: nombre, calle y ciudad.\n",
    "Una primera aproximación podría ser guardar los datos sin ninguna organización lógica, simplemente escribiendo la información en el archivo."
   ]
  },
  {
   "cell_type": "code",
   "execution_count": null,
   "metadata": {
    "editable": true,
    "id": "XMnocllcm9eq",
    "slideshow": {
     "slide_type": "subslide"
    },
    "tags": []
   },
   "outputs": [],
   "source": [
    "class Agenda:\n",
    "    def __init__(self, archivo):\n",
    "        self.archivo = archivo\n",
    "\n",
    "    def guardar_contacto(self, nombre, calle, ciudad):\n",
    "        with open(self.archivo, \"a\") as datos:\n",
    "            datos.write(nombre)\n",
    "            datos.write(calle)\n",
    "            datos.write(ciudad)"
   ]
  },
  {
   "cell_type": "code",
   "execution_count": null,
   "metadata": {
    "editable": true,
    "id": "9DK_BfZVm9ev",
    "slideshow": {
     "slide_type": "fragment"
    },
    "tags": []
   },
   "outputs": [],
   "source": [
    "agenda = Agenda(\"agenda_v1\")\n",
    "agenda.guardar_contacto(\"Ana Perez\", \"San Martin 2301\", \"Caseros\")\n",
    "agenda.guardar_contacto(\"Juan Pedro Ares\", \"Arenales 1208\", \"Ciudad de Buenos Aires\")"
   ]
  },
  {
   "cell_type": "code",
   "execution_count": null,
   "metadata": {
    "editable": true,
    "id": "cAj7FIYym9ez",
    "slideshow": {
     "slide_type": "fragment"
    },
    "tags": []
   },
   "outputs": [],
   "source": [
    "for linea in open(\"agenda_v1\", \"r\"):\n",
    "    print(linea)"
   ]
  },
  {
   "cell_type": "markdown",
   "metadata": {
    "editable": true,
    "id": "YecUYetOm9e2",
    "slideshow": {
     "slide_type": "fragment"
    },
    "tags": []
   },
   "source": [
    ">Se perdió la integridad lógica de los datos, no sabemos donde empieza y termina cada unidad de información\n",
    "- **Campo:** Es la mínima unidad de información. En este ejemplo tenemos tres campos: *nombre*, *calle* y *ciudad*\n",
    "- **Registro:** Conjunto de campos vinculados a la misma entidad, en este caso tenemos dos registros, el de Ana y el de Juan"
   ]
  },
  {
   "cell_type": "markdown",
   "metadata": {
    "editable": true,
    "id": "UEy-KlXJm9e2",
    "slideshow": {
     "slide_type": "subslide"
    },
    "tags": []
   },
   "source": [
    "### Registros de longitud fija (con campos de longitud fija)\n",
    "Una forma posible sería utilizar longitudes fijas para cada campo. Por ejemplo:\n",
    "- nombre: 30 posiciones\n",
    "- calle: 30 posiciones\n",
    "- ciudad: 20 posiciones"
   ]
  },
  {
   "cell_type": "code",
   "execution_count": null,
   "metadata": {
    "editable": true,
    "slideshow": {
     "slide_type": "subslide"
    },
    "tags": []
   },
   "outputs": [],
   "source": [
    "class AgendaException(Exception):\n",
    "    \"\"\"Clase base para excepciones de Agenda\"\"\"\n",
    "\n",
    "    pass"
   ]
  },
  {
   "cell_type": "code",
   "execution_count": null,
   "metadata": {
    "editable": true,
    "id": "ra3odMsJm9e3",
    "slideshow": {
     "slide_type": "subslide"
    },
    "tags": []
   },
   "outputs": [],
   "source": [
    "import os\n",
    "import struct\n",
    "\n",
    "\n",
    "class Agenda:\n",
    "    \"\"\"Agenda con registros de tamaño fijo\n",
    "    y campos de longitud fija\n",
    "    \"\"\"\n",
    "\n",
    "    def __init__(self, archivo, **campos):\n",
    "        \"\"\"Constructor de la clase Agenda\n",
    "        :param archivo: nombre del archivo donde se guardan los registros\n",
    "        :param campos: diccionario con los campos de la agenda y su longitud\n",
    "        \"\"\"\n",
    "        self._archivo = archivo\n",
    "        self._campos = campos  # diccionario con los campos de la agenda y su longitud\n",
    "\n",
    "        # \"30s30s20s\" -> 30 caracteres para el primer campo, 30 para el segundo y 20 para el tercero\n",
    "        self._formato = \"\".join(f\"{longitud}s\" for longitud in campos.values())\n",
    "        self._len_registro = struct.calcsize(self._formato)\n",
    "\n",
    "        if os.path.exists(self._archivo):\n",
    "            # obtengo el tamaño del archivo si es mayor que cero ya teniamos registros guardados\n",
    "            tam_archivo = os.path.getsize(self._archivo)\n",
    "            self._cant_registros = tam_archivo // self._len_registro\n",
    "        else:\n",
    "            self._cant_registros = 0\n",
    "\n",
    "    def guardar_contacto(self, **datos):\n",
    "        campos_validos = set(self._campos.keys())\n",
    "        campos_recibidos = set(datos.keys())\n",
    "\n",
    "        if campos_validos != campos_recibidos:\n",
    "            raise AgendaException(\"Los campos recibidos no coinciden con los campos definidos en la agenda.\")\n",
    "\n",
    "        with open(self._archivo, \"ab\") as fd:\n",
    "            valores = [campo.encode() for campo in datos.values()]\n",
    "            fd.write(struct.pack(self._formato, *valores))\n",
    "        self._cant_registros += 1\n",
    "\n",
    "    def cantidad_registros(self):\n",
    "        return self._cant_registros\n",
    "\n",
    "    def campos(self):\n",
    "        return self._campos\n",
    "\n",
    "    def __iter__(self):\n",
    "        return AgendaIterator(self)"
   ]
  },
  {
   "cell_type": "code",
   "execution_count": null,
   "metadata": {
    "editable": true,
    "slideshow": {
     "slide_type": "subslide"
    },
    "tags": []
   },
   "outputs": [],
   "source": [
    "class AgendaIterator:\n",
    "    def __init__(self, agenda):\n",
    "        self._agenda = agenda\n",
    "        self._index = 0\n",
    "\n",
    "    def __next__(self):\n",
    "        if self._index >= self._agenda._cant_registros:\n",
    "            raise StopIteration\n",
    "\n",
    "        with open(self._agenda._archivo, \"rb\") as fd:\n",
    "            posicion = self._index * self._agenda._len_registro\n",
    "            fd.seek(posicion)\n",
    "            registro = fd.read(self._agenda._len_registro)\n",
    "            self._index += 1\n",
    "            if len(registro) == self._agenda._len_registro:\n",
    "                valores = struct.unpack(self._agenda._formato, registro)\n",
    "                resultado = tuple(valor.decode() for valor in valores)\n",
    "            else:\n",
    "                raise AgendaException(\"Error al leer el registro.\")\n",
    "\n",
    "        return resultado"
   ]
  },
  {
   "cell_type": "code",
   "execution_count": null,
   "metadata": {
    "editable": true,
    "id": "Nwf4EPvTm9e6",
    "slideshow": {
     "slide_type": "subslide"
    },
    "tags": []
   },
   "outputs": [],
   "source": [
    "agenda = Agenda(\"agenda_v2\", nombre=30, calle=30, ciudad=20)\n",
    "agenda.guardar_contacto(nombre=\"Ana Perez\", calle=\"San Martin 2301\", ciudad=\"Caseros\")\n",
    "agenda.guardar_contacto(nombre=\"Juan Pedro Ares\", calle=\"Arenales 1208\", ciudad=\"Martín Coronado\")\n",
    "agenda.guardar_contacto(nombre=\"Sofia Garcia\", calle=\"\", ciudad=\"San Justo\")\n",
    "agenda.guardar_contacto(nombre=\"Luis Gonzalez\", ciudad=\"San Justo\", calle=\"Arieta 1234\")"
   ]
  },
  {
   "cell_type": "code",
   "execution_count": null,
   "metadata": {
    "editable": true,
    "id": "2u2VrUuZm9e9",
    "slideshow": {
     "slide_type": "subslide"
    },
    "tags": []
   },
   "outputs": [],
   "source": [
    "campos = agenda.campos()\n",
    "for registro in agenda:\n",
    "    for campo, valor in zip(campos, registro):\n",
    "        print(f\"{campo}: {valor}\")\n",
    "    print()"
   ]
  },
  {
   "cell_type": "code",
   "execution_count": null,
   "metadata": {
    "editable": true,
    "id": "PqhRoa6gm9fA",
    "slideshow": {
     "slide_type": "subslide"
    },
    "tags": []
   },
   "outputs": [],
   "source": [
    "agenda.guardar_contacto(nombre=\"Pedro Sanchez\", calle=\"Ntra Sra de la Merced 1528 piso 10 depto C\", ciudad=\"Caseros\")\n",
    "agenda.guardar_contacto(\n",
    "    nombre=\"Leonardo Gonzalo Medrano Fernandez\", calle=\"Cabildo 2411\", ciudad=\"Ciudad Autónoma de Buenos Aires\"\n",
    ")"
   ]
  },
  {
   "cell_type": "code",
   "execution_count": null,
   "metadata": {
    "editable": true,
    "slideshow": {
     "slide_type": "subslide"
    },
    "tags": []
   },
   "outputs": [],
   "source": [
    "campos = agenda.campos()\n",
    "for registro in agenda:\n",
    "    for campo, valor in zip(campos, registro):\n",
    "        print(f\"{campo}: {valor}\")\n",
    "    print()"
   ]
  },
  {
   "cell_type": "markdown",
   "metadata": {
    "editable": true,
    "id": "DWkm-mH2m9fF",
    "slideshow": {
     "slide_type": "subslide"
    },
    "tags": []
   },
   "source": [
    "### Otras variantes\n",
    "- Registros de longitud fija y longitud de campos variables: cada campo va precedido por el tamaño o se usa un separador entre campos, pero la la longitud total del registro sigue siendo fija\n",
    "    - cantidad de campos fija\n",
    "    - cantidad de campos variables\n",
    "- Registros de longitud variables: \n",
    "    - cantidad de campos fija: cada campo va precedido por su tamaño\n",
    "    - cantidad de campos variables: cada registro va precedido por su tamaño y los campos pueden estar precedidos por su tamaño, estar separados por un caracter especial o ser de tamaño fijo"
   ]
  },
  {
   "cell_type": "code",
   "execution_count": null,
   "metadata": {
    "editable": true,
    "slideshow": {
     "slide_type": "subslide"
    },
    "tags": []
   },
   "outputs": [],
   "source": [
    "class Agenda:\n",
    "    def __init__(self, archivo, longitud_registro, *campos):\n",
    "        \"\"\"\n",
    "        Inicializa la agenda con una longitud fija de registro, una cantidad fija de campos y un archivo binario.\n",
    "        :param archivo: Nombre del archivo binario donde se guardan los registros.\n",
    "        :param longitud_registro: Longitud fija de los registros.\n",
    "        :param campos: Nombres de los campos de la agenda.\n",
    "        \"\"\"\n",
    "        self._len_registro = longitud_registro\n",
    "        self._cantidad_campos = len(campos)\n",
    "        self._campos = campos\n",
    "        self._archivo = archivo\n",
    "\n",
    "        if os.path.exists(self._archivo):\n",
    "            # obtengo el tamaño del archivo si es mayor que cero ya teniamos registros guardados\n",
    "            tam_archivo = os.path.getsize(self._archivo)\n",
    "            self._cant_registros = tam_archivo // self._len_registro\n",
    "        else:\n",
    "            self._cant_registros = 0\n",
    "\n",
    "    def agregar_registro(self, **datos):\n",
    "        \"\"\"\n",
    "        Agrega un registro a la agenda.\n",
    "        :param datos: Valores de la forma campo:valor.\n",
    "        \"\"\"\n",
    "        if len(datos) != self._cantidad_campos:\n",
    "            raise AgendaException(f\"Se esperaban {self._cantidad_campos} campos, pero se recibieron {len(datos)}.\")\n",
    "        campos_validos = set(campos)\n",
    "        campos_recibidos = set(datos.keys())\n",
    "        if campos_validos != campos_recibidos:\n",
    "            raise AgendaException(\"Los campos recibidos no coinciden con los campos definidos en la agenda.\")\n",
    "        registro = \"\"\n",
    "        for valor in datos.values():\n",
    "            valor_str = str(valor)\n",
    "            longitud_campo = len(valor_str)\n",
    "            registro += f\"{longitud_campo:02d}{valor_str}\"  # 02d -> 2 caracteres, relleno con ceros a la izquierda\n",
    "\n",
    "        if len(registro) > self._len_registro + 2 * self._cantidad_campos:\n",
    "            raise AgendaException(f\"El registro excede la longitud fija permitida: {self.longitud_registro}.\")\n",
    "\n",
    "        registro = registro.ljust(self._len_registro)\n",
    "        with open(self._archivo, \"ab\") as archivo:\n",
    "            archivo.write(registro.encode())\n",
    "\n",
    "    def __iter__(self):\n",
    "        return AgendaIterator(self)"
   ]
  },
  {
   "cell_type": "code",
   "execution_count": null,
   "metadata": {
    "editable": true,
    "slideshow": {
     "slide_type": "subslide"
    },
    "tags": []
   },
   "outputs": [],
   "source": [
    "class AgendaIterator:\n",
    "\n",
    "    def __init__(self, agenda):\n",
    "        self._agenda = agenda\n",
    "        self._index = 0\n",
    "\n",
    "    def __next__(self):\n",
    "        if self._index >= self._agenda._cant_registros:\n",
    "            raise StopIteration\n",
    "\n",
    "        with open(self._agenda._archivo, \"rb\") as fd:\n",
    "            posicion = self._index * self._agenda._len_registro\n",
    "            fd.seek(posicion)\n",
    "            registro = fd.read(self._agenda._len_registro)\n",
    "            if len(registro) != self._agenda._len_registro:\n",
    "                raise StopIteration(\"Registro corrupto.\")\n",
    "            self._index += 1\n",
    "            resultado = {}\n",
    "            for campo in self._agenda._campos:\n",
    "                longitud_campo = int(registro[:2])\n",
    "                valor = registro[2 : 2 + longitud_campo]\n",
    "                resultado[campo] = valor.decode()\n",
    "                registro = registro[2 + longitud_campo :]\n",
    "\n",
    "        return resultado"
   ]
  },
  {
   "cell_type": "code",
   "execution_count": null,
   "metadata": {
    "editable": true,
    "slideshow": {
     "slide_type": "subslide"
    },
    "tags": []
   },
   "outputs": [],
   "source": [
    "# Ejemplo de uso\n",
    "campos = (\"Nombre\", \"Apellido\", \"Ciudad\")\n",
    "agenda = Agenda(\"agenda_v3\", 80, *campos)\n",
    "agenda.agregar_registro(Nombre=\"Juan\", Apellido=\"Perez\", Ciudad=\"Ciudadela\")\n",
    "agenda.agregar_registro(Nombre=\"Ana\", Apellido=\"Garcia\", Ciudad=\"Liniers\")\n",
    "agenda.agregar_registro(Nombre=\"Pedro\", Apellido=\"Sanchez\", Ciudad=\"Saenz Pena\")"
   ]
  },
  {
   "cell_type": "code",
   "execution_count": null,
   "metadata": {
    "editable": true,
    "slideshow": {
     "slide_type": "subslide"
    },
    "tags": []
   },
   "outputs": [],
   "source": [
    "for registro in agenda:\n",
    "    for campo, valor in registro.items():\n",
    "        print(f\"{campo}: {valor}\")\n",
    "    print()\n",
    "\n",
    "with open(\"agenda_v3\", \"rb\") as archivo:\n",
    "    for registro in archivo:\n",
    "        print(registro)"
   ]
  },
  {
   "cell_type": "markdown",
   "metadata": {
    "editable": true,
    "id": "DtImVJkkm9fG",
    "slideshow": {
     "slide_type": "subslide"
    },
    "tags": []
   },
   "source": [
    "### Acceso a los datos\n",
    "- **Secuenciales:** los registros se leen desde el principio hasta el final del archivo, de tal forma que para leer un registro se leen todos los que preceden.\n",
    "\n",
    "- **Directo:** cada registro puede leerse / escribirse de forma directa solo con expresar su dirección en el fichero por él numero relativo del registro o por transformaciones de la clave de registro en él numero relativo del registro a acceder.\n",
    "\n",
    "- **Por Índice:** se accede indirectamente a los registros por su clave, mediante consulta secuenciales a una tabla que contiene la clave y la dirección relativa de cada registro, y posterior acceso directo al registro."
   ]
  },
  {
   "cell_type": "markdown",
   "metadata": {
    "editable": true,
    "id": "woQFeWWFm9fG",
    "slideshow": {
     "slide_type": "subslide"
    },
    "tags": []
   },
   "source": [
    "### Archivos CSV\n",
    "Longitud de campo variables, los campos se separan por coma (`,`) o por algún otro caracter.\n",
    "Todos los registros tienen la misma cantidad de campos. En cada línea se guarda un registro y la primera línea puede tener un encabezado con los nombres de los campos"
   ]
  },
  {
   "cell_type": "code",
   "execution_count": null,
   "metadata": {
    "editable": true,
    "id": "DMqWRMfcm9fH",
    "slideshow": {
     "slide_type": "subslide"
    },
    "tags": []
   },
   "outputs": [],
   "source": [
    "import csv\n",
    "import os\n",
    "\n",
    "\n",
    "class Agenda_csv:\n",
    "    \"\"\"Agenda sobre archivos csv, con campos definidos por el usuario\"\"\"\n",
    "\n",
    "    def __init__(self, archivo, *campos):\n",
    "        self._archivo = archivo\n",
    "        self._campos = campos\n",
    "\n",
    "        # Si el archivo no existe escribo en el encabezado\n",
    "        if not os.path.exists(self._archivo):\n",
    "            with open(archivo, \"w\", newline=\"\") as datos:\n",
    "                writer = csv.DictWriter(datos, fieldnames=campos, delimiter=\";\")\n",
    "                writer.writeheader()\n",
    "\n",
    "    def guardar_contacto(self, **datos):\n",
    "        with open(self._archivo, \"a\", newline=\"\") as archivo:\n",
    "            writer = csv.DictWriter(archivo, fieldnames=self._campos, delimiter=\";\")\n",
    "            writer.writerow(datos)"
   ]
  },
  {
   "cell_type": "code",
   "execution_count": null,
   "metadata": {
    "editable": true,
    "id": "3rkAoziNm9fJ",
    "slideshow": {
     "slide_type": "subslide"
    },
    "tags": []
   },
   "outputs": [],
   "source": [
    "agenda = Agenda_csv(\"agenda.csv\", \"nombre\", \"apellido\", \"direccion\", \"telefono\", \"ciudad\")\n",
    "agenda.guardar_contacto(nombre=\"Ana\", apellido=\"Perez\", direccion=\"Amenabar 1457\", telefono=\"1547892176\", ciudad=\"CABA\")\n",
    "agenda.guardar_contacto(apellido=\"Videla\", nombre=\"Lucas\", telefono=\"1521264741\")\n",
    "agenda.guardar_contacto(nombre=\"Martín\", apellido=\"Albarracín\", direccion=\"Urquiza 1324\", ciudad=\"Caseros\")"
   ]
  },
  {
   "cell_type": "code",
   "execution_count": null,
   "metadata": {
    "editable": true,
    "id": "HK2EagmMm9fM",
    "slideshow": {
     "slide_type": "subslide"
    },
    "tags": []
   },
   "outputs": [],
   "source": [
    "with open(\"agenda.csv\", \"r\") as agenda:\n",
    "    reader = csv.DictReader(agenda, delimiter=\";\")\n",
    "    for linea in reader:\n",
    "        print(\"Apellido: \" + linea[\"apellido\"])\n",
    "        print(\"Nombre: \" + linea[\"nombre\"])\n",
    "        print(\"Telefono: \" + linea[\"telefono\"])\n",
    "        print()"
   ]
  },
  {
   "cell_type": "code",
   "execution_count": null,
   "metadata": {
    "editable": true,
    "id": "uCDL6V-9m9fS",
    "slideshow": {
     "slide_type": "subslide"
    },
    "tags": []
   },
   "outputs": [],
   "source": [
    "help(csv.reader)"
   ]
  },
  {
   "cell_type": "markdown",
   "metadata": {
    "editable": true,
    "id": "H07jIHeoxU_n",
    "slideshow": {
     "slide_type": "subslide"
    },
    "tags": []
   },
   "source": [
    "### Agenda JSON\n",
    "Recordemos que en JSON solo podemos tener un único diccionario, por lo que para mantener nuestra agenda vamos a seguir la siguiente estrategia. El diccionario va tener como primer par (clave, valor) la cantidad de registros almacenados en la agenda y luego cada clave será el número de registro, iniciando en 0 y el valor todos los datos correspondientes.\n",
    "Esta estrategia nos permitirá tener registros con campos totalmente diferentes"
   ]
  },
  {
   "cell_type": "code",
   "execution_count": null,
   "metadata": {
    "editable": true,
    "id": "5CNF0ED_m9fP",
    "slideshow": {
     "slide_type": "subslide"
    },
    "tags": []
   },
   "outputs": [],
   "source": [
    "import json\n",
    "import os\n",
    "\n",
    "\n",
    "class AgendaJson:\n",
    "    def __init__(self, archivo):\n",
    "        self._archivo = archivo\n",
    "\n",
    "        # Si el archivo no existe lo creamos\n",
    "        if not os.path.exists(self._archivo):\n",
    "            agenda = {\"cantidad_registros\": 0}\n",
    "            with open(self._archivo, \"a\") as contenedor:\n",
    "                json.dump(agenda, contenedor)\n",
    "\n",
    "    def guardar_contacto(self, **datos):\n",
    "        with open(self._archivo, \"r\") as contenedor:\n",
    "            agenda = json.load(contenedor)\n",
    "            cantidad = agenda[\"cantidad_registros\"]\n",
    "        agenda[\"cantidad_registros\"] = cantidad + 1\n",
    "        agenda[cantidad] = datos\n",
    "        with open(self._archivo, \"w\") as contenedor:\n",
    "            json.dump(agenda, contenedor)\n",
    "\n",
    "    def __iter__(self):\n",
    "        \"\"\"Devuelve un iterador para la agenda\"\"\"\n",
    "        return AgendaJson_Iterator(self)\n",
    "\n",
    "\n",
    "class AgendaJson_Iterator:\n",
    "    \"\"\"Iterador para la agenda\"\"\"\n",
    "\n",
    "    def __init__(self, agenda):\n",
    "        self._agenda = agenda\n",
    "        with open(self._agenda._archivo, \"r\") as contenedor:\n",
    "            dicc = json.load(contenedor)\n",
    "        self._cantidad_registros = dicc[\"cantidad_registros\"]\n",
    "        self._index = 0\n",
    "\n",
    "    def __next__(self):\n",
    "        if self._index < self._cantidad_registros:\n",
    "            with open(self._agenda._archivo, \"r\") as contenedor:\n",
    "                dicc = json.load(contenedor)\n",
    "                registro = dicc[str(self._index)]\n",
    "                self._index += 1\n",
    "        else:\n",
    "            raise StopIteration\n",
    "        return registro"
   ]
  },
  {
   "cell_type": "code",
   "execution_count": null,
   "metadata": {
    "editable": true,
    "id": "Hh5z5brBm9fV",
    "slideshow": {
     "slide_type": "subslide"
    },
    "tags": []
   },
   "outputs": [],
   "source": [
    "agenda = AgendaJson(\"agenda.json\")\n",
    "agenda.guardar_contacto(\n",
    "    nombre=\"Ana\",\n",
    "    segundo_nombre=\"Laura\",\n",
    "    apellido=\"Perez\",\n",
    "    direccion=\"Amenabar 1457\",\n",
    "    telefono=\"1547892176\",\n",
    "    ciudad=\"CABA\",\n",
    "    CP=\"C1426AJY\",\n",
    ")\n",
    "agenda.guardar_contacto(apellido=\"Videla\", nombre=\"Lucas\", telefono=\"1521264741\", estado_civil=\"casado\")\n",
    "agenda.guardar_contacto(nombre=\"Martín\", apellido=\"Albarracín\", direccion=\"Urquiza 1324\", ciudad=\"Caseros\")"
   ]
  },
  {
   "cell_type": "code",
   "execution_count": null,
   "metadata": {
    "editable": true,
    "id": "XUO75aisR-aD",
    "slideshow": {
     "slide_type": "subslide"
    },
    "tags": []
   },
   "outputs": [],
   "source": [
    "for data in agenda:\n",
    "    for clave, valor in data.items():\n",
    "        print(\"{} = {}\".format(clave, valor))\n",
    "    print()"
   ]
  },
  {
   "cell_type": "code",
   "execution_count": null,
   "metadata": {
    "ExecuteTime": {
     "end_time": "2024-08-25T12:23:56.947826Z",
     "start_time": "2024-08-25T12:23:56.937583Z"
    },
    "editable": true,
    "slideshow": {
     "slide_type": "slide"
    },
    "tags": []
   },
   "outputs": [],
   "source": [
    "###### Limpiar directorio. Ejecutar con cuidado\n",
    "import os\n",
    "\n",
    "archivos = os.listdir()\n",
    "conservar = [\".ipynb_checkpoints\", \"Organización de Datos.ipynb\", \"rise.css\"]\n",
    "\n",
    "for arch in archivos:\n",
    "    if arch not in conservar:\n",
    "        os.remove(arch)"
   ]
  }
 ],
 "metadata": {
  "colab": {
   "collapsed_sections": [],
   "name": "Clase_4.ipynb",
   "provenance": []
  },
  "kernelspec": {
   "display_name": "Python 3 (ipykernel)",
   "language": "python",
   "name": "python3"
  },
  "language_info": {
   "codemirror_mode": {
    "name": "ipython",
    "version": 3
   },
   "file_extension": ".py",
   "mimetype": "text/x-python",
   "name": "python",
   "nbconvert_exporter": "python",
   "pygments_lexer": "ipython3",
   "version": "3.12.5"
  },
  "rise": {
   "enable_chalkboard": true,
   "scroll": true,
   "show_buttons_on_startup": true,
   "slideNumber": false
  }
 },
 "nbformat": 4,
 "nbformat_minor": 4
}
